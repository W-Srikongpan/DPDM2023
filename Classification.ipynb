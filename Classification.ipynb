{
  "nbformat": 4,
  "nbformat_minor": 0,
  "metadata": {
    "colab": {
      "provenance": [],
      "authorship_tag": "ABX9TyNUBt66v4OQgIJPcWDXO4s+",
      "include_colab_link": true
    },
    "kernelspec": {
      "name": "python3",
      "display_name": "Python 3"
    },
    "language_info": {
      "name": "python"
    }
  },
  "cells": [
    {
      "cell_type": "markdown",
      "metadata": {
        "id": "view-in-github",
        "colab_type": "text"
      },
      "source": [
        "<a href=\"https://colab.research.google.com/github/W-Srikongpan/DPDM2023/blob/main/Classification.ipynb\" target=\"_parent\"><img src=\"https://colab.research.google.com/assets/colab-badge.svg\" alt=\"Open In Colab\"/></a>"
      ]
    },
    {
      "cell_type": "markdown",
      "source": [
        "#Classification"
      ],
      "metadata": {
        "id": "J6qEYNyS9N-u"
      }
    },
    {
      "cell_type": "code",
      "execution_count": 1,
      "metadata": {
        "id": "SQdVRPYxtJUE",
        "colab": {
          "base_uri": "https://localhost:8080/"
        },
        "outputId": "fc1b0b03-0cc6-4c93-ed71-dee4e1380f95"
      },
      "outputs": [
        {
          "output_type": "stream",
          "name": "stdout",
          "text": [
            "Drive already mounted at /content/drive; to attempt to forcibly remount, call drive.mount(\"/content/drive\", force_remount=True).\n"
          ]
        }
      ],
      "source": [
        "from google.colab import drive\n",
        "drive.mount('/content/drive')"
      ]
    },
    {
      "cell_type": "markdown",
      "source": [
        "##Data Preparation"
      ],
      "metadata": {
        "id": "fX-EgNBR9tuQ"
      }
    },
    {
      "cell_type": "code",
      "source": [
        "import pandas as pd\n",
        "import numpy as np"
      ],
      "metadata": {
        "id": "VvNiGM-9_KKN"
      },
      "execution_count": 2,
      "outputs": []
    },
    {
      "cell_type": "markdown",
      "source": [
        "Number of Instances: 690\n",
        "\n",
        "Number of Attributes: 15 + class attribute\n",
        "\n",
        "Attribute Information:\n",
        "\n",
        "    A1:\tb, a.\n",
        "    A2:\tcontinuous.\n",
        "    A3:\tcontinuous.\n",
        "    A4:\tu, y, l, t.\n",
        "    A5:\tg, p, gg.\n",
        "    A6:\tc, d, cc, i, j, k, m, r, q, w, x, e, aa, ff.\n",
        "    A7:\tv, h, bb, j, n, z, dd, ff, o.\n",
        "    A8:\tcontinuous.\n",
        "    A9:\tt, f.\n",
        "    A10:\tt, f.\n",
        "    A11:\tcontinuous.\n",
        "    A12:\tt, f.\n",
        "    A13:\tg, p, s.\n",
        "    A14:\tcontinuous.\n",
        "    A15:\tcontinuous.\n",
        "    A16: +,-         (class attribute)\n",
        "\n",
        " Missing Attribute Values:\n",
        "    37 cases (5%) have one or more missing values.  The missing\n",
        "    values from particular attributes are:\n",
        "\n",
        "    A1:  12\n",
        "    A2:  12\n",
        "    A4:   6\n",
        "    A5:   6\n",
        "    A6:   9\n",
        "    A7:   9\n",
        "    A14: 13\n",
        "\n",
        "Class Distribution\n",
        "  \n",
        "    +: 307 (44.5%)\n",
        "    -: 383 (55.5%)\n"
      ],
      "metadata": {
        "id": "puk6vazcAIY6"
      }
    },
    {
      "cell_type": "code",
      "source": [
        "col_name = ['a1','a2','a3','a4','a5','a6','a7','a8','a9',\n",
        "            'a10','a11','a12','a13','a14','a15','a16']"
      ],
      "metadata": {
        "id": "WHrmIenoAvom"
      },
      "execution_count": 3,
      "outputs": []
    },
    {
      "cell_type": "code",
      "source": [
        "credit = pd.read_csv('/content/drive/MyDrive/DPDM2023_DATA/crx.data',header = None,names = col_name)"
      ],
      "metadata": {
        "id": "EbifZgR8_K04"
      },
      "execution_count": 4,
      "outputs": []
    },
    {
      "cell_type": "code",
      "source": [
        "print(credit.shape)\n",
        "credit.head()"
      ],
      "metadata": {
        "id": "U_cn2YxwBS2S",
        "colab": {
          "base_uri": "https://localhost:8080/",
          "height": 221
        },
        "outputId": "5ac75f37-4c1f-4ed2-b5ee-b851037f6ff5"
      },
      "execution_count": 5,
      "outputs": [
        {
          "output_type": "stream",
          "name": "stdout",
          "text": [
            "(690, 16)\n"
          ]
        },
        {
          "output_type": "execute_result",
          "data": {
            "text/plain": [
              "  a1     a2     a3 a4 a5 a6 a7    a8 a9 a10  a11 a12 a13    a14  a15 a16\n",
              "0  b  30.83  0.000  u  g  w  v  1.25  t   t    1   f   g  00202    0   +\n",
              "1  a  58.67  4.460  u  g  q  h  3.04  t   t    6   f   g  00043  560   +\n",
              "2  a  24.50  0.500  u  g  q  h  1.50  t   f    0   f   g  00280  824   +\n",
              "3  b  27.83  1.540  u  g  w  v  3.75  t   t    5   t   g  00100    3   +\n",
              "4  b  20.17  5.625  u  g  w  v  1.71  t   f    0   f   s  00120    0   +"
            ],
            "text/html": [
              "\n",
              "  <div id=\"df-4c71916a-ceb9-4ad0-ba0d-6037ac1b2230\" class=\"colab-df-container\">\n",
              "    <div>\n",
              "<style scoped>\n",
              "    .dataframe tbody tr th:only-of-type {\n",
              "        vertical-align: middle;\n",
              "    }\n",
              "\n",
              "    .dataframe tbody tr th {\n",
              "        vertical-align: top;\n",
              "    }\n",
              "\n",
              "    .dataframe thead th {\n",
              "        text-align: right;\n",
              "    }\n",
              "</style>\n",
              "<table border=\"1\" class=\"dataframe\">\n",
              "  <thead>\n",
              "    <tr style=\"text-align: right;\">\n",
              "      <th></th>\n",
              "      <th>a1</th>\n",
              "      <th>a2</th>\n",
              "      <th>a3</th>\n",
              "      <th>a4</th>\n",
              "      <th>a5</th>\n",
              "      <th>a6</th>\n",
              "      <th>a7</th>\n",
              "      <th>a8</th>\n",
              "      <th>a9</th>\n",
              "      <th>a10</th>\n",
              "      <th>a11</th>\n",
              "      <th>a12</th>\n",
              "      <th>a13</th>\n",
              "      <th>a14</th>\n",
              "      <th>a15</th>\n",
              "      <th>a16</th>\n",
              "    </tr>\n",
              "  </thead>\n",
              "  <tbody>\n",
              "    <tr>\n",
              "      <th>0</th>\n",
              "      <td>b</td>\n",
              "      <td>30.83</td>\n",
              "      <td>0.000</td>\n",
              "      <td>u</td>\n",
              "      <td>g</td>\n",
              "      <td>w</td>\n",
              "      <td>v</td>\n",
              "      <td>1.25</td>\n",
              "      <td>t</td>\n",
              "      <td>t</td>\n",
              "      <td>1</td>\n",
              "      <td>f</td>\n",
              "      <td>g</td>\n",
              "      <td>00202</td>\n",
              "      <td>0</td>\n",
              "      <td>+</td>\n",
              "    </tr>\n",
              "    <tr>\n",
              "      <th>1</th>\n",
              "      <td>a</td>\n",
              "      <td>58.67</td>\n",
              "      <td>4.460</td>\n",
              "      <td>u</td>\n",
              "      <td>g</td>\n",
              "      <td>q</td>\n",
              "      <td>h</td>\n",
              "      <td>3.04</td>\n",
              "      <td>t</td>\n",
              "      <td>t</td>\n",
              "      <td>6</td>\n",
              "      <td>f</td>\n",
              "      <td>g</td>\n",
              "      <td>00043</td>\n",
              "      <td>560</td>\n",
              "      <td>+</td>\n",
              "    </tr>\n",
              "    <tr>\n",
              "      <th>2</th>\n",
              "      <td>a</td>\n",
              "      <td>24.50</td>\n",
              "      <td>0.500</td>\n",
              "      <td>u</td>\n",
              "      <td>g</td>\n",
              "      <td>q</td>\n",
              "      <td>h</td>\n",
              "      <td>1.50</td>\n",
              "      <td>t</td>\n",
              "      <td>f</td>\n",
              "      <td>0</td>\n",
              "      <td>f</td>\n",
              "      <td>g</td>\n",
              "      <td>00280</td>\n",
              "      <td>824</td>\n",
              "      <td>+</td>\n",
              "    </tr>\n",
              "    <tr>\n",
              "      <th>3</th>\n",
              "      <td>b</td>\n",
              "      <td>27.83</td>\n",
              "      <td>1.540</td>\n",
              "      <td>u</td>\n",
              "      <td>g</td>\n",
              "      <td>w</td>\n",
              "      <td>v</td>\n",
              "      <td>3.75</td>\n",
              "      <td>t</td>\n",
              "      <td>t</td>\n",
              "      <td>5</td>\n",
              "      <td>t</td>\n",
              "      <td>g</td>\n",
              "      <td>00100</td>\n",
              "      <td>3</td>\n",
              "      <td>+</td>\n",
              "    </tr>\n",
              "    <tr>\n",
              "      <th>4</th>\n",
              "      <td>b</td>\n",
              "      <td>20.17</td>\n",
              "      <td>5.625</td>\n",
              "      <td>u</td>\n",
              "      <td>g</td>\n",
              "      <td>w</td>\n",
              "      <td>v</td>\n",
              "      <td>1.71</td>\n",
              "      <td>t</td>\n",
              "      <td>f</td>\n",
              "      <td>0</td>\n",
              "      <td>f</td>\n",
              "      <td>s</td>\n",
              "      <td>00120</td>\n",
              "      <td>0</td>\n",
              "      <td>+</td>\n",
              "    </tr>\n",
              "  </tbody>\n",
              "</table>\n",
              "</div>\n",
              "    <div class=\"colab-df-buttons\">\n",
              "\n",
              "  <div class=\"colab-df-container\">\n",
              "    <button class=\"colab-df-convert\" onclick=\"convertToInteractive('df-4c71916a-ceb9-4ad0-ba0d-6037ac1b2230')\"\n",
              "            title=\"Convert this dataframe to an interactive table.\"\n",
              "            style=\"display:none;\">\n",
              "\n",
              "  <svg xmlns=\"http://www.w3.org/2000/svg\" height=\"24px\" viewBox=\"0 -960 960 960\">\n",
              "    <path d=\"M120-120v-720h720v720H120Zm60-500h600v-160H180v160Zm220 220h160v-160H400v160Zm0 220h160v-160H400v160ZM180-400h160v-160H180v160Zm440 0h160v-160H620v160ZM180-180h160v-160H180v160Zm440 0h160v-160H620v160Z\"/>\n",
              "  </svg>\n",
              "    </button>\n",
              "\n",
              "  <style>\n",
              "    .colab-df-container {\n",
              "      display:flex;\n",
              "      gap: 12px;\n",
              "    }\n",
              "\n",
              "    .colab-df-convert {\n",
              "      background-color: #E8F0FE;\n",
              "      border: none;\n",
              "      border-radius: 50%;\n",
              "      cursor: pointer;\n",
              "      display: none;\n",
              "      fill: #1967D2;\n",
              "      height: 32px;\n",
              "      padding: 0 0 0 0;\n",
              "      width: 32px;\n",
              "    }\n",
              "\n",
              "    .colab-df-convert:hover {\n",
              "      background-color: #E2EBFA;\n",
              "      box-shadow: 0px 1px 2px rgba(60, 64, 67, 0.3), 0px 1px 3px 1px rgba(60, 64, 67, 0.15);\n",
              "      fill: #174EA6;\n",
              "    }\n",
              "\n",
              "    .colab-df-buttons div {\n",
              "      margin-bottom: 4px;\n",
              "    }\n",
              "\n",
              "    [theme=dark] .colab-df-convert {\n",
              "      background-color: #3B4455;\n",
              "      fill: #D2E3FC;\n",
              "    }\n",
              "\n",
              "    [theme=dark] .colab-df-convert:hover {\n",
              "      background-color: #434B5C;\n",
              "      box-shadow: 0px 1px 3px 1px rgba(0, 0, 0, 0.15);\n",
              "      filter: drop-shadow(0px 1px 2px rgba(0, 0, 0, 0.3));\n",
              "      fill: #FFFFFF;\n",
              "    }\n",
              "  </style>\n",
              "\n",
              "    <script>\n",
              "      const buttonEl =\n",
              "        document.querySelector('#df-4c71916a-ceb9-4ad0-ba0d-6037ac1b2230 button.colab-df-convert');\n",
              "      buttonEl.style.display =\n",
              "        google.colab.kernel.accessAllowed ? 'block' : 'none';\n",
              "\n",
              "      async function convertToInteractive(key) {\n",
              "        const element = document.querySelector('#df-4c71916a-ceb9-4ad0-ba0d-6037ac1b2230');\n",
              "        const dataTable =\n",
              "          await google.colab.kernel.invokeFunction('convertToInteractive',\n",
              "                                                    [key], {});\n",
              "        if (!dataTable) return;\n",
              "\n",
              "        const docLinkHtml = 'Like what you see? Visit the ' +\n",
              "          '<a target=\"_blank\" href=https://colab.research.google.com/notebooks/data_table.ipynb>data table notebook</a>'\n",
              "          + ' to learn more about interactive tables.';\n",
              "        element.innerHTML = '';\n",
              "        dataTable['output_type'] = 'display_data';\n",
              "        await google.colab.output.renderOutput(dataTable, element);\n",
              "        const docLink = document.createElement('div');\n",
              "        docLink.innerHTML = docLinkHtml;\n",
              "        element.appendChild(docLink);\n",
              "      }\n",
              "    </script>\n",
              "  </div>\n",
              "\n",
              "\n",
              "<div id=\"df-3389f687-77d6-4552-b70e-749b60a7673d\">\n",
              "  <button class=\"colab-df-quickchart\" onclick=\"quickchart('df-3389f687-77d6-4552-b70e-749b60a7673d')\"\n",
              "            title=\"Suggest charts.\"\n",
              "            style=\"display:none;\">\n",
              "\n",
              "<svg xmlns=\"http://www.w3.org/2000/svg\" height=\"24px\"viewBox=\"0 0 24 24\"\n",
              "     width=\"24px\">\n",
              "    <g>\n",
              "        <path d=\"M19 3H5c-1.1 0-2 .9-2 2v14c0 1.1.9 2 2 2h14c1.1 0 2-.9 2-2V5c0-1.1-.9-2-2-2zM9 17H7v-7h2v7zm4 0h-2V7h2v10zm4 0h-2v-4h2v4z\"/>\n",
              "    </g>\n",
              "</svg>\n",
              "  </button>\n",
              "\n",
              "<style>\n",
              "  .colab-df-quickchart {\n",
              "      --bg-color: #E8F0FE;\n",
              "      --fill-color: #1967D2;\n",
              "      --hover-bg-color: #E2EBFA;\n",
              "      --hover-fill-color: #174EA6;\n",
              "      --disabled-fill-color: #AAA;\n",
              "      --disabled-bg-color: #DDD;\n",
              "  }\n",
              "\n",
              "  [theme=dark] .colab-df-quickchart {\n",
              "      --bg-color: #3B4455;\n",
              "      --fill-color: #D2E3FC;\n",
              "      --hover-bg-color: #434B5C;\n",
              "      --hover-fill-color: #FFFFFF;\n",
              "      --disabled-bg-color: #3B4455;\n",
              "      --disabled-fill-color: #666;\n",
              "  }\n",
              "\n",
              "  .colab-df-quickchart {\n",
              "    background-color: var(--bg-color);\n",
              "    border: none;\n",
              "    border-radius: 50%;\n",
              "    cursor: pointer;\n",
              "    display: none;\n",
              "    fill: var(--fill-color);\n",
              "    height: 32px;\n",
              "    padding: 0;\n",
              "    width: 32px;\n",
              "  }\n",
              "\n",
              "  .colab-df-quickchart:hover {\n",
              "    background-color: var(--hover-bg-color);\n",
              "    box-shadow: 0 1px 2px rgba(60, 64, 67, 0.3), 0 1px 3px 1px rgba(60, 64, 67, 0.15);\n",
              "    fill: var(--button-hover-fill-color);\n",
              "  }\n",
              "\n",
              "  .colab-df-quickchart-complete:disabled,\n",
              "  .colab-df-quickchart-complete:disabled:hover {\n",
              "    background-color: var(--disabled-bg-color);\n",
              "    fill: var(--disabled-fill-color);\n",
              "    box-shadow: none;\n",
              "  }\n",
              "\n",
              "  .colab-df-spinner {\n",
              "    border: 2px solid var(--fill-color);\n",
              "    border-color: transparent;\n",
              "    border-bottom-color: var(--fill-color);\n",
              "    animation:\n",
              "      spin 1s steps(1) infinite;\n",
              "  }\n",
              "\n",
              "  @keyframes spin {\n",
              "    0% {\n",
              "      border-color: transparent;\n",
              "      border-bottom-color: var(--fill-color);\n",
              "      border-left-color: var(--fill-color);\n",
              "    }\n",
              "    20% {\n",
              "      border-color: transparent;\n",
              "      border-left-color: var(--fill-color);\n",
              "      border-top-color: var(--fill-color);\n",
              "    }\n",
              "    30% {\n",
              "      border-color: transparent;\n",
              "      border-left-color: var(--fill-color);\n",
              "      border-top-color: var(--fill-color);\n",
              "      border-right-color: var(--fill-color);\n",
              "    }\n",
              "    40% {\n",
              "      border-color: transparent;\n",
              "      border-right-color: var(--fill-color);\n",
              "      border-top-color: var(--fill-color);\n",
              "    }\n",
              "    60% {\n",
              "      border-color: transparent;\n",
              "      border-right-color: var(--fill-color);\n",
              "    }\n",
              "    80% {\n",
              "      border-color: transparent;\n",
              "      border-right-color: var(--fill-color);\n",
              "      border-bottom-color: var(--fill-color);\n",
              "    }\n",
              "    90% {\n",
              "      border-color: transparent;\n",
              "      border-bottom-color: var(--fill-color);\n",
              "    }\n",
              "  }\n",
              "</style>\n",
              "\n",
              "  <script>\n",
              "    async function quickchart(key) {\n",
              "      const quickchartButtonEl =\n",
              "        document.querySelector('#' + key + ' button');\n",
              "      quickchartButtonEl.disabled = true;  // To prevent multiple clicks.\n",
              "      quickchartButtonEl.classList.add('colab-df-spinner');\n",
              "      try {\n",
              "        const charts = await google.colab.kernel.invokeFunction(\n",
              "            'suggestCharts', [key], {});\n",
              "      } catch (error) {\n",
              "        console.error('Error during call to suggestCharts:', error);\n",
              "      }\n",
              "      quickchartButtonEl.classList.remove('colab-df-spinner');\n",
              "      quickchartButtonEl.classList.add('colab-df-quickchart-complete');\n",
              "    }\n",
              "    (() => {\n",
              "      let quickchartButtonEl =\n",
              "        document.querySelector('#df-3389f687-77d6-4552-b70e-749b60a7673d button');\n",
              "      quickchartButtonEl.style.display =\n",
              "        google.colab.kernel.accessAllowed ? 'block' : 'none';\n",
              "    })();\n",
              "  </script>\n",
              "</div>\n",
              "    </div>\n",
              "  </div>\n"
            ]
          },
          "metadata": {},
          "execution_count": 5
        }
      ]
    },
    {
      "cell_type": "code",
      "source": [
        "credit = credit[['a3','a8','a9','a10','a11','a12','a13','a15','a16']]"
      ],
      "metadata": {
        "id": "mL_73qAGBi6z"
      },
      "execution_count": 6,
      "outputs": []
    },
    {
      "cell_type": "code",
      "source": [
        "credit.isnull().any() #check null"
      ],
      "metadata": {
        "id": "OFaPTS6qB1-D",
        "colab": {
          "base_uri": "https://localhost:8080/"
        },
        "outputId": "99808af4-9685-41f3-f892-5128a6e3fcd7"
      },
      "execution_count": 7,
      "outputs": [
        {
          "output_type": "execute_result",
          "data": {
            "text/plain": [
              "a3     False\n",
              "a8     False\n",
              "a9     False\n",
              "a10    False\n",
              "a11    False\n",
              "a12    False\n",
              "a13    False\n",
              "a15    False\n",
              "a16    False\n",
              "dtype: bool"
            ]
          },
          "metadata": {},
          "execution_count": 7
        }
      ]
    },
    {
      "cell_type": "markdown",
      "source": [
        "preeprocessing"
      ],
      "metadata": {
        "id": "w7h8qd4WFOAH"
      }
    },
    {
      "cell_type": "code",
      "source": [
        "credit = credit.replace({'t':1,'f':0,'g':1,'p':2,'s':3,'+':1,'-':0})\n",
        "#change tesx to number >> t is 1, f is 0\n",
        "credit"
      ],
      "metadata": {
        "id": "mux32vPHFNNV",
        "colab": {
          "base_uri": "https://localhost:8080/",
          "height": 419
        },
        "outputId": "ba229e87-b484-460c-d8a8-04a8271a436b"
      },
      "execution_count": 8,
      "outputs": [
        {
          "output_type": "execute_result",
          "data": {
            "text/plain": [
              "         a3    a8  a9  a10  a11  a12  a13  a15  a16\n",
              "0     0.000  1.25   1    1    1    0    1    0    1\n",
              "1     4.460  3.04   1    1    6    0    1  560    1\n",
              "2     0.500  1.50   1    0    0    0    1  824    1\n",
              "3     1.540  3.75   1    1    5    1    1    3    1\n",
              "4     5.625  1.71   1    0    0    0    3    0    1\n",
              "..      ...   ...  ..  ...  ...  ...  ...  ...  ...\n",
              "685  10.085  1.25   0    0    0    0    1    0    0\n",
              "686   0.750  2.00   0    1    2    1    1  394    0\n",
              "687  13.500  2.00   0    1    1    1    1    1    0\n",
              "688   0.205  0.04   0    0    0    0    1  750    0\n",
              "689   3.375  8.29   0    0    0    1    1    0    0\n",
              "\n",
              "[690 rows x 9 columns]"
            ],
            "text/html": [
              "\n",
              "  <div id=\"df-f46005b2-57d8-4483-8f67-2caffa68f9e0\" class=\"colab-df-container\">\n",
              "    <div>\n",
              "<style scoped>\n",
              "    .dataframe tbody tr th:only-of-type {\n",
              "        vertical-align: middle;\n",
              "    }\n",
              "\n",
              "    .dataframe tbody tr th {\n",
              "        vertical-align: top;\n",
              "    }\n",
              "\n",
              "    .dataframe thead th {\n",
              "        text-align: right;\n",
              "    }\n",
              "</style>\n",
              "<table border=\"1\" class=\"dataframe\">\n",
              "  <thead>\n",
              "    <tr style=\"text-align: right;\">\n",
              "      <th></th>\n",
              "      <th>a3</th>\n",
              "      <th>a8</th>\n",
              "      <th>a9</th>\n",
              "      <th>a10</th>\n",
              "      <th>a11</th>\n",
              "      <th>a12</th>\n",
              "      <th>a13</th>\n",
              "      <th>a15</th>\n",
              "      <th>a16</th>\n",
              "    </tr>\n",
              "  </thead>\n",
              "  <tbody>\n",
              "    <tr>\n",
              "      <th>0</th>\n",
              "      <td>0.000</td>\n",
              "      <td>1.25</td>\n",
              "      <td>1</td>\n",
              "      <td>1</td>\n",
              "      <td>1</td>\n",
              "      <td>0</td>\n",
              "      <td>1</td>\n",
              "      <td>0</td>\n",
              "      <td>1</td>\n",
              "    </tr>\n",
              "    <tr>\n",
              "      <th>1</th>\n",
              "      <td>4.460</td>\n",
              "      <td>3.04</td>\n",
              "      <td>1</td>\n",
              "      <td>1</td>\n",
              "      <td>6</td>\n",
              "      <td>0</td>\n",
              "      <td>1</td>\n",
              "      <td>560</td>\n",
              "      <td>1</td>\n",
              "    </tr>\n",
              "    <tr>\n",
              "      <th>2</th>\n",
              "      <td>0.500</td>\n",
              "      <td>1.50</td>\n",
              "      <td>1</td>\n",
              "      <td>0</td>\n",
              "      <td>0</td>\n",
              "      <td>0</td>\n",
              "      <td>1</td>\n",
              "      <td>824</td>\n",
              "      <td>1</td>\n",
              "    </tr>\n",
              "    <tr>\n",
              "      <th>3</th>\n",
              "      <td>1.540</td>\n",
              "      <td>3.75</td>\n",
              "      <td>1</td>\n",
              "      <td>1</td>\n",
              "      <td>5</td>\n",
              "      <td>1</td>\n",
              "      <td>1</td>\n",
              "      <td>3</td>\n",
              "      <td>1</td>\n",
              "    </tr>\n",
              "    <tr>\n",
              "      <th>4</th>\n",
              "      <td>5.625</td>\n",
              "      <td>1.71</td>\n",
              "      <td>1</td>\n",
              "      <td>0</td>\n",
              "      <td>0</td>\n",
              "      <td>0</td>\n",
              "      <td>3</td>\n",
              "      <td>0</td>\n",
              "      <td>1</td>\n",
              "    </tr>\n",
              "    <tr>\n",
              "      <th>...</th>\n",
              "      <td>...</td>\n",
              "      <td>...</td>\n",
              "      <td>...</td>\n",
              "      <td>...</td>\n",
              "      <td>...</td>\n",
              "      <td>...</td>\n",
              "      <td>...</td>\n",
              "      <td>...</td>\n",
              "      <td>...</td>\n",
              "    </tr>\n",
              "    <tr>\n",
              "      <th>685</th>\n",
              "      <td>10.085</td>\n",
              "      <td>1.25</td>\n",
              "      <td>0</td>\n",
              "      <td>0</td>\n",
              "      <td>0</td>\n",
              "      <td>0</td>\n",
              "      <td>1</td>\n",
              "      <td>0</td>\n",
              "      <td>0</td>\n",
              "    </tr>\n",
              "    <tr>\n",
              "      <th>686</th>\n",
              "      <td>0.750</td>\n",
              "      <td>2.00</td>\n",
              "      <td>0</td>\n",
              "      <td>1</td>\n",
              "      <td>2</td>\n",
              "      <td>1</td>\n",
              "      <td>1</td>\n",
              "      <td>394</td>\n",
              "      <td>0</td>\n",
              "    </tr>\n",
              "    <tr>\n",
              "      <th>687</th>\n",
              "      <td>13.500</td>\n",
              "      <td>2.00</td>\n",
              "      <td>0</td>\n",
              "      <td>1</td>\n",
              "      <td>1</td>\n",
              "      <td>1</td>\n",
              "      <td>1</td>\n",
              "      <td>1</td>\n",
              "      <td>0</td>\n",
              "    </tr>\n",
              "    <tr>\n",
              "      <th>688</th>\n",
              "      <td>0.205</td>\n",
              "      <td>0.04</td>\n",
              "      <td>0</td>\n",
              "      <td>0</td>\n",
              "      <td>0</td>\n",
              "      <td>0</td>\n",
              "      <td>1</td>\n",
              "      <td>750</td>\n",
              "      <td>0</td>\n",
              "    </tr>\n",
              "    <tr>\n",
              "      <th>689</th>\n",
              "      <td>3.375</td>\n",
              "      <td>8.29</td>\n",
              "      <td>0</td>\n",
              "      <td>0</td>\n",
              "      <td>0</td>\n",
              "      <td>1</td>\n",
              "      <td>1</td>\n",
              "      <td>0</td>\n",
              "      <td>0</td>\n",
              "    </tr>\n",
              "  </tbody>\n",
              "</table>\n",
              "<p>690 rows × 9 columns</p>\n",
              "</div>\n",
              "    <div class=\"colab-df-buttons\">\n",
              "\n",
              "  <div class=\"colab-df-container\">\n",
              "    <button class=\"colab-df-convert\" onclick=\"convertToInteractive('df-f46005b2-57d8-4483-8f67-2caffa68f9e0')\"\n",
              "            title=\"Convert this dataframe to an interactive table.\"\n",
              "            style=\"display:none;\">\n",
              "\n",
              "  <svg xmlns=\"http://www.w3.org/2000/svg\" height=\"24px\" viewBox=\"0 -960 960 960\">\n",
              "    <path d=\"M120-120v-720h720v720H120Zm60-500h600v-160H180v160Zm220 220h160v-160H400v160Zm0 220h160v-160H400v160ZM180-400h160v-160H180v160Zm440 0h160v-160H620v160ZM180-180h160v-160H180v160Zm440 0h160v-160H620v160Z\"/>\n",
              "  </svg>\n",
              "    </button>\n",
              "\n",
              "  <style>\n",
              "    .colab-df-container {\n",
              "      display:flex;\n",
              "      gap: 12px;\n",
              "    }\n",
              "\n",
              "    .colab-df-convert {\n",
              "      background-color: #E8F0FE;\n",
              "      border: none;\n",
              "      border-radius: 50%;\n",
              "      cursor: pointer;\n",
              "      display: none;\n",
              "      fill: #1967D2;\n",
              "      height: 32px;\n",
              "      padding: 0 0 0 0;\n",
              "      width: 32px;\n",
              "    }\n",
              "\n",
              "    .colab-df-convert:hover {\n",
              "      background-color: #E2EBFA;\n",
              "      box-shadow: 0px 1px 2px rgba(60, 64, 67, 0.3), 0px 1px 3px 1px rgba(60, 64, 67, 0.15);\n",
              "      fill: #174EA6;\n",
              "    }\n",
              "\n",
              "    .colab-df-buttons div {\n",
              "      margin-bottom: 4px;\n",
              "    }\n",
              "\n",
              "    [theme=dark] .colab-df-convert {\n",
              "      background-color: #3B4455;\n",
              "      fill: #D2E3FC;\n",
              "    }\n",
              "\n",
              "    [theme=dark] .colab-df-convert:hover {\n",
              "      background-color: #434B5C;\n",
              "      box-shadow: 0px 1px 3px 1px rgba(0, 0, 0, 0.15);\n",
              "      filter: drop-shadow(0px 1px 2px rgba(0, 0, 0, 0.3));\n",
              "      fill: #FFFFFF;\n",
              "    }\n",
              "  </style>\n",
              "\n",
              "    <script>\n",
              "      const buttonEl =\n",
              "        document.querySelector('#df-f46005b2-57d8-4483-8f67-2caffa68f9e0 button.colab-df-convert');\n",
              "      buttonEl.style.display =\n",
              "        google.colab.kernel.accessAllowed ? 'block' : 'none';\n",
              "\n",
              "      async function convertToInteractive(key) {\n",
              "        const element = document.querySelector('#df-f46005b2-57d8-4483-8f67-2caffa68f9e0');\n",
              "        const dataTable =\n",
              "          await google.colab.kernel.invokeFunction('convertToInteractive',\n",
              "                                                    [key], {});\n",
              "        if (!dataTable) return;\n",
              "\n",
              "        const docLinkHtml = 'Like what you see? Visit the ' +\n",
              "          '<a target=\"_blank\" href=https://colab.research.google.com/notebooks/data_table.ipynb>data table notebook</a>'\n",
              "          + ' to learn more about interactive tables.';\n",
              "        element.innerHTML = '';\n",
              "        dataTable['output_type'] = 'display_data';\n",
              "        await google.colab.output.renderOutput(dataTable, element);\n",
              "        const docLink = document.createElement('div');\n",
              "        docLink.innerHTML = docLinkHtml;\n",
              "        element.appendChild(docLink);\n",
              "      }\n",
              "    </script>\n",
              "  </div>\n",
              "\n",
              "\n",
              "<div id=\"df-5abbf930-d7e8-493c-9e20-8a63b2107131\">\n",
              "  <button class=\"colab-df-quickchart\" onclick=\"quickchart('df-5abbf930-d7e8-493c-9e20-8a63b2107131')\"\n",
              "            title=\"Suggest charts.\"\n",
              "            style=\"display:none;\">\n",
              "\n",
              "<svg xmlns=\"http://www.w3.org/2000/svg\" height=\"24px\"viewBox=\"0 0 24 24\"\n",
              "     width=\"24px\">\n",
              "    <g>\n",
              "        <path d=\"M19 3H5c-1.1 0-2 .9-2 2v14c0 1.1.9 2 2 2h14c1.1 0 2-.9 2-2V5c0-1.1-.9-2-2-2zM9 17H7v-7h2v7zm4 0h-2V7h2v10zm4 0h-2v-4h2v4z\"/>\n",
              "    </g>\n",
              "</svg>\n",
              "  </button>\n",
              "\n",
              "<style>\n",
              "  .colab-df-quickchart {\n",
              "      --bg-color: #E8F0FE;\n",
              "      --fill-color: #1967D2;\n",
              "      --hover-bg-color: #E2EBFA;\n",
              "      --hover-fill-color: #174EA6;\n",
              "      --disabled-fill-color: #AAA;\n",
              "      --disabled-bg-color: #DDD;\n",
              "  }\n",
              "\n",
              "  [theme=dark] .colab-df-quickchart {\n",
              "      --bg-color: #3B4455;\n",
              "      --fill-color: #D2E3FC;\n",
              "      --hover-bg-color: #434B5C;\n",
              "      --hover-fill-color: #FFFFFF;\n",
              "      --disabled-bg-color: #3B4455;\n",
              "      --disabled-fill-color: #666;\n",
              "  }\n",
              "\n",
              "  .colab-df-quickchart {\n",
              "    background-color: var(--bg-color);\n",
              "    border: none;\n",
              "    border-radius: 50%;\n",
              "    cursor: pointer;\n",
              "    display: none;\n",
              "    fill: var(--fill-color);\n",
              "    height: 32px;\n",
              "    padding: 0;\n",
              "    width: 32px;\n",
              "  }\n",
              "\n",
              "  .colab-df-quickchart:hover {\n",
              "    background-color: var(--hover-bg-color);\n",
              "    box-shadow: 0 1px 2px rgba(60, 64, 67, 0.3), 0 1px 3px 1px rgba(60, 64, 67, 0.15);\n",
              "    fill: var(--button-hover-fill-color);\n",
              "  }\n",
              "\n",
              "  .colab-df-quickchart-complete:disabled,\n",
              "  .colab-df-quickchart-complete:disabled:hover {\n",
              "    background-color: var(--disabled-bg-color);\n",
              "    fill: var(--disabled-fill-color);\n",
              "    box-shadow: none;\n",
              "  }\n",
              "\n",
              "  .colab-df-spinner {\n",
              "    border: 2px solid var(--fill-color);\n",
              "    border-color: transparent;\n",
              "    border-bottom-color: var(--fill-color);\n",
              "    animation:\n",
              "      spin 1s steps(1) infinite;\n",
              "  }\n",
              "\n",
              "  @keyframes spin {\n",
              "    0% {\n",
              "      border-color: transparent;\n",
              "      border-bottom-color: var(--fill-color);\n",
              "      border-left-color: var(--fill-color);\n",
              "    }\n",
              "    20% {\n",
              "      border-color: transparent;\n",
              "      border-left-color: var(--fill-color);\n",
              "      border-top-color: var(--fill-color);\n",
              "    }\n",
              "    30% {\n",
              "      border-color: transparent;\n",
              "      border-left-color: var(--fill-color);\n",
              "      border-top-color: var(--fill-color);\n",
              "      border-right-color: var(--fill-color);\n",
              "    }\n",
              "    40% {\n",
              "      border-color: transparent;\n",
              "      border-right-color: var(--fill-color);\n",
              "      border-top-color: var(--fill-color);\n",
              "    }\n",
              "    60% {\n",
              "      border-color: transparent;\n",
              "      border-right-color: var(--fill-color);\n",
              "    }\n",
              "    80% {\n",
              "      border-color: transparent;\n",
              "      border-right-color: var(--fill-color);\n",
              "      border-bottom-color: var(--fill-color);\n",
              "    }\n",
              "    90% {\n",
              "      border-color: transparent;\n",
              "      border-bottom-color: var(--fill-color);\n",
              "    }\n",
              "  }\n",
              "</style>\n",
              "\n",
              "  <script>\n",
              "    async function quickchart(key) {\n",
              "      const quickchartButtonEl =\n",
              "        document.querySelector('#' + key + ' button');\n",
              "      quickchartButtonEl.disabled = true;  // To prevent multiple clicks.\n",
              "      quickchartButtonEl.classList.add('colab-df-spinner');\n",
              "      try {\n",
              "        const charts = await google.colab.kernel.invokeFunction(\n",
              "            'suggestCharts', [key], {});\n",
              "      } catch (error) {\n",
              "        console.error('Error during call to suggestCharts:', error);\n",
              "      }\n",
              "      quickchartButtonEl.classList.remove('colab-df-spinner');\n",
              "      quickchartButtonEl.classList.add('colab-df-quickchart-complete');\n",
              "    }\n",
              "    (() => {\n",
              "      let quickchartButtonEl =\n",
              "        document.querySelector('#df-5abbf930-d7e8-493c-9e20-8a63b2107131 button');\n",
              "      quickchartButtonEl.style.display =\n",
              "        google.colab.kernel.accessAllowed ? 'block' : 'none';\n",
              "    })();\n",
              "  </script>\n",
              "</div>\n",
              "    </div>\n",
              "  </div>\n"
            ]
          },
          "metadata": {},
          "execution_count": 8
        }
      ]
    },
    {
      "cell_type": "markdown",
      "source": [
        "##Try simple ML"
      ],
      "metadata": {
        "id": "s0qKaf6TCACi"
      }
    },
    {
      "cell_type": "code",
      "source": [
        "import numpy as np"
      ],
      "metadata": {
        "id": "pOS3TquwCnOJ"
      },
      "execution_count": 9,
      "outputs": []
    },
    {
      "cell_type": "code",
      "source": [
        "np.random.seed(seed = 1 ) #set seed = 1"
      ],
      "metadata": {
        "id": "LBYLK82HESGz"
      },
      "execution_count": 10,
      "outputs": []
    },
    {
      "cell_type": "code",
      "source": [
        "a = np.random.randint(2,size = len(credit),) #random number 0 and 1 ,size 690\n",
        "a"
      ],
      "metadata": {
        "id": "0wYZCY_ACjbX",
        "colab": {
          "base_uri": "https://localhost:8080/"
        },
        "outputId": "fc0b6941-b0ba-4177-cf2a-75139cb6b638"
      },
      "execution_count": 11,
      "outputs": [
        {
          "output_type": "execute_result",
          "data": {
            "text/plain": [
              "array([1, 1, 0, 0, 1, 1, 1, 1, 1, 0, 0, 1, 0, 1, 1, 0, 0, 1, 0, 0, 0, 1,\n",
              "       0, 0, 1, 0, 0, 0, 1, 0, 0, 0, 1, 1, 1, 1, 1, 0, 0, 0, 1, 1, 1, 1,\n",
              "       1, 1, 0, 1, 1, 0, 0, 1, 0, 0, 1, 1, 1, 0, 1, 0, 0, 1, 1, 0, 1, 1,\n",
              "       1, 1, 0, 0, 1, 1, 0, 0, 0, 0, 1, 1, 1, 0, 1, 0, 0, 1, 1, 0, 1, 1,\n",
              "       0, 1, 0, 0, 1, 1, 1, 0, 1, 1, 0, 1, 1, 1, 1, 0, 0, 0, 0, 0, 1, 1,\n",
              "       1, 1, 1, 1, 1, 0, 0, 0, 0, 0, 0, 1, 1, 1, 1, 1, 1, 0, 0, 1, 1, 0,\n",
              "       0, 1, 0, 0, 0, 1, 1, 1, 1, 1, 0, 1, 0, 1, 0, 0, 0, 1, 1, 1, 0, 1,\n",
              "       0, 0, 0, 0, 1, 0, 1, 0, 1, 1, 1, 0, 0, 0, 0, 0, 0, 1, 0, 0, 1, 0,\n",
              "       0, 1, 1, 0, 0, 0, 1, 0, 0, 0, 0, 1, 0, 0, 0, 0, 1, 1, 0, 0, 1, 1,\n",
              "       1, 0, 0, 0, 0, 0, 1, 1, 1, 0, 1, 1, 0, 0, 0, 1, 1, 0, 1, 1, 1, 0,\n",
              "       1, 1, 1, 1, 0, 1, 0, 0, 1, 0, 1, 0, 1, 1, 0, 1, 1, 0, 1, 1, 1, 0,\n",
              "       1, 0, 1, 0, 1, 1, 1, 1, 1, 1, 0, 0, 1, 1, 0, 0, 0, 1, 1, 0, 0, 0,\n",
              "       0, 0, 1, 1, 1, 1, 1, 1, 1, 0, 0, 1, 0, 0, 0, 1, 0, 1, 0, 1, 0, 0,\n",
              "       0, 0, 1, 1, 0, 0, 0, 1, 0, 1, 1, 0, 0, 1, 0, 1, 0, 0, 0, 1, 0, 1,\n",
              "       0, 1, 1, 1, 0, 1, 0, 1, 1, 1, 1, 0, 0, 1, 0, 0, 0, 0, 1, 1, 0, 1,\n",
              "       1, 0, 0, 1, 1, 1, 1, 1, 1, 1, 0, 0, 0, 0, 0, 0, 0, 1, 0, 0, 0, 0,\n",
              "       0, 1, 1, 1, 1, 0, 0, 0, 1, 0, 1, 0, 1, 0, 0, 0, 0, 0, 0, 1, 0, 0,\n",
              "       0, 1, 0, 1, 1, 0, 0, 1, 1, 0, 1, 0, 1, 0, 1, 1, 0, 0, 1, 0, 0, 0,\n",
              "       0, 0, 1, 1, 0, 0, 1, 1, 1, 1, 0, 1, 0, 1, 0, 0, 1, 0, 1, 0, 1, 0,\n",
              "       0, 0, 0, 1, 0, 0, 1, 1, 1, 1, 1, 0, 0, 0, 1, 0, 1, 1, 0, 1, 1, 0,\n",
              "       0, 1, 1, 0, 1, 1, 1, 1, 0, 1, 0, 0, 0, 0, 0, 1, 0, 0, 0, 0, 1, 0,\n",
              "       0, 1, 0, 1, 1, 0, 1, 0, 1, 0, 1, 0, 0, 0, 0, 1, 0, 1, 1, 1, 1, 1,\n",
              "       0, 1, 0, 1, 0, 0, 0, 0, 1, 1, 0, 0, 0, 0, 1, 0, 0, 1, 1, 1, 1, 0,\n",
              "       1, 1, 0, 1, 0, 0, 1, 0, 0, 0, 1, 1, 1, 1, 0, 0, 0, 0, 1, 0, 1, 1,\n",
              "       0, 0, 1, 1, 0, 1, 1, 0, 0, 0, 0, 1, 0, 0, 0, 0, 1, 0, 1, 0, 0, 1,\n",
              "       1, 1, 0, 0, 1, 0, 0, 0, 0, 0, 1, 1, 1, 1, 1, 0, 0, 1, 1, 0, 0, 0,\n",
              "       0, 1, 0, 0, 0, 1, 0, 1, 0, 0, 0, 0, 1, 0, 0, 1, 1, 0, 1, 1, 1, 1,\n",
              "       1, 0, 0, 0, 0, 0, 0, 0, 0, 1, 0, 0, 0, 1, 0, 1, 0, 1, 0, 0, 1, 1,\n",
              "       1, 1, 1, 1, 0, 0, 0, 1, 0, 0, 1, 0, 1, 1, 0, 0, 0, 1, 1, 0, 1, 1,\n",
              "       0, 0, 0, 0, 1, 0, 0, 1, 0, 0, 0, 0, 0, 0, 1, 1, 0, 0, 0, 0, 0, 0,\n",
              "       1, 1, 0, 1, 0, 0, 1, 0, 1, 1, 1, 0, 0, 0, 1, 1, 1, 1, 1, 0, 1, 0,\n",
              "       1, 0, 0, 0, 0, 0, 0, 0])"
            ]
          },
          "metadata": {},
          "execution_count": 11
        }
      ]
    },
    {
      "cell_type": "code",
      "source": [
        "train = credit[a==1] #let a = 1 is train\n",
        "train.shape"
      ],
      "metadata": {
        "id": "BmE7Bae8C7dY",
        "colab": {
          "base_uri": "https://localhost:8080/"
        },
        "outputId": "04e28399-1eaf-49f5-ed30-3610013e5831"
      },
      "execution_count": 12,
      "outputs": [
        {
          "output_type": "execute_result",
          "data": {
            "text/plain": [
              "(324, 9)"
            ]
          },
          "metadata": {},
          "execution_count": 12
        }
      ]
    },
    {
      "cell_type": "code",
      "source": [
        "test = credit[a==0] #let a = 0 is test\n",
        "test.shape"
      ],
      "metadata": {
        "id": "UH9Tdcj5DOVT",
        "colab": {
          "base_uri": "https://localhost:8080/"
        },
        "outputId": "66e442bc-41b6-48e7-c633-97514c33be17"
      },
      "execution_count": 13,
      "outputs": [
        {
          "output_type": "execute_result",
          "data": {
            "text/plain": [
              "(366, 9)"
            ]
          },
          "metadata": {},
          "execution_count": 13
        }
      ]
    },
    {
      "cell_type": "markdown",
      "source": [
        "#Start Decision Tree"
      ],
      "metadata": {
        "id": "71sYKCW-fNOV"
      }
    },
    {
      "cell_type": "markdown",
      "source": [
        "###Import"
      ],
      "metadata": {
        "id": "8_dqXER4CDuO"
      }
    },
    {
      "cell_type": "code",
      "source": [
        "from sklearn.tree import DecisionTreeClassifier\n",
        "from sklearn import tree"
      ],
      "metadata": {
        "id": "8nuQThwNB9Gr"
      },
      "execution_count": 14,
      "outputs": []
    },
    {
      "cell_type": "markdown",
      "source": [
        "##Defind"
      ],
      "metadata": {
        "id": "yHMNdlclCILG"
      }
    },
    {
      "cell_type": "code",
      "source": [
        "Dtreet1 =  DecisionTreeClassifier(random_state=0)\n",
        "Dtreet1"
      ],
      "metadata": {
        "id": "IyKbUoFJCKF3",
        "colab": {
          "base_uri": "https://localhost:8080/",
          "height": 74
        },
        "outputId": "796b67d6-0607-44ec-f669-2e1d81ae1f3c"
      },
      "execution_count": 15,
      "outputs": [
        {
          "output_type": "execute_result",
          "data": {
            "text/plain": [
              "DecisionTreeClassifier(random_state=0)"
            ],
            "text/html": [
              "<style>#sk-container-id-1 {color: black;background-color: white;}#sk-container-id-1 pre{padding: 0;}#sk-container-id-1 div.sk-toggleable {background-color: white;}#sk-container-id-1 label.sk-toggleable__label {cursor: pointer;display: block;width: 100%;margin-bottom: 0;padding: 0.3em;box-sizing: border-box;text-align: center;}#sk-container-id-1 label.sk-toggleable__label-arrow:before {content: \"▸\";float: left;margin-right: 0.25em;color: #696969;}#sk-container-id-1 label.sk-toggleable__label-arrow:hover:before {color: black;}#sk-container-id-1 div.sk-estimator:hover label.sk-toggleable__label-arrow:before {color: black;}#sk-container-id-1 div.sk-toggleable__content {max-height: 0;max-width: 0;overflow: hidden;text-align: left;background-color: #f0f8ff;}#sk-container-id-1 div.sk-toggleable__content pre {margin: 0.2em;color: black;border-radius: 0.25em;background-color: #f0f8ff;}#sk-container-id-1 input.sk-toggleable__control:checked~div.sk-toggleable__content {max-height: 200px;max-width: 100%;overflow: auto;}#sk-container-id-1 input.sk-toggleable__control:checked~label.sk-toggleable__label-arrow:before {content: \"▾\";}#sk-container-id-1 div.sk-estimator input.sk-toggleable__control:checked~label.sk-toggleable__label {background-color: #d4ebff;}#sk-container-id-1 div.sk-label input.sk-toggleable__control:checked~label.sk-toggleable__label {background-color: #d4ebff;}#sk-container-id-1 input.sk-hidden--visually {border: 0;clip: rect(1px 1px 1px 1px);clip: rect(1px, 1px, 1px, 1px);height: 1px;margin: -1px;overflow: hidden;padding: 0;position: absolute;width: 1px;}#sk-container-id-1 div.sk-estimator {font-family: monospace;background-color: #f0f8ff;border: 1px dotted black;border-radius: 0.25em;box-sizing: border-box;margin-bottom: 0.5em;}#sk-container-id-1 div.sk-estimator:hover {background-color: #d4ebff;}#sk-container-id-1 div.sk-parallel-item::after {content: \"\";width: 100%;border-bottom: 1px solid gray;flex-grow: 1;}#sk-container-id-1 div.sk-label:hover label.sk-toggleable__label {background-color: #d4ebff;}#sk-container-id-1 div.sk-serial::before {content: \"\";position: absolute;border-left: 1px solid gray;box-sizing: border-box;top: 0;bottom: 0;left: 50%;z-index: 0;}#sk-container-id-1 div.sk-serial {display: flex;flex-direction: column;align-items: center;background-color: white;padding-right: 0.2em;padding-left: 0.2em;position: relative;}#sk-container-id-1 div.sk-item {position: relative;z-index: 1;}#sk-container-id-1 div.sk-parallel {display: flex;align-items: stretch;justify-content: center;background-color: white;position: relative;}#sk-container-id-1 div.sk-item::before, #sk-container-id-1 div.sk-parallel-item::before {content: \"\";position: absolute;border-left: 1px solid gray;box-sizing: border-box;top: 0;bottom: 0;left: 50%;z-index: -1;}#sk-container-id-1 div.sk-parallel-item {display: flex;flex-direction: column;z-index: 1;position: relative;background-color: white;}#sk-container-id-1 div.sk-parallel-item:first-child::after {align-self: flex-end;width: 50%;}#sk-container-id-1 div.sk-parallel-item:last-child::after {align-self: flex-start;width: 50%;}#sk-container-id-1 div.sk-parallel-item:only-child::after {width: 0;}#sk-container-id-1 div.sk-dashed-wrapped {border: 1px dashed gray;margin: 0 0.4em 0.5em 0.4em;box-sizing: border-box;padding-bottom: 0.4em;background-color: white;}#sk-container-id-1 div.sk-label label {font-family: monospace;font-weight: bold;display: inline-block;line-height: 1.2em;}#sk-container-id-1 div.sk-label-container {text-align: center;}#sk-container-id-1 div.sk-container {/* jupyter's `normalize.less` sets `[hidden] { display: none; }` but bootstrap.min.css set `[hidden] { display: none !important; }` so we also need the `!important` here to be able to override the default hidden behavior on the sphinx rendered scikit-learn.org. See: https://github.com/scikit-learn/scikit-learn/issues/21755 */display: inline-block !important;position: relative;}#sk-container-id-1 div.sk-text-repr-fallback {display: none;}</style><div id=\"sk-container-id-1\" class=\"sk-top-container\"><div class=\"sk-text-repr-fallback\"><pre>DecisionTreeClassifier(random_state=0)</pre><b>In a Jupyter environment, please rerun this cell to show the HTML representation or trust the notebook. <br />On GitHub, the HTML representation is unable to render, please try loading this page with nbviewer.org.</b></div><div class=\"sk-container\" hidden><div class=\"sk-item\"><div class=\"sk-estimator sk-toggleable\"><input class=\"sk-toggleable__control sk-hidden--visually\" id=\"sk-estimator-id-1\" type=\"checkbox\" checked><label for=\"sk-estimator-id-1\" class=\"sk-toggleable__label sk-toggleable__label-arrow\">DecisionTreeClassifier</label><div class=\"sk-toggleable__content\"><pre>DecisionTreeClassifier(random_state=0)</pre></div></div></div></div></div>"
            ]
          },
          "metadata": {},
          "execution_count": 15
        }
      ]
    },
    {
      "cell_type": "markdown",
      "source": [
        "##Train"
      ],
      "metadata": {
        "id": "uTUk9VUPCKjL"
      }
    },
    {
      "cell_type": "code",
      "source": [
        "X_train = train.iloc[:,:-1] #let train x and y\n",
        "Y_train = train.iloc[:,-1]"
      ],
      "metadata": {
        "id": "MprKNwlVFDxM"
      },
      "execution_count": 16,
      "outputs": []
    },
    {
      "cell_type": "code",
      "source": [
        "Dtreet1 = Dtreet1.fit(X_train,Y_train)\n",
        "Dtreet1"
      ],
      "metadata": {
        "id": "RG4HJCWWGA4G",
        "colab": {
          "base_uri": "https://localhost:8080/",
          "height": 74
        },
        "outputId": "de413681-6dc0-42de-fefe-ddcf3844c7e1"
      },
      "execution_count": 17,
      "outputs": [
        {
          "output_type": "execute_result",
          "data": {
            "text/plain": [
              "DecisionTreeClassifier(random_state=0)"
            ],
            "text/html": [
              "<style>#sk-container-id-2 {color: black;background-color: white;}#sk-container-id-2 pre{padding: 0;}#sk-container-id-2 div.sk-toggleable {background-color: white;}#sk-container-id-2 label.sk-toggleable__label {cursor: pointer;display: block;width: 100%;margin-bottom: 0;padding: 0.3em;box-sizing: border-box;text-align: center;}#sk-container-id-2 label.sk-toggleable__label-arrow:before {content: \"▸\";float: left;margin-right: 0.25em;color: #696969;}#sk-container-id-2 label.sk-toggleable__label-arrow:hover:before {color: black;}#sk-container-id-2 div.sk-estimator:hover label.sk-toggleable__label-arrow:before {color: black;}#sk-container-id-2 div.sk-toggleable__content {max-height: 0;max-width: 0;overflow: hidden;text-align: left;background-color: #f0f8ff;}#sk-container-id-2 div.sk-toggleable__content pre {margin: 0.2em;color: black;border-radius: 0.25em;background-color: #f0f8ff;}#sk-container-id-2 input.sk-toggleable__control:checked~div.sk-toggleable__content {max-height: 200px;max-width: 100%;overflow: auto;}#sk-container-id-2 input.sk-toggleable__control:checked~label.sk-toggleable__label-arrow:before {content: \"▾\";}#sk-container-id-2 div.sk-estimator input.sk-toggleable__control:checked~label.sk-toggleable__label {background-color: #d4ebff;}#sk-container-id-2 div.sk-label input.sk-toggleable__control:checked~label.sk-toggleable__label {background-color: #d4ebff;}#sk-container-id-2 input.sk-hidden--visually {border: 0;clip: rect(1px 1px 1px 1px);clip: rect(1px, 1px, 1px, 1px);height: 1px;margin: -1px;overflow: hidden;padding: 0;position: absolute;width: 1px;}#sk-container-id-2 div.sk-estimator {font-family: monospace;background-color: #f0f8ff;border: 1px dotted black;border-radius: 0.25em;box-sizing: border-box;margin-bottom: 0.5em;}#sk-container-id-2 div.sk-estimator:hover {background-color: #d4ebff;}#sk-container-id-2 div.sk-parallel-item::after {content: \"\";width: 100%;border-bottom: 1px solid gray;flex-grow: 1;}#sk-container-id-2 div.sk-label:hover label.sk-toggleable__label {background-color: #d4ebff;}#sk-container-id-2 div.sk-serial::before {content: \"\";position: absolute;border-left: 1px solid gray;box-sizing: border-box;top: 0;bottom: 0;left: 50%;z-index: 0;}#sk-container-id-2 div.sk-serial {display: flex;flex-direction: column;align-items: center;background-color: white;padding-right: 0.2em;padding-left: 0.2em;position: relative;}#sk-container-id-2 div.sk-item {position: relative;z-index: 1;}#sk-container-id-2 div.sk-parallel {display: flex;align-items: stretch;justify-content: center;background-color: white;position: relative;}#sk-container-id-2 div.sk-item::before, #sk-container-id-2 div.sk-parallel-item::before {content: \"\";position: absolute;border-left: 1px solid gray;box-sizing: border-box;top: 0;bottom: 0;left: 50%;z-index: -1;}#sk-container-id-2 div.sk-parallel-item {display: flex;flex-direction: column;z-index: 1;position: relative;background-color: white;}#sk-container-id-2 div.sk-parallel-item:first-child::after {align-self: flex-end;width: 50%;}#sk-container-id-2 div.sk-parallel-item:last-child::after {align-self: flex-start;width: 50%;}#sk-container-id-2 div.sk-parallel-item:only-child::after {width: 0;}#sk-container-id-2 div.sk-dashed-wrapped {border: 1px dashed gray;margin: 0 0.4em 0.5em 0.4em;box-sizing: border-box;padding-bottom: 0.4em;background-color: white;}#sk-container-id-2 div.sk-label label {font-family: monospace;font-weight: bold;display: inline-block;line-height: 1.2em;}#sk-container-id-2 div.sk-label-container {text-align: center;}#sk-container-id-2 div.sk-container {/* jupyter's `normalize.less` sets `[hidden] { display: none; }` but bootstrap.min.css set `[hidden] { display: none !important; }` so we also need the `!important` here to be able to override the default hidden behavior on the sphinx rendered scikit-learn.org. See: https://github.com/scikit-learn/scikit-learn/issues/21755 */display: inline-block !important;position: relative;}#sk-container-id-2 div.sk-text-repr-fallback {display: none;}</style><div id=\"sk-container-id-2\" class=\"sk-top-container\"><div class=\"sk-text-repr-fallback\"><pre>DecisionTreeClassifier(random_state=0)</pre><b>In a Jupyter environment, please rerun this cell to show the HTML representation or trust the notebook. <br />On GitHub, the HTML representation is unable to render, please try loading this page with nbviewer.org.</b></div><div class=\"sk-container\" hidden><div class=\"sk-item\"><div class=\"sk-estimator sk-toggleable\"><input class=\"sk-toggleable__control sk-hidden--visually\" id=\"sk-estimator-id-2\" type=\"checkbox\" checked><label for=\"sk-estimator-id-2\" class=\"sk-toggleable__label sk-toggleable__label-arrow\">DecisionTreeClassifier</label><div class=\"sk-toggleable__content\"><pre>DecisionTreeClassifier(random_state=0)</pre></div></div></div></div></div>"
            ]
          },
          "metadata": {},
          "execution_count": 17
        }
      ]
    },
    {
      "cell_type": "code",
      "source": [
        "tree.plot_tree(Dtreet1); #plot decision tree"
      ],
      "metadata": {
        "id": "dLBZ3nLNGafQ",
        "colab": {
          "base_uri": "https://localhost:8080/",
          "height": 406
        },
        "outputId": "96b81d41-5ee3-4690-90fb-ee3ded189b55"
      },
      "execution_count": 18,
      "outputs": [
        {
          "output_type": "display_data",
          "data": {
            "text/plain": [
              "<Figure size 640x480 with 1 Axes>"
            ],
            "image/png": "[encoded data removed]"
          },
          "metadata": {}
        }
      ]
    },
    {
      "cell_type": "markdown",
      "source": [
        "##Test\n"
      ],
      "metadata": {
        "id": "drfkycyWCMm-"
      }
    },
    {
      "cell_type": "code",
      "source": [
        "X_test = test.iloc[:,:-1] #let test x and y\n",
        "Y_test = test.iloc[:,-1]"
      ],
      "metadata": {
        "id": "WEJ-uJVrCOAi"
      },
      "execution_count": 19,
      "outputs": []
    },
    {
      "cell_type": "code",
      "source": [
        "y_predict = Dtreet1.predict(X_test) #predict y from X_test"
      ],
      "metadata": {
        "id": "0TJytgVjHRVj"
      },
      "execution_count": 20,
      "outputs": []
    },
    {
      "cell_type": "code",
      "source": [
        "y_predict"
      ],
      "metadata": {
        "id": "84NzC3DegcZo",
        "colab": {
          "base_uri": "https://localhost:8080/"
        },
        "outputId": "0ba7f418-47de-4ab8-cbc3-9668284326c3"
      },
      "execution_count": 21,
      "outputs": [
        {
          "output_type": "execute_result",
          "data": {
            "text/plain": [
              "array([0, 1, 1, 0, 1, 1, 0, 1, 1, 1, 1, 1, 1, 1, 1, 0, 1, 1, 1, 1, 1, 1,\n",
              "       0, 0, 1, 0, 0, 1, 1, 1, 1, 1, 1, 0, 0, 0, 1, 1, 0, 0, 1, 0, 0, 1,\n",
              "       0, 1, 1, 1, 1, 1, 0, 1, 1, 1, 0, 0, 1, 1, 1, 1, 1, 1, 1, 1, 1, 1,\n",
              "       1, 1, 1, 1, 1, 1, 1, 1, 1, 1, 0, 0, 1, 0, 0, 1, 0, 1, 0, 1, 1, 1,\n",
              "       1, 1, 1, 1, 0, 1, 0, 1, 1, 1, 1, 1, 0, 1, 1, 1, 1, 0, 1, 1, 1, 0,\n",
              "       1, 0, 1, 1, 1, 1, 1, 1, 1, 1, 1, 0, 0, 0, 0, 0, 0, 0, 0, 0, 0, 1,\n",
              "       0, 0, 0, 0, 0, 0, 0, 1, 0, 0, 0, 0, 0, 0, 0, 0, 0, 0, 0, 0, 0, 0,\n",
              "       0, 0, 0, 1, 0, 0, 0, 0, 0, 0, 0, 0, 0, 0, 0, 0, 1, 0, 0, 0, 0, 0,\n",
              "       0, 0, 0, 0, 1, 0, 0, 0, 0, 0, 0, 0, 0, 0, 0, 0, 0, 0, 1, 0, 0, 0,\n",
              "       0, 0, 0, 0, 0, 0, 0, 0, 0, 0, 0, 0, 0, 0, 0, 0, 0, 0, 0, 0, 0, 0,\n",
              "       0, 0, 1, 0, 0, 0, 0, 0, 0, 1, 1, 0, 0, 0, 0, 0, 0, 0, 0, 0, 0, 0,\n",
              "       0, 0, 0, 0, 0, 0, 0, 1, 1, 1, 1, 1, 1, 1, 1, 1, 1, 1, 1, 1, 0, 1,\n",
              "       1, 1, 1, 1, 0, 1, 0, 0, 1, 1, 1, 0, 0, 1, 1, 1, 1, 1, 0, 1, 0, 1,\n",
              "       1, 1, 0, 1, 1, 1, 0, 1, 1, 1, 1, 1, 1, 1, 1, 1, 0, 1, 0, 1, 1, 0,\n",
              "       1, 1, 0, 1, 1, 0, 0, 0, 0, 0, 0, 0, 0, 0, 0, 0, 1, 0, 0, 0, 0, 0,\n",
              "       0, 0, 0, 0, 0, 0, 0, 0, 0, 0, 0, 0, 0, 0, 0, 0, 0, 0, 0, 0, 0, 0,\n",
              "       0, 0, 0, 0, 0, 0, 0, 0, 0, 0, 0, 0, 0, 0])"
            ]
          },
          "metadata": {},
          "execution_count": 21
        }
      ]
    },
    {
      "cell_type": "code",
      "source": [
        "from sklearn.metrics import accuracy_score\n",
        "accuracy_score(Y_test, y_predict) #accuracy by y test and y predict"
      ],
      "metadata": {
        "id": "eU3C7CN7HcT-",
        "colab": {
          "base_uri": "https://localhost:8080/"
        },
        "outputId": "cc6268cf-ba9e-40f7-df06-900cb78eff72"
      },
      "execution_count": 22,
      "outputs": [
        {
          "output_type": "execute_result",
          "data": {
            "text/plain": [
              "0.825136612021858"
            ]
          },
          "metadata": {},
          "execution_count": 22
        }
      ]
    },
    {
      "cell_type": "markdown",
      "source": [
        "## Set parameter"
      ],
      "metadata": {
        "id": "EiZPzgCPH-yM"
      }
    },
    {
      "cell_type": "markdown",
      "source": [
        "###Import\n"
      ],
      "metadata": {
        "id": "Lyhvto5HIMSQ"
      }
    },
    {
      "cell_type": "code",
      "source": [
        "from sklearn.tree import DecisionTreeClassifier"
      ],
      "metadata": {
        "id": "GE86fIP8IPaV"
      },
      "execution_count": 23,
      "outputs": []
    },
    {
      "cell_type": "markdown",
      "source": [
        "###Defind"
      ],
      "metadata": {
        "id": "G3NQMkb4ICKg"
      }
    },
    {
      "cell_type": "code",
      "source": [
        "Dtreet2 = DecisionTreeClassifier(random_state=0, max_depth=4) #Add max_depth=4 is version 2"
      ],
      "metadata": {
        "id": "LRtOthyVISWt"
      },
      "execution_count": 24,
      "outputs": []
    },
    {
      "cell_type": "markdown",
      "source": [
        "###train"
      ],
      "metadata": {
        "id": "vVPrR-nqIFQ1"
      }
    },
    {
      "cell_type": "code",
      "source": [
        "Dtreet2 = Dtreet2.fit(X_train,Y_train)"
      ],
      "metadata": {
        "id": "-Wj7Cp2RJllQ"
      },
      "execution_count": 25,
      "outputs": []
    },
    {
      "cell_type": "code",
      "source": [
        "tree.plot_tree(Dtreet2); #plot decision tree"
      ],
      "metadata": {
        "id": "gggY9ODBItyk",
        "colab": {
          "base_uri": "https://localhost:8080/",
          "height": 406
        },
        "outputId": "3b850643-11d4-4890-9e2a-545c653cf491"
      },
      "execution_count": 26,
      "outputs": [
        {
          "output_type": "display_data",
          "data": {
            "text/plain": [
              "<Figure size 640x480 with 1 Axes>"
            ],
            "image/png": "[encoded data removed]"
          },
          "metadata": {}
        }
      ]
    },
    {
      "cell_type": "markdown",
      "source": [
        "###Test"
      ],
      "metadata": {
        "id": "kD5-nv2CIJdG"
      }
    },
    {
      "cell_type": "code",
      "source": [
        "y_predic2 = Dtreet2.predict(X_test)"
      ],
      "metadata": {
        "id": "czkpIxs2IJCT"
      },
      "execution_count": 27,
      "outputs": []
    },
    {
      "cell_type": "code",
      "source": [
        "accuracy_score(Y_test,y_predic2) #if let max_depth=4 have accuracy better than version 1"
      ],
      "metadata": {
        "id": "oH72hz2fHnIb",
        "colab": {
          "base_uri": "https://localhost:8080/"
        },
        "outputId": "31e60b79-b1a5-4fcb-d541-4b195636f197"
      },
      "execution_count": 28,
      "outputs": [
        {
          "output_type": "execute_result",
          "data": {
            "text/plain": [
              "0.8579234972677595"
            ]
          },
          "metadata": {},
          "execution_count": 28
        }
      ]
    },
    {
      "cell_type": "markdown",
      "source": [
        "# HW 5\n",
        "\n",
        "build a decision tree model which has better accurancy than 0.86 and descibe about parameters you set"
      ],
      "metadata": {
        "id": "LnTO_JmFJpiG"
      }
    },
    {
      "cell_type": "markdown",
      "source": [
        "##Import\n"
      ],
      "metadata": {
        "id": "tY-R70fvKXU0"
      }
    },
    {
      "cell_type": "code",
      "source": [
        "from sklearn.tree import DecisionTreeClassifier\n",
        "from sklearn.metrics import accuracy_score\n",
        "from sklearn import tree\n",
        "import numpy as np"
      ],
      "metadata": {
        "id": "MjbSTPIyKCj3"
      },
      "execution_count": 29,
      "outputs": []
    },
    {
      "cell_type": "markdown",
      "source": [
        "##Solution\n"
      ],
      "metadata": {
        "id": "g3iZztKsKc1a"
      }
    },
    {
      "cell_type": "code",
      "source": [
        "scores_acc = []\n",
        "\n",
        "for max_depth in range(1,11):\n",
        "    #defind\n",
        "    Dtree = DecisionTreeClassifier(random_state=0, max_depth=max_depth)\n",
        "    #train\n",
        "    Dtree2 = Dtree.fit(X_train, Y_train)\n",
        "    #test\n",
        "    y_predic = Dtree2.predict(X_test)\n",
        "    scores = accuracy_score(Y_test, y_predic)\n",
        "    scores_acc.append(scores)\n",
        "    print(f\"max_depth={max_depth}, Accuracy={scores}\")"
      ],
      "metadata": {
        "id": "H_CgFjEFKgFJ",
        "colab": {
          "base_uri": "https://localhost:8080/"
        },
        "outputId": "9c0ab958-5677-4e24-b2e9-c1273582db64"
      },
      "execution_count": 30,
      "outputs": [
        {
          "output_type": "stream",
          "name": "stdout",
          "text": [
            "max_depth=1, Accuracy=0.8715846994535519\n",
            "max_depth=2, Accuracy=0.8715846994535519\n",
            "max_depth=3, Accuracy=0.8633879781420765\n",
            "max_depth=4, Accuracy=0.8579234972677595\n",
            "max_depth=5, Accuracy=0.8688524590163934\n",
            "max_depth=6, Accuracy=0.8442622950819673\n",
            "max_depth=7, Accuracy=0.8497267759562842\n",
            "max_depth=8, Accuracy=0.8306010928961749\n",
            "max_depth=9, Accuracy=0.8278688524590164\n",
            "max_depth=10, Accuracy=0.8114754098360656\n"
          ]
        }
      ]
    },
    {
      "cell_type": "code",
      "source": [
        "max_scores = np.max(scores_acc)\n",
        "print(\"Maximum Accuracy:\", max_scores)"
      ],
      "metadata": {
        "id": "-J1mf0YYKy2I",
        "colab": {
          "base_uri": "https://localhost:8080/"
        },
        "outputId": "5c4a2abc-16eb-47d2-be56-f1de17bb8f5d"
      },
      "execution_count": 31,
      "outputs": [
        {
          "output_type": "stream",
          "name": "stdout",
          "text": [
            "Maximum Accuracy: 0.8715846994535519\n"
          ]
        }
      ]
    },
    {
      "cell_type": "code",
      "source": [
        "Dtree = DecisionTreeClassifier(random_state=0, max_depth=2)\n",
        "Dtree2 = Dtree.fit(X_train, Y_train)\n",
        "tree.plot_tree(Dtree2);"
      ],
      "metadata": {
        "id": "9RKbQuFTM47w",
        "outputId": "b3f4b4c7-6031-4027-e4a4-d1327888e621",
        "colab": {
          "base_uri": "https://localhost:8080/",
          "height": 406
        }
      },
      "execution_count": 32,
      "outputs": [
        {
          "output_type": "display_data",
          "data": {
            "text/plain": [
              "<Figure size 640x480 with 1 Axes>"
            ],
            "image/png": "[encoded data removed]"
          },
          "metadata": {}
        }
      ]
    },
    {
      "cell_type": "markdown",
      "source": [
        "The accuaracy will increase. Therefore the accuracy is 0.8715846994535519"
      ],
      "metadata": {
        "id": "JEiZAum-LNah"
      }
    },
    {
      "cell_type": "markdown",
      "source": [
        "DecisionTreeClassifier\n",
        "\n",
        "    DecisionTreeClassifier(*, criterion='gini', splitter='best', max_depth=None, min_samples_split=2, min_samples_leaf=1, min_weight_fraction_leaf=0.0, max_features=None, random_state=None, max_leaf_nodes=None, min_impurity_decrease=0.0, class_weight=None, ccp_alpha=0.0"
      ],
      "metadata": {
        "id": "DKFlFEskLdc7"
      }
    },
    {
      "cell_type": "markdown",
      "source": [
        "##Solution"
      ],
      "metadata": {
        "id": "GoICE91JLnmE"
      }
    },
    {
      "cell_type": "code",
      "source": [
        "scores_acc2 = []\n",
        "\n",
        "for max_depth in range(1,6):\n",
        "    for i in range(2, 51):\n",
        "        # Define\n",
        "        Dtree = DecisionTreeClassifier(random_state=0, max_depth=max_depth, min_samples_split=i)\n",
        "\n",
        "        # Train\n",
        "        Dtree2 = Dtree.fit(X_train, Y_train)\n",
        "\n",
        "        # Test\n",
        "        y_predic = Dtree2.predict(X_test)\n",
        "\n",
        "\n",
        "        scores = accuracy_score(Y_test, y_predic)\n",
        "        scores_acc2.append(scores)\n",
        "        print(f\"max_depth={max_depth}, min_samples_split={i}, Accuracy={scores}\")"
      ],
      "metadata": {
        "id": "vDfEG5GbLmrv",
        "colab": {
          "base_uri": "https://localhost:8080/"
        },
        "outputId": "bf765457-f9ad-4455-9742-058c54ae7c00"
      },
      "execution_count": 33,
      "outputs": [
        {
          "output_type": "stream",
          "name": "stdout",
          "text": [
            "max_depth=1, min_samples_split=2, Accuracy=0.8715846994535519\n",
            "max_depth=1, min_samples_split=3, Accuracy=0.8715846994535519\n",
            "max_depth=1, min_samples_split=4, Accuracy=0.8715846994535519\n",
            "max_depth=1, min_samples_split=5, Accuracy=0.8715846994535519\n",
            "max_depth=1, min_samples_split=6, Accuracy=0.8715846994535519\n",
            "max_depth=1, min_samples_split=7, Accuracy=0.8715846994535519\n",
            "max_depth=1, min_samples_split=8, Accuracy=0.8715846994535519\n",
            "max_depth=1, min_samples_split=9, Accuracy=0.8715846994535519\n",
            "max_depth=1, min_samples_split=10, Accuracy=0.8715846994535519\n",
            "max_depth=1, min_samples_split=11, Accuracy=0.8715846994535519\n",
            "max_depth=1, min_samples_split=12, Accuracy=0.8715846994535519\n",
            "max_depth=1, min_samples_split=13, Accuracy=0.8715846994535519\n",
            "max_depth=1, min_samples_split=14, Accuracy=0.8715846994535519\n",
            "max_depth=1, min_samples_split=15, Accuracy=0.8715846994535519\n",
            "max_depth=1, min_samples_split=16, Accuracy=0.8715846994535519\n",
            "max_depth=1, min_samples_split=17, Accuracy=0.8715846994535519\n",
            "max_depth=1, min_samples_split=18, Accuracy=0.8715846994535519\n",
            "max_depth=1, min_samples_split=19, Accuracy=0.8715846994535519\n",
            "max_depth=1, min_samples_split=20, Accuracy=0.8715846994535519\n",
            "max_depth=1, min_samples_split=21, Accuracy=0.8715846994535519\n",
            "max_depth=1, min_samples_split=22, Accuracy=0.8715846994535519\n",
            "max_depth=1, min_samples_split=23, Accuracy=0.8715846994535519\n",
            "max_depth=1, min_samples_split=24, Accuracy=0.8715846994535519\n",
            "max_depth=1, min_samples_split=25, Accuracy=0.8715846994535519\n",
            "max_depth=1, min_samples_split=26, Accuracy=0.8715846994535519\n",
            "max_depth=1, min_samples_split=27, Accuracy=0.8715846994535519\n",
            "max_depth=1, min_samples_split=28, Accuracy=0.8715846994535519\n",
            "max_depth=1, min_samples_split=29, Accuracy=0.8715846994535519\n",
            "max_depth=1, min_samples_split=30, Accuracy=0.8715846994535519\n",
            "max_depth=1, min_samples_split=31, Accuracy=0.8715846994535519\n",
            "max_depth=1, min_samples_split=32, Accuracy=0.8715846994535519\n",
            "max_depth=1, min_samples_split=33, Accuracy=0.8715846994535519\n",
            "max_depth=1, min_samples_split=34, Accuracy=0.8715846994535519\n",
            "max_depth=1, min_samples_split=35, Accuracy=0.8715846994535519\n",
            "max_depth=1, min_samples_split=36, Accuracy=0.8715846994535519\n",
            "max_depth=1, min_samples_split=37, Accuracy=0.8715846994535519\n",
            "max_depth=1, min_samples_split=38, Accuracy=0.8715846994535519\n",
            "max_depth=1, min_samples_split=39, Accuracy=0.8715846994535519\n",
            "max_depth=1, min_samples_split=40, Accuracy=0.8715846994535519\n",
            "max_depth=1, min_samples_split=41, Accuracy=0.8715846994535519\n",
            "max_depth=1, min_samples_split=42, Accuracy=0.8715846994535519\n",
            "max_depth=1, min_samples_split=43, Accuracy=0.8715846994535519\n",
            "max_depth=1, min_samples_split=44, Accuracy=0.8715846994535519\n",
            "max_depth=1, min_samples_split=45, Accuracy=0.8715846994535519\n",
            "max_depth=1, min_samples_split=46, Accuracy=0.8715846994535519\n",
            "max_depth=1, min_samples_split=47, Accuracy=0.8715846994535519\n",
            "max_depth=1, min_samples_split=48, Accuracy=0.8715846994535519\n",
            "max_depth=1, min_samples_split=49, Accuracy=0.8715846994535519\n",
            "max_depth=1, min_samples_split=50, Accuracy=0.8715846994535519\n",
            "max_depth=2, min_samples_split=2, Accuracy=0.8715846994535519\n",
            "max_depth=2, min_samples_split=3, Accuracy=0.8715846994535519\n",
            "max_depth=2, min_samples_split=4, Accuracy=0.8715846994535519\n",
            "max_depth=2, min_samples_split=5, Accuracy=0.8715846994535519\n",
            "max_depth=2, min_samples_split=6, Accuracy=0.8715846994535519\n",
            "max_depth=2, min_samples_split=7, Accuracy=0.8715846994535519\n",
            "max_depth=2, min_samples_split=8, Accuracy=0.8715846994535519\n",
            "max_depth=2, min_samples_split=9, Accuracy=0.8715846994535519\n",
            "max_depth=2, min_samples_split=10, Accuracy=0.8715846994535519\n",
            "max_depth=2, min_samples_split=11, Accuracy=0.8715846994535519\n",
            "max_depth=2, min_samples_split=12, Accuracy=0.8715846994535519\n",
            "max_depth=2, min_samples_split=13, Accuracy=0.8715846994535519\n",
            "max_depth=2, min_samples_split=14, Accuracy=0.8715846994535519\n",
            "max_depth=2, min_samples_split=15, Accuracy=0.8715846994535519\n",
            "max_depth=2, min_samples_split=16, Accuracy=0.8715846994535519\n",
            "max_depth=2, min_samples_split=17, Accuracy=0.8715846994535519\n",
            "max_depth=2, min_samples_split=18, Accuracy=0.8715846994535519\n",
            "max_depth=2, min_samples_split=19, Accuracy=0.8715846994535519\n",
            "max_depth=2, min_samples_split=20, Accuracy=0.8715846994535519\n",
            "max_depth=2, min_samples_split=21, Accuracy=0.8715846994535519\n",
            "max_depth=2, min_samples_split=22, Accuracy=0.8715846994535519\n",
            "max_depth=2, min_samples_split=23, Accuracy=0.8715846994535519\n",
            "max_depth=2, min_samples_split=24, Accuracy=0.8715846994535519\n",
            "max_depth=2, min_samples_split=25, Accuracy=0.8715846994535519\n",
            "max_depth=2, min_samples_split=26, Accuracy=0.8715846994535519\n",
            "max_depth=2, min_samples_split=27, Accuracy=0.8715846994535519\n",
            "max_depth=2, min_samples_split=28, Accuracy=0.8715846994535519\n",
            "max_depth=2, min_samples_split=29, Accuracy=0.8715846994535519\n",
            "max_depth=2, min_samples_split=30, Accuracy=0.8715846994535519\n",
            "max_depth=2, min_samples_split=31, Accuracy=0.8715846994535519\n",
            "max_depth=2, min_samples_split=32, Accuracy=0.8715846994535519\n",
            "max_depth=2, min_samples_split=33, Accuracy=0.8715846994535519\n",
            "max_depth=2, min_samples_split=34, Accuracy=0.8715846994535519\n",
            "max_depth=2, min_samples_split=35, Accuracy=0.8715846994535519\n",
            "max_depth=2, min_samples_split=36, Accuracy=0.8715846994535519\n",
            "max_depth=2, min_samples_split=37, Accuracy=0.8715846994535519\n",
            "max_depth=2, min_samples_split=38, Accuracy=0.8715846994535519\n",
            "max_depth=2, min_samples_split=39, Accuracy=0.8715846994535519\n",
            "max_depth=2, min_samples_split=40, Accuracy=0.8715846994535519\n",
            "max_depth=2, min_samples_split=41, Accuracy=0.8715846994535519\n",
            "max_depth=2, min_samples_split=42, Accuracy=0.8715846994535519\n",
            "max_depth=2, min_samples_split=43, Accuracy=0.8715846994535519\n",
            "max_depth=2, min_samples_split=44, Accuracy=0.8715846994535519\n",
            "max_depth=2, min_samples_split=45, Accuracy=0.8715846994535519\n",
            "max_depth=2, min_samples_split=46, Accuracy=0.8715846994535519\n",
            "max_depth=2, min_samples_split=47, Accuracy=0.8715846994535519\n",
            "max_depth=2, min_samples_split=48, Accuracy=0.8715846994535519\n",
            "max_depth=2, min_samples_split=49, Accuracy=0.8715846994535519\n",
            "max_depth=2, min_samples_split=50, Accuracy=0.8715846994535519\n",
            "max_depth=3, min_samples_split=2, Accuracy=0.8633879781420765\n",
            "max_depth=3, min_samples_split=3, Accuracy=0.8633879781420765\n",
            "max_depth=3, min_samples_split=4, Accuracy=0.8633879781420765\n",
            "max_depth=3, min_samples_split=5, Accuracy=0.8633879781420765\n",
            "max_depth=3, min_samples_split=6, Accuracy=0.8633879781420765\n",
            "max_depth=3, min_samples_split=7, Accuracy=0.8633879781420765\n",
            "max_depth=3, min_samples_split=8, Accuracy=0.8633879781420765\n",
            "max_depth=3, min_samples_split=9, Accuracy=0.8661202185792349\n",
            "max_depth=3, min_samples_split=10, Accuracy=0.8661202185792349\n",
            "max_depth=3, min_samples_split=11, Accuracy=0.8661202185792349\n",
            "max_depth=3, min_samples_split=12, Accuracy=0.8661202185792349\n",
            "max_depth=3, min_samples_split=13, Accuracy=0.8661202185792349\n",
            "max_depth=3, min_samples_split=14, Accuracy=0.8661202185792349\n",
            "max_depth=3, min_samples_split=15, Accuracy=0.8661202185792349\n",
            "max_depth=3, min_samples_split=16, Accuracy=0.8661202185792349\n",
            "max_depth=3, min_samples_split=17, Accuracy=0.8661202185792349\n",
            "max_depth=3, min_samples_split=18, Accuracy=0.8661202185792349\n",
            "max_depth=3, min_samples_split=19, Accuracy=0.8661202185792349\n",
            "max_depth=3, min_samples_split=20, Accuracy=0.8661202185792349\n",
            "max_depth=3, min_samples_split=21, Accuracy=0.8661202185792349\n",
            "max_depth=3, min_samples_split=22, Accuracy=0.8661202185792349\n",
            "max_depth=3, min_samples_split=23, Accuracy=0.8661202185792349\n",
            "max_depth=3, min_samples_split=24, Accuracy=0.8661202185792349\n",
            "max_depth=3, min_samples_split=25, Accuracy=0.8661202185792349\n",
            "max_depth=3, min_samples_split=26, Accuracy=0.8661202185792349\n",
            "max_depth=3, min_samples_split=27, Accuracy=0.8661202185792349\n",
            "max_depth=3, min_samples_split=28, Accuracy=0.8661202185792349\n",
            "max_depth=3, min_samples_split=29, Accuracy=0.8661202185792349\n",
            "max_depth=3, min_samples_split=30, Accuracy=0.8661202185792349\n",
            "max_depth=3, min_samples_split=31, Accuracy=0.8661202185792349\n",
            "max_depth=3, min_samples_split=32, Accuracy=0.8661202185792349\n",
            "max_depth=3, min_samples_split=33, Accuracy=0.8661202185792349\n",
            "max_depth=3, min_samples_split=34, Accuracy=0.8661202185792349\n",
            "max_depth=3, min_samples_split=35, Accuracy=0.8661202185792349\n",
            "max_depth=3, min_samples_split=36, Accuracy=0.8661202185792349\n",
            "max_depth=3, min_samples_split=37, Accuracy=0.8661202185792349\n",
            "max_depth=3, min_samples_split=38, Accuracy=0.8661202185792349\n",
            "max_depth=3, min_samples_split=39, Accuracy=0.8661202185792349\n",
            "max_depth=3, min_samples_split=40, Accuracy=0.8661202185792349\n",
            "max_depth=3, min_samples_split=41, Accuracy=0.8661202185792349\n",
            "max_depth=3, min_samples_split=42, Accuracy=0.8661202185792349\n",
            "max_depth=3, min_samples_split=43, Accuracy=0.8661202185792349\n",
            "max_depth=3, min_samples_split=44, Accuracy=0.8661202185792349\n",
            "max_depth=3, min_samples_split=45, Accuracy=0.8661202185792349\n",
            "max_depth=3, min_samples_split=46, Accuracy=0.8661202185792349\n",
            "max_depth=3, min_samples_split=47, Accuracy=0.8661202185792349\n",
            "max_depth=3, min_samples_split=48, Accuracy=0.8661202185792349\n",
            "max_depth=3, min_samples_split=49, Accuracy=0.8661202185792349\n",
            "max_depth=3, min_samples_split=50, Accuracy=0.8661202185792349\n",
            "max_depth=4, min_samples_split=2, Accuracy=0.8579234972677595\n",
            "max_depth=4, min_samples_split=3, Accuracy=0.8579234972677595\n",
            "max_depth=4, min_samples_split=4, Accuracy=0.8579234972677595\n",
            "max_depth=4, min_samples_split=5, Accuracy=0.8579234972677595\n",
            "max_depth=4, min_samples_split=6, Accuracy=0.8579234972677595\n",
            "max_depth=4, min_samples_split=7, Accuracy=0.8579234972677595\n",
            "max_depth=4, min_samples_split=8, Accuracy=0.8579234972677595\n",
            "max_depth=4, min_samples_split=9, Accuracy=0.860655737704918\n",
            "max_depth=4, min_samples_split=10, Accuracy=0.8688524590163934\n",
            "max_depth=4, min_samples_split=11, Accuracy=0.8688524590163934\n",
            "max_depth=4, min_samples_split=12, Accuracy=0.8688524590163934\n",
            "max_depth=4, min_samples_split=13, Accuracy=0.8688524590163934\n",
            "max_depth=4, min_samples_split=14, Accuracy=0.8688524590163934\n",
            "max_depth=4, min_samples_split=15, Accuracy=0.8688524590163934\n",
            "max_depth=4, min_samples_split=16, Accuracy=0.8688524590163934\n",
            "max_depth=4, min_samples_split=17, Accuracy=0.8688524590163934\n",
            "max_depth=4, min_samples_split=18, Accuracy=0.8688524590163934\n",
            "max_depth=4, min_samples_split=19, Accuracy=0.8688524590163934\n",
            "max_depth=4, min_samples_split=20, Accuracy=0.8688524590163934\n",
            "max_depth=4, min_samples_split=21, Accuracy=0.8688524590163934\n",
            "max_depth=4, min_samples_split=22, Accuracy=0.8715846994535519\n",
            "max_depth=4, min_samples_split=23, Accuracy=0.8715846994535519\n",
            "max_depth=4, min_samples_split=24, Accuracy=0.8715846994535519\n",
            "max_depth=4, min_samples_split=25, Accuracy=0.8715846994535519\n",
            "max_depth=4, min_samples_split=26, Accuracy=0.8715846994535519\n",
            "max_depth=4, min_samples_split=27, Accuracy=0.8715846994535519\n",
            "max_depth=4, min_samples_split=28, Accuracy=0.8715846994535519\n",
            "max_depth=4, min_samples_split=29, Accuracy=0.8715846994535519\n",
            "max_depth=4, min_samples_split=30, Accuracy=0.8715846994535519\n",
            "max_depth=4, min_samples_split=31, Accuracy=0.8715846994535519\n",
            "max_depth=4, min_samples_split=32, Accuracy=0.8715846994535519\n",
            "max_depth=4, min_samples_split=33, Accuracy=0.8715846994535519\n",
            "max_depth=4, min_samples_split=34, Accuracy=0.8715846994535519\n",
            "max_depth=4, min_samples_split=35, Accuracy=0.8715846994535519\n",
            "max_depth=4, min_samples_split=36, Accuracy=0.8715846994535519\n",
            "max_depth=4, min_samples_split=37, Accuracy=0.8715846994535519\n",
            "max_depth=4, min_samples_split=38, Accuracy=0.8715846994535519\n",
            "max_depth=4, min_samples_split=39, Accuracy=0.8715846994535519\n",
            "max_depth=4, min_samples_split=40, Accuracy=0.8715846994535519\n",
            "max_depth=4, min_samples_split=41, Accuracy=0.8715846994535519\n",
            "max_depth=4, min_samples_split=42, Accuracy=0.8715846994535519\n",
            "max_depth=4, min_samples_split=43, Accuracy=0.8715846994535519\n",
            "max_depth=4, min_samples_split=44, Accuracy=0.8715846994535519\n",
            "max_depth=4, min_samples_split=45, Accuracy=0.8715846994535519\n",
            "max_depth=4, min_samples_split=46, Accuracy=0.8715846994535519\n",
            "max_depth=4, min_samples_split=47, Accuracy=0.8715846994535519\n",
            "max_depth=4, min_samples_split=48, Accuracy=0.8715846994535519\n",
            "max_depth=4, min_samples_split=49, Accuracy=0.8715846994535519\n",
            "max_depth=4, min_samples_split=50, Accuracy=0.8715846994535519\n",
            "max_depth=5, min_samples_split=2, Accuracy=0.8688524590163934\n",
            "max_depth=5, min_samples_split=3, Accuracy=0.8688524590163934\n",
            "max_depth=5, min_samples_split=4, Accuracy=0.8688524590163934\n",
            "max_depth=5, min_samples_split=5, Accuracy=0.8688524590163934\n",
            "max_depth=5, min_samples_split=6, Accuracy=0.8688524590163934\n",
            "max_depth=5, min_samples_split=7, Accuracy=0.8688524590163934\n",
            "max_depth=5, min_samples_split=8, Accuracy=0.8688524590163934\n",
            "max_depth=5, min_samples_split=9, Accuracy=0.8715846994535519\n",
            "max_depth=5, min_samples_split=10, Accuracy=0.8797814207650273\n",
            "max_depth=5, min_samples_split=11, Accuracy=0.8797814207650273\n",
            "max_depth=5, min_samples_split=12, Accuracy=0.8797814207650273\n",
            "max_depth=5, min_samples_split=13, Accuracy=0.8797814207650273\n",
            "max_depth=5, min_samples_split=14, Accuracy=0.8797814207650273\n",
            "max_depth=5, min_samples_split=15, Accuracy=0.8797814207650273\n",
            "max_depth=5, min_samples_split=16, Accuracy=0.8797814207650273\n",
            "max_depth=5, min_samples_split=17, Accuracy=0.8797814207650273\n",
            "max_depth=5, min_samples_split=18, Accuracy=0.8797814207650273\n",
            "max_depth=5, min_samples_split=19, Accuracy=0.8797814207650273\n",
            "max_depth=5, min_samples_split=20, Accuracy=0.8797814207650273\n",
            "max_depth=5, min_samples_split=21, Accuracy=0.8797814207650273\n",
            "max_depth=5, min_samples_split=22, Accuracy=0.8825136612021858\n",
            "max_depth=5, min_samples_split=23, Accuracy=0.8825136612021858\n",
            "max_depth=5, min_samples_split=24, Accuracy=0.8825136612021858\n",
            "max_depth=5, min_samples_split=25, Accuracy=0.8825136612021858\n",
            "max_depth=5, min_samples_split=26, Accuracy=0.8825136612021858\n",
            "max_depth=5, min_samples_split=27, Accuracy=0.8825136612021858\n",
            "max_depth=5, min_samples_split=28, Accuracy=0.8825136612021858\n",
            "max_depth=5, min_samples_split=29, Accuracy=0.8825136612021858\n",
            "max_depth=5, min_samples_split=30, Accuracy=0.8825136612021858\n",
            "max_depth=5, min_samples_split=31, Accuracy=0.8825136612021858\n",
            "max_depth=5, min_samples_split=32, Accuracy=0.8825136612021858\n",
            "max_depth=5, min_samples_split=33, Accuracy=0.8825136612021858\n",
            "max_depth=5, min_samples_split=34, Accuracy=0.8825136612021858\n",
            "max_depth=5, min_samples_split=35, Accuracy=0.8825136612021858\n",
            "max_depth=5, min_samples_split=36, Accuracy=0.8825136612021858\n",
            "max_depth=5, min_samples_split=37, Accuracy=0.8825136612021858\n",
            "max_depth=5, min_samples_split=38, Accuracy=0.8825136612021858\n",
            "max_depth=5, min_samples_split=39, Accuracy=0.8825136612021858\n",
            "max_depth=5, min_samples_split=40, Accuracy=0.8825136612021858\n",
            "max_depth=5, min_samples_split=41, Accuracy=0.8825136612021858\n",
            "max_depth=5, min_samples_split=42, Accuracy=0.8825136612021858\n",
            "max_depth=5, min_samples_split=43, Accuracy=0.8825136612021858\n",
            "max_depth=5, min_samples_split=44, Accuracy=0.8825136612021858\n",
            "max_depth=5, min_samples_split=45, Accuracy=0.8825136612021858\n",
            "max_depth=5, min_samples_split=46, Accuracy=0.8825136612021858\n",
            "max_depth=5, min_samples_split=47, Accuracy=0.8825136612021858\n",
            "max_depth=5, min_samples_split=48, Accuracy=0.8825136612021858\n",
            "max_depth=5, min_samples_split=49, Accuracy=0.8825136612021858\n",
            "max_depth=5, min_samples_split=50, Accuracy=0.8825136612021858\n"
          ]
        }
      ]
    },
    {
      "cell_type": "code",
      "source": [
        "max_scores2 = np.max(scores_acc2)\n",
        "print(\"Maximum Accuracy:\", max_scores2)"
      ],
      "metadata": {
        "id": "V9-EPd--LbTb",
        "colab": {
          "base_uri": "https://localhost:8080/"
        },
        "outputId": "ab40fd55-e025-4541-daef-99d67d775e02"
      },
      "execution_count": 34,
      "outputs": [
        {
          "output_type": "stream",
          "name": "stdout",
          "text": [
            "Maximum Accuracy: 0.8825136612021858\n"
          ]
        }
      ]
    },
    {
      "cell_type": "code",
      "source": [
        "#by ax_depth=5, min_samples_split=22, Accuracy=0.8825136612021858\n",
        "Dtree = DecisionTreeClassifier(random_state=0, max_depth=5 , min_samples_split=22)\n",
        "Dtree2 = Dtree.fit(X_train, Y_train)\n",
        "tree.plot_tree(Dtree2);"
      ],
      "metadata": {
        "id": "Tzu_TmYPNQcz",
        "colab": {
          "base_uri": "https://localhost:8080/",
          "height": 406
        },
        "outputId": "ebee331d-d62a-4ebe-c650-660d4902f78f"
      },
      "execution_count": 35,
      "outputs": [
        {
          "output_type": "display_data",
          "data": {
            "text/plain": [
              "<Figure size 640x480 with 1 Axes>"
            ],
            "image/png": "[encoded data removed]"
          },
          "metadata": {}
        }
      ]
    },
    {
      "cell_type": "markdown",
      "source": [
        "The accuaracy will increase. Therefore the best accuracy is 0.8825136612021858"
      ],
      "metadata": {
        "id": "M-uPH3HLMU3L"
      }
    },
    {
      "cell_type": "markdown",
      "source": [
        "# HW6 Build 5 Classification as folllows;\n",
        "\n",
        "- decision tree with 3 model\n",
        "- Naive bayes 1 Model\n",
        "- Unique Technique 1 Model\n"
      ],
      "metadata": {
        "id": "YgNppegHsqG5"
      }
    },
    {
      "cell_type": "markdown",
      "source": [
        "Use credit data"
      ],
      "metadata": {
        "id": "tMQFJ-JDvX6X"
      }
    },
    {
      "cell_type": "code",
      "source": [
        "credit"
      ],
      "metadata": {
        "colab": {
          "base_uri": "https://localhost:8080/",
          "height": 419
        },
        "id": "mZjhcfbMswgV",
        "outputId": "fa5573b0-1a4a-44de-ce2d-07ba41dc5339"
      },
      "execution_count": 36,
      "outputs": [
        {
          "output_type": "execute_result",
          "data": {
            "text/plain": [
              "         a3    a8  a9  a10  a11  a12  a13  a15  a16\n",
              "0     0.000  1.25   1    1    1    0    1    0    1\n",
              "1     4.460  3.04   1    1    6    0    1  560    1\n",
              "2     0.500  1.50   1    0    0    0    1  824    1\n",
              "3     1.540  3.75   1    1    5    1    1    3    1\n",
              "4     5.625  1.71   1    0    0    0    3    0    1\n",
              "..      ...   ...  ..  ...  ...  ...  ...  ...  ...\n",
              "685  10.085  1.25   0    0    0    0    1    0    0\n",
              "686   0.750  2.00   0    1    2    1    1  394    0\n",
              "687  13.500  2.00   0    1    1    1    1    1    0\n",
              "688   0.205  0.04   0    0    0    0    1  750    0\n",
              "689   3.375  8.29   0    0    0    1    1    0    0\n",
              "\n",
              "[690 rows x 9 columns]"
            ],
            "text/html": [
              "\n",
              "  <div id=\"df-e5c6d93e-b5a4-4a3e-9371-f1d57e271301\" class=\"colab-df-container\">\n",
              "    <div>\n",
              "<style scoped>\n",
              "    .dataframe tbody tr th:only-of-type {\n",
              "        vertical-align: middle;\n",
              "    }\n",
              "\n",
              "    .dataframe tbody tr th {\n",
              "        vertical-align: top;\n",
              "    }\n",
              "\n",
              "    .dataframe thead th {\n",
              "        text-align: right;\n",
              "    }\n",
              "</style>\n",
              "<table border=\"1\" class=\"dataframe\">\n",
              "  <thead>\n",
              "    <tr style=\"text-align: right;\">\n",
              "      <th></th>\n",
              "      <th>a3</th>\n",
              "      <th>a8</th>\n",
              "      <th>a9</th>\n",
              "      <th>a10</th>\n",
              "      <th>a11</th>\n",
              "      <th>a12</th>\n",
              "      <th>a13</th>\n",
              "      <th>a15</th>\n",
              "      <th>a16</th>\n",
              "    </tr>\n",
              "  </thead>\n",
              "  <tbody>\n",
              "    <tr>\n",
              "      <th>0</th>\n",
              "      <td>0.000</td>\n",
              "      <td>1.25</td>\n",
              "      <td>1</td>\n",
              "      <td>1</td>\n",
              "      <td>1</td>\n",
              "      <td>0</td>\n",
              "      <td>1</td>\n",
              "      <td>0</td>\n",
              "      <td>1</td>\n",
              "    </tr>\n",
              "    <tr>\n",
              "      <th>1</th>\n",
              "      <td>4.460</td>\n",
              "      <td>3.04</td>\n",
              "      <td>1</td>\n",
              "      <td>1</td>\n",
              "      <td>6</td>\n",
              "      <td>0</td>\n",
              "      <td>1</td>\n",
              "      <td>560</td>\n",
              "      <td>1</td>\n",
              "    </tr>\n",
              "    <tr>\n",
              "      <th>2</th>\n",
              "      <td>0.500</td>\n",
              "      <td>1.50</td>\n",
              "      <td>1</td>\n",
              "      <td>0</td>\n",
              "      <td>0</td>\n",
              "      <td>0</td>\n",
              "      <td>1</td>\n",
              "      <td>824</td>\n",
              "      <td>1</td>\n",
              "    </tr>\n",
              "    <tr>\n",
              "      <th>3</th>\n",
              "      <td>1.540</td>\n",
              "      <td>3.75</td>\n",
              "      <td>1</td>\n",
              "      <td>1</td>\n",
              "      <td>5</td>\n",
              "      <td>1</td>\n",
              "      <td>1</td>\n",
              "      <td>3</td>\n",
              "      <td>1</td>\n",
              "    </tr>\n",
              "    <tr>\n",
              "      <th>4</th>\n",
              "      <td>5.625</td>\n",
              "      <td>1.71</td>\n",
              "      <td>1</td>\n",
              "      <td>0</td>\n",
              "      <td>0</td>\n",
              "      <td>0</td>\n",
              "      <td>3</td>\n",
              "      <td>0</td>\n",
              "      <td>1</td>\n",
              "    </tr>\n",
              "    <tr>\n",
              "      <th>...</th>\n",
              "      <td>...</td>\n",
              "      <td>...</td>\n",
              "      <td>...</td>\n",
              "      <td>...</td>\n",
              "      <td>...</td>\n",
              "      <td>...</td>\n",
              "      <td>...</td>\n",
              "      <td>...</td>\n",
              "      <td>...</td>\n",
              "    </tr>\n",
              "    <tr>\n",
              "      <th>685</th>\n",
              "      <td>10.085</td>\n",
              "      <td>1.25</td>\n",
              "      <td>0</td>\n",
              "      <td>0</td>\n",
              "      <td>0</td>\n",
              "      <td>0</td>\n",
              "      <td>1</td>\n",
              "      <td>0</td>\n",
              "      <td>0</td>\n",
              "    </tr>\n",
              "    <tr>\n",
              "      <th>686</th>\n",
              "      <td>0.750</td>\n",
              "      <td>2.00</td>\n",
              "      <td>0</td>\n",
              "      <td>1</td>\n",
              "      <td>2</td>\n",
              "      <td>1</td>\n",
              "      <td>1</td>\n",
              "      <td>394</td>\n",
              "      <td>0</td>\n",
              "    </tr>\n",
              "    <tr>\n",
              "      <th>687</th>\n",
              "      <td>13.500</td>\n",
              "      <td>2.00</td>\n",
              "      <td>0</td>\n",
              "      <td>1</td>\n",
              "      <td>1</td>\n",
              "      <td>1</td>\n",
              "      <td>1</td>\n",
              "      <td>1</td>\n",
              "      <td>0</td>\n",
              "    </tr>\n",
              "    <tr>\n",
              "      <th>688</th>\n",
              "      <td>0.205</td>\n",
              "      <td>0.04</td>\n",
              "      <td>0</td>\n",
              "      <td>0</td>\n",
              "      <td>0</td>\n",
              "      <td>0</td>\n",
              "      <td>1</td>\n",
              "      <td>750</td>\n",
              "      <td>0</td>\n",
              "    </tr>\n",
              "    <tr>\n",
              "      <th>689</th>\n",
              "      <td>3.375</td>\n",
              "      <td>8.29</td>\n",
              "      <td>0</td>\n",
              "      <td>0</td>\n",
              "      <td>0</td>\n",
              "      <td>1</td>\n",
              "      <td>1</td>\n",
              "      <td>0</td>\n",
              "      <td>0</td>\n",
              "    </tr>\n",
              "  </tbody>\n",
              "</table>\n",
              "<p>690 rows × 9 columns</p>\n",
              "</div>\n",
              "    <div class=\"colab-df-buttons\">\n",
              "\n",
              "  <div class=\"colab-df-container\">\n",
              "    <button class=\"colab-df-convert\" onclick=\"convertToInteractive('df-e5c6d93e-b5a4-4a3e-9371-f1d57e271301')\"\n",
              "            title=\"Convert this dataframe to an interactive table.\"\n",
              "            style=\"display:none;\">\n",
              "\n",
              "  <svg xmlns=\"http://www.w3.org/2000/svg\" height=\"24px\" viewBox=\"0 -960 960 960\">\n",
              "    <path d=\"M120-120v-720h720v720H120Zm60-500h600v-160H180v160Zm220 220h160v-160H400v160Zm0 220h160v-160H400v160ZM180-400h160v-160H180v160Zm440 0h160v-160H620v160ZM180-180h160v-160H180v160Zm440 0h160v-160H620v160Z\"/>\n",
              "  </svg>\n",
              "    </button>\n",
              "\n",
              "  <style>\n",
              "    .colab-df-container {\n",
              "      display:flex;\n",
              "      gap: 12px;\n",
              "    }\n",
              "\n",
              "    .colab-df-convert {\n",
              "      background-color: #E8F0FE;\n",
              "      border: none;\n",
              "      border-radius: 50%;\n",
              "      cursor: pointer;\n",
              "      display: none;\n",
              "      fill: #1967D2;\n",
              "      height: 32px;\n",
              "      padding: 0 0 0 0;\n",
              "      width: 32px;\n",
              "    }\n",
              "\n",
              "    .colab-df-convert:hover {\n",
              "      background-color: #E2EBFA;\n",
              "      box-shadow: 0px 1px 2px rgba(60, 64, 67, 0.3), 0px 1px 3px 1px rgba(60, 64, 67, 0.15);\n",
              "      fill: #174EA6;\n",
              "    }\n",
              "\n",
              "    .colab-df-buttons div {\n",
              "      margin-bottom: 4px;\n",
              "    }\n",
              "\n",
              "    [theme=dark] .colab-df-convert {\n",
              "      background-color: #3B4455;\n",
              "      fill: #D2E3FC;\n",
              "    }\n",
              "\n",
              "    [theme=dark] .colab-df-convert:hover {\n",
              "      background-color: #434B5C;\n",
              "      box-shadow: 0px 1px 3px 1px rgba(0, 0, 0, 0.15);\n",
              "      filter: drop-shadow(0px 1px 2px rgba(0, 0, 0, 0.3));\n",
              "      fill: #FFFFFF;\n",
              "    }\n",
              "  </style>\n",
              "\n",
              "    <script>\n",
              "      const buttonEl =\n",
              "        document.querySelector('#df-e5c6d93e-b5a4-4a3e-9371-f1d57e271301 button.colab-df-convert');\n",
              "      buttonEl.style.display =\n",
              "        google.colab.kernel.accessAllowed ? 'block' : 'none';\n",
              "\n",
              "      async function convertToInteractive(key) {\n",
              "        const element = document.querySelector('#df-e5c6d93e-b5a4-4a3e-9371-f1d57e271301');\n",
              "        const dataTable =\n",
              "          await google.colab.kernel.invokeFunction('convertToInteractive',\n",
              "                                                    [key], {});\n",
              "        if (!dataTable) return;\n",
              "\n",
              "        const docLinkHtml = 'Like what you see? Visit the ' +\n",
              "          '<a target=\"_blank\" href=https://colab.research.google.com/notebooks/data_table.ipynb>data table notebook</a>'\n",
              "          + ' to learn more about interactive tables.';\n",
              "        element.innerHTML = '';\n",
              "        dataTable['output_type'] = 'display_data';\n",
              "        await google.colab.output.renderOutput(dataTable, element);\n",
              "        const docLink = document.createElement('div');\n",
              "        docLink.innerHTML = docLinkHtml;\n",
              "        element.appendChild(docLink);\n",
              "      }\n",
              "    </script>\n",
              "  </div>\n",
              "\n",
              "\n",
              "<div id=\"df-1e6a6e82-e28c-471e-885b-32bc778d5114\">\n",
              "  <button class=\"colab-df-quickchart\" onclick=\"quickchart('df-1e6a6e82-e28c-471e-885b-32bc778d5114')\"\n",
              "            title=\"Suggest charts.\"\n",
              "            style=\"display:none;\">\n",
              "\n",
              "<svg xmlns=\"http://www.w3.org/2000/svg\" height=\"24px\"viewBox=\"0 0 24 24\"\n",
              "     width=\"24px\">\n",
              "    <g>\n",
              "        <path d=\"M19 3H5c-1.1 0-2 .9-2 2v14c0 1.1.9 2 2 2h14c1.1 0 2-.9 2-2V5c0-1.1-.9-2-2-2zM9 17H7v-7h2v7zm4 0h-2V7h2v10zm4 0h-2v-4h2v4z\"/>\n",
              "    </g>\n",
              "</svg>\n",
              "  </button>\n",
              "\n",
              "<style>\n",
              "  .colab-df-quickchart {\n",
              "      --bg-color: #E8F0FE;\n",
              "      --fill-color: #1967D2;\n",
              "      --hover-bg-color: #E2EBFA;\n",
              "      --hover-fill-color: #174EA6;\n",
              "      --disabled-fill-color: #AAA;\n",
              "      --disabled-bg-color: #DDD;\n",
              "  }\n",
              "\n",
              "  [theme=dark] .colab-df-quickchart {\n",
              "      --bg-color: #3B4455;\n",
              "      --fill-color: #D2E3FC;\n",
              "      --hover-bg-color: #434B5C;\n",
              "      --hover-fill-color: #FFFFFF;\n",
              "      --disabled-bg-color: #3B4455;\n",
              "      --disabled-fill-color: #666;\n",
              "  }\n",
              "\n",
              "  .colab-df-quickchart {\n",
              "    background-color: var(--bg-color);\n",
              "    border: none;\n",
              "    border-radius: 50%;\n",
              "    cursor: pointer;\n",
              "    display: none;\n",
              "    fill: var(--fill-color);\n",
              "    height: 32px;\n",
              "    padding: 0;\n",
              "    width: 32px;\n",
              "  }\n",
              "\n",
              "  .colab-df-quickchart:hover {\n",
              "    background-color: var(--hover-bg-color);\n",
              "    box-shadow: 0 1px 2px rgba(60, 64, 67, 0.3), 0 1px 3px 1px rgba(60, 64, 67, 0.15);\n",
              "    fill: var(--button-hover-fill-color);\n",
              "  }\n",
              "\n",
              "  .colab-df-quickchart-complete:disabled,\n",
              "  .colab-df-quickchart-complete:disabled:hover {\n",
              "    background-color: var(--disabled-bg-color);\n",
              "    fill: var(--disabled-fill-color);\n",
              "    box-shadow: none;\n",
              "  }\n",
              "\n",
              "  .colab-df-spinner {\n",
              "    border: 2px solid var(--fill-color);\n",
              "    border-color: transparent;\n",
              "    border-bottom-color: var(--fill-color);\n",
              "    animation:\n",
              "      spin 1s steps(1) infinite;\n",
              "  }\n",
              "\n",
              "  @keyframes spin {\n",
              "    0% {\n",
              "      border-color: transparent;\n",
              "      border-bottom-color: var(--fill-color);\n",
              "      border-left-color: var(--fill-color);\n",
              "    }\n",
              "    20% {\n",
              "      border-color: transparent;\n",
              "      border-left-color: var(--fill-color);\n",
              "      border-top-color: var(--fill-color);\n",
              "    }\n",
              "    30% {\n",
              "      border-color: transparent;\n",
              "      border-left-color: var(--fill-color);\n",
              "      border-top-color: var(--fill-color);\n",
              "      border-right-color: var(--fill-color);\n",
              "    }\n",
              "    40% {\n",
              "      border-color: transparent;\n",
              "      border-right-color: var(--fill-color);\n",
              "      border-top-color: var(--fill-color);\n",
              "    }\n",
              "    60% {\n",
              "      border-color: transparent;\n",
              "      border-right-color: var(--fill-color);\n",
              "    }\n",
              "    80% {\n",
              "      border-color: transparent;\n",
              "      border-right-color: var(--fill-color);\n",
              "      border-bottom-color: var(--fill-color);\n",
              "    }\n",
              "    90% {\n",
              "      border-color: transparent;\n",
              "      border-bottom-color: var(--fill-color);\n",
              "    }\n",
              "  }\n",
              "</style>\n",
              "\n",
              "  <script>\n",
              "    async function quickchart(key) {\n",
              "      const quickchartButtonEl =\n",
              "        document.querySelector('#' + key + ' button');\n",
              "      quickchartButtonEl.disabled = true;  // To prevent multiple clicks.\n",
              "      quickchartButtonEl.classList.add('colab-df-spinner');\n",
              "      try {\n",
              "        const charts = await google.colab.kernel.invokeFunction(\n",
              "            'suggestCharts', [key], {});\n",
              "      } catch (error) {\n",
              "        console.error('Error during call to suggestCharts:', error);\n",
              "      }\n",
              "      quickchartButtonEl.classList.remove('colab-df-spinner');\n",
              "      quickchartButtonEl.classList.add('colab-df-quickchart-complete');\n",
              "    }\n",
              "    (() => {\n",
              "      let quickchartButtonEl =\n",
              "        document.querySelector('#df-1e6a6e82-e28c-471e-885b-32bc778d5114 button');\n",
              "      quickchartButtonEl.style.display =\n",
              "        google.colab.kernel.accessAllowed ? 'block' : 'none';\n",
              "    })();\n",
              "  </script>\n",
              "</div>\n",
              "    </div>\n",
              "  </div>\n"
            ]
          },
          "metadata": {},
          "execution_count": 36
        }
      ]
    },
    {
      "cell_type": "code",
      "source": [
        "np.random.seed(seed = 100) #set seed 100\n",
        "a = np.random.randint(2,size = len(credit),) #random number 0 and 1 ,size 690\n",
        "a"
      ],
      "metadata": {
        "colab": {
          "base_uri": "https://localhost:8080/"
        },
        "id": "n1-CKg43vgWy",
        "outputId": "8f5058ff-0e0b-4cff-dc7c-2165373c67d6"
      },
      "execution_count": 37,
      "outputs": [
        {
          "output_type": "execute_result",
          "data": {
            "text/plain": [
              "array([0, 0, 1, 1, 1, 1, 0, 0, 0, 0, 0, 1, 0, 0, 0, 0, 1, 0, 0, 1, 0, 1,\n",
              "       0, 0, 0, 1, 1, 1, 0, 0, 1, 0, 0, 1, 1, 1, 1, 1, 0, 0, 1, 1, 1, 1,\n",
              "       1, 1, 1, 1, 0, 1, 1, 1, 0, 0, 1, 1, 0, 1, 0, 1, 1, 1, 0, 0, 1, 0,\n",
              "       0, 1, 1, 1, 0, 0, 0, 0, 0, 0, 1, 0, 1, 0, 1, 0, 0, 1, 1, 0, 0, 0,\n",
              "       1, 1, 1, 1, 0, 0, 1, 1, 0, 0, 1, 0, 1, 0, 1, 0, 1, 0, 1, 0, 1, 1,\n",
              "       0, 0, 1, 0, 1, 1, 0, 0, 0, 0, 0, 0, 1, 0, 1, 1, 0, 1, 0, 0, 0, 0,\n",
              "       0, 0, 1, 0, 1, 1, 0, 0, 0, 0, 1, 1, 1, 1, 0, 0, 1, 1, 0, 0, 1, 0,\n",
              "       0, 0, 0, 1, 1, 0, 1, 0, 1, 0, 1, 0, 1, 1, 1, 1, 1, 1, 1, 1, 0, 0,\n",
              "       0, 0, 1, 0, 1, 0, 1, 0, 0, 0, 1, 0, 0, 0, 1, 0, 1, 1, 0, 0, 1, 1,\n",
              "       1, 0, 1, 0, 0, 0, 0, 0, 1, 1, 0, 0, 1, 0, 0, 0, 1, 0, 1, 0, 1, 1,\n",
              "       0, 0, 0, 1, 0, 0, 0, 0, 1, 0, 0, 1, 1, 0, 1, 1, 1, 0, 0, 1, 0, 0,\n",
              "       1, 0, 1, 0, 1, 0, 0, 1, 0, 1, 1, 1, 1, 0, 1, 0, 0, 1, 1, 0, 0, 0,\n",
              "       0, 1, 1, 1, 1, 0, 0, 1, 0, 1, 1, 1, 0, 1, 0, 1, 0, 1, 0, 1, 1, 0,\n",
              "       0, 0, 1, 0, 0, 1, 0, 0, 1, 1, 1, 0, 0, 1, 1, 0, 0, 1, 0, 0, 1, 0,\n",
              "       1, 1, 1, 1, 0, 1, 0, 1, 1, 1, 0, 1, 1, 0, 1, 0, 0, 1, 1, 1, 0, 0,\n",
              "       1, 0, 0, 1, 1, 1, 1, 1, 0, 0, 1, 0, 1, 0, 0, 0, 0, 0, 1, 1, 1, 0,\n",
              "       0, 0, 0, 1, 0, 0, 1, 0, 1, 1, 0, 1, 0, 0, 1, 0, 1, 1, 0, 0, 0, 1,\n",
              "       1, 0, 1, 1, 0, 1, 0, 1, 0, 0, 1, 1, 0, 1, 0, 1, 1, 0, 1, 0, 0, 0,\n",
              "       1, 1, 1, 1, 0, 1, 0, 1, 0, 0, 0, 1, 1, 1, 1, 1, 0, 1, 0, 0, 0, 1,\n",
              "       0, 1, 0, 1, 1, 1, 1, 1, 0, 1, 0, 1, 0, 1, 1, 0, 0, 0, 0, 1, 1, 0,\n",
              "       0, 0, 1, 0, 1, 1, 1, 0, 0, 0, 1, 0, 0, 1, 0, 1, 1, 1, 0, 1, 1, 0,\n",
              "       0, 0, 0, 0, 1, 0, 1, 0, 1, 0, 0, 1, 1, 1, 1, 1, 0, 1, 1, 0, 0, 1,\n",
              "       1, 1, 0, 1, 1, 0, 1, 0, 0, 0, 1, 1, 1, 1, 0, 1, 1, 0, 1, 0, 0, 1,\n",
              "       0, 1, 1, 1, 0, 1, 1, 1, 0, 1, 1, 0, 0, 1, 0, 1, 1, 0, 0, 0, 0, 1,\n",
              "       0, 1, 1, 1, 1, 0, 0, 1, 0, 0, 0, 0, 1, 1, 0, 0, 1, 0, 0, 1, 0, 1,\n",
              "       1, 1, 0, 0, 1, 0, 1, 0, 1, 0, 1, 0, 1, 1, 0, 0, 0, 0, 0, 1, 1, 0,\n",
              "       1, 0, 0, 0, 0, 0, 0, 1, 1, 1, 1, 0, 0, 0, 1, 1, 1, 1, 1, 0, 0, 0,\n",
              "       1, 0, 0, 1, 0, 1, 0, 0, 1, 1, 1, 1, 0, 1, 1, 0, 1, 0, 1, 1, 1, 0,\n",
              "       0, 0, 1, 1, 0, 1, 0, 1, 1, 1, 1, 0, 1, 0, 0, 0, 1, 1, 0, 0, 1, 1,\n",
              "       1, 0, 1, 1, 0, 0, 1, 1, 0, 0, 0, 1, 1, 1, 0, 0, 1, 1, 0, 0, 1, 1,\n",
              "       0, 0, 1, 0, 1, 0, 0, 0, 1, 1, 1, 1, 1, 1, 0, 0, 0, 0, 0, 0, 0, 0,\n",
              "       0, 1, 1, 1, 1, 1, 1, 0])"
            ]
          },
          "metadata": {},
          "execution_count": 37
        }
      ]
    },
    {
      "cell_type": "code",
      "source": [
        "Train = credit[a==1] #let a = 1 is train\n",
        "Train.shape"
      ],
      "metadata": {
        "colab": {
          "base_uri": "https://localhost:8080/"
        },
        "id": "I9mrIh52vvdo",
        "outputId": "52f85d92-5304-4807-ad81-7cc5789fe945"
      },
      "execution_count": 38,
      "outputs": [
        {
          "output_type": "execute_result",
          "data": {
            "text/plain": [
              "(343, 9)"
            ]
          },
          "metadata": {},
          "execution_count": 38
        }
      ]
    },
    {
      "cell_type": "code",
      "source": [
        "Test = credit[a==0] #let a = 0 is test\n",
        "Test.shape"
      ],
      "metadata": {
        "colab": {
          "base_uri": "https://localhost:8080/"
        },
        "id": "-WwUvXcvw3IX",
        "outputId": "75c8e6f5-e3f3-4172-b856-1aefea0b61e7"
      },
      "execution_count": 39,
      "outputs": [
        {
          "output_type": "execute_result",
          "data": {
            "text/plain": [
              "(347, 9)"
            ]
          },
          "metadata": {},
          "execution_count": 39
        }
      ]
    },
    {
      "cell_type": "markdown",
      "source": [
        "Let Train and Test"
      ],
      "metadata": {
        "id": "gEU9tS3QLHte"
      }
    },
    {
      "cell_type": "code",
      "source": [
        "X_Train = Train.iloc[:,:-1] #Let train\n",
        "Y_Train = Train.iloc[:,-1]\n",
        "X_Test = Test.iloc[:,:-1] #Let test\n",
        "Y_Test = Test.iloc[:,-1]"
      ],
      "metadata": {
        "id": "xGgKFgplw9fc"
      },
      "execution_count": 40,
      "outputs": []
    },
    {
      "cell_type": "markdown",
      "source": [
        "train -> train, Validation"
      ],
      "metadata": {
        "id": "jRYQp8jsMmJh"
      }
    },
    {
      "cell_type": "code",
      "source": [
        "from sklearn.model_selection import train_test_split\n",
        "X_Traintrain, X_Val, Y_Traintrain, Y_Val = train_test_split(X_Train, Y_Train, test_size=0.20, random_state=6)"
      ],
      "metadata": {
        "id": "sAgILnl5LutY"
      },
      "execution_count": 41,
      "outputs": []
    },
    {
      "cell_type": "markdown",
      "source": [
        "##Decision Tree"
      ],
      "metadata": {
        "id": "Vw8U9ic5LXmo"
      }
    },
    {
      "cell_type": "markdown",
      "source": [
        "Import"
      ],
      "metadata": {
        "id": "8nn-SoepMHsX"
      }
    },
    {
      "cell_type": "code",
      "source": [
        "from sklearn.tree import DecisionTreeClassifier\n",
        "from sklearn import tree\n",
        "from sklearn.metrics import accuracy_score"
      ],
      "metadata": {
        "id": "ZU4Cxh_vK4xG"
      },
      "execution_count": 42,
      "outputs": []
    },
    {
      "cell_type": "markdown",
      "source": [
        "### Model 1\n"
      ],
      "metadata": {
        "id": "hufemfXmLlFs"
      }
    },
    {
      "cell_type": "markdown",
      "source": [
        "Define"
      ],
      "metadata": {
        "id": "YJAR5lm5MgkY"
      }
    },
    {
      "cell_type": "code",
      "source": [
        "Dtree1 = DecisionTreeClassifier(random_state = 0)\n",
        "Dtree1"
      ],
      "metadata": {
        "colab": {
          "base_uri": "https://localhost:8080/",
          "height": 74
        },
        "id": "IUA5TT2CMLr8",
        "outputId": "5dcaaa45-bb3f-4abd-9a3d-edbaac8483d3"
      },
      "execution_count": 43,
      "outputs": [
        {
          "output_type": "execute_result",
          "data": {
            "text/plain": [
              "DecisionTreeClassifier(random_state=0)"
            ],
            "text/html": [
              "<style>#sk-container-id-3 {color: black;background-color: white;}#sk-container-id-3 pre{padding: 0;}#sk-container-id-3 div.sk-toggleable {background-color: white;}#sk-container-id-3 label.sk-toggleable__label {cursor: pointer;display: block;width: 100%;margin-bottom: 0;padding: 0.3em;box-sizing: border-box;text-align: center;}#sk-container-id-3 label.sk-toggleable__label-arrow:before {content: \"▸\";float: left;margin-right: 0.25em;color: #696969;}#sk-container-id-3 label.sk-toggleable__label-arrow:hover:before {color: black;}#sk-container-id-3 div.sk-estimator:hover label.sk-toggleable__label-arrow:before {color: black;}#sk-container-id-3 div.sk-toggleable__content {max-height: 0;max-width: 0;overflow: hidden;text-align: left;background-color: #f0f8ff;}#sk-container-id-3 div.sk-toggleable__content pre {margin: 0.2em;color: black;border-radius: 0.25em;background-color: #f0f8ff;}#sk-container-id-3 input.sk-toggleable__control:checked~div.sk-toggleable__content {max-height: 200px;max-width: 100%;overflow: auto;}#sk-container-id-3 input.sk-toggleable__control:checked~label.sk-toggleable__label-arrow:before {content: \"▾\";}#sk-container-id-3 div.sk-estimator input.sk-toggleable__control:checked~label.sk-toggleable__label {background-color: #d4ebff;}#sk-container-id-3 div.sk-label input.sk-toggleable__control:checked~label.sk-toggleable__label {background-color: #d4ebff;}#sk-container-id-3 input.sk-hidden--visually {border: 0;clip: rect(1px 1px 1px 1px);clip: rect(1px, 1px, 1px, 1px);height: 1px;margin: -1px;overflow: hidden;padding: 0;position: absolute;width: 1px;}#sk-container-id-3 div.sk-estimator {font-family: monospace;background-color: #f0f8ff;border: 1px dotted black;border-radius: 0.25em;box-sizing: border-box;margin-bottom: 0.5em;}#sk-container-id-3 div.sk-estimator:hover {background-color: #d4ebff;}#sk-container-id-3 div.sk-parallel-item::after {content: \"\";width: 100%;border-bottom: 1px solid gray;flex-grow: 1;}#sk-container-id-3 div.sk-label:hover label.sk-toggleable__label {background-color: #d4ebff;}#sk-container-id-3 div.sk-serial::before {content: \"\";position: absolute;border-left: 1px solid gray;box-sizing: border-box;top: 0;bottom: 0;left: 50%;z-index: 0;}#sk-container-id-3 div.sk-serial {display: flex;flex-direction: column;align-items: center;background-color: white;padding-right: 0.2em;padding-left: 0.2em;position: relative;}#sk-container-id-3 div.sk-item {position: relative;z-index: 1;}#sk-container-id-3 div.sk-parallel {display: flex;align-items: stretch;justify-content: center;background-color: white;position: relative;}#sk-container-id-3 div.sk-item::before, #sk-container-id-3 div.sk-parallel-item::before {content: \"\";position: absolute;border-left: 1px solid gray;box-sizing: border-box;top: 0;bottom: 0;left: 50%;z-index: -1;}#sk-container-id-3 div.sk-parallel-item {display: flex;flex-direction: column;z-index: 1;position: relative;background-color: white;}#sk-container-id-3 div.sk-parallel-item:first-child::after {align-self: flex-end;width: 50%;}#sk-container-id-3 div.sk-parallel-item:last-child::after {align-self: flex-start;width: 50%;}#sk-container-id-3 div.sk-parallel-item:only-child::after {width: 0;}#sk-container-id-3 div.sk-dashed-wrapped {border: 1px dashed gray;margin: 0 0.4em 0.5em 0.4em;box-sizing: border-box;padding-bottom: 0.4em;background-color: white;}#sk-container-id-3 div.sk-label label {font-family: monospace;font-weight: bold;display: inline-block;line-height: 1.2em;}#sk-container-id-3 div.sk-label-container {text-align: center;}#sk-container-id-3 div.sk-container {/* jupyter's `normalize.less` sets `[hidden] { display: none; }` but bootstrap.min.css set `[hidden] { display: none !important; }` so we also need the `!important` here to be able to override the default hidden behavior on the sphinx rendered scikit-learn.org. See: https://github.com/scikit-learn/scikit-learn/issues/21755 */display: inline-block !important;position: relative;}#sk-container-id-3 div.sk-text-repr-fallback {display: none;}</style><div id=\"sk-container-id-3\" class=\"sk-top-container\"><div class=\"sk-text-repr-fallback\"><pre>DecisionTreeClassifier(random_state=0)</pre><b>In a Jupyter environment, please rerun this cell to show the HTML representation or trust the notebook. <br />On GitHub, the HTML representation is unable to render, please try loading this page with nbviewer.org.</b></div><div class=\"sk-container\" hidden><div class=\"sk-item\"><div class=\"sk-estimator sk-toggleable\"><input class=\"sk-toggleable__control sk-hidden--visually\" id=\"sk-estimator-id-3\" type=\"checkbox\" checked><label for=\"sk-estimator-id-3\" class=\"sk-toggleable__label sk-toggleable__label-arrow\">DecisionTreeClassifier</label><div class=\"sk-toggleable__content\"><pre>DecisionTreeClassifier(random_state=0)</pre></div></div></div></div></div>"
            ]
          },
          "metadata": {},
          "execution_count": 43
        }
      ]
    },
    {
      "cell_type": "markdown",
      "source": [
        "Train"
      ],
      "metadata": {
        "id": "Ri48cyXLM_yz"
      }
    },
    {
      "cell_type": "code",
      "source": [
        "Dtree1 = Dtree1.fit(X_Traintrain,Y_Traintrain)\n",
        "Dtree1"
      ],
      "metadata": {
        "colab": {
          "base_uri": "https://localhost:8080/",
          "height": 74
        },
        "id": "vujopa6BM_LQ",
        "outputId": "c78f0f1b-0d59-4924-97a2-f289bd2a963a"
      },
      "execution_count": 44,
      "outputs": [
        {
          "output_type": "execute_result",
          "data": {
            "text/plain": [
              "DecisionTreeClassifier(random_state=0)"
            ],
            "text/html": [
              "<style>#sk-container-id-4 {color: black;background-color: white;}#sk-container-id-4 pre{padding: 0;}#sk-container-id-4 div.sk-toggleable {background-color: white;}#sk-container-id-4 label.sk-toggleable__label {cursor: pointer;display: block;width: 100%;margin-bottom: 0;padding: 0.3em;box-sizing: border-box;text-align: center;}#sk-container-id-4 label.sk-toggleable__label-arrow:before {content: \"▸\";float: left;margin-right: 0.25em;color: #696969;}#sk-container-id-4 label.sk-toggleable__label-arrow:hover:before {color: black;}#sk-container-id-4 div.sk-estimator:hover label.sk-toggleable__label-arrow:before {color: black;}#sk-container-id-4 div.sk-toggleable__content {max-height: 0;max-width: 0;overflow: hidden;text-align: left;background-color: #f0f8ff;}#sk-container-id-4 div.sk-toggleable__content pre {margin: 0.2em;color: black;border-radius: 0.25em;background-color: #f0f8ff;}#sk-container-id-4 input.sk-toggleable__control:checked~div.sk-toggleable__content {max-height: 200px;max-width: 100%;overflow: auto;}#sk-container-id-4 input.sk-toggleable__control:checked~label.sk-toggleable__label-arrow:before {content: \"▾\";}#sk-container-id-4 div.sk-estimator input.sk-toggleable__control:checked~label.sk-toggleable__label {background-color: #d4ebff;}#sk-container-id-4 div.sk-label input.sk-toggleable__control:checked~label.sk-toggleable__label {background-color: #d4ebff;}#sk-container-id-4 input.sk-hidden--visually {border: 0;clip: rect(1px 1px 1px 1px);clip: rect(1px, 1px, 1px, 1px);height: 1px;margin: -1px;overflow: hidden;padding: 0;position: absolute;width: 1px;}#sk-container-id-4 div.sk-estimator {font-family: monospace;background-color: #f0f8ff;border: 1px dotted black;border-radius: 0.25em;box-sizing: border-box;margin-bottom: 0.5em;}#sk-container-id-4 div.sk-estimator:hover {background-color: #d4ebff;}#sk-container-id-4 div.sk-parallel-item::after {content: \"\";width: 100%;border-bottom: 1px solid gray;flex-grow: 1;}#sk-container-id-4 div.sk-label:hover label.sk-toggleable__label {background-color: #d4ebff;}#sk-container-id-4 div.sk-serial::before {content: \"\";position: absolute;border-left: 1px solid gray;box-sizing: border-box;top: 0;bottom: 0;left: 50%;z-index: 0;}#sk-container-id-4 div.sk-serial {display: flex;flex-direction: column;align-items: center;background-color: white;padding-right: 0.2em;padding-left: 0.2em;position: relative;}#sk-container-id-4 div.sk-item {position: relative;z-index: 1;}#sk-container-id-4 div.sk-parallel {display: flex;align-items: stretch;justify-content: center;background-color: white;position: relative;}#sk-container-id-4 div.sk-item::before, #sk-container-id-4 div.sk-parallel-item::before {content: \"\";position: absolute;border-left: 1px solid gray;box-sizing: border-box;top: 0;bottom: 0;left: 50%;z-index: -1;}#sk-container-id-4 div.sk-parallel-item {display: flex;flex-direction: column;z-index: 1;position: relative;background-color: white;}#sk-container-id-4 div.sk-parallel-item:first-child::after {align-self: flex-end;width: 50%;}#sk-container-id-4 div.sk-parallel-item:last-child::after {align-self: flex-start;width: 50%;}#sk-container-id-4 div.sk-parallel-item:only-child::after {width: 0;}#sk-container-id-4 div.sk-dashed-wrapped {border: 1px dashed gray;margin: 0 0.4em 0.5em 0.4em;box-sizing: border-box;padding-bottom: 0.4em;background-color: white;}#sk-container-id-4 div.sk-label label {font-family: monospace;font-weight: bold;display: inline-block;line-height: 1.2em;}#sk-container-id-4 div.sk-label-container {text-align: center;}#sk-container-id-4 div.sk-container {/* jupyter's `normalize.less` sets `[hidden] { display: none; }` but bootstrap.min.css set `[hidden] { display: none !important; }` so we also need the `!important` here to be able to override the default hidden behavior on the sphinx rendered scikit-learn.org. See: https://github.com/scikit-learn/scikit-learn/issues/21755 */display: inline-block !important;position: relative;}#sk-container-id-4 div.sk-text-repr-fallback {display: none;}</style><div id=\"sk-container-id-4\" class=\"sk-top-container\"><div class=\"sk-text-repr-fallback\"><pre>DecisionTreeClassifier(random_state=0)</pre><b>In a Jupyter environment, please rerun this cell to show the HTML representation or trust the notebook. <br />On GitHub, the HTML representation is unable to render, please try loading this page with nbviewer.org.</b></div><div class=\"sk-container\" hidden><div class=\"sk-item\"><div class=\"sk-estimator sk-toggleable\"><input class=\"sk-toggleable__control sk-hidden--visually\" id=\"sk-estimator-id-4\" type=\"checkbox\" checked><label for=\"sk-estimator-id-4\" class=\"sk-toggleable__label sk-toggleable__label-arrow\">DecisionTreeClassifier</label><div class=\"sk-toggleable__content\"><pre>DecisionTreeClassifier(random_state=0)</pre></div></div></div></div></div>"
            ]
          },
          "metadata": {},
          "execution_count": 44
        }
      ]
    },
    {
      "cell_type": "code",
      "source": [
        "tree.plot_tree(Dtree1);"
      ],
      "metadata": {
        "colab": {
          "base_uri": "https://localhost:8080/",
          "height": 406
        },
        "id": "zrGepKhKMvhP",
        "outputId": "a6795cbf-06ff-47b7-d9d3-eec1277cc71f"
      },
      "execution_count": 45,
      "outputs": [
        {
          "output_type": "display_data",
          "data": {
            "text/plain": [
              "<Figure size 640x480 with 1 Axes>"
            ],
            "image/png": "[encoded data removed]"
          },
          "metadata": {}
        }
      ]
    },
    {
      "cell_type": "markdown",
      "source": [
        "Test"
      ],
      "metadata": {
        "id": "r1eTaqhyOfXX"
      }
    },
    {
      "cell_type": "code",
      "source": [
        "Y_predic1 = Dtree1.predict(X_Val)\n",
        "accuracy_score(Y_Val, Y_predic1)"
      ],
      "metadata": {
        "colab": {
          "base_uri": "https://localhost:8080/"
        },
        "id": "eO5wo33HNkoW",
        "outputId": "f79a158b-66aa-474e-e507-9f184b9f3a7e"
      },
      "execution_count": 46,
      "outputs": [
        {
          "output_type": "execute_result",
          "data": {
            "text/plain": [
              "0.7971014492753623"
            ]
          },
          "metadata": {},
          "execution_count": 46
        }
      ]
    },
    {
      "cell_type": "markdown",
      "source": [
        "###Model 2\n"
      ],
      "metadata": {
        "id": "eX_Fu9LSQXJP"
      }
    },
    {
      "cell_type": "markdown",
      "source": [
        "Define"
      ],
      "metadata": {
        "id": "ArTeBoPKaTGE"
      }
    },
    {
      "cell_type": "code",
      "source": [
        "Dtree2 = DecisionTreeClassifier(random_state = 0 , max_depth = 4)\n",
        "Dtree2"
      ],
      "metadata": {
        "colab": {
          "base_uri": "https://localhost:8080/",
          "height": 74
        },
        "id": "jlU3yCmwO0jY",
        "outputId": "7061e3d7-7868-4c5c-c2be-a80287668655"
      },
      "execution_count": 47,
      "outputs": [
        {
          "output_type": "execute_result",
          "data": {
            "text/plain": [
              "DecisionTreeClassifier(max_depth=4, random_state=0)"
            ],
            "text/html": [
              "<style>#sk-container-id-5 {color: black;background-color: white;}#sk-container-id-5 pre{padding: 0;}#sk-container-id-5 div.sk-toggleable {background-color: white;}#sk-container-id-5 label.sk-toggleable__label {cursor: pointer;display: block;width: 100%;margin-bottom: 0;padding: 0.3em;box-sizing: border-box;text-align: center;}#sk-container-id-5 label.sk-toggleable__label-arrow:before {content: \"▸\";float: left;margin-right: 0.25em;color: #696969;}#sk-container-id-5 label.sk-toggleable__label-arrow:hover:before {color: black;}#sk-container-id-5 div.sk-estimator:hover label.sk-toggleable__label-arrow:before {color: black;}#sk-container-id-5 div.sk-toggleable__content {max-height: 0;max-width: 0;overflow: hidden;text-align: left;background-color: #f0f8ff;}#sk-container-id-5 div.sk-toggleable__content pre {margin: 0.2em;color: black;border-radius: 0.25em;background-color: #f0f8ff;}#sk-container-id-5 input.sk-toggleable__control:checked~div.sk-toggleable__content {max-height: 200px;max-width: 100%;overflow: auto;}#sk-container-id-5 input.sk-toggleable__control:checked~label.sk-toggleable__label-arrow:before {content: \"▾\";}#sk-container-id-5 div.sk-estimator input.sk-toggleable__control:checked~label.sk-toggleable__label {background-color: #d4ebff;}#sk-container-id-5 div.sk-label input.sk-toggleable__control:checked~label.sk-toggleable__label {background-color: #d4ebff;}#sk-container-id-5 input.sk-hidden--visually {border: 0;clip: rect(1px 1px 1px 1px);clip: rect(1px, 1px, 1px, 1px);height: 1px;margin: -1px;overflow: hidden;padding: 0;position: absolute;width: 1px;}#sk-container-id-5 div.sk-estimator {font-family: monospace;background-color: #f0f8ff;border: 1px dotted black;border-radius: 0.25em;box-sizing: border-box;margin-bottom: 0.5em;}#sk-container-id-5 div.sk-estimator:hover {background-color: #d4ebff;}#sk-container-id-5 div.sk-parallel-item::after {content: \"\";width: 100%;border-bottom: 1px solid gray;flex-grow: 1;}#sk-container-id-5 div.sk-label:hover label.sk-toggleable__label {background-color: #d4ebff;}#sk-container-id-5 div.sk-serial::before {content: \"\";position: absolute;border-left: 1px solid gray;box-sizing: border-box;top: 0;bottom: 0;left: 50%;z-index: 0;}#sk-container-id-5 div.sk-serial {display: flex;flex-direction: column;align-items: center;background-color: white;padding-right: 0.2em;padding-left: 0.2em;position: relative;}#sk-container-id-5 div.sk-item {position: relative;z-index: 1;}#sk-container-id-5 div.sk-parallel {display: flex;align-items: stretch;justify-content: center;background-color: white;position: relative;}#sk-container-id-5 div.sk-item::before, #sk-container-id-5 div.sk-parallel-item::before {content: \"\";position: absolute;border-left: 1px solid gray;box-sizing: border-box;top: 0;bottom: 0;left: 50%;z-index: -1;}#sk-container-id-5 div.sk-parallel-item {display: flex;flex-direction: column;z-index: 1;position: relative;background-color: white;}#sk-container-id-5 div.sk-parallel-item:first-child::after {align-self: flex-end;width: 50%;}#sk-container-id-5 div.sk-parallel-item:last-child::after {align-self: flex-start;width: 50%;}#sk-container-id-5 div.sk-parallel-item:only-child::after {width: 0;}#sk-container-id-5 div.sk-dashed-wrapped {border: 1px dashed gray;margin: 0 0.4em 0.5em 0.4em;box-sizing: border-box;padding-bottom: 0.4em;background-color: white;}#sk-container-id-5 div.sk-label label {font-family: monospace;font-weight: bold;display: inline-block;line-height: 1.2em;}#sk-container-id-5 div.sk-label-container {text-align: center;}#sk-container-id-5 div.sk-container {/* jupyter's `normalize.less` sets `[hidden] { display: none; }` but bootstrap.min.css set `[hidden] { display: none !important; }` so we also need the `!important` here to be able to override the default hidden behavior on the sphinx rendered scikit-learn.org. See: https://github.com/scikit-learn/scikit-learn/issues/21755 */display: inline-block !important;position: relative;}#sk-container-id-5 div.sk-text-repr-fallback {display: none;}</style><div id=\"sk-container-id-5\" class=\"sk-top-container\"><div class=\"sk-text-repr-fallback\"><pre>DecisionTreeClassifier(max_depth=4, random_state=0)</pre><b>In a Jupyter environment, please rerun this cell to show the HTML representation or trust the notebook. <br />On GitHub, the HTML representation is unable to render, please try loading this page with nbviewer.org.</b></div><div class=\"sk-container\" hidden><div class=\"sk-item\"><div class=\"sk-estimator sk-toggleable\"><input class=\"sk-toggleable__control sk-hidden--visually\" id=\"sk-estimator-id-5\" type=\"checkbox\" checked><label for=\"sk-estimator-id-5\" class=\"sk-toggleable__label sk-toggleable__label-arrow\">DecisionTreeClassifier</label><div class=\"sk-toggleable__content\"><pre>DecisionTreeClassifier(max_depth=4, random_state=0)</pre></div></div></div></div></div>"
            ]
          },
          "metadata": {},
          "execution_count": 47
        }
      ]
    },
    {
      "cell_type": "markdown",
      "source": [
        "Train"
      ],
      "metadata": {
        "id": "aEH3ptoxZWcD"
      }
    },
    {
      "cell_type": "code",
      "source": [
        "Dtree2 = Dtree2.fit(X_Traintrain,Y_Traintrain)\n",
        "Dtree2"
      ],
      "metadata": {
        "colab": {
          "base_uri": "https://localhost:8080/",
          "height": 74
        },
        "id": "skdf5D4_ZKdt",
        "outputId": "b78df4c5-aa18-45ea-f7d1-39473c1814db"
      },
      "execution_count": 48,
      "outputs": [
        {
          "output_type": "execute_result",
          "data": {
            "text/plain": [
              "DecisionTreeClassifier(max_depth=4, random_state=0)"
            ],
            "text/html": [
              "<style>#sk-container-id-6 {color: black;background-color: white;}#sk-container-id-6 pre{padding: 0;}#sk-container-id-6 div.sk-toggleable {background-color: white;}#sk-container-id-6 label.sk-toggleable__label {cursor: pointer;display: block;width: 100%;margin-bottom: 0;padding: 0.3em;box-sizing: border-box;text-align: center;}#sk-container-id-6 label.sk-toggleable__label-arrow:before {content: \"▸\";float: left;margin-right: 0.25em;color: #696969;}#sk-container-id-6 label.sk-toggleable__label-arrow:hover:before {color: black;}#sk-container-id-6 div.sk-estimator:hover label.sk-toggleable__label-arrow:before {color: black;}#sk-container-id-6 div.sk-toggleable__content {max-height: 0;max-width: 0;overflow: hidden;text-align: left;background-color: #f0f8ff;}#sk-container-id-6 div.sk-toggleable__content pre {margin: 0.2em;color: black;border-radius: 0.25em;background-color: #f0f8ff;}#sk-container-id-6 input.sk-toggleable__control:checked~div.sk-toggleable__content {max-height: 200px;max-width: 100%;overflow: auto;}#sk-container-id-6 input.sk-toggleable__control:checked~label.sk-toggleable__label-arrow:before {content: \"▾\";}#sk-container-id-6 div.sk-estimator input.sk-toggleable__control:checked~label.sk-toggleable__label {background-color: #d4ebff;}#sk-container-id-6 div.sk-label input.sk-toggleable__control:checked~label.sk-toggleable__label {background-color: #d4ebff;}#sk-container-id-6 input.sk-hidden--visually {border: 0;clip: rect(1px 1px 1px 1px);clip: rect(1px, 1px, 1px, 1px);height: 1px;margin: -1px;overflow: hidden;padding: 0;position: absolute;width: 1px;}#sk-container-id-6 div.sk-estimator {font-family: monospace;background-color: #f0f8ff;border: 1px dotted black;border-radius: 0.25em;box-sizing: border-box;margin-bottom: 0.5em;}#sk-container-id-6 div.sk-estimator:hover {background-color: #d4ebff;}#sk-container-id-6 div.sk-parallel-item::after {content: \"\";width: 100%;border-bottom: 1px solid gray;flex-grow: 1;}#sk-container-id-6 div.sk-label:hover label.sk-toggleable__label {background-color: #d4ebff;}#sk-container-id-6 div.sk-serial::before {content: \"\";position: absolute;border-left: 1px solid gray;box-sizing: border-box;top: 0;bottom: 0;left: 50%;z-index: 0;}#sk-container-id-6 div.sk-serial {display: flex;flex-direction: column;align-items: center;background-color: white;padding-right: 0.2em;padding-left: 0.2em;position: relative;}#sk-container-id-6 div.sk-item {position: relative;z-index: 1;}#sk-container-id-6 div.sk-parallel {display: flex;align-items: stretch;justify-content: center;background-color: white;position: relative;}#sk-container-id-6 div.sk-item::before, #sk-container-id-6 div.sk-parallel-item::before {content: \"\";position: absolute;border-left: 1px solid gray;box-sizing: border-box;top: 0;bottom: 0;left: 50%;z-index: -1;}#sk-container-id-6 div.sk-parallel-item {display: flex;flex-direction: column;z-index: 1;position: relative;background-color: white;}#sk-container-id-6 div.sk-parallel-item:first-child::after {align-self: flex-end;width: 50%;}#sk-container-id-6 div.sk-parallel-item:last-child::after {align-self: flex-start;width: 50%;}#sk-container-id-6 div.sk-parallel-item:only-child::after {width: 0;}#sk-container-id-6 div.sk-dashed-wrapped {border: 1px dashed gray;margin: 0 0.4em 0.5em 0.4em;box-sizing: border-box;padding-bottom: 0.4em;background-color: white;}#sk-container-id-6 div.sk-label label {font-family: monospace;font-weight: bold;display: inline-block;line-height: 1.2em;}#sk-container-id-6 div.sk-label-container {text-align: center;}#sk-container-id-6 div.sk-container {/* jupyter's `normalize.less` sets `[hidden] { display: none; }` but bootstrap.min.css set `[hidden] { display: none !important; }` so we also need the `!important` here to be able to override the default hidden behavior on the sphinx rendered scikit-learn.org. See: https://github.com/scikit-learn/scikit-learn/issues/21755 */display: inline-block !important;position: relative;}#sk-container-id-6 div.sk-text-repr-fallback {display: none;}</style><div id=\"sk-container-id-6\" class=\"sk-top-container\"><div class=\"sk-text-repr-fallback\"><pre>DecisionTreeClassifier(max_depth=4, random_state=0)</pre><b>In a Jupyter environment, please rerun this cell to show the HTML representation or trust the notebook. <br />On GitHub, the HTML representation is unable to render, please try loading this page with nbviewer.org.</b></div><div class=\"sk-container\" hidden><div class=\"sk-item\"><div class=\"sk-estimator sk-toggleable\"><input class=\"sk-toggleable__control sk-hidden--visually\" id=\"sk-estimator-id-6\" type=\"checkbox\" checked><label for=\"sk-estimator-id-6\" class=\"sk-toggleable__label sk-toggleable__label-arrow\">DecisionTreeClassifier</label><div class=\"sk-toggleable__content\"><pre>DecisionTreeClassifier(max_depth=4, random_state=0)</pre></div></div></div></div></div>"
            ]
          },
          "metadata": {},
          "execution_count": 48
        }
      ]
    },
    {
      "cell_type": "code",
      "source": [
        "tree.plot_tree(Dtree2);"
      ],
      "metadata": {
        "colab": {
          "base_uri": "https://localhost:8080/",
          "height": 406
        },
        "id": "XfhrVYonZMmk",
        "outputId": "f011a00d-6059-42ce-b4b5-e8999bc321b4"
      },
      "execution_count": 49,
      "outputs": [
        {
          "output_type": "display_data",
          "data": {
            "text/plain": [
              "<Figure size 640x480 with 1 Axes>"
            ],
            "image/png": "[encoded data removed]"
          },
          "metadata": {}
        }
      ]
    },
    {
      "cell_type": "markdown",
      "source": [
        "Test"
      ],
      "metadata": {
        "id": "Ar_UifBOZcTU"
      }
    },
    {
      "cell_type": "code",
      "source": [
        "Y_predic2 = Dtree2.predict(X_Val)\n",
        "accuracy_score(Y_Val, Y_predic2)"
      ],
      "metadata": {
        "colab": {
          "base_uri": "https://localhost:8080/"
        },
        "id": "M0QW04eCZZ3J",
        "outputId": "ab86e714-2a2c-4eae-fc99-1f209ddba9bc"
      },
      "execution_count": 50,
      "outputs": [
        {
          "output_type": "execute_result",
          "data": {
            "text/plain": [
              "0.8260869565217391"
            ]
          },
          "metadata": {},
          "execution_count": 50
        }
      ]
    },
    {
      "cell_type": "markdown",
      "source": [
        "### Model 3"
      ],
      "metadata": {
        "id": "BTFESvqkaYNX"
      }
    },
    {
      "cell_type": "markdown",
      "source": [
        "Defind"
      ],
      "metadata": {
        "id": "DA6urfirabca"
      }
    },
    {
      "cell_type": "code",
      "source": [
        "Dtree3 = DecisionTreeClassifier(random_state = 0 , max_depth = 5 , min_samples_split=25 )\n",
        "Dtree3"
      ],
      "metadata": {
        "colab": {
          "base_uri": "https://localhost:8080/",
          "height": 74
        },
        "id": "hS8mJlevafh6",
        "outputId": "5b232f74-56bf-4aed-ce33-bcaeedfc0bc0"
      },
      "execution_count": 51,
      "outputs": [
        {
          "output_type": "execute_result",
          "data": {
            "text/plain": [
              "DecisionTreeClassifier(max_depth=5, min_samples_split=25, random_state=0)"
            ],
            "text/html": [
              "<style>#sk-container-id-7 {color: black;background-color: white;}#sk-container-id-7 pre{padding: 0;}#sk-container-id-7 div.sk-toggleable {background-color: white;}#sk-container-id-7 label.sk-toggleable__label {cursor: pointer;display: block;width: 100%;margin-bottom: 0;padding: 0.3em;box-sizing: border-box;text-align: center;}#sk-container-id-7 label.sk-toggleable__label-arrow:before {content: \"▸\";float: left;margin-right: 0.25em;color: #696969;}#sk-container-id-7 label.sk-toggleable__label-arrow:hover:before {color: black;}#sk-container-id-7 div.sk-estimator:hover label.sk-toggleable__label-arrow:before {color: black;}#sk-container-id-7 div.sk-toggleable__content {max-height: 0;max-width: 0;overflow: hidden;text-align: left;background-color: #f0f8ff;}#sk-container-id-7 div.sk-toggleable__content pre {margin: 0.2em;color: black;border-radius: 0.25em;background-color: #f0f8ff;}#sk-container-id-7 input.sk-toggleable__control:checked~div.sk-toggleable__content {max-height: 200px;max-width: 100%;overflow: auto;}#sk-container-id-7 input.sk-toggleable__control:checked~label.sk-toggleable__label-arrow:before {content: \"▾\";}#sk-container-id-7 div.sk-estimator input.sk-toggleable__control:checked~label.sk-toggleable__label {background-color: #d4ebff;}#sk-container-id-7 div.sk-label input.sk-toggleable__control:checked~label.sk-toggleable__label {background-color: #d4ebff;}#sk-container-id-7 input.sk-hidden--visually {border: 0;clip: rect(1px 1px 1px 1px);clip: rect(1px, 1px, 1px, 1px);height: 1px;margin: -1px;overflow: hidden;padding: 0;position: absolute;width: 1px;}#sk-container-id-7 div.sk-estimator {font-family: monospace;background-color: #f0f8ff;border: 1px dotted black;border-radius: 0.25em;box-sizing: border-box;margin-bottom: 0.5em;}#sk-container-id-7 div.sk-estimator:hover {background-color: #d4ebff;}#sk-container-id-7 div.sk-parallel-item::after {content: \"\";width: 100%;border-bottom: 1px solid gray;flex-grow: 1;}#sk-container-id-7 div.sk-label:hover label.sk-toggleable__label {background-color: #d4ebff;}#sk-container-id-7 div.sk-serial::before {content: \"\";position: absolute;border-left: 1px solid gray;box-sizing: border-box;top: 0;bottom: 0;left: 50%;z-index: 0;}#sk-container-id-7 div.sk-serial {display: flex;flex-direction: column;align-items: center;background-color: white;padding-right: 0.2em;padding-left: 0.2em;position: relative;}#sk-container-id-7 div.sk-item {position: relative;z-index: 1;}#sk-container-id-7 div.sk-parallel {display: flex;align-items: stretch;justify-content: center;background-color: white;position: relative;}#sk-container-id-7 div.sk-item::before, #sk-container-id-7 div.sk-parallel-item::before {content: \"\";position: absolute;border-left: 1px solid gray;box-sizing: border-box;top: 0;bottom: 0;left: 50%;z-index: -1;}#sk-container-id-7 div.sk-parallel-item {display: flex;flex-direction: column;z-index: 1;position: relative;background-color: white;}#sk-container-id-7 div.sk-parallel-item:first-child::after {align-self: flex-end;width: 50%;}#sk-container-id-7 div.sk-parallel-item:last-child::after {align-self: flex-start;width: 50%;}#sk-container-id-7 div.sk-parallel-item:only-child::after {width: 0;}#sk-container-id-7 div.sk-dashed-wrapped {border: 1px dashed gray;margin: 0 0.4em 0.5em 0.4em;box-sizing: border-box;padding-bottom: 0.4em;background-color: white;}#sk-container-id-7 div.sk-label label {font-family: monospace;font-weight: bold;display: inline-block;line-height: 1.2em;}#sk-container-id-7 div.sk-label-container {text-align: center;}#sk-container-id-7 div.sk-container {/* jupyter's `normalize.less` sets `[hidden] { display: none; }` but bootstrap.min.css set `[hidden] { display: none !important; }` so we also need the `!important` here to be able to override the default hidden behavior on the sphinx rendered scikit-learn.org. See: https://github.com/scikit-learn/scikit-learn/issues/21755 */display: inline-block !important;position: relative;}#sk-container-id-7 div.sk-text-repr-fallback {display: none;}</style><div id=\"sk-container-id-7\" class=\"sk-top-container\"><div class=\"sk-text-repr-fallback\"><pre>DecisionTreeClassifier(max_depth=5, min_samples_split=25, random_state=0)</pre><b>In a Jupyter environment, please rerun this cell to show the HTML representation or trust the notebook. <br />On GitHub, the HTML representation is unable to render, please try loading this page with nbviewer.org.</b></div><div class=\"sk-container\" hidden><div class=\"sk-item\"><div class=\"sk-estimator sk-toggleable\"><input class=\"sk-toggleable__control sk-hidden--visually\" id=\"sk-estimator-id-7\" type=\"checkbox\" checked><label for=\"sk-estimator-id-7\" class=\"sk-toggleable__label sk-toggleable__label-arrow\">DecisionTreeClassifier</label><div class=\"sk-toggleable__content\"><pre>DecisionTreeClassifier(max_depth=5, min_samples_split=25, random_state=0)</pre></div></div></div></div></div>"
            ]
          },
          "metadata": {},
          "execution_count": 51
        }
      ]
    },
    {
      "cell_type": "markdown",
      "source": [
        "Train"
      ],
      "metadata": {
        "id": "BEYLu8zMacyD"
      }
    },
    {
      "cell_type": "code",
      "source": [
        "Dtree3 = Dtree3.fit(X_Traintrain,Y_Traintrain)\n",
        "Dtree3"
      ],
      "metadata": {
        "colab": {
          "base_uri": "https://localhost:8080/",
          "height": 74
        },
        "id": "QXMSVMdbask3",
        "outputId": "9d5e3bd4-a5cc-4ddf-bac1-b86492f1d1b5"
      },
      "execution_count": 52,
      "outputs": [
        {
          "output_type": "execute_result",
          "data": {
            "text/plain": [
              "DecisionTreeClassifier(max_depth=5, min_samples_split=25, random_state=0)"
            ],
            "text/html": [
              "<style>#sk-container-id-8 {color: black;background-color: white;}#sk-container-id-8 pre{padding: 0;}#sk-container-id-8 div.sk-toggleable {background-color: white;}#sk-container-id-8 label.sk-toggleable__label {cursor: pointer;display: block;width: 100%;margin-bottom: 0;padding: 0.3em;box-sizing: border-box;text-align: center;}#sk-container-id-8 label.sk-toggleable__label-arrow:before {content: \"▸\";float: left;margin-right: 0.25em;color: #696969;}#sk-container-id-8 label.sk-toggleable__label-arrow:hover:before {color: black;}#sk-container-id-8 div.sk-estimator:hover label.sk-toggleable__label-arrow:before {color: black;}#sk-container-id-8 div.sk-toggleable__content {max-height: 0;max-width: 0;overflow: hidden;text-align: left;background-color: #f0f8ff;}#sk-container-id-8 div.sk-toggleable__content pre {margin: 0.2em;color: black;border-radius: 0.25em;background-color: #f0f8ff;}#sk-container-id-8 input.sk-toggleable__control:checked~div.sk-toggleable__content {max-height: 200px;max-width: 100%;overflow: auto;}#sk-container-id-8 input.sk-toggleable__control:checked~label.sk-toggleable__label-arrow:before {content: \"▾\";}#sk-container-id-8 div.sk-estimator input.sk-toggleable__control:checked~label.sk-toggleable__label {background-color: #d4ebff;}#sk-container-id-8 div.sk-label input.sk-toggleable__control:checked~label.sk-toggleable__label {background-color: #d4ebff;}#sk-container-id-8 input.sk-hidden--visually {border: 0;clip: rect(1px 1px 1px 1px);clip: rect(1px, 1px, 1px, 1px);height: 1px;margin: -1px;overflow: hidden;padding: 0;position: absolute;width: 1px;}#sk-container-id-8 div.sk-estimator {font-family: monospace;background-color: #f0f8ff;border: 1px dotted black;border-radius: 0.25em;box-sizing: border-box;margin-bottom: 0.5em;}#sk-container-id-8 div.sk-estimator:hover {background-color: #d4ebff;}#sk-container-id-8 div.sk-parallel-item::after {content: \"\";width: 100%;border-bottom: 1px solid gray;flex-grow: 1;}#sk-container-id-8 div.sk-label:hover label.sk-toggleable__label {background-color: #d4ebff;}#sk-container-id-8 div.sk-serial::before {content: \"\";position: absolute;border-left: 1px solid gray;box-sizing: border-box;top: 0;bottom: 0;left: 50%;z-index: 0;}#sk-container-id-8 div.sk-serial {display: flex;flex-direction: column;align-items: center;background-color: white;padding-right: 0.2em;padding-left: 0.2em;position: relative;}#sk-container-id-8 div.sk-item {position: relative;z-index: 1;}#sk-container-id-8 div.sk-parallel {display: flex;align-items: stretch;justify-content: center;background-color: white;position: relative;}#sk-container-id-8 div.sk-item::before, #sk-container-id-8 div.sk-parallel-item::before {content: \"\";position: absolute;border-left: 1px solid gray;box-sizing: border-box;top: 0;bottom: 0;left: 50%;z-index: -1;}#sk-container-id-8 div.sk-parallel-item {display: flex;flex-direction: column;z-index: 1;position: relative;background-color: white;}#sk-container-id-8 div.sk-parallel-item:first-child::after {align-self: flex-end;width: 50%;}#sk-container-id-8 div.sk-parallel-item:last-child::after {align-self: flex-start;width: 50%;}#sk-container-id-8 div.sk-parallel-item:only-child::after {width: 0;}#sk-container-id-8 div.sk-dashed-wrapped {border: 1px dashed gray;margin: 0 0.4em 0.5em 0.4em;box-sizing: border-box;padding-bottom: 0.4em;background-color: white;}#sk-container-id-8 div.sk-label label {font-family: monospace;font-weight: bold;display: inline-block;line-height: 1.2em;}#sk-container-id-8 div.sk-label-container {text-align: center;}#sk-container-id-8 div.sk-container {/* jupyter's `normalize.less` sets `[hidden] { display: none; }` but bootstrap.min.css set `[hidden] { display: none !important; }` so we also need the `!important` here to be able to override the default hidden behavior on the sphinx rendered scikit-learn.org. See: https://github.com/scikit-learn/scikit-learn/issues/21755 */display: inline-block !important;position: relative;}#sk-container-id-8 div.sk-text-repr-fallback {display: none;}</style><div id=\"sk-container-id-8\" class=\"sk-top-container\"><div class=\"sk-text-repr-fallback\"><pre>DecisionTreeClassifier(max_depth=5, min_samples_split=25, random_state=0)</pre><b>In a Jupyter environment, please rerun this cell to show the HTML representation or trust the notebook. <br />On GitHub, the HTML representation is unable to render, please try loading this page with nbviewer.org.</b></div><div class=\"sk-container\" hidden><div class=\"sk-item\"><div class=\"sk-estimator sk-toggleable\"><input class=\"sk-toggleable__control sk-hidden--visually\" id=\"sk-estimator-id-8\" type=\"checkbox\" checked><label for=\"sk-estimator-id-8\" class=\"sk-toggleable__label sk-toggleable__label-arrow\">DecisionTreeClassifier</label><div class=\"sk-toggleable__content\"><pre>DecisionTreeClassifier(max_depth=5, min_samples_split=25, random_state=0)</pre></div></div></div></div></div>"
            ]
          },
          "metadata": {},
          "execution_count": 52
        }
      ]
    },
    {
      "cell_type": "code",
      "source": [
        "tree.plot_tree(Dtree3);"
      ],
      "metadata": {
        "colab": {
          "base_uri": "https://localhost:8080/",
          "height": 406
        },
        "id": "scjxkiMxayqc",
        "outputId": "bc8cea0b-349d-44ae-dd6c-fcce1162314c"
      },
      "execution_count": 53,
      "outputs": [
        {
          "output_type": "display_data",
          "data": {
            "text/plain": [
              "<Figure size 640x480 with 1 Axes>"
            ],
            "image/png": "[encoded data removed]"
          },
          "metadata": {}
        }
      ]
    },
    {
      "cell_type": "markdown",
      "source": [
        "Test"
      ],
      "metadata": {
        "id": "XiXsgHM_ad_u"
      }
    },
    {
      "cell_type": "code",
      "source": [
        "Y_predic3 = Dtree3.predict(X_Val)\n",
        "accuracy_score(Y_Val, Y_predic3)"
      ],
      "metadata": {
        "colab": {
          "base_uri": "https://localhost:8080/"
        },
        "id": "KzgncJfdZhoF",
        "outputId": "8832f625-cf32-417b-af80-ac0bc258d7f9"
      },
      "execution_count": 54,
      "outputs": [
        {
          "output_type": "execute_result",
          "data": {
            "text/plain": [
              "0.8695652173913043"
            ]
          },
          "metadata": {},
          "execution_count": 54
        }
      ]
    },
    {
      "cell_type": "markdown",
      "source": [
        "## Naive bayes 1 Model"
      ],
      "metadata": {
        "id": "BaJUNj2TcVdy"
      }
    },
    {
      "cell_type": "markdown",
      "source": [
        "Gaussian Naive Bayes (GaussianNB).\n",
        "\n",
        "    GaussianNB(*, priors=None, var_smoothing=1e-09)"
      ],
      "metadata": {
        "id": "VmJAf4qddEEM"
      }
    },
    {
      "cell_type": "markdown",
      "source": [
        "Import"
      ],
      "metadata": {
        "id": "PL1gnfsEccWi"
      }
    },
    {
      "cell_type": "code",
      "source": [
        "from sklearn.naive_bayes import GaussianNB"
      ],
      "metadata": {
        "id": "NPITWXD4cl-h"
      },
      "execution_count": 55,
      "outputs": []
    },
    {
      "cell_type": "markdown",
      "source": [
        "Define"
      ],
      "metadata": {
        "id": "tQH_SOGjcd_i"
      }
    },
    {
      "cell_type": "code",
      "source": [
        "Gauss = GaussianNB()\n",
        "Gauss"
      ],
      "metadata": {
        "colab": {
          "base_uri": "https://localhost:8080/",
          "height": 74
        },
        "id": "z3qx9npJcpEx",
        "outputId": "37b27f53-2239-4216-a786-7e0b277f50bf"
      },
      "execution_count": 56,
      "outputs": [
        {
          "output_type": "execute_result",
          "data": {
            "text/plain": [
              "GaussianNB()"
            ],
            "text/html": [
              "<style>#sk-container-id-9 {color: black;background-color: white;}#sk-container-id-9 pre{padding: 0;}#sk-container-id-9 div.sk-toggleable {background-color: white;}#sk-container-id-9 label.sk-toggleable__label {cursor: pointer;display: block;width: 100%;margin-bottom: 0;padding: 0.3em;box-sizing: border-box;text-align: center;}#sk-container-id-9 label.sk-toggleable__label-arrow:before {content: \"▸\";float: left;margin-right: 0.25em;color: #696969;}#sk-container-id-9 label.sk-toggleable__label-arrow:hover:before {color: black;}#sk-container-id-9 div.sk-estimator:hover label.sk-toggleable__label-arrow:before {color: black;}#sk-container-id-9 div.sk-toggleable__content {max-height: 0;max-width: 0;overflow: hidden;text-align: left;background-color: #f0f8ff;}#sk-container-id-9 div.sk-toggleable__content pre {margin: 0.2em;color: black;border-radius: 0.25em;background-color: #f0f8ff;}#sk-container-id-9 input.sk-toggleable__control:checked~div.sk-toggleable__content {max-height: 200px;max-width: 100%;overflow: auto;}#sk-container-id-9 input.sk-toggleable__control:checked~label.sk-toggleable__label-arrow:before {content: \"▾\";}#sk-container-id-9 div.sk-estimator input.sk-toggleable__control:checked~label.sk-toggleable__label {background-color: #d4ebff;}#sk-container-id-9 div.sk-label input.sk-toggleable__control:checked~label.sk-toggleable__label {background-color: #d4ebff;}#sk-container-id-9 input.sk-hidden--visually {border: 0;clip: rect(1px 1px 1px 1px);clip: rect(1px, 1px, 1px, 1px);height: 1px;margin: -1px;overflow: hidden;padding: 0;position: absolute;width: 1px;}#sk-container-id-9 div.sk-estimator {font-family: monospace;background-color: #f0f8ff;border: 1px dotted black;border-radius: 0.25em;box-sizing: border-box;margin-bottom: 0.5em;}#sk-container-id-9 div.sk-estimator:hover {background-color: #d4ebff;}#sk-container-id-9 div.sk-parallel-item::after {content: \"\";width: 100%;border-bottom: 1px solid gray;flex-grow: 1;}#sk-container-id-9 div.sk-label:hover label.sk-toggleable__label {background-color: #d4ebff;}#sk-container-id-9 div.sk-serial::before {content: \"\";position: absolute;border-left: 1px solid gray;box-sizing: border-box;top: 0;bottom: 0;left: 50%;z-index: 0;}#sk-container-id-9 div.sk-serial {display: flex;flex-direction: column;align-items: center;background-color: white;padding-right: 0.2em;padding-left: 0.2em;position: relative;}#sk-container-id-9 div.sk-item {position: relative;z-index: 1;}#sk-container-id-9 div.sk-parallel {display: flex;align-items: stretch;justify-content: center;background-color: white;position: relative;}#sk-container-id-9 div.sk-item::before, #sk-container-id-9 div.sk-parallel-item::before {content: \"\";position: absolute;border-left: 1px solid gray;box-sizing: border-box;top: 0;bottom: 0;left: 50%;z-index: -1;}#sk-container-id-9 div.sk-parallel-item {display: flex;flex-direction: column;z-index: 1;position: relative;background-color: white;}#sk-container-id-9 div.sk-parallel-item:first-child::after {align-self: flex-end;width: 50%;}#sk-container-id-9 div.sk-parallel-item:last-child::after {align-self: flex-start;width: 50%;}#sk-container-id-9 div.sk-parallel-item:only-child::after {width: 0;}#sk-container-id-9 div.sk-dashed-wrapped {border: 1px dashed gray;margin: 0 0.4em 0.5em 0.4em;box-sizing: border-box;padding-bottom: 0.4em;background-color: white;}#sk-container-id-9 div.sk-label label {font-family: monospace;font-weight: bold;display: inline-block;line-height: 1.2em;}#sk-container-id-9 div.sk-label-container {text-align: center;}#sk-container-id-9 div.sk-container {/* jupyter's `normalize.less` sets `[hidden] { display: none; }` but bootstrap.min.css set `[hidden] { display: none !important; }` so we also need the `!important` here to be able to override the default hidden behavior on the sphinx rendered scikit-learn.org. See: https://github.com/scikit-learn/scikit-learn/issues/21755 */display: inline-block !important;position: relative;}#sk-container-id-9 div.sk-text-repr-fallback {display: none;}</style><div id=\"sk-container-id-9\" class=\"sk-top-container\"><div class=\"sk-text-repr-fallback\"><pre>GaussianNB()</pre><b>In a Jupyter environment, please rerun this cell to show the HTML representation or trust the notebook. <br />On GitHub, the HTML representation is unable to render, please try loading this page with nbviewer.org.</b></div><div class=\"sk-container\" hidden><div class=\"sk-item\"><div class=\"sk-estimator sk-toggleable\"><input class=\"sk-toggleable__control sk-hidden--visually\" id=\"sk-estimator-id-9\" type=\"checkbox\" checked><label for=\"sk-estimator-id-9\" class=\"sk-toggleable__label sk-toggleable__label-arrow\">GaussianNB</label><div class=\"sk-toggleable__content\"><pre>GaussianNB()</pre></div></div></div></div></div>"
            ]
          },
          "metadata": {},
          "execution_count": 56
        }
      ]
    },
    {
      "cell_type": "markdown",
      "source": [
        "Train"
      ],
      "metadata": {
        "id": "_zaytF0DcfdU"
      }
    },
    {
      "cell_type": "code",
      "source": [
        "Gauss = Gauss.fit(X_Traintrain,Y_Traintrain)\n",
        "Gauss"
      ],
      "metadata": {
        "colab": {
          "base_uri": "https://localhost:8080/",
          "height": 74
        },
        "id": "-4aG1TH7dXkf",
        "outputId": "7af9d1d0-f881-4c5b-d424-f5794ac0c91c"
      },
      "execution_count": 57,
      "outputs": [
        {
          "output_type": "execute_result",
          "data": {
            "text/plain": [
              "GaussianNB()"
            ],
            "text/html": [
              "<style>#sk-container-id-10 {color: black;background-color: white;}#sk-container-id-10 pre{padding: 0;}#sk-container-id-10 div.sk-toggleable {background-color: white;}#sk-container-id-10 label.sk-toggleable__label {cursor: pointer;display: block;width: 100%;margin-bottom: 0;padding: 0.3em;box-sizing: border-box;text-align: center;}#sk-container-id-10 label.sk-toggleable__label-arrow:before {content: \"▸\";float: left;margin-right: 0.25em;color: #696969;}#sk-container-id-10 label.sk-toggleable__label-arrow:hover:before {color: black;}#sk-container-id-10 div.sk-estimator:hover label.sk-toggleable__label-arrow:before {color: black;}#sk-container-id-10 div.sk-toggleable__content {max-height: 0;max-width: 0;overflow: hidden;text-align: left;background-color: #f0f8ff;}#sk-container-id-10 div.sk-toggleable__content pre {margin: 0.2em;color: black;border-radius: 0.25em;background-color: #f0f8ff;}#sk-container-id-10 input.sk-toggleable__control:checked~div.sk-toggleable__content {max-height: 200px;max-width: 100%;overflow: auto;}#sk-container-id-10 input.sk-toggleable__control:checked~label.sk-toggleable__label-arrow:before {content: \"▾\";}#sk-container-id-10 div.sk-estimator input.sk-toggleable__control:checked~label.sk-toggleable__label {background-color: #d4ebff;}#sk-container-id-10 div.sk-label input.sk-toggleable__control:checked~label.sk-toggleable__label {background-color: #d4ebff;}#sk-container-id-10 input.sk-hidden--visually {border: 0;clip: rect(1px 1px 1px 1px);clip: rect(1px, 1px, 1px, 1px);height: 1px;margin: -1px;overflow: hidden;padding: 0;position: absolute;width: 1px;}#sk-container-id-10 div.sk-estimator {font-family: monospace;background-color: #f0f8ff;border: 1px dotted black;border-radius: 0.25em;box-sizing: border-box;margin-bottom: 0.5em;}#sk-container-id-10 div.sk-estimator:hover {background-color: #d4ebff;}#sk-container-id-10 div.sk-parallel-item::after {content: \"\";width: 100%;border-bottom: 1px solid gray;flex-grow: 1;}#sk-container-id-10 div.sk-label:hover label.sk-toggleable__label {background-color: #d4ebff;}#sk-container-id-10 div.sk-serial::before {content: \"\";position: absolute;border-left: 1px solid gray;box-sizing: border-box;top: 0;bottom: 0;left: 50%;z-index: 0;}#sk-container-id-10 div.sk-serial {display: flex;flex-direction: column;align-items: center;background-color: white;padding-right: 0.2em;padding-left: 0.2em;position: relative;}#sk-container-id-10 div.sk-item {position: relative;z-index: 1;}#sk-container-id-10 div.sk-parallel {display: flex;align-items: stretch;justify-content: center;background-color: white;position: relative;}#sk-container-id-10 div.sk-item::before, #sk-container-id-10 div.sk-parallel-item::before {content: \"\";position: absolute;border-left: 1px solid gray;box-sizing: border-box;top: 0;bottom: 0;left: 50%;z-index: -1;}#sk-container-id-10 div.sk-parallel-item {display: flex;flex-direction: column;z-index: 1;position: relative;background-color: white;}#sk-container-id-10 div.sk-parallel-item:first-child::after {align-self: flex-end;width: 50%;}#sk-container-id-10 div.sk-parallel-item:last-child::after {align-self: flex-start;width: 50%;}#sk-container-id-10 div.sk-parallel-item:only-child::after {width: 0;}#sk-container-id-10 div.sk-dashed-wrapped {border: 1px dashed gray;margin: 0 0.4em 0.5em 0.4em;box-sizing: border-box;padding-bottom: 0.4em;background-color: white;}#sk-container-id-10 div.sk-label label {font-family: monospace;font-weight: bold;display: inline-block;line-height: 1.2em;}#sk-container-id-10 div.sk-label-container {text-align: center;}#sk-container-id-10 div.sk-container {/* jupyter's `normalize.less` sets `[hidden] { display: none; }` but bootstrap.min.css set `[hidden] { display: none !important; }` so we also need the `!important` here to be able to override the default hidden behavior on the sphinx rendered scikit-learn.org. See: https://github.com/scikit-learn/scikit-learn/issues/21755 */display: inline-block !important;position: relative;}#sk-container-id-10 div.sk-text-repr-fallback {display: none;}</style><div id=\"sk-container-id-10\" class=\"sk-top-container\"><div class=\"sk-text-repr-fallback\"><pre>GaussianNB()</pre><b>In a Jupyter environment, please rerun this cell to show the HTML representation or trust the notebook. <br />On GitHub, the HTML representation is unable to render, please try loading this page with nbviewer.org.</b></div><div class=\"sk-container\" hidden><div class=\"sk-item\"><div class=\"sk-estimator sk-toggleable\"><input class=\"sk-toggleable__control sk-hidden--visually\" id=\"sk-estimator-id-10\" type=\"checkbox\" checked><label for=\"sk-estimator-id-10\" class=\"sk-toggleable__label sk-toggleable__label-arrow\">GaussianNB</label><div class=\"sk-toggleable__content\"><pre>GaussianNB()</pre></div></div></div></div></div>"
            ]
          },
          "metadata": {},
          "execution_count": 57
        }
      ]
    },
    {
      "cell_type": "markdown",
      "source": [
        "Test"
      ],
      "metadata": {
        "id": "DK_lg4apch2i"
      }
    },
    {
      "cell_type": "code",
      "source": [
        "Y_predic4 = Gauss.predict(X_Val)\n",
        "accuracy_score(Y_Val, Y_predic4)"
      ],
      "metadata": {
        "colab": {
          "base_uri": "https://localhost:8080/"
        },
        "id": "1-YNIhE4bSgC",
        "outputId": "5882f700-a630-40ec-cab2-cf06a42ed25c"
      },
      "execution_count": 58,
      "outputs": [
        {
          "output_type": "execute_result",
          "data": {
            "text/plain": [
              "0.8260869565217391"
            ]
          },
          "metadata": {},
          "execution_count": 58
        }
      ]
    },
    {
      "cell_type": "markdown",
      "source": [
        "## Unique Technique 1 Model"
      ],
      "metadata": {
        "id": "HsFovbqhd7QS"
      }
    },
    {
      "cell_type": "markdown",
      "source": [
        "Artificial Neural Network\n",
        "\n",
        "    tf.keras.models.Sequentia(layers=None, name=None)"
      ],
      "metadata": {
        "id": "wXy2hH8Cq8KH"
      }
    },
    {
      "cell_type": "markdown",
      "source": [
        "Import"
      ],
      "metadata": {
        "id": "GNwBDPPQhudt"
      }
    },
    {
      "cell_type": "code",
      "source": [
        "import tensorflow as tf\n",
        "from sklearn.metrics import accuracy_score"
      ],
      "metadata": {
        "id": "DDeJEvSqgVQb"
      },
      "execution_count": 59,
      "outputs": []
    },
    {
      "cell_type": "markdown",
      "source": [
        "Define"
      ],
      "metadata": {
        "id": "8zZ7dZkyhxgZ"
      }
    },
    {
      "cell_type": "code",
      "source": [
        "ann = tf.keras.models.Sequential()\n",
        "ann"
      ],
      "metadata": {
        "colab": {
          "base_uri": "https://localhost:8080/"
        },
        "id": "oPV9nDyggIpn",
        "outputId": "5eb4cc19-1eaf-475a-cbe7-f6f4752556b6"
      },
      "execution_count": 60,
      "outputs": [
        {
          "output_type": "execute_result",
          "data": {
            "text/plain": [
              "<keras.src.engine.sequential.Sequential at 0x78b7dead6050>"
            ]
          },
          "metadata": {},
          "execution_count": 60
        }
      ]
    },
    {
      "cell_type": "markdown",
      "source": [
        "Model ANN"
      ],
      "metadata": {
        "id": "lQlYaeOhm9vr"
      }
    },
    {
      "cell_type": "code",
      "source": [
        "#Adding First Hidden Layer\n",
        "ann.add(tf.keras.layers.Dense(units=6,activation=\"relu\"))\n",
        "#Adding Second Hidden Layer\n",
        "ann.add(tf.keras.layers.Dense(units=6,activation=\"relu\"))\n",
        "#Adding Output Layer\n",
        "ann.add(tf.keras.layers.Dense(units=1,activation=\"sigmoid\"))"
      ],
      "metadata": {
        "id": "j7NJQWsLh04J"
      },
      "execution_count": 61,
      "outputs": []
    },
    {
      "cell_type": "code",
      "source": [
        "#Compiling ANN\n",
        "ann.compile(optimizer=\"adam\",loss=\"binary_crossentropy\",metrics=['accuracy'])"
      ],
      "metadata": {
        "id": "CeZoz3s8kLRE"
      },
      "execution_count": 62,
      "outputs": []
    },
    {
      "cell_type": "markdown",
      "source": [
        "Train"
      ],
      "metadata": {
        "id": "IDIFjluBh2rY"
      }
    },
    {
      "cell_type": "code",
      "source": [
        "#Fitting ANN\n",
        "history = ann.fit(X_Traintrain,Y_Traintrain,batch_size=32,epochs = 100)"
      ],
      "metadata": {
        "colab": {
          "base_uri": "https://localhost:8080/"
        },
        "id": "9I5Q7QkrgUak",
        "outputId": "5b43bc4e-a4e2-4e5b-e111-82bf63992458"
      },
      "execution_count": 63,
      "outputs": [
        {
          "output_type": "stream",
          "name": "stdout",
          "text": [
            "Epoch 1/100\n",
            "9/9 [==============================] - 1s 5ms/step - loss: 243.4933 - accuracy: 0.5620\n",
            "Epoch 2/100\n",
            "9/9 [==============================] - 0s 5ms/step - loss: 228.7302 - accuracy: 0.5584\n",
            "Epoch 3/100\n",
            "9/9 [==============================] - 0s 4ms/step - loss: 212.9233 - accuracy: 0.5511\n",
            "Epoch 4/100\n",
            "9/9 [==============================] - 0s 4ms/step - loss: 198.2732 - accuracy: 0.5511\n",
            "Epoch 5/100\n",
            "9/9 [==============================] - 0s 4ms/step - loss: 183.8340 - accuracy: 0.5511\n",
            "Epoch 6/100\n",
            "9/9 [==============================] - 0s 4ms/step - loss: 171.5874 - accuracy: 0.5401\n",
            "Epoch 7/100\n",
            "9/9 [==============================] - 0s 3ms/step - loss: 156.1572 - accuracy: 0.5292\n",
            "Epoch 8/100\n",
            "9/9 [==============================] - 0s 4ms/step - loss: 144.5054 - accuracy: 0.5255\n",
            "Epoch 9/100\n",
            "9/9 [==============================] - 0s 3ms/step - loss: 133.7218 - accuracy: 0.5182\n",
            "Epoch 10/100\n",
            "9/9 [==============================] - 0s 4ms/step - loss: 123.0130 - accuracy: 0.5073\n",
            "Epoch 11/100\n",
            "9/9 [==============================] - 0s 5ms/step - loss: 108.4778 - accuracy: 0.5036\n",
            "Epoch 12/100\n",
            "9/9 [==============================] - 0s 4ms/step - loss: 98.1067 - accuracy: 0.4927\n",
            "Epoch 13/100\n",
            "9/9 [==============================] - 0s 4ms/step - loss: 88.6509 - accuracy: 0.4854\n",
            "Epoch 14/100\n",
            "9/9 [==============================] - 0s 4ms/step - loss: 78.1381 - accuracy: 0.4891\n",
            "Epoch 15/100\n",
            "9/9 [==============================] - 0s 4ms/step - loss: 69.2609 - accuracy: 0.4672\n",
            "Epoch 16/100\n",
            "9/9 [==============================] - 0s 4ms/step - loss: 61.9300 - accuracy: 0.4562\n",
            "Epoch 17/100\n",
            "9/9 [==============================] - 0s 4ms/step - loss: 51.7946 - accuracy: 0.4453\n",
            "Epoch 18/100\n",
            "9/9 [==============================] - 0s 5ms/step - loss: 43.3835 - accuracy: 0.4270\n",
            "Epoch 19/100\n",
            "9/9 [==============================] - 0s 4ms/step - loss: 35.8148 - accuracy: 0.4015\n",
            "Epoch 20/100\n",
            "9/9 [==============================] - 0s 4ms/step - loss: 27.9260 - accuracy: 0.4015\n",
            "Epoch 21/100\n",
            "9/9 [==============================] - 0s 4ms/step - loss: 23.8969 - accuracy: 0.4015\n",
            "Epoch 22/100\n",
            "9/9 [==============================] - 0s 4ms/step - loss: 18.5869 - accuracy: 0.3905\n",
            "Epoch 23/100\n",
            "9/9 [==============================] - 0s 4ms/step - loss: 13.2737 - accuracy: 0.3942\n",
            "Epoch 24/100\n",
            "9/9 [==============================] - 0s 4ms/step - loss: 8.2870 - accuracy: 0.3832\n",
            "Epoch 25/100\n",
            "9/9 [==============================] - 0s 4ms/step - loss: 3.3438 - accuracy: 0.3650\n",
            "Epoch 26/100\n",
            "9/9 [==============================] - 0s 4ms/step - loss: 0.7034 - accuracy: 0.4927\n",
            "Epoch 27/100\n",
            "9/9 [==============================] - 0s 4ms/step - loss: 0.6900 - accuracy: 0.5182\n",
            "Epoch 28/100\n",
            "9/9 [==============================] - 0s 3ms/step - loss: 0.6888 - accuracy: 0.5219\n",
            "Epoch 29/100\n",
            "9/9 [==============================] - 0s 3ms/step - loss: 0.6870 - accuracy: 0.5255\n",
            "Epoch 30/100\n",
            "9/9 [==============================] - 0s 4ms/step - loss: 0.6858 - accuracy: 0.5292\n",
            "Epoch 31/100\n",
            "9/9 [==============================] - 0s 3ms/step - loss: 0.6847 - accuracy: 0.5292\n",
            "Epoch 32/100\n",
            "9/9 [==============================] - 0s 3ms/step - loss: 0.6835 - accuracy: 0.5292\n",
            "Epoch 33/100\n",
            "9/9 [==============================] - 0s 4ms/step - loss: 0.6824 - accuracy: 0.5292\n",
            "Epoch 34/100\n",
            "9/9 [==============================] - 0s 4ms/step - loss: 0.6812 - accuracy: 0.5292\n",
            "Epoch 35/100\n",
            "9/9 [==============================] - 0s 4ms/step - loss: 0.6801 - accuracy: 0.5328\n",
            "Epoch 36/100\n",
            "9/9 [==============================] - 0s 3ms/step - loss: 0.6790 - accuracy: 0.5365\n",
            "Epoch 37/100\n",
            "9/9 [==============================] - 0s 4ms/step - loss: 0.6780 - accuracy: 0.5474\n",
            "Epoch 38/100\n",
            "9/9 [==============================] - 0s 4ms/step - loss: 0.6768 - accuracy: 0.5474\n",
            "Epoch 39/100\n",
            "9/9 [==============================] - 0s 4ms/step - loss: 0.6756 - accuracy: 0.5474\n",
            "Epoch 40/100\n",
            "9/9 [==============================] - 0s 3ms/step - loss: 0.6745 - accuracy: 0.5547\n",
            "Epoch 41/100\n",
            "9/9 [==============================] - 0s 4ms/step - loss: 0.6732 - accuracy: 0.5547\n",
            "Epoch 42/100\n",
            "9/9 [==============================] - 0s 3ms/step - loss: 0.6720 - accuracy: 0.5584\n",
            "Epoch 43/100\n",
            "9/9 [==============================] - 0s 3ms/step - loss: 0.6706 - accuracy: 0.5620\n",
            "Epoch 44/100\n",
            "9/9 [==============================] - 0s 3ms/step - loss: 0.6691 - accuracy: 0.5730\n",
            "Epoch 45/100\n",
            "9/9 [==============================] - 0s 3ms/step - loss: 0.6676 - accuracy: 0.5803\n",
            "Epoch 46/100\n",
            "9/9 [==============================] - 0s 3ms/step - loss: 0.6661 - accuracy: 0.5839\n",
            "Epoch 47/100\n",
            "9/9 [==============================] - 0s 4ms/step - loss: 0.6643 - accuracy: 0.5876\n",
            "Epoch 48/100\n",
            "9/9 [==============================] - 0s 4ms/step - loss: 0.6627 - accuracy: 0.5876\n",
            "Epoch 49/100\n",
            "9/9 [==============================] - 0s 4ms/step - loss: 0.6610 - accuracy: 0.5985\n",
            "Epoch 50/100\n",
            "9/9 [==============================] - 0s 5ms/step - loss: 0.6594 - accuracy: 0.6022\n",
            "Epoch 51/100\n",
            "9/9 [==============================] - 0s 5ms/step - loss: 0.6577 - accuracy: 0.6022\n",
            "Epoch 52/100\n",
            "9/9 [==============================] - 0s 4ms/step - loss: 0.6559 - accuracy: 0.6095\n",
            "Epoch 53/100\n",
            "9/9 [==============================] - 0s 5ms/step - loss: 0.6541 - accuracy: 0.6131\n",
            "Epoch 54/100\n",
            "9/9 [==============================] - 0s 4ms/step - loss: 0.6523 - accuracy: 0.6204\n",
            "Epoch 55/100\n",
            "9/9 [==============================] - 0s 4ms/step - loss: 0.6504 - accuracy: 0.6204\n",
            "Epoch 56/100\n",
            "9/9 [==============================] - 0s 4ms/step - loss: 0.6483 - accuracy: 0.6314\n",
            "Epoch 57/100\n",
            "9/9 [==============================] - 0s 4ms/step - loss: 0.6464 - accuracy: 0.6314\n",
            "Epoch 58/100\n",
            "9/9 [==============================] - 0s 4ms/step - loss: 0.6446 - accuracy: 0.6350\n",
            "Epoch 59/100\n",
            "9/9 [==============================] - 0s 4ms/step - loss: 0.6423 - accuracy: 0.6387\n",
            "Epoch 60/100\n",
            "9/9 [==============================] - 0s 4ms/step - loss: 0.6399 - accuracy: 0.6423\n",
            "Epoch 61/100\n",
            "9/9 [==============================] - 0s 4ms/step - loss: 0.6378 - accuracy: 0.6423\n",
            "Epoch 62/100\n",
            "9/9 [==============================] - 0s 3ms/step - loss: 0.6354 - accuracy: 0.6460\n",
            "Epoch 63/100\n",
            "9/9 [==============================] - 0s 4ms/step - loss: 0.6331 - accuracy: 0.6423\n",
            "Epoch 64/100\n",
            "9/9 [==============================] - 0s 4ms/step - loss: 0.6305 - accuracy: 0.6460\n",
            "Epoch 65/100\n",
            "9/9 [==============================] - 0s 4ms/step - loss: 0.6280 - accuracy: 0.6606\n",
            "Epoch 66/100\n",
            "9/9 [==============================] - 0s 4ms/step - loss: 0.6252 - accuracy: 0.6642\n",
            "Epoch 67/100\n",
            "9/9 [==============================] - 0s 5ms/step - loss: 0.6224 - accuracy: 0.6679\n",
            "Epoch 68/100\n",
            "9/9 [==============================] - 0s 4ms/step - loss: 0.6197 - accuracy: 0.6788\n",
            "Epoch 69/100\n",
            "9/9 [==============================] - 0s 4ms/step - loss: 0.6166 - accuracy: 0.6861\n",
            "Epoch 70/100\n",
            "9/9 [==============================] - 0s 4ms/step - loss: 0.6132 - accuracy: 0.6825\n",
            "Epoch 71/100\n",
            "9/9 [==============================] - 0s 3ms/step - loss: 0.6101 - accuracy: 0.6898\n",
            "Epoch 72/100\n",
            "9/9 [==============================] - 0s 5ms/step - loss: 0.6070 - accuracy: 0.6898\n",
            "Epoch 73/100\n",
            "9/9 [==============================] - 0s 4ms/step - loss: 0.6040 - accuracy: 0.6971\n",
            "Epoch 74/100\n",
            "9/9 [==============================] - 0s 4ms/step - loss: 0.6009 - accuracy: 0.7007\n",
            "Epoch 75/100\n",
            "9/9 [==============================] - 0s 4ms/step - loss: 0.5981 - accuracy: 0.7044\n",
            "Epoch 76/100\n",
            "9/9 [==============================] - 0s 3ms/step - loss: 0.5956 - accuracy: 0.6971\n",
            "Epoch 77/100\n",
            "9/9 [==============================] - 0s 4ms/step - loss: 0.5929 - accuracy: 0.7044\n",
            "Epoch 78/100\n",
            "9/9 [==============================] - 0s 4ms/step - loss: 0.5901 - accuracy: 0.7044\n",
            "Epoch 79/100\n",
            "9/9 [==============================] - 0s 4ms/step - loss: 0.5875 - accuracy: 0.7153\n",
            "Epoch 80/100\n",
            "9/9 [==============================] - 0s 3ms/step - loss: 0.5856 - accuracy: 0.7153\n",
            "Epoch 81/100\n",
            "9/9 [==============================] - 0s 4ms/step - loss: 0.5833 - accuracy: 0.7190\n",
            "Epoch 82/100\n",
            "9/9 [==============================] - 0s 5ms/step - loss: 0.5810 - accuracy: 0.7190\n",
            "Epoch 83/100\n",
            "9/9 [==============================] - 0s 4ms/step - loss: 0.5789 - accuracy: 0.7263\n",
            "Epoch 84/100\n",
            "9/9 [==============================] - 0s 4ms/step - loss: 0.5768 - accuracy: 0.7263\n",
            "Epoch 85/100\n",
            "9/9 [==============================] - 0s 3ms/step - loss: 0.5750 - accuracy: 0.7263\n",
            "Epoch 86/100\n",
            "9/9 [==============================] - 0s 3ms/step - loss: 0.5731 - accuracy: 0.7263\n",
            "Epoch 87/100\n",
            "9/9 [==============================] - 0s 3ms/step - loss: 0.5713 - accuracy: 0.7263\n",
            "Epoch 88/100\n",
            "9/9 [==============================] - 0s 3ms/step - loss: 0.5699 - accuracy: 0.7299\n",
            "Epoch 89/100\n",
            "9/9 [==============================] - 0s 3ms/step - loss: 0.5679 - accuracy: 0.7299\n",
            "Epoch 90/100\n",
            "9/9 [==============================] - 0s 3ms/step - loss: 0.5661 - accuracy: 0.7336\n",
            "Epoch 91/100\n",
            "9/9 [==============================] - 0s 3ms/step - loss: 0.5647 - accuracy: 0.7336\n",
            "Epoch 92/100\n",
            "9/9 [==============================] - 0s 5ms/step - loss: 0.5633 - accuracy: 0.7372\n",
            "Epoch 93/100\n",
            "9/9 [==============================] - 0s 5ms/step - loss: 0.5615 - accuracy: 0.7372\n",
            "Epoch 94/100\n",
            "9/9 [==============================] - 0s 4ms/step - loss: 0.5600 - accuracy: 0.7372\n",
            "Epoch 95/100\n",
            "9/9 [==============================] - 0s 4ms/step - loss: 0.5586 - accuracy: 0.7372\n",
            "Epoch 96/100\n",
            "9/9 [==============================] - 0s 3ms/step - loss: 0.5573 - accuracy: 0.7372\n",
            "Epoch 97/100\n",
            "9/9 [==============================] - 0s 3ms/step - loss: 0.5561 - accuracy: 0.7372\n",
            "Epoch 98/100\n",
            "9/9 [==============================] - 0s 3ms/step - loss: 0.5548 - accuracy: 0.7372\n",
            "Epoch 99/100\n",
            "9/9 [==============================] - 0s 3ms/step - loss: 0.5535 - accuracy: 0.7372\n",
            "Epoch 100/100\n",
            "9/9 [==============================] - 0s 4ms/step - loss: 0.5527 - accuracy: 0.7372\n"
          ]
        }
      ]
    },
    {
      "cell_type": "markdown",
      "source": [
        "Test"
      ],
      "metadata": {
        "id": "q5v-nPuCqTLK"
      }
    },
    {
      "cell_type": "code",
      "source": [
        "Y_predic5 = ann.predict(X_Val)"
      ],
      "metadata": {
        "colab": {
          "base_uri": "https://localhost:8080/"
        },
        "id": "JBzeSchOn0NJ",
        "outputId": "22ca39eb-5f0b-460b-bc1f-0b8acd82be1c"
      },
      "execution_count": 64,
      "outputs": [
        {
          "output_type": "stream",
          "name": "stdout",
          "text": [
            "3/3 [==============================] - 0s 4ms/step\n"
          ]
        }
      ]
    },
    {
      "cell_type": "code",
      "source": [
        "# Convert probabilities to binary class labels using a threshold (e.g., 0.5)\n",
        "threshold = 0.5\n",
        "Y_predic5 = (Y_predic5 > threshold).astype(int)"
      ],
      "metadata": {
        "id": "b3aOol9Rop9g"
      },
      "execution_count": 65,
      "outputs": []
    },
    {
      "cell_type": "code",
      "source": [
        "accuracy_score(Y_Val, Y_predic5)"
      ],
      "metadata": {
        "colab": {
          "base_uri": "https://localhost:8080/"
        },
        "id": "x5ex9ePWo5Tq",
        "outputId": "640ef650-e32f-4462-862e-992cb4448b13"
      },
      "execution_count": 66,
      "outputs": [
        {
          "output_type": "execute_result",
          "data": {
            "text/plain": [
              "0.6811594202898551"
            ]
          },
          "metadata": {},
          "execution_count": 66
        }
      ]
    },
    {
      "cell_type": "markdown",
      "source": [
        "Ref : [https://www.analyticsvidhya.com/blog/2021/10/implementing-artificial-neural-networkclassification-in-python-from-scratch/](https://)"
      ],
      "metadata": {
        "id": "bIyV8FmmtEb-"
      }
    },
    {
      "cell_type": "markdown",
      "source": [
        "##Validate model"
      ],
      "metadata": {
        "id": "VDDScKTDQcHE"
      }
    },
    {
      "cell_type": "code",
      "source": [
        "Y_predic1 = Dtree1.predict(X_Val)\n",
        "accuracy_score(Y_Val, Y_predic1)"
      ],
      "metadata": {
        "colab": {
          "base_uri": "https://localhost:8080/"
        },
        "id": "6Q1mmGrXQdvN",
        "outputId": "42932931-0c1a-46a7-e92a-531392e66398"
      },
      "execution_count": 67,
      "outputs": [
        {
          "output_type": "execute_result",
          "data": {
            "text/plain": [
              "0.7971014492753623"
            ]
          },
          "metadata": {},
          "execution_count": 67
        }
      ]
    },
    {
      "cell_type": "code",
      "source": [
        "Y_predic2 = Dtree2.predict(X_Val)\n",
        "accuracy_score(Y_Val, Y_predic2)"
      ],
      "metadata": {
        "colab": {
          "base_uri": "https://localhost:8080/"
        },
        "id": "esAfMj3NQhOS",
        "outputId": "0b56b48b-25c0-4509-8fb4-c25342bc5416"
      },
      "execution_count": 68,
      "outputs": [
        {
          "output_type": "execute_result",
          "data": {
            "text/plain": [
              "0.8260869565217391"
            ]
          },
          "metadata": {},
          "execution_count": 68
        }
      ]
    },
    {
      "cell_type": "code",
      "source": [
        "Y_predic3 = Dtree3.predict(X_Val)\n",
        "accuracy_score(Y_Val, Y_predic3)"
      ],
      "metadata": {
        "colab": {
          "base_uri": "https://localhost:8080/"
        },
        "id": "a5E-WDfQQn3J",
        "outputId": "f0f5eb1e-7487-42ce-cb0a-fcffeef65858"
      },
      "execution_count": 69,
      "outputs": [
        {
          "output_type": "execute_result",
          "data": {
            "text/plain": [
              "0.8695652173913043"
            ]
          },
          "metadata": {},
          "execution_count": 69
        }
      ]
    },
    {
      "cell_type": "code",
      "source": [
        "Y_predic4 = Gauss.predict(X_Val)\n",
        "accuracy_score(Y_Val, Y_predic4)"
      ],
      "metadata": {
        "colab": {
          "base_uri": "https://localhost:8080/"
        },
        "id": "dEqyXW6AQqke",
        "outputId": "15fe74ab-099f-4f5f-abc5-aefd489a4eb4"
      },
      "execution_count": 70,
      "outputs": [
        {
          "output_type": "execute_result",
          "data": {
            "text/plain": [
              "0.8260869565217391"
            ]
          },
          "metadata": {},
          "execution_count": 70
        }
      ]
    },
    {
      "cell_type": "code",
      "source": [
        "threshold = 0.5\n",
        "Y_predic5 = (Y_predic5 > threshold).astype(int)\n",
        "accuracy_score(Y_Val, Y_predic5)"
      ],
      "metadata": {
        "colab": {
          "base_uri": "https://localhost:8080/"
        },
        "id": "yX76ztu6Q0i-",
        "outputId": "c237aa9a-130f-431d-d1bd-ef3a35ac5cbf"
      },
      "execution_count": 71,
      "outputs": [
        {
          "output_type": "execute_result",
          "data": {
            "text/plain": [
              "0.6811594202898551"
            ]
          },
          "metadata": {},
          "execution_count": 71
        }
      ]
    },
    {
      "cell_type": "markdown",
      "source": [
        "##Evaluation\n",
        "Retrain model with full training data"
      ],
      "metadata": {
        "id": "8vb9HVfAQGwq"
      }
    },
    {
      "cell_type": "markdown",
      "source": [
        "model1"
      ],
      "metadata": {
        "id": "Tuw8Uy7oReeb"
      }
    },
    {
      "cell_type": "code",
      "source": [
        "Dtree1full = DecisionTreeClassifier(random_state = 0)\n",
        "Dtree1full = Dtree1full.fit(X_Train,Y_Train)\n",
        "Y_predic1full = Dtree1full.predict(X_Test)\n",
        "accuracy_score(Y_Test, Y_predic1full)"
      ],
      "metadata": {
        "colab": {
          "base_uri": "https://localhost:8080/"
        },
        "id": "_RKmhqXFRdwn",
        "outputId": "4164214b-5c61-4316-bde5-bced4132e361"
      },
      "execution_count": 72,
      "outputs": [
        {
          "output_type": "execute_result",
          "data": {
            "text/plain": [
              "0.8155619596541787"
            ]
          },
          "metadata": {},
          "execution_count": 72
        }
      ]
    },
    {
      "cell_type": "markdown",
      "source": [
        "model2"
      ],
      "metadata": {
        "id": "kjig1TCqTTk3"
      }
    },
    {
      "cell_type": "code",
      "source": [
        "Dtree2full = DecisionTreeClassifier(random_state = 0 , max_depth = 4)\n",
        "Dtree2full = Dtree2full.fit(X_Train,Y_Train)\n",
        "Y_predic2full = Dtree2full.predict(X_Test)\n",
        "accuracy_score(Y_Test, Y_predic2full)"
      ],
      "metadata": {
        "colab": {
          "base_uri": "https://localhost:8080/"
        },
        "id": "VBZ3r0PWQIjl",
        "outputId": "39a6fa7d-7134-442e-b0c9-496e15729fbc"
      },
      "execution_count": 73,
      "outputs": [
        {
          "output_type": "execute_result",
          "data": {
            "text/plain": [
              "0.8328530259365994"
            ]
          },
          "metadata": {},
          "execution_count": 73
        }
      ]
    },
    {
      "cell_type": "markdown",
      "source": [
        "model3"
      ],
      "metadata": {
        "id": "ivtzl_0rTVZS"
      }
    },
    {
      "cell_type": "code",
      "source": [
        "Dtree3full = DecisionTreeClassifier(random_state = 0 , max_depth = 5 , min_samples_split=25)\n",
        "Dtree3full = Dtree3full.fit(X_Train,Y_Train)\n",
        "Y_predic3full = Dtree3full.predict(X_Test)\n",
        "accuracy_score(Y_Test, Y_predic3full)"
      ],
      "metadata": {
        "colab": {
          "base_uri": "https://localhost:8080/"
        },
        "id": "LlrMxpS0Suxk",
        "outputId": "789bb8df-4598-4910-afef-781bab69dad2"
      },
      "execution_count": 74,
      "outputs": [
        {
          "output_type": "execute_result",
          "data": {
            "text/plain": [
              "0.8501440922190202"
            ]
          },
          "metadata": {},
          "execution_count": 74
        }
      ]
    },
    {
      "cell_type": "markdown",
      "source": [
        "model4"
      ],
      "metadata": {
        "id": "wVArftISTfNW"
      }
    },
    {
      "cell_type": "code",
      "source": [
        "Gaussfull = GaussianNB()\n",
        "Gaussfull = Gaussfull.fit(X_Train,Y_Train)\n",
        "Y_predic4full = Gaussfull.predict(X_Test)\n",
        "accuracy_score(Y_Test, Y_predic4full)"
      ],
      "metadata": {
        "colab": {
          "base_uri": "https://localhost:8080/"
        },
        "id": "PXdvyhhuTaFw",
        "outputId": "aa9e9e9d-009c-43b4-da5e-dd5e08e11fea"
      },
      "execution_count": 75,
      "outputs": [
        {
          "output_type": "execute_result",
          "data": {
            "text/plain": [
              "0.7550432276657061"
            ]
          },
          "metadata": {},
          "execution_count": 75
        }
      ]
    },
    {
      "cell_type": "markdown",
      "source": [
        "model5"
      ],
      "metadata": {
        "id": "Zu1X5m-xT0R3"
      }
    },
    {
      "cell_type": "code",
      "source": [
        "annfull = tf.keras.models.Sequential()\n",
        "annfull.add(tf.keras.layers.Dense(units=6,activation=\"relu\"))\n",
        "annfull.add(tf.keras.layers.Dense(units=6,activation=\"relu\"))\n",
        "annfull.add(tf.keras.layers.Dense(units=1,activation=\"sigmoid\"))\n",
        "annfull.compile(optimizer=\"adam\",loss=\"binary_crossentropy\",metrics=['accuracy'])\n",
        "annfull.fit(X_Train,Y_Train,batch_size=32,epochs = 100)"
      ],
      "metadata": {
        "colab": {
          "base_uri": "https://localhost:8080/"
        },
        "id": "khG-1s1EUv8B",
        "outputId": "971ec21a-3521-43ff-a367-38dfd45db860"
      },
      "execution_count": 76,
      "outputs": [
        {
          "output_type": "stream",
          "name": "stdout",
          "text": [
            "Epoch 1/100\n",
            "11/11 [==============================] - 1s 3ms/step - loss: 9.7945 - accuracy: 0.4286\n",
            "Epoch 2/100\n",
            "11/11 [==============================] - 0s 4ms/step - loss: 6.1528 - accuracy: 0.4781\n",
            "Epoch 3/100\n",
            "11/11 [==============================] - 0s 2ms/step - loss: 3.1093 - accuracy: 0.6006\n",
            "Epoch 4/100\n",
            "11/11 [==============================] - 0s 3ms/step - loss: 1.1014 - accuracy: 0.6064\n",
            "Epoch 5/100\n",
            "11/11 [==============================] - 0s 2ms/step - loss: 1.0183 - accuracy: 0.6531\n",
            "Epoch 6/100\n",
            "11/11 [==============================] - 0s 2ms/step - loss: 0.8566 - accuracy: 0.6152\n",
            "Epoch 7/100\n",
            "11/11 [==============================] - 0s 2ms/step - loss: 0.8625 - accuracy: 0.6443\n",
            "Epoch 8/100\n",
            "11/11 [==============================] - 0s 3ms/step - loss: 0.8353 - accuracy: 0.6793\n",
            "Epoch 9/100\n",
            "11/11 [==============================] - 0s 2ms/step - loss: 0.8348 - accuracy: 0.6268\n",
            "Epoch 10/100\n",
            "11/11 [==============================] - 0s 2ms/step - loss: 0.8450 - accuracy: 0.6851\n",
            "Epoch 11/100\n",
            "11/11 [==============================] - 0s 2ms/step - loss: 0.7969 - accuracy: 0.6910\n",
            "Epoch 12/100\n",
            "11/11 [==============================] - 0s 2ms/step - loss: 0.7880 - accuracy: 0.6706\n",
            "Epoch 13/100\n",
            "11/11 [==============================] - 0s 2ms/step - loss: 0.9696 - accuracy: 0.7085\n",
            "Epoch 14/100\n",
            "11/11 [==============================] - 0s 2ms/step - loss: 0.8883 - accuracy: 0.6764\n",
            "Epoch 15/100\n",
            "11/11 [==============================] - 0s 3ms/step - loss: 0.6568 - accuracy: 0.7143\n",
            "Epoch 16/100\n",
            "11/11 [==============================] - 0s 2ms/step - loss: 0.7565 - accuracy: 0.6910\n",
            "Epoch 17/100\n",
            "11/11 [==============================] - 0s 2ms/step - loss: 0.8690 - accuracy: 0.6910\n",
            "Epoch 18/100\n",
            "11/11 [==============================] - 0s 2ms/step - loss: 0.9540 - accuracy: 0.7143\n",
            "Epoch 19/100\n",
            "11/11 [==============================] - 0s 2ms/step - loss: 0.7970 - accuracy: 0.6793\n",
            "Epoch 20/100\n",
            "11/11 [==============================] - 0s 3ms/step - loss: 0.7385 - accuracy: 0.7230\n",
            "Epoch 21/100\n",
            "11/11 [==============================] - 0s 4ms/step - loss: 0.8670 - accuracy: 0.7259\n",
            "Epoch 22/100\n",
            "11/11 [==============================] - 0s 3ms/step - loss: 0.9184 - accuracy: 0.7085\n",
            "Epoch 23/100\n",
            "11/11 [==============================] - 0s 3ms/step - loss: 2.3629 - accuracy: 0.7114\n",
            "Epoch 24/100\n",
            "11/11 [==============================] - 0s 2ms/step - loss: 2.1033 - accuracy: 0.7085\n",
            "Epoch 25/100\n",
            "11/11 [==============================] - 0s 3ms/step - loss: 1.0695 - accuracy: 0.7230\n",
            "Epoch 26/100\n",
            "11/11 [==============================] - 0s 2ms/step - loss: 0.6877 - accuracy: 0.7464\n",
            "Epoch 27/100\n",
            "11/11 [==============================] - 0s 3ms/step - loss: 0.6460 - accuracy: 0.7347\n",
            "Epoch 28/100\n",
            "11/11 [==============================] - 0s 4ms/step - loss: 1.9639 - accuracy: 0.7259\n",
            "Epoch 29/100\n",
            "11/11 [==============================] - 0s 3ms/step - loss: 1.9338 - accuracy: 0.7318\n",
            "Epoch 30/100\n",
            "11/11 [==============================] - 0s 3ms/step - loss: 1.0400 - accuracy: 0.7464\n",
            "Epoch 31/100\n",
            "11/11 [==============================] - 0s 3ms/step - loss: 0.7217 - accuracy: 0.6851\n",
            "Epoch 32/100\n",
            "11/11 [==============================] - 0s 3ms/step - loss: 0.7112 - accuracy: 0.7493\n",
            "Epoch 33/100\n",
            "11/11 [==============================] - 0s 2ms/step - loss: 0.5836 - accuracy: 0.7143\n",
            "Epoch 34/100\n",
            "11/11 [==============================] - 0s 2ms/step - loss: 0.5617 - accuracy: 0.7347\n",
            "Epoch 35/100\n",
            "11/11 [==============================] - 0s 2ms/step - loss: 0.5575 - accuracy: 0.7522\n",
            "Epoch 36/100\n",
            "11/11 [==============================] - 0s 4ms/step - loss: 0.5558 - accuracy: 0.7551\n",
            "Epoch 37/100\n",
            "11/11 [==============================] - 0s 3ms/step - loss: 0.5428 - accuracy: 0.7522\n",
            "Epoch 38/100\n",
            "11/11 [==============================] - 0s 3ms/step - loss: 0.5332 - accuracy: 0.7551\n",
            "Epoch 39/100\n",
            "11/11 [==============================] - 0s 3ms/step - loss: 0.5618 - accuracy: 0.7784\n",
            "Epoch 40/100\n",
            "11/11 [==============================] - 0s 3ms/step - loss: 0.5222 - accuracy: 0.7697\n",
            "Epoch 41/100\n",
            "11/11 [==============================] - 0s 3ms/step - loss: 0.5218 - accuracy: 0.7872\n",
            "Epoch 42/100\n",
            "11/11 [==============================] - 0s 3ms/step - loss: 0.5299 - accuracy: 0.7843\n",
            "Epoch 43/100\n",
            "11/11 [==============================] - 0s 2ms/step - loss: 0.5153 - accuracy: 0.7959\n",
            "Epoch 44/100\n",
            "11/11 [==============================] - 0s 3ms/step - loss: 0.5252 - accuracy: 0.7988\n",
            "Epoch 45/100\n",
            "11/11 [==============================] - 0s 3ms/step - loss: 0.5811 - accuracy: 0.7813\n",
            "Epoch 46/100\n",
            "11/11 [==============================] - 0s 3ms/step - loss: 0.5164 - accuracy: 0.7755\n",
            "Epoch 47/100\n",
            "11/11 [==============================] - 0s 2ms/step - loss: 0.4956 - accuracy: 0.7813\n",
            "Epoch 48/100\n",
            "11/11 [==============================] - 0s 3ms/step - loss: 0.5532 - accuracy: 0.7755\n",
            "Epoch 49/100\n",
            "11/11 [==============================] - 0s 3ms/step - loss: 0.6524 - accuracy: 0.7901\n",
            "Epoch 50/100\n",
            "11/11 [==============================] - 0s 3ms/step - loss: 0.5827 - accuracy: 0.7872\n",
            "Epoch 51/100\n",
            "11/11 [==============================] - 0s 3ms/step - loss: 0.5183 - accuracy: 0.7813\n",
            "Epoch 52/100\n",
            "11/11 [==============================] - 0s 2ms/step - loss: 1.1239 - accuracy: 0.7289\n",
            "Epoch 53/100\n",
            "11/11 [==============================] - 0s 2ms/step - loss: 2.6065 - accuracy: 0.7259\n",
            "Epoch 54/100\n",
            "11/11 [==============================] - 0s 2ms/step - loss: 1.9087 - accuracy: 0.7318\n",
            "Epoch 55/100\n",
            "11/11 [==============================] - 0s 2ms/step - loss: 0.7445 - accuracy: 0.7551\n",
            "Epoch 56/100\n",
            "11/11 [==============================] - 0s 2ms/step - loss: 0.8883 - accuracy: 0.7318\n",
            "Epoch 57/100\n",
            "11/11 [==============================] - 0s 4ms/step - loss: 0.7447 - accuracy: 0.7755\n",
            "Epoch 58/100\n",
            "11/11 [==============================] - 0s 4ms/step - loss: 1.0754 - accuracy: 0.7609\n",
            "Epoch 59/100\n",
            "11/11 [==============================] - 0s 3ms/step - loss: 1.7538 - accuracy: 0.7434\n",
            "Epoch 60/100\n",
            "11/11 [==============================] - 0s 3ms/step - loss: 0.5920 - accuracy: 0.7843\n",
            "Epoch 61/100\n",
            "11/11 [==============================] - 0s 2ms/step - loss: 0.7712 - accuracy: 0.7930\n",
            "Epoch 62/100\n",
            "11/11 [==============================] - 0s 4ms/step - loss: 2.3372 - accuracy: 0.7464\n",
            "Epoch 63/100\n",
            "11/11 [==============================] - 0s 3ms/step - loss: 3.3994 - accuracy: 0.7347\n",
            "Epoch 64/100\n",
            "11/11 [==============================] - 0s 2ms/step - loss: 2.9266 - accuracy: 0.7434\n",
            "Epoch 65/100\n",
            "11/11 [==============================] - 0s 2ms/step - loss: 1.8496 - accuracy: 0.7405\n",
            "Epoch 66/100\n",
            "11/11 [==============================] - 0s 2ms/step - loss: 0.9274 - accuracy: 0.7580\n",
            "Epoch 67/100\n",
            "11/11 [==============================] - 0s 3ms/step - loss: 0.7450 - accuracy: 0.7143\n",
            "Epoch 68/100\n",
            "11/11 [==============================] - 0s 3ms/step - loss: 0.8292 - accuracy: 0.7784\n",
            "Epoch 69/100\n",
            "11/11 [==============================] - 0s 2ms/step - loss: 0.6429 - accuracy: 0.7347\n",
            "Epoch 70/100\n",
            "11/11 [==============================] - 0s 3ms/step - loss: 0.5722 - accuracy: 0.7843\n",
            "Epoch 71/100\n",
            "11/11 [==============================] - 0s 3ms/step - loss: 0.4968 - accuracy: 0.7609\n",
            "Epoch 72/100\n",
            "11/11 [==============================] - 0s 3ms/step - loss: 0.4945 - accuracy: 0.7697\n",
            "Epoch 73/100\n",
            "11/11 [==============================] - 0s 3ms/step - loss: 0.4854 - accuracy: 0.7813\n",
            "Epoch 74/100\n",
            "11/11 [==============================] - 0s 3ms/step - loss: 0.4652 - accuracy: 0.7901\n",
            "Epoch 75/100\n",
            "11/11 [==============================] - 0s 2ms/step - loss: 0.4583 - accuracy: 0.7988\n",
            "Epoch 76/100\n",
            "11/11 [==============================] - 0s 2ms/step - loss: 0.4989 - accuracy: 0.7755\n",
            "Epoch 77/100\n",
            "11/11 [==============================] - 0s 2ms/step - loss: 0.4598 - accuracy: 0.7959\n",
            "Epoch 78/100\n",
            "11/11 [==============================] - 0s 3ms/step - loss: 0.4498 - accuracy: 0.7843\n",
            "Epoch 79/100\n",
            "11/11 [==============================] - 0s 3ms/step - loss: 0.4531 - accuracy: 0.7959\n",
            "Epoch 80/100\n",
            "11/11 [==============================] - 0s 3ms/step - loss: 0.4884 - accuracy: 0.7755\n",
            "Epoch 81/100\n",
            "11/11 [==============================] - 0s 3ms/step - loss: 1.8374 - accuracy: 0.7464\n",
            "Epoch 82/100\n",
            "11/11 [==============================] - 0s 2ms/step - loss: 1.6901 - accuracy: 0.7522\n",
            "Epoch 83/100\n",
            "11/11 [==============================] - 0s 3ms/step - loss: 0.9165 - accuracy: 0.7755\n",
            "Epoch 84/100\n",
            "11/11 [==============================] - 0s 2ms/step - loss: 1.1480 - accuracy: 0.7143\n",
            "Epoch 85/100\n",
            "11/11 [==============================] - 0s 3ms/step - loss: 1.8754 - accuracy: 0.7464\n",
            "Epoch 86/100\n",
            "11/11 [==============================] - 0s 3ms/step - loss: 1.4013 - accuracy: 0.7551\n",
            "Epoch 87/100\n",
            "11/11 [==============================] - 0s 3ms/step - loss: 0.4835 - accuracy: 0.7697\n",
            "Epoch 88/100\n",
            "11/11 [==============================] - 0s 3ms/step - loss: 0.4871 - accuracy: 0.7901\n",
            "Epoch 89/100\n",
            "11/11 [==============================] - 0s 3ms/step - loss: 0.4952 - accuracy: 0.8047\n",
            "Epoch 90/100\n",
            "11/11 [==============================] - 0s 4ms/step - loss: 0.4529 - accuracy: 0.7988\n",
            "Epoch 91/100\n",
            "11/11 [==============================] - 0s 3ms/step - loss: 0.5200 - accuracy: 0.8076\n",
            "Epoch 92/100\n",
            "11/11 [==============================] - 0s 2ms/step - loss: 1.1467 - accuracy: 0.7464\n",
            "Epoch 93/100\n",
            "11/11 [==============================] - 0s 3ms/step - loss: 1.5482 - accuracy: 0.7522\n",
            "Epoch 94/100\n",
            "11/11 [==============================] - 0s 2ms/step - loss: 1.0337 - accuracy: 0.7901\n",
            "Epoch 95/100\n",
            "11/11 [==============================] - 0s 3ms/step - loss: 0.4998 - accuracy: 0.7930\n",
            "Epoch 96/100\n",
            "11/11 [==============================] - 0s 3ms/step - loss: 0.5895 - accuracy: 0.8047\n",
            "Epoch 97/100\n",
            "11/11 [==============================] - 0s 2ms/step - loss: 0.4584 - accuracy: 0.8076\n",
            "Epoch 98/100\n",
            "11/11 [==============================] - 0s 3ms/step - loss: 0.5044 - accuracy: 0.8076\n",
            "Epoch 99/100\n",
            "11/11 [==============================] - 0s 2ms/step - loss: 0.4484 - accuracy: 0.8017\n",
            "Epoch 100/100\n",
            "11/11 [==============================] - 0s 3ms/step - loss: 0.4363 - accuracy: 0.8076\n"
          ]
        },
        {
          "output_type": "execute_result",
          "data": {
            "text/plain": [
              "<keras.src.callbacks.History at 0x78b828a60a60>"
            ]
          },
          "metadata": {},
          "execution_count": 76
        }
      ]
    },
    {
      "cell_type": "code",
      "source": [
        "Y_predic5full = annfull.predict(X_Test)\n",
        "threshold = 0.5\n",
        "Y_predic5full = (Y_predic5full > threshold).astype(int)\n",
        "accuracy_score(Y_Test, Y_predic5full)"
      ],
      "metadata": {
        "colab": {
          "base_uri": "https://localhost:8080/"
        },
        "id": "K9TPpmulTz5I",
        "outputId": "7db2893e-a539-4a1c-9af3-0b1e34ef89a9"
      },
      "execution_count": 77,
      "outputs": [
        {
          "output_type": "stream",
          "name": "stdout",
          "text": [
            "11/11 [==============================] - 0s 2ms/step\n"
          ]
        },
        {
          "output_type": "execute_result",
          "data": {
            "text/plain": [
              "0.7348703170028819"
            ]
          },
          "metadata": {},
          "execution_count": 77
        }
      ]
    }
  ]
}
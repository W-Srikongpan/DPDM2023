{
  "nbformat": 4,
  "nbformat_minor": 0,
  "metadata": {
    "colab": {
      "provenance": [],
      "authorship_tag": "ABX9TyMLMV7qhET+oPnGuExPFGtH",
      "include_colab_link": true
    },
    "kernelspec": {
      "name": "python3",
      "display_name": "Python 3"
    },
    "language_info": {
      "name": "python"
    }
  },
  "cells": [
    {
      "cell_type": "markdown",
      "metadata": {
        "id": "view-in-github",
        "colab_type": "text"
      },
      "source": [
        "<a href=\"https://colab.research.google.com/github/W-Srikongpan/DPDM2023/blob/main/Classification.ipynb\" target=\"_parent\"><img src=\"https://colab.research.google.com/assets/colab-badge.svg\" alt=\"Open In Colab\"/></a>"
      ]
    },
    {
      "cell_type": "markdown",
      "source": [
        "#Classification"
      ],
      "metadata": {
        "id": "J6qEYNyS9N-u"
      }
    },
    {
      "cell_type": "code",
      "execution_count": null,
      "metadata": {
        "id": "SQdVRPYxtJUE"
      },
      "outputs": [],
      "source": [
        "from google.colab import drive\n",
        "drive.mount('/content/drive')"
      ]
    },
    {
      "cell_type": "markdown",
      "source": [
        "##Data Preparation"
      ],
      "metadata": {
        "id": "fX-EgNBR9tuQ"
      }
    },
    {
      "cell_type": "code",
      "source": [
        "import pandas as pd\n",
        "import numpy as np"
      ],
      "metadata": {
        "id": "VvNiGM-9_KKN"
      },
      "execution_count": null,
      "outputs": []
    },
    {
      "cell_type": "markdown",
      "source": [
        "Number of Instances: 690\n",
        "\n",
        "Number of Attributes: 15 + class attribute\n",
        "\n",
        "Attribute Information:\n",
        "\n",
        "    A1:\tb, a.\n",
        "    A2:\tcontinuous.\n",
        "    A3:\tcontinuous.\n",
        "    A4:\tu, y, l, t.\n",
        "    A5:\tg, p, gg.\n",
        "    A6:\tc, d, cc, i, j, k, m, r, q, w, x, e, aa, ff.\n",
        "    A7:\tv, h, bb, j, n, z, dd, ff, o.\n",
        "    A8:\tcontinuous.\n",
        "    A9:\tt, f.\n",
        "    A10:\tt, f.\n",
        "    A11:\tcontinuous.\n",
        "    A12:\tt, f.\n",
        "    A13:\tg, p, s.\n",
        "    A14:\tcontinuous.\n",
        "    A15:\tcontinuous.\n",
        "    A16: +,-         (class attribute)\n",
        "\n",
        " Missing Attribute Values:\n",
        "    37 cases (5%) have one or more missing values.  The missing\n",
        "    values from particular attributes are:\n",
        "\n",
        "    A1:  12\n",
        "    A2:  12\n",
        "    A4:   6\n",
        "    A5:   6\n",
        "    A6:   9\n",
        "    A7:   9\n",
        "    A14: 13\n",
        "\n",
        "Class Distribution\n",
        "  \n",
        "    +: 307 (44.5%)\n",
        "    -: 383 (55.5%)\n"
      ],
      "metadata": {
        "id": "puk6vazcAIY6"
      }
    },
    {
      "cell_type": "code",
      "source": [
        "col_name = ['a1','a2','a3','a4','a5','a6','a7','a8','a9',\n",
        "            'a10','a11','a12','a13','a14','a15','a16']"
      ],
      "metadata": {
        "id": "WHrmIenoAvom"
      },
      "execution_count": null,
      "outputs": []
    },
    {
      "cell_type": "code",
      "source": [
        "credit = pd.read_csv('/content/drive/MyDrive/DPDM2023_DATA/crx.data',header = None,names = col_name)"
      ],
      "metadata": {
        "id": "EbifZgR8_K04"
      },
      "execution_count": null,
      "outputs": []
    },
    {
      "cell_type": "code",
      "source": [
        "print(credit.shape)\n",
        "credit.head()"
      ],
      "metadata": {
        "id": "U_cn2YxwBS2S"
      },
      "execution_count": null,
      "outputs": []
    },
    {
      "cell_type": "code",
      "source": [
        "credit = credit[['a3','a8','a9','a10','a11','a12','a13','a15','a16']]"
      ],
      "metadata": {
        "id": "mL_73qAGBi6z"
      },
      "execution_count": null,
      "outputs": []
    },
    {
      "cell_type": "code",
      "source": [
        "credit.isnull().any() #check null"
      ],
      "metadata": {
        "id": "OFaPTS6qB1-D"
      },
      "execution_count": null,
      "outputs": []
    },
    {
      "cell_type": "markdown",
      "source": [
        "preeprocessing"
      ],
      "metadata": {
        "id": "w7h8qd4WFOAH"
      }
    },
    {
      "cell_type": "code",
      "source": [
        "credit = credit.replace({'t':1,'f':0,'g':1,'p':2,'s':3,'+':1,'-':0})\n",
        "#change tesx to number >> t is 1, f is 0\n",
        "credit"
      ],
      "metadata": {
        "id": "mux32vPHFNNV"
      },
      "execution_count": null,
      "outputs": []
    },
    {
      "cell_type": "markdown",
      "source": [
        "##Try simple ML"
      ],
      "metadata": {
        "id": "s0qKaf6TCACi"
      }
    },
    {
      "cell_type": "code",
      "source": [
        "import numpy as np"
      ],
      "metadata": {
        "id": "pOS3TquwCnOJ"
      },
      "execution_count": null,
      "outputs": []
    },
    {
      "cell_type": "code",
      "source": [
        "np.random.seed(seed = 1 ) #set seed = 1"
      ],
      "metadata": {
        "id": "LBYLK82HESGz"
      },
      "execution_count": null,
      "outputs": []
    },
    {
      "cell_type": "code",
      "source": [
        "a = np.random.randint(2,size = len(credit),) #random number 0 and 1 ,size 690\n",
        "a"
      ],
      "metadata": {
        "id": "0wYZCY_ACjbX"
      },
      "execution_count": null,
      "outputs": []
    },
    {
      "cell_type": "code",
      "source": [
        "train = credit[a==1] #let a = 1 is train\n",
        "train.shape"
      ],
      "metadata": {
        "id": "BmE7Bae8C7dY"
      },
      "execution_count": null,
      "outputs": []
    },
    {
      "cell_type": "code",
      "source": [
        "test = credit[a==0] #let a = 0 is test\n",
        "test.shape"
      ],
      "metadata": {
        "id": "UH9Tdcj5DOVT"
      },
      "execution_count": null,
      "outputs": []
    },
    {
      "cell_type": "markdown",
      "source": [
        "#Start Decision Tree"
      ],
      "metadata": {
        "id": "71sYKCW-fNOV"
      }
    },
    {
      "cell_type": "markdown",
      "source": [
        "###Import"
      ],
      "metadata": {
        "id": "8_dqXER4CDuO"
      }
    },
    {
      "cell_type": "code",
      "source": [
        "from sklearn.tree import DecisionTreeClassifier\n",
        "from sklearn import tree"
      ],
      "metadata": {
        "id": "8nuQThwNB9Gr"
      },
      "execution_count": null,
      "outputs": []
    },
    {
      "cell_type": "markdown",
      "source": [
        "##Defind"
      ],
      "metadata": {
        "id": "yHMNdlclCILG"
      }
    },
    {
      "cell_type": "code",
      "source": [
        "Dtreet1 =  DecisionTreeClassifier(random_state=0)\n",
        "Dtreet1"
      ],
      "metadata": {
        "id": "IyKbUoFJCKF3"
      },
      "execution_count": null,
      "outputs": []
    },
    {
      "cell_type": "markdown",
      "source": [
        "##Train"
      ],
      "metadata": {
        "id": "uTUk9VUPCKjL"
      }
    },
    {
      "cell_type": "code",
      "source": [
        "X_train = train.iloc[:,:-1] #let train x and y\n",
        "Y_train = train.iloc[:,-1]"
      ],
      "metadata": {
        "id": "MprKNwlVFDxM"
      },
      "execution_count": null,
      "outputs": []
    },
    {
      "cell_type": "code",
      "source": [
        "Dtreet1 = Dtreet1.fit(X_train,Y_train)\n",
        "Dtreet1"
      ],
      "metadata": {
        "id": "RG4HJCWWGA4G"
      },
      "execution_count": null,
      "outputs": []
    },
    {
      "cell_type": "code",
      "source": [
        "tree.plot_tree(Dtreet1); #plot decision tree"
      ],
      "metadata": {
        "id": "dLBZ3nLNGafQ"
      },
      "execution_count": null,
      "outputs": []
    },
    {
      "cell_type": "markdown",
      "source": [
        "##Test\n"
      ],
      "metadata": {
        "id": "drfkycyWCMm-"
      }
    },
    {
      "cell_type": "code",
      "source": [
        "X_test = test.iloc[:,:-1] #let test x and y\n",
        "Y_test = test.iloc[:,-1]"
      ],
      "metadata": {
        "id": "WEJ-uJVrCOAi"
      },
      "execution_count": null,
      "outputs": []
    },
    {
      "cell_type": "code",
      "source": [
        "y_predict = Dtreet1.predict(X_test) #predict y from X_test"
      ],
      "metadata": {
        "id": "0TJytgVjHRVj"
      },
      "execution_count": null,
      "outputs": []
    },
    {
      "cell_type": "code",
      "source": [
        "y_predict"
      ],
      "metadata": {
        "id": "84NzC3DegcZo"
      },
      "execution_count": null,
      "outputs": []
    },
    {
      "cell_type": "code",
      "source": [
        "from sklearn.metrics import accuracy_score\n",
        "accuracy_score(Y_test, y_predict) #accuracy by y test and y predict"
      ],
      "metadata": {
        "id": "eU3C7CN7HcT-"
      },
      "execution_count": null,
      "outputs": []
    },
    {
      "cell_type": "markdown",
      "source": [
        "## Set parameter"
      ],
      "metadata": {
        "id": "EiZPzgCPH-yM"
      }
    },
    {
      "cell_type": "markdown",
      "source": [
        "###Import\n"
      ],
      "metadata": {
        "id": "Lyhvto5HIMSQ"
      }
    },
    {
      "cell_type": "code",
      "source": [
        "from sklearn.tree import DecisionTreeClassifier"
      ],
      "metadata": {
        "id": "GE86fIP8IPaV"
      },
      "execution_count": null,
      "outputs": []
    },
    {
      "cell_type": "markdown",
      "source": [
        "###Defind"
      ],
      "metadata": {
        "id": "G3NQMkb4ICKg"
      }
    },
    {
      "cell_type": "code",
      "source": [
        "Dtreet2 = DecisionTreeClassifier(random_state=0, max_depth=4) #Add max_depth=4 is version 2"
      ],
      "metadata": {
        "id": "LRtOthyVISWt"
      },
      "execution_count": null,
      "outputs": []
    },
    {
      "cell_type": "markdown",
      "source": [
        "###train"
      ],
      "metadata": {
        "id": "vVPrR-nqIFQ1"
      }
    },
    {
      "cell_type": "code",
      "source": [
        "Dtreet2 = Dtreet2.fit(X_train,Y_train)"
      ],
      "metadata": {
        "id": "-Wj7Cp2RJllQ"
      },
      "execution_count": null,
      "outputs": []
    },
    {
      "cell_type": "code",
      "source": [
        "tree.plot_tree(Dtreet2); #plot decision tree"
      ],
      "metadata": {
        "id": "gggY9ODBItyk"
      },
      "execution_count": null,
      "outputs": []
    },
    {
      "cell_type": "markdown",
      "source": [
        "###Test"
      ],
      "metadata": {
        "id": "kD5-nv2CIJdG"
      }
    },
    {
      "cell_type": "code",
      "source": [
        "y_predic2 = Dtreet2.predict(X_test)"
      ],
      "metadata": {
        "id": "czkpIxs2IJCT"
      },
      "execution_count": null,
      "outputs": []
    },
    {
      "cell_type": "code",
      "source": [
        "accuracy_score(Y_test,y_predic2) #if let max_depth=4 have accuracy better than version 1"
      ],
      "metadata": {
        "id": "oH72hz2fHnIb"
      },
      "execution_count": null,
      "outputs": []
    },
    {
      "cell_type": "markdown",
      "source": [
        "# HW 5\n",
        "\n",
        "build a decision tree model which has better accurancy than 0.86 and descibe about parameters you set"
      ],
      "metadata": {
        "id": "LnTO_JmFJpiG"
      }
    },
    {
      "cell_type": "markdown",
      "source": [
        "##Import\n"
      ],
      "metadata": {
        "id": "tY-R70fvKXU0"
      }
    },
    {
      "cell_type": "code",
      "source": [
        "from sklearn.tree import DecisionTreeClassifier\n",
        "from sklearn.metrics import accuracy_score\n",
        "from sklearn import tree\n",
        "import numpy as np"
      ],
      "metadata": {
        "id": "MjbSTPIyKCj3"
      },
      "execution_count": null,
      "outputs": []
    },
    {
      "cell_type": "markdown",
      "source": [
        "##Solution\n"
      ],
      "metadata": {
        "id": "g3iZztKsKc1a"
      }
    },
    {
      "cell_type": "code",
      "source": [
        "scores_acc = []\n",
        "\n",
        "for max_depth in range(1,11):\n",
        "    #defind\n",
        "    Dtree = DecisionTreeClassifier(random_state=0, max_depth=max_depth)\n",
        "    #train\n",
        "    Dtree2 = Dtree.fit(X_train, Y_train)\n",
        "    #test\n",
        "    y_predic = Dtree2.predict(X_test)\n",
        "    scores = accuracy_score(Y_test, y_predic)\n",
        "    scores_acc.append(scores)\n",
        "    print(f\"max_depth={max_depth}, min_samples_split={i}, Accuracy={scores}\")"
      ],
      "metadata": {
        "id": "H_CgFjEFKgFJ"
      },
      "execution_count": null,
      "outputs": []
    },
    {
      "cell_type": "code",
      "source": [
        "max_scores = np.max(scores_acc)\n",
        "print(\"Maximum Accuracy:\", max_scores)"
      ],
      "metadata": {
        "id": "-J1mf0YYKy2I"
      },
      "execution_count": null,
      "outputs": []
    },
    {
      "cell_type": "code",
      "source": [
        "Dtree = DecisionTreeClassifier(random_state=0, max_depth=max_depth)\n",
        "Dtree2 = Dtree.fit(X_train, Y_train)\n",
        "tree.plot_tree(Dtree2);"
      ],
      "metadata": {
        "id": "9RKbQuFTM47w",
        "outputId": "33a218ba-c56b-4eae-d3fc-08d2740230bf",
        "colab": {
          "base_uri": "https://localhost:8080/",
          "height": 406
        }
      },
      "execution_count": 197,
      "outputs": [
        {
          "data": {
            "image/png": "[encoded data removed]",
            "text/plain": [
              "<Figure size 640x480 with 1 Axes>"
            ]
          },
          "metadata": {},
          "output_type": "display_data"
        }
      ]
    },
    {
      "cell_type": "markdown",
      "source": [
        "The accuaracy will increase. Therefore the accuracy is 0.8715846994535519"
      ],
      "metadata": {
        "id": "JEiZAum-LNah"
      }
    },
    {
      "cell_type": "markdown",
      "source": [
        "DecisionTreeClassifier\n",
        "\n",
        "    DecisionTreeClassifier(*, criterion='gini', splitter='best', max_depth=None, min_samples_split=2, min_samples_leaf=1, min_weight_fraction_leaf=0.0, max_features=None, random_state=None, max_leaf_nodes=None, min_impurity_decrease=0.0, class_weight=None, ccp_alpha=0.0"
      ],
      "metadata": {
        "id": "DKFlFEskLdc7"
      }
    },
    {
      "cell_type": "markdown",
      "source": [
        "##Solution"
      ],
      "metadata": {
        "id": "GoICE91JLnmE"
      }
    },
    {
      "cell_type": "code",
      "source": [
        "scores_acc2 = []\n",
        "\n",
        "for max_depth in range(1,6):\n",
        "    for i in range(2, 51):\n",
        "        # Define\n",
        "        Dtree = DecisionTreeClassifier(random_state=0, max_depth=max_depth, min_samples_split=i)\n",
        "\n",
        "        # Train\n",
        "        Dtree2 = Dtree.fit(X_train, Y_train)\n",
        "\n",
        "        # Test\n",
        "        y_predic = Dtree2.predict(X_test)\n",
        "\n",
        "\n",
        "        scores = accuracy_score(Y_test, y_predic)\n",
        "        scores_acc2.append(scores)\n",
        "        print(f\"max_depth={max_depth}, min_samples_split={i}, Accuracy={scores}\")"
      ],
      "metadata": {
        "colab": {
          "base_uri": "https://localhost:8080/"
        },
        "id": "vDfEG5GbLmrv",
        "outputId": "320d5d9a-46eb-4106-a194-f579fb6e1cf7"
      },
      "execution_count": 198,
      "outputs": [
        {
          "metadata": {
            "tags": null
          },
          "name": "stdout",
          "output_type": "stream",
          "text": [
            "max_depth=1, min_samples_split=2, Accuracy=0.8715846994535519\n",
            "max_depth=1, min_samples_split=3, Accuracy=0.8715846994535519\n",
            "max_depth=1, min_samples_split=4, Accuracy=0.8715846994535519\n",
            "max_depth=1, min_samples_split=5, Accuracy=0.8715846994535519\n",
            "max_depth=1, min_samples_split=6, Accuracy=0.8715846994535519\n",
            "max_depth=1, min_samples_split=7, Accuracy=0.8715846994535519\n",
            "max_depth=1, min_samples_split=8, Accuracy=0.8715846994535519\n",
            "max_depth=1, min_samples_split=9, Accuracy=0.8715846994535519\n",
            "max_depth=1, min_samples_split=10, Accuracy=0.8715846994535519\n",
            "max_depth=1, min_samples_split=11, Accuracy=0.8715846994535519\n",
            "max_depth=1, min_samples_split=12, Accuracy=0.8715846994535519\n",
            "max_depth=1, min_samples_split=13, Accuracy=0.8715846994535519\n",
            "max_depth=1, min_samples_split=14, Accuracy=0.8715846994535519\n",
            "max_depth=1, min_samples_split=15, Accuracy=0.8715846994535519\n",
            "max_depth=1, min_samples_split=16, Accuracy=0.8715846994535519\n",
            "max_depth=1, min_samples_split=17, Accuracy=0.8715846994535519\n",
            "max_depth=1, min_samples_split=18, Accuracy=0.8715846994535519\n",
            "max_depth=1, min_samples_split=19, Accuracy=0.8715846994535519\n",
            "max_depth=1, min_samples_split=20, Accuracy=0.8715846994535519\n",
            "max_depth=1, min_samples_split=21, Accuracy=0.8715846994535519\n",
            "max_depth=1, min_samples_split=22, Accuracy=0.8715846994535519\n",
            "max_depth=1, min_samples_split=23, Accuracy=0.8715846994535519\n",
            "max_depth=1, min_samples_split=24, Accuracy=0.8715846994535519\n",
            "max_depth=1, min_samples_split=25, Accuracy=0.8715846994535519\n",
            "max_depth=1, min_samples_split=26, Accuracy=0.8715846994535519\n",
            "max_depth=1, min_samples_split=27, Accuracy=0.8715846994535519\n",
            "max_depth=1, min_samples_split=28, Accuracy=0.8715846994535519\n",
            "max_depth=1, min_samples_split=29, Accuracy=0.8715846994535519\n",
            "max_depth=1, min_samples_split=30, Accuracy=0.8715846994535519\n",
            "max_depth=1, min_samples_split=31, Accuracy=0.8715846994535519\n",
            "max_depth=1, min_samples_split=32, Accuracy=0.8715846994535519\n",
            "max_depth=1, min_samples_split=33, Accuracy=0.8715846994535519\n",
            "max_depth=1, min_samples_split=34, Accuracy=0.8715846994535519\n",
            "max_depth=1, min_samples_split=35, Accuracy=0.8715846994535519\n",
            "max_depth=1, min_samples_split=36, Accuracy=0.8715846994535519\n",
            "max_depth=1, min_samples_split=37, Accuracy=0.8715846994535519\n",
            "max_depth=1, min_samples_split=38, Accuracy=0.8715846994535519\n",
            "max_depth=1, min_samples_split=39, Accuracy=0.8715846994535519\n",
            "max_depth=1, min_samples_split=40, Accuracy=0.8715846994535519\n",
            "max_depth=1, min_samples_split=41, Accuracy=0.8715846994535519\n",
            "max_depth=1, min_samples_split=42, Accuracy=0.8715846994535519\n",
            "max_depth=1, min_samples_split=43, Accuracy=0.8715846994535519\n",
            "max_depth=1, min_samples_split=44, Accuracy=0.8715846994535519\n",
            "max_depth=1, min_samples_split=45, Accuracy=0.8715846994535519\n",
            "max_depth=1, min_samples_split=46, Accuracy=0.8715846994535519\n",
            "max_depth=1, min_samples_split=47, Accuracy=0.8715846994535519\n",
            "max_depth=1, min_samples_split=48, Accuracy=0.8715846994535519\n",
            "max_depth=1, min_samples_split=49, Accuracy=0.8715846994535519\n",
            "max_depth=1, min_samples_split=50, Accuracy=0.8715846994535519\n",
            "max_depth=2, min_samples_split=2, Accuracy=0.8715846994535519\n",
            "max_depth=2, min_samples_split=3, Accuracy=0.8715846994535519\n",
            "max_depth=2, min_samples_split=4, Accuracy=0.8715846994535519\n",
            "max_depth=2, min_samples_split=5, Accuracy=0.8715846994535519\n",
            "max_depth=2, min_samples_split=6, Accuracy=0.8715846994535519\n",
            "max_depth=2, min_samples_split=7, Accuracy=0.8715846994535519\n",
            "max_depth=2, min_samples_split=8, Accuracy=0.8715846994535519\n",
            "max_depth=2, min_samples_split=9, Accuracy=0.8715846994535519\n",
            "max_depth=2, min_samples_split=10, Accuracy=0.8715846994535519\n",
            "max_depth=2, min_samples_split=11, Accuracy=0.8715846994535519\n",
            "max_depth=2, min_samples_split=12, Accuracy=0.8715846994535519\n",
            "max_depth=2, min_samples_split=13, Accuracy=0.8715846994535519\n",
            "max_depth=2, min_samples_split=14, Accuracy=0.8715846994535519\n",
            "max_depth=2, min_samples_split=15, Accuracy=0.8715846994535519\n",
            "max_depth=2, min_samples_split=16, Accuracy=0.8715846994535519\n",
            "max_depth=2, min_samples_split=17, Accuracy=0.8715846994535519\n",
            "max_depth=2, min_samples_split=18, Accuracy=0.8715846994535519\n",
            "max_depth=2, min_samples_split=19, Accuracy=0.8715846994535519\n",
            "max_depth=2, min_samples_split=20, Accuracy=0.8715846994535519\n",
            "max_depth=2, min_samples_split=21, Accuracy=0.8715846994535519\n",
            "max_depth=2, min_samples_split=22, Accuracy=0.8715846994535519\n",
            "max_depth=2, min_samples_split=23, Accuracy=0.8715846994535519\n",
            "max_depth=2, min_samples_split=24, Accuracy=0.8715846994535519\n",
            "max_depth=2, min_samples_split=25, Accuracy=0.8715846994535519\n",
            "max_depth=2, min_samples_split=26, Accuracy=0.8715846994535519\n",
            "max_depth=2, min_samples_split=27, Accuracy=0.8715846994535519\n",
            "max_depth=2, min_samples_split=28, Accuracy=0.8715846994535519\n",
            "max_depth=2, min_samples_split=29, Accuracy=0.8715846994535519\n",
            "max_depth=2, min_samples_split=30, Accuracy=0.8715846994535519\n",
            "max_depth=2, min_samples_split=31, Accuracy=0.8715846994535519\n",
            "max_depth=2, min_samples_split=32, Accuracy=0.8715846994535519\n",
            "max_depth=2, min_samples_split=33, Accuracy=0.8715846994535519\n",
            "max_depth=2, min_samples_split=34, Accuracy=0.8715846994535519\n",
            "max_depth=2, min_samples_split=35, Accuracy=0.8715846994535519\n",
            "max_depth=2, min_samples_split=36, Accuracy=0.8715846994535519\n",
            "max_depth=2, min_samples_split=37, Accuracy=0.8715846994535519\n",
            "max_depth=2, min_samples_split=38, Accuracy=0.8715846994535519\n",
            "max_depth=2, min_samples_split=39, Accuracy=0.8715846994535519\n",
            "max_depth=2, min_samples_split=40, Accuracy=0.8715846994535519\n",
            "max_depth=2, min_samples_split=41, Accuracy=0.8715846994535519\n",
            "max_depth=2, min_samples_split=42, Accuracy=0.8715846994535519\n",
            "max_depth=2, min_samples_split=43, Accuracy=0.8715846994535519\n",
            "max_depth=2, min_samples_split=44, Accuracy=0.8715846994535519\n",
            "max_depth=2, min_samples_split=45, Accuracy=0.8715846994535519\n",
            "max_depth=2, min_samples_split=46, Accuracy=0.8715846994535519\n",
            "max_depth=2, min_samples_split=47, Accuracy=0.8715846994535519\n",
            "max_depth=2, min_samples_split=48, Accuracy=0.8715846994535519\n",
            "max_depth=2, min_samples_split=49, Accuracy=0.8715846994535519\n",
            "max_depth=2, min_samples_split=50, Accuracy=0.8715846994535519\n",
            "max_depth=3, min_samples_split=2, Accuracy=0.8633879781420765\n",
            "max_depth=3, min_samples_split=3, Accuracy=0.8633879781420765\n",
            "max_depth=3, min_samples_split=4, Accuracy=0.8633879781420765\n",
            "max_depth=3, min_samples_split=5, Accuracy=0.8633879781420765\n",
            "max_depth=3, min_samples_split=6, Accuracy=0.8633879781420765\n",
            "max_depth=3, min_samples_split=7, Accuracy=0.8633879781420765\n",
            "max_depth=3, min_samples_split=8, Accuracy=0.8633879781420765\n",
            "max_depth=3, min_samples_split=9, Accuracy=0.8661202185792349\n",
            "max_depth=3, min_samples_split=10, Accuracy=0.8661202185792349\n",
            "max_depth=3, min_samples_split=11, Accuracy=0.8661202185792349\n",
            "max_depth=3, min_samples_split=12, Accuracy=0.8661202185792349\n",
            "max_depth=3, min_samples_split=13, Accuracy=0.8661202185792349\n",
            "max_depth=3, min_samples_split=14, Accuracy=0.8661202185792349\n",
            "max_depth=3, min_samples_split=15, Accuracy=0.8661202185792349\n",
            "max_depth=3, min_samples_split=16, Accuracy=0.8661202185792349\n",
            "max_depth=3, min_samples_split=17, Accuracy=0.8661202185792349\n",
            "max_depth=3, min_samples_split=18, Accuracy=0.8661202185792349\n",
            "max_depth=3, min_samples_split=19, Accuracy=0.8661202185792349\n",
            "max_depth=3, min_samples_split=20, Accuracy=0.8661202185792349\n",
            "max_depth=3, min_samples_split=21, Accuracy=0.8661202185792349\n",
            "max_depth=3, min_samples_split=22, Accuracy=0.8661202185792349\n",
            "max_depth=3, min_samples_split=23, Accuracy=0.8661202185792349\n",
            "max_depth=3, min_samples_split=24, Accuracy=0.8661202185792349\n",
            "max_depth=3, min_samples_split=25, Accuracy=0.8661202185792349\n",
            "max_depth=3, min_samples_split=26, Accuracy=0.8661202185792349\n",
            "max_depth=3, min_samples_split=27, Accuracy=0.8661202185792349\n",
            "max_depth=3, min_samples_split=28, Accuracy=0.8661202185792349\n",
            "max_depth=3, min_samples_split=29, Accuracy=0.8661202185792349\n",
            "max_depth=3, min_samples_split=30, Accuracy=0.8661202185792349\n",
            "max_depth=3, min_samples_split=31, Accuracy=0.8661202185792349\n",
            "max_depth=3, min_samples_split=32, Accuracy=0.8661202185792349\n",
            "max_depth=3, min_samples_split=33, Accuracy=0.8661202185792349\n",
            "max_depth=3, min_samples_split=34, Accuracy=0.8661202185792349\n",
            "max_depth=3, min_samples_split=35, Accuracy=0.8661202185792349\n",
            "max_depth=3, min_samples_split=36, Accuracy=0.8661202185792349\n",
            "max_depth=3, min_samples_split=37, Accuracy=0.8661202185792349\n",
            "max_depth=3, min_samples_split=38, Accuracy=0.8661202185792349\n",
            "max_depth=3, min_samples_split=39, Accuracy=0.8661202185792349\n",
            "max_depth=3, min_samples_split=40, Accuracy=0.8661202185792349\n",
            "max_depth=3, min_samples_split=41, Accuracy=0.8661202185792349\n",
            "max_depth=3, min_samples_split=42, Accuracy=0.8661202185792349\n",
            "max_depth=3, min_samples_split=43, Accuracy=0.8661202185792349\n",
            "max_depth=3, min_samples_split=44, Accuracy=0.8661202185792349\n",
            "max_depth=3, min_samples_split=45, Accuracy=0.8661202185792349\n",
            "max_depth=3, min_samples_split=46, Accuracy=0.8661202185792349\n",
            "max_depth=3, min_samples_split=47, Accuracy=0.8661202185792349\n",
            "max_depth=3, min_samples_split=48, Accuracy=0.8661202185792349\n",
            "max_depth=3, min_samples_split=49, Accuracy=0.8661202185792349\n",
            "max_depth=3, min_samples_split=50, Accuracy=0.8661202185792349\n",
            "max_depth=4, min_samples_split=2, Accuracy=0.8579234972677595\n",
            "max_depth=4, min_samples_split=3, Accuracy=0.8579234972677595\n",
            "max_depth=4, min_samples_split=4, Accuracy=0.8579234972677595\n",
            "max_depth=4, min_samples_split=5, Accuracy=0.8579234972677595\n",
            "max_depth=4, min_samples_split=6, Accuracy=0.8579234972677595\n",
            "max_depth=4, min_samples_split=7, Accuracy=0.8579234972677595\n",
            "max_depth=4, min_samples_split=8, Accuracy=0.8579234972677595\n",
            "max_depth=4, min_samples_split=9, Accuracy=0.860655737704918\n",
            "max_depth=4, min_samples_split=10, Accuracy=0.8688524590163934\n",
            "max_depth=4, min_samples_split=11, Accuracy=0.8688524590163934\n",
            "max_depth=4, min_samples_split=12, Accuracy=0.8688524590163934\n",
            "max_depth=4, min_samples_split=13, Accuracy=0.8688524590163934\n",
            "max_depth=4, min_samples_split=14, Accuracy=0.8688524590163934\n",
            "max_depth=4, min_samples_split=15, Accuracy=0.8688524590163934\n",
            "max_depth=4, min_samples_split=16, Accuracy=0.8688524590163934\n",
            "max_depth=4, min_samples_split=17, Accuracy=0.8688524590163934\n",
            "max_depth=4, min_samples_split=18, Accuracy=0.8688524590163934\n",
            "max_depth=4, min_samples_split=19, Accuracy=0.8688524590163934\n",
            "max_depth=4, min_samples_split=20, Accuracy=0.8688524590163934\n",
            "max_depth=4, min_samples_split=21, Accuracy=0.8688524590163934\n",
            "max_depth=4, min_samples_split=22, Accuracy=0.8715846994535519\n",
            "max_depth=4, min_samples_split=23, Accuracy=0.8715846994535519\n",
            "max_depth=4, min_samples_split=24, Accuracy=0.8715846994535519\n",
            "max_depth=4, min_samples_split=25, Accuracy=0.8715846994535519\n",
            "max_depth=4, min_samples_split=26, Accuracy=0.8715846994535519\n",
            "max_depth=4, min_samples_split=27, Accuracy=0.8715846994535519\n",
            "max_depth=4, min_samples_split=28, Accuracy=0.8715846994535519\n",
            "max_depth=4, min_samples_split=29, Accuracy=0.8715846994535519\n",
            "max_depth=4, min_samples_split=30, Accuracy=0.8715846994535519\n",
            "max_depth=4, min_samples_split=31, Accuracy=0.8715846994535519\n",
            "max_depth=4, min_samples_split=32, Accuracy=0.8715846994535519\n",
            "max_depth=4, min_samples_split=33, Accuracy=0.8715846994535519\n",
            "max_depth=4, min_samples_split=34, Accuracy=0.8715846994535519\n",
            "max_depth=4, min_samples_split=35, Accuracy=0.8715846994535519\n",
            "max_depth=4, min_samples_split=36, Accuracy=0.8715846994535519\n",
            "max_depth=4, min_samples_split=37, Accuracy=0.8715846994535519\n",
            "max_depth=4, min_samples_split=38, Accuracy=0.8715846994535519\n",
            "max_depth=4, min_samples_split=39, Accuracy=0.8715846994535519\n",
            "max_depth=4, min_samples_split=40, Accuracy=0.8715846994535519\n",
            "max_depth=4, min_samples_split=41, Accuracy=0.8715846994535519\n",
            "max_depth=4, min_samples_split=42, Accuracy=0.8715846994535519\n",
            "max_depth=4, min_samples_split=43, Accuracy=0.8715846994535519\n",
            "max_depth=4, min_samples_split=44, Accuracy=0.8715846994535519\n",
            "max_depth=4, min_samples_split=45, Accuracy=0.8715846994535519\n",
            "max_depth=4, min_samples_split=46, Accuracy=0.8715846994535519\n",
            "max_depth=4, min_samples_split=47, Accuracy=0.8715846994535519\n",
            "max_depth=4, min_samples_split=48, Accuracy=0.8715846994535519\n",
            "max_depth=4, min_samples_split=49, Accuracy=0.8715846994535519\n",
            "max_depth=4, min_samples_split=50, Accuracy=0.8715846994535519\n",
            "max_depth=5, min_samples_split=2, Accuracy=0.8688524590163934\n",
            "max_depth=5, min_samples_split=3, Accuracy=0.8688524590163934\n",
            "max_depth=5, min_samples_split=4, Accuracy=0.8688524590163934\n",
            "max_depth=5, min_samples_split=5, Accuracy=0.8688524590163934\n",
            "max_depth=5, min_samples_split=6, Accuracy=0.8688524590163934\n",
            "max_depth=5, min_samples_split=7, Accuracy=0.8688524590163934\n",
            "max_depth=5, min_samples_split=8, Accuracy=0.8688524590163934\n",
            "max_depth=5, min_samples_split=9, Accuracy=0.8715846994535519\n",
            "max_depth=5, min_samples_split=10, Accuracy=0.8797814207650273\n",
            "max_depth=5, min_samples_split=11, Accuracy=0.8797814207650273\n",
            "max_depth=5, min_samples_split=12, Accuracy=0.8797814207650273\n",
            "max_depth=5, min_samples_split=13, Accuracy=0.8797814207650273\n",
            "max_depth=5, min_samples_split=14, Accuracy=0.8797814207650273\n",
            "max_depth=5, min_samples_split=15, Accuracy=0.8797814207650273\n",
            "max_depth=5, min_samples_split=16, Accuracy=0.8797814207650273\n",
            "max_depth=5, min_samples_split=17, Accuracy=0.8797814207650273\n",
            "max_depth=5, min_samples_split=18, Accuracy=0.8797814207650273\n",
            "max_depth=5, min_samples_split=19, Accuracy=0.8797814207650273\n",
            "max_depth=5, min_samples_split=20, Accuracy=0.8797814207650273\n",
            "max_depth=5, min_samples_split=21, Accuracy=0.8797814207650273\n",
            "max_depth=5, min_samples_split=22, Accuracy=0.8825136612021858\n",
            "max_depth=5, min_samples_split=23, Accuracy=0.8825136612021858\n",
            "max_depth=5, min_samples_split=24, Accuracy=0.8825136612021858\n",
            "max_depth=5, min_samples_split=25, Accuracy=0.8825136612021858\n",
            "max_depth=5, min_samples_split=26, Accuracy=0.8825136612021858\n",
            "max_depth=5, min_samples_split=27, Accuracy=0.8825136612021858\n",
            "max_depth=5, min_samples_split=28, Accuracy=0.8825136612021858\n",
            "max_depth=5, min_samples_split=29, Accuracy=0.8825136612021858\n",
            "max_depth=5, min_samples_split=30, Accuracy=0.8825136612021858\n",
            "max_depth=5, min_samples_split=31, Accuracy=0.8825136612021858\n",
            "max_depth=5, min_samples_split=32, Accuracy=0.8825136612021858\n",
            "max_depth=5, min_samples_split=33, Accuracy=0.8825136612021858\n",
            "max_depth=5, min_samples_split=34, Accuracy=0.8825136612021858\n",
            "max_depth=5, min_samples_split=35, Accuracy=0.8825136612021858\n",
            "max_depth=5, min_samples_split=36, Accuracy=0.8825136612021858\n",
            "max_depth=5, min_samples_split=37, Accuracy=0.8825136612021858\n",
            "max_depth=5, min_samples_split=38, Accuracy=0.8825136612021858\n",
            "max_depth=5, min_samples_split=39, Accuracy=0.8825136612021858\n",
            "max_depth=5, min_samples_split=40, Accuracy=0.8825136612021858\n",
            "max_depth=5, min_samples_split=41, Accuracy=0.8825136612021858\n",
            "max_depth=5, min_samples_split=42, Accuracy=0.8825136612021858\n",
            "max_depth=5, min_samples_split=43, Accuracy=0.8825136612021858\n",
            "max_depth=5, min_samples_split=44, Accuracy=0.8825136612021858\n",
            "max_depth=5, min_samples_split=45, Accuracy=0.8825136612021858\n",
            "max_depth=5, min_samples_split=46, Accuracy=0.8825136612021858\n",
            "max_depth=5, min_samples_split=47, Accuracy=0.8825136612021858\n",
            "max_depth=5, min_samples_split=48, Accuracy=0.8825136612021858\n",
            "max_depth=5, min_samples_split=49, Accuracy=0.8825136612021858\n",
            "max_depth=5, min_samples_split=50, Accuracy=0.8825136612021858\n"
          ]
        }
      ]
    },
    {
      "cell_type": "code",
      "source": [
        "max_scores2 = np.max(scores_acc2)\n",
        "print(\"Maximum Accuracy:\", max_scores2)"
      ],
      "metadata": {
        "id": "V9-EPd--LbTb"
      },
      "execution_count": null,
      "outputs": []
    },
    {
      "cell_type": "code",
      "source": [
        "#by ax_depth=5, min_samples_split=22, Accuracy=0.8825136612021858\n",
        "Dtree = DecisionTreeClassifier(random_state=0, max_depth=5 , min_samples_split=22)\n",
        "Dtree2 = Dtree.fit(X_train, Y_train)\n",
        "tree.plot_tree(Dtree2);"
      ],
      "metadata": {
        "id": "Tzu_TmYPNQcz"
      },
      "execution_count": null,
      "outputs": []
    },
    {
      "cell_type": "markdown",
      "source": [
        "The accuaracy will increase. Therefore the best accuracy is 0.8825136612021858"
      ],
      "metadata": {
        "id": "M-uPH3HLMU3L"
      }
    }
  ]
}
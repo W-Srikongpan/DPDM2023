{
  "nbformat": 4,
  "nbformat_minor": 0,
  "metadata": {
    "colab": {
      "provenance": [],
      "authorship_tag": "ABX9TyO0zY2aZpbGTN7rF4tVYk54",
      "include_colab_link": true
    },
    "kernelspec": {
      "name": "python3",
      "display_name": "Python 3"
    },
    "language_info": {
      "name": "python"
    }
  },
  "cells": [
    {
      "cell_type": "markdown",
      "metadata": {
        "id": "view-in-github",
        "colab_type": "text"
      },
      "source": [
        "<a href=\"https://colab.research.google.com/github/W-Srikongpan/DPDM2023/blob/main/Homework1.ipynb\" target=\"_parent\"><img src=\"https://colab.research.google.com/assets/colab-badge.svg\" alt=\"Open In Colab\"/></a>"
      ]
    },
    {
      "cell_type": "markdown",
      "source": [
        "Homework"
      ],
      "metadata": {
        "id": "JYPpB83Ont3Q"
      }
    },
    {
      "cell_type": "markdown",
      "source": [
        "#1. Sort the number in list_ex without using sorting function (you can use only for and if)"
      ],
      "metadata": {
        "id": "bUwSaFQMnyE_"
      }
    },
    {
      "cell_type": "markdown",
      "source": [
        "##1.1 Sort Maximum to Minimum"
      ],
      "metadata": {
        "id": "FaivVgquuhsZ"
      }
    },
    {
      "cell_type": "code",
      "source": [
        "list_ex = [1,5,9,-19,-2,0]\n",
        "sort = []\n",
        "minimum = 100000\n",
        "n = len(list_ex)\n",
        "for i in range(n-1):\n",
        "    for j in range(0, n - i - 1):\n",
        "        if list_ex[j] > list_ex[j + 1]:\n",
        "            list_ex[j], list_ex[j + 1] = list_ex[j + 1], list_ex[j]\n",
        "    sort.append(list_ex[j+1])\n",
        "\n",
        "for k in list_ex:\n",
        "    if k < minimum:\n",
        "       minimum = k\n",
        "sort.append(minimum)\n",
        "print(\"Sorted numbers:\", sort)"
      ],
      "metadata": {
        "colab": {
          "base_uri": "https://localhost:8080/"
        },
        "id": "hnS9aRHlttHl",
        "outputId": "01d2abb9-7141-40bc-b217-fd36f98ec24c"
      },
      "execution_count": 108,
      "outputs": [
        {
          "output_type": "stream",
          "name": "stdout",
          "text": [
            "Sorted numbers: [9, 5, 1, 0, -2, -19]\n"
          ]
        }
      ]
    },
    {
      "cell_type": "markdown",
      "source": [
        "##1.2 Sort Minimum to Maximum"
      ],
      "metadata": {
        "id": "wp80C3qutkuL"
      }
    },
    {
      "cell_type": "code",
      "source": [
        "list_ex = [1,5,9,-19,-2,0]\n",
        "sort = []\n",
        "maximum = list_ex[0]\n",
        "n = len(list_ex)\n",
        "for i in range(n-1):\n",
        "    for j in range(0, n - i - 1):\n",
        "        if list_ex[j] < list_ex[j + 1]:\n",
        "            list_ex[j], list_ex[j + 1] = list_ex[j + 1], list_ex[j]\n",
        "    sort.append(list_ex[j+1])\n",
        "for k in list_ex:\n",
        "    if maximum < k:\n",
        "       maximum = k\n",
        "sort.append(maximum)\n",
        "print(\"Sorted numbers:\", sort)"
      ],
      "metadata": {
        "id": "1D0f5hJapSM0",
        "colab": {
          "base_uri": "https://localhost:8080/"
        },
        "outputId": "d7feb4f6-5e15-410c-e9a5-de522d0237bc"
      },
      "execution_count": 109,
      "outputs": [
        {
          "output_type": "stream",
          "name": "stdout",
          "text": [
            "Sorted numbers: [-19, -2, 0, 1, 5, 9]\n"
          ]
        }
      ]
    },
    {
      "cell_type": "markdown",
      "source": [
        "#2. Create a fuction that\n",
        "\n",
        "    1. sort a list\n",
        "    2. can specify to the fuction that sort it ascendeing or descending with the ascending as default\n",
        "    3. have 2 argument2 one default and non-default"
      ],
      "metadata": {
        "id": "3wWMBUDmuPup"
      }
    },
    {
      "cell_type": "markdown",
      "source": [
        "##2.1 Sort Maximum to Minimum\n"
      ],
      "metadata": {
        "id": "5n5y3NYhHG-h"
      }
    },
    {
      "cell_type": "code",
      "source": [
        "# ascendeing\n",
        "def ascendeing(data):\n",
        "    n = len(data)\n",
        "    for i in range(n):\n",
        "        for j in range(0, n - i - 1):\n",
        "            if data[j] < data[j + 1]:\n",
        "                data[j], data[j + 1] = data[j + 1], data[j]\n",
        "\n",
        "list_ex = [1,5,9,-19,-2,0]\n",
        "ascendeing(list_ex)\n",
        "print(\"Sorted numbers:\", list_ex)"
      ],
      "metadata": {
        "colab": {
          "base_uri": "https://localhost:8080/"
        },
        "id": "LtmpkcMduZ_J",
        "outputId": "1482d709-2e84-4644-a942-d338cbe2e438"
      },
      "execution_count": 110,
      "outputs": [
        {
          "output_type": "stream",
          "name": "stdout",
          "text": [
            "Sorted numbers: [9, 5, 1, 0, -2, -19]\n"
          ]
        }
      ]
    },
    {
      "cell_type": "markdown",
      "source": [
        "##2.2 Sort Minimum to Maximum"
      ],
      "metadata": {
        "id": "-WeAkM71HRwi"
      }
    },
    {
      "cell_type": "code",
      "source": [
        "# descending\n",
        "def descending(data):\n",
        "    n = len(data)\n",
        "    for i in range(n):\n",
        "        for j in range(0, n - i - 1):\n",
        "            if data[j] > data[j + 1]:\n",
        "                data[j], data[j + 1] = data[j + 1], data[j]\n",
        "\n",
        "list_ex = [1,5,9,-19,-2,0]\n",
        "descending(list_ex)\n",
        "print(\"Sorted numbers:\", list_ex)"
      ],
      "metadata": {
        "colab": {
          "base_uri": "https://localhost:8080/"
        },
        "id": "eKrbhVKx6hEl",
        "outputId": "ab43a1ae-b68b-46ae-c12b-7fe648b84b7d"
      },
      "execution_count": 111,
      "outputs": [
        {
          "output_type": "stream",
          "name": "stdout",
          "text": [
            "Sorted numbers: [-19, -2, 0, 1, 5, 9]\n"
          ]
        }
      ]
    },
    {
      "cell_type": "markdown",
      "source": [
        "#3. Select your data and do step 1 to 4 (Eyesball the Data,Statistical descriptive, Boxplot(filter out outlier), plot the dataset with plot, stacked barchart, grouped barchart)"
      ],
      "metadata": {
        "id": "UBkVIO-8eYCe"
      }
    },
    {
      "cell_type": "code",
      "source": [
        "import pandas\n",
        "from matplotlib import pyplot as plt\n",
        "import numpy as np"
      ],
      "metadata": {
        "id": "uh4QHVHcFT3H"
      },
      "execution_count": 112,
      "outputs": []
    },
    {
      "cell_type": "markdown",
      "source": [
        "Connect Google drive"
      ],
      "metadata": {
        "id": "VRnNIxc6IwuG"
      }
    },
    {
      "cell_type": "code",
      "source": [
        "from google.colab import drive\n",
        "drive.mount('/content/drive')"
      ],
      "metadata": {
        "colab": {
          "base_uri": "https://localhost:8080/"
        },
        "id": "ivA5n-BNE5zm",
        "outputId": "2be6900e-c564-4b24-cbb6-77a90b82936a"
      },
      "execution_count": 113,
      "outputs": [
        {
          "output_type": "stream",
          "name": "stdout",
          "text": [
            "Drive already mounted at /content/drive; to attempt to forcibly remount, call drive.mount(\"/content/drive\", force_remount=True).\n"
          ]
        }
      ]
    },
    {
      "cell_type": "markdown",
      "source": [
        "##3.1 Eyesball the Data\n"
      ],
      "metadata": {
        "id": "uY26UFnhG5AF"
      }
    },
    {
      "cell_type": "code",
      "source": [
        "df = pandas.read_csv('/content/drive/MyDrive/DPDM2023_DATA/homework3.csv')\n",
        "df.head()"
      ],
      "metadata": {
        "id": "C3Jq2chaeeu3",
        "colab": {
          "base_uri": "https://localhost:8080/",
          "height": 418
        },
        "outputId": "4b938d91-6007-4352-a71d-fe0c0c1d4a19"
      },
      "execution_count": 114,
      "outputs": [
        {
          "output_type": "execute_result",
          "data": {
            "text/plain": [
              "   _id  RepYear  RepRound                 Date  \\\n",
              "0    1     2022         1  2022-10-03T00:00:00   \n",
              "1    2     2022         1  2022-10-05T00:00:00   \n",
              "2    3     2022         1  2022-10-05T00:00:00   \n",
              "3    4     2022         1  2022-10-06T00:00:00   \n",
              "4    5     2022         1  2022-10-07T00:00:00   \n",
              "\n",
              "                               HCName               PlaceName     DName  \\\n",
              "0   ศูนย์บริการสาธารณสุข 22 วัดปากบ่อ        บริษัทสยามไดกิ้น    ประเวศ   \n",
              "1  ศูนย์บริการสาธารณสุข 2 วัดมักกะสัน      สำนักงานเขตราชเทวี   ราชเทวี   \n",
              "2   ศูนย์บริการสาธารณสุข 22 วัดปากบ่อ          สุเหร่าทางควาย    ประเวศ   \n",
              "3  ศูนย์บริการสาธารณสุข 2 วัดมักกะสัน      สำนักงานเขตราชเทวี   ราชเทวี   \n",
              "4    ศูนย์บริการสาธารณสุข 68 สะพานสูง  หมู่บ้านนักกีฬาแหลมทอง  สะพานสูง   \n",
              "\n",
              "   num_Breast  num_Cervical  CarNo  \n",
              "0          36            27      2  \n",
              "1          18            18      3  \n",
              "2          36            16      1  \n",
              "3          17            14      3  \n",
              "4          64            27      2  "
            ],
            "text/html": [
              "\n",
              "\n",
              "  <div id=\"df-1a4297ac-a005-4b5f-92a4-cb3d1c8a8efa\">\n",
              "    <div class=\"colab-df-container\">\n",
              "      <div>\n",
              "<style scoped>\n",
              "    .dataframe tbody tr th:only-of-type {\n",
              "        vertical-align: middle;\n",
              "    }\n",
              "\n",
              "    .dataframe tbody tr th {\n",
              "        vertical-align: top;\n",
              "    }\n",
              "\n",
              "    .dataframe thead th {\n",
              "        text-align: right;\n",
              "    }\n",
              "</style>\n",
              "<table border=\"1\" class=\"dataframe\">\n",
              "  <thead>\n",
              "    <tr style=\"text-align: right;\">\n",
              "      <th></th>\n",
              "      <th>_id</th>\n",
              "      <th>RepYear</th>\n",
              "      <th>RepRound</th>\n",
              "      <th>Date</th>\n",
              "      <th>HCName</th>\n",
              "      <th>PlaceName</th>\n",
              "      <th>DName</th>\n",
              "      <th>num_Breast</th>\n",
              "      <th>num_Cervical</th>\n",
              "      <th>CarNo</th>\n",
              "    </tr>\n",
              "  </thead>\n",
              "  <tbody>\n",
              "    <tr>\n",
              "      <th>0</th>\n",
              "      <td>1</td>\n",
              "      <td>2022</td>\n",
              "      <td>1</td>\n",
              "      <td>2022-10-03T00:00:00</td>\n",
              "      <td>ศูนย์บริการสาธารณสุข 22 วัดปากบ่อ</td>\n",
              "      <td>บริษัทสยามไดกิ้น</td>\n",
              "      <td>ประเวศ</td>\n",
              "      <td>36</td>\n",
              "      <td>27</td>\n",
              "      <td>2</td>\n",
              "    </tr>\n",
              "    <tr>\n",
              "      <th>1</th>\n",
              "      <td>2</td>\n",
              "      <td>2022</td>\n",
              "      <td>1</td>\n",
              "      <td>2022-10-05T00:00:00</td>\n",
              "      <td>ศูนย์บริการสาธารณสุข 2 วัดมักกะสัน</td>\n",
              "      <td>สำนักงานเขตราชเทวี</td>\n",
              "      <td>ราชเทวี</td>\n",
              "      <td>18</td>\n",
              "      <td>18</td>\n",
              "      <td>3</td>\n",
              "    </tr>\n",
              "    <tr>\n",
              "      <th>2</th>\n",
              "      <td>3</td>\n",
              "      <td>2022</td>\n",
              "      <td>1</td>\n",
              "      <td>2022-10-05T00:00:00</td>\n",
              "      <td>ศูนย์บริการสาธารณสุข 22 วัดปากบ่อ</td>\n",
              "      <td>สุเหร่าทางควาย</td>\n",
              "      <td>ประเวศ</td>\n",
              "      <td>36</td>\n",
              "      <td>16</td>\n",
              "      <td>1</td>\n",
              "    </tr>\n",
              "    <tr>\n",
              "      <th>3</th>\n",
              "      <td>4</td>\n",
              "      <td>2022</td>\n",
              "      <td>1</td>\n",
              "      <td>2022-10-06T00:00:00</td>\n",
              "      <td>ศูนย์บริการสาธารณสุข 2 วัดมักกะสัน</td>\n",
              "      <td>สำนักงานเขตราชเทวี</td>\n",
              "      <td>ราชเทวี</td>\n",
              "      <td>17</td>\n",
              "      <td>14</td>\n",
              "      <td>3</td>\n",
              "    </tr>\n",
              "    <tr>\n",
              "      <th>4</th>\n",
              "      <td>5</td>\n",
              "      <td>2022</td>\n",
              "      <td>1</td>\n",
              "      <td>2022-10-07T00:00:00</td>\n",
              "      <td>ศูนย์บริการสาธารณสุข 68 สะพานสูง</td>\n",
              "      <td>หมู่บ้านนักกีฬาแหลมทอง</td>\n",
              "      <td>สะพานสูง</td>\n",
              "      <td>64</td>\n",
              "      <td>27</td>\n",
              "      <td>2</td>\n",
              "    </tr>\n",
              "  </tbody>\n",
              "</table>\n",
              "</div>\n",
              "      <button class=\"colab-df-convert\" onclick=\"convertToInteractive('df-1a4297ac-a005-4b5f-92a4-cb3d1c8a8efa')\"\n",
              "              title=\"Convert this dataframe to an interactive table.\"\n",
              "              style=\"display:none;\">\n",
              "\n",
              "  <svg xmlns=\"http://www.w3.org/2000/svg\" height=\"24px\"viewBox=\"0 0 24 24\"\n",
              "       width=\"24px\">\n",
              "    <path d=\"M0 0h24v24H0V0z\" fill=\"none\"/>\n",
              "    <path d=\"M18.56 5.44l.94 2.06.94-2.06 2.06-.94-2.06-.94-.94-2.06-.94 2.06-2.06.94zm-11 1L8.5 8.5l.94-2.06 2.06-.94-2.06-.94L8.5 2.5l-.94 2.06-2.06.94zm10 10l.94 2.06.94-2.06 2.06-.94-2.06-.94-.94-2.06-.94 2.06-2.06.94z\"/><path d=\"M17.41 7.96l-1.37-1.37c-.4-.4-.92-.59-1.43-.59-.52 0-1.04.2-1.43.59L10.3 9.45l-7.72 7.72c-.78.78-.78 2.05 0 2.83L4 21.41c.39.39.9.59 1.41.59.51 0 1.02-.2 1.41-.59l7.78-7.78 2.81-2.81c.8-.78.8-2.07 0-2.86zM5.41 20L4 18.59l7.72-7.72 1.47 1.35L5.41 20z\"/>\n",
              "  </svg>\n",
              "      </button>\n",
              "\n",
              "\n",
              "\n",
              "    <div id=\"df-11a93e28-39e1-4547-b62d-5b7dc99b8843\">\n",
              "      <button class=\"colab-df-quickchart\" onclick=\"quickchart('df-11a93e28-39e1-4547-b62d-5b7dc99b8843')\"\n",
              "              title=\"Suggest charts.\"\n",
              "              style=\"display:none;\">\n",
              "\n",
              "<svg xmlns=\"http://www.w3.org/2000/svg\" height=\"24px\"viewBox=\"0 0 24 24\"\n",
              "     width=\"24px\">\n",
              "    <g>\n",
              "        <path d=\"M19 3H5c-1.1 0-2 .9-2 2v14c0 1.1.9 2 2 2h14c1.1 0 2-.9 2-2V5c0-1.1-.9-2-2-2zM9 17H7v-7h2v7zm4 0h-2V7h2v10zm4 0h-2v-4h2v4z\"/>\n",
              "    </g>\n",
              "</svg>\n",
              "      </button>\n",
              "    </div>\n",
              "\n",
              "<style>\n",
              "  .colab-df-quickchart {\n",
              "    background-color: #E8F0FE;\n",
              "    border: none;\n",
              "    border-radius: 50%;\n",
              "    cursor: pointer;\n",
              "    display: none;\n",
              "    fill: #1967D2;\n",
              "    height: 32px;\n",
              "    padding: 0 0 0 0;\n",
              "    width: 32px;\n",
              "  }\n",
              "\n",
              "  .colab-df-quickchart:hover {\n",
              "    background-color: #E2EBFA;\n",
              "    box-shadow: 0px 1px 2px rgba(60, 64, 67, 0.3), 0px 1px 3px 1px rgba(60, 64, 67, 0.15);\n",
              "    fill: #174EA6;\n",
              "  }\n",
              "\n",
              "  [theme=dark] .colab-df-quickchart {\n",
              "    background-color: #3B4455;\n",
              "    fill: #D2E3FC;\n",
              "  }\n",
              "\n",
              "  [theme=dark] .colab-df-quickchart:hover {\n",
              "    background-color: #434B5C;\n",
              "    box-shadow: 0px 1px 3px 1px rgba(0, 0, 0, 0.15);\n",
              "    filter: drop-shadow(0px 1px 2px rgba(0, 0, 0, 0.3));\n",
              "    fill: #FFFFFF;\n",
              "  }\n",
              "</style>\n",
              "\n",
              "    <script>\n",
              "      async function quickchart(key) {\n",
              "        const containerElement = document.querySelector('#' + key);\n",
              "        const charts = await google.colab.kernel.invokeFunction(\n",
              "            'suggestCharts', [key], {});\n",
              "      }\n",
              "    </script>\n",
              "\n",
              "      <script>\n",
              "\n",
              "function displayQuickchartButton(domScope) {\n",
              "  let quickchartButtonEl =\n",
              "    domScope.querySelector('#df-11a93e28-39e1-4547-b62d-5b7dc99b8843 button.colab-df-quickchart');\n",
              "  quickchartButtonEl.style.display =\n",
              "    google.colab.kernel.accessAllowed ? 'block' : 'none';\n",
              "}\n",
              "\n",
              "        displayQuickchartButton(document);\n",
              "      </script>\n",
              "      <style>\n",
              "    .colab-df-container {\n",
              "      display:flex;\n",
              "      flex-wrap:wrap;\n",
              "      gap: 12px;\n",
              "    }\n",
              "\n",
              "    .colab-df-convert {\n",
              "      background-color: #E8F0FE;\n",
              "      border: none;\n",
              "      border-radius: 50%;\n",
              "      cursor: pointer;\n",
              "      display: none;\n",
              "      fill: #1967D2;\n",
              "      height: 32px;\n",
              "      padding: 0 0 0 0;\n",
              "      width: 32px;\n",
              "    }\n",
              "\n",
              "    .colab-df-convert:hover {\n",
              "      background-color: #E2EBFA;\n",
              "      box-shadow: 0px 1px 2px rgba(60, 64, 67, 0.3), 0px 1px 3px 1px rgba(60, 64, 67, 0.15);\n",
              "      fill: #174EA6;\n",
              "    }\n",
              "\n",
              "    [theme=dark] .colab-df-convert {\n",
              "      background-color: #3B4455;\n",
              "      fill: #D2E3FC;\n",
              "    }\n",
              "\n",
              "    [theme=dark] .colab-df-convert:hover {\n",
              "      background-color: #434B5C;\n",
              "      box-shadow: 0px 1px 3px 1px rgba(0, 0, 0, 0.15);\n",
              "      filter: drop-shadow(0px 1px 2px rgba(0, 0, 0, 0.3));\n",
              "      fill: #FFFFFF;\n",
              "    }\n",
              "  </style>\n",
              "\n",
              "      <script>\n",
              "        const buttonEl =\n",
              "          document.querySelector('#df-1a4297ac-a005-4b5f-92a4-cb3d1c8a8efa button.colab-df-convert');\n",
              "        buttonEl.style.display =\n",
              "          google.colab.kernel.accessAllowed ? 'block' : 'none';\n",
              "\n",
              "        async function convertToInteractive(key) {\n",
              "          const element = document.querySelector('#df-1a4297ac-a005-4b5f-92a4-cb3d1c8a8efa');\n",
              "          const dataTable =\n",
              "            await google.colab.kernel.invokeFunction('convertToInteractive',\n",
              "                                                     [key], {});\n",
              "          if (!dataTable) return;\n",
              "\n",
              "          const docLinkHtml = 'Like what you see? Visit the ' +\n",
              "            '<a target=\"_blank\" href=https://colab.research.google.com/notebooks/data_table.ipynb>data table notebook</a>'\n",
              "            + ' to learn more about interactive tables.';\n",
              "          element.innerHTML = '';\n",
              "          dataTable['output_type'] = 'display_data';\n",
              "          await google.colab.output.renderOutput(dataTable, element);\n",
              "          const docLink = document.createElement('div');\n",
              "          docLink.innerHTML = docLinkHtml;\n",
              "          element.appendChild(docLink);\n",
              "        }\n",
              "      </script>\n",
              "    </div>\n",
              "  </div>\n"
            ]
          },
          "metadata": {},
          "execution_count": 114
        }
      ]
    },
    {
      "cell_type": "markdown",
      "source": [
        "##3.2 Statistical descriptive\n"
      ],
      "metadata": {
        "id": "N8GLUcM0HxTo"
      }
    },
    {
      "cell_type": "code",
      "source": [
        "df[['RepRound','num_Breast','num_Cervical']].describe()"
      ],
      "metadata": {
        "colab": {
          "base_uri": "https://localhost:8080/",
          "height": 297
        },
        "id": "gU5m6p0qFlaf",
        "outputId": "fd0ed673-5894-45c2-8c6e-d02c20757f56"
      },
      "execution_count": 115,
      "outputs": [
        {
          "output_type": "execute_result",
          "data": {
            "text/plain": [
              "         RepRound  num_Breast  num_Cervical\n",
              "count  301.000000  301.000000    301.000000\n",
              "mean     2.172757   25.983389     21.760797\n",
              "std      1.005015   15.932453     18.318732\n",
              "min      1.000000    0.000000      0.000000\n",
              "25%      1.000000   16.000000      9.000000\n",
              "50%      2.000000   22.000000     16.000000\n",
              "75%      3.000000   33.000000     29.000000\n",
              "max      4.000000   81.000000    109.000000"
            ],
            "text/html": [
              "\n",
              "\n",
              "  <div id=\"df-444d80d2-e693-4aee-a702-12874781d3b8\">\n",
              "    <div class=\"colab-df-container\">\n",
              "      <div>\n",
              "<style scoped>\n",
              "    .dataframe tbody tr th:only-of-type {\n",
              "        vertical-align: middle;\n",
              "    }\n",
              "\n",
              "    .dataframe tbody tr th {\n",
              "        vertical-align: top;\n",
              "    }\n",
              "\n",
              "    .dataframe thead th {\n",
              "        text-align: right;\n",
              "    }\n",
              "</style>\n",
              "<table border=\"1\" class=\"dataframe\">\n",
              "  <thead>\n",
              "    <tr style=\"text-align: right;\">\n",
              "      <th></th>\n",
              "      <th>RepRound</th>\n",
              "      <th>num_Breast</th>\n",
              "      <th>num_Cervical</th>\n",
              "    </tr>\n",
              "  </thead>\n",
              "  <tbody>\n",
              "    <tr>\n",
              "      <th>count</th>\n",
              "      <td>301.000000</td>\n",
              "      <td>301.000000</td>\n",
              "      <td>301.000000</td>\n",
              "    </tr>\n",
              "    <tr>\n",
              "      <th>mean</th>\n",
              "      <td>2.172757</td>\n",
              "      <td>25.983389</td>\n",
              "      <td>21.760797</td>\n",
              "    </tr>\n",
              "    <tr>\n",
              "      <th>std</th>\n",
              "      <td>1.005015</td>\n",
              "      <td>15.932453</td>\n",
              "      <td>18.318732</td>\n",
              "    </tr>\n",
              "    <tr>\n",
              "      <th>min</th>\n",
              "      <td>1.000000</td>\n",
              "      <td>0.000000</td>\n",
              "      <td>0.000000</td>\n",
              "    </tr>\n",
              "    <tr>\n",
              "      <th>25%</th>\n",
              "      <td>1.000000</td>\n",
              "      <td>16.000000</td>\n",
              "      <td>9.000000</td>\n",
              "    </tr>\n",
              "    <tr>\n",
              "      <th>50%</th>\n",
              "      <td>2.000000</td>\n",
              "      <td>22.000000</td>\n",
              "      <td>16.000000</td>\n",
              "    </tr>\n",
              "    <tr>\n",
              "      <th>75%</th>\n",
              "      <td>3.000000</td>\n",
              "      <td>33.000000</td>\n",
              "      <td>29.000000</td>\n",
              "    </tr>\n",
              "    <tr>\n",
              "      <th>max</th>\n",
              "      <td>4.000000</td>\n",
              "      <td>81.000000</td>\n",
              "      <td>109.000000</td>\n",
              "    </tr>\n",
              "  </tbody>\n",
              "</table>\n",
              "</div>\n",
              "      <button class=\"colab-df-convert\" onclick=\"convertToInteractive('df-444d80d2-e693-4aee-a702-12874781d3b8')\"\n",
              "              title=\"Convert this dataframe to an interactive table.\"\n",
              "              style=\"display:none;\">\n",
              "\n",
              "  <svg xmlns=\"http://www.w3.org/2000/svg\" height=\"24px\"viewBox=\"0 0 24 24\"\n",
              "       width=\"24px\">\n",
              "    <path d=\"M0 0h24v24H0V0z\" fill=\"none\"/>\n",
              "    <path d=\"M18.56 5.44l.94 2.06.94-2.06 2.06-.94-2.06-.94-.94-2.06-.94 2.06-2.06.94zm-11 1L8.5 8.5l.94-2.06 2.06-.94-2.06-.94L8.5 2.5l-.94 2.06-2.06.94zm10 10l.94 2.06.94-2.06 2.06-.94-2.06-.94-.94-2.06-.94 2.06-2.06.94z\"/><path d=\"M17.41 7.96l-1.37-1.37c-.4-.4-.92-.59-1.43-.59-.52 0-1.04.2-1.43.59L10.3 9.45l-7.72 7.72c-.78.78-.78 2.05 0 2.83L4 21.41c.39.39.9.59 1.41.59.51 0 1.02-.2 1.41-.59l7.78-7.78 2.81-2.81c.8-.78.8-2.07 0-2.86zM5.41 20L4 18.59l7.72-7.72 1.47 1.35L5.41 20z\"/>\n",
              "  </svg>\n",
              "      </button>\n",
              "\n",
              "\n",
              "\n",
              "    <div id=\"df-df078c7c-ebe2-46bd-a2f4-cae80ac686c6\">\n",
              "      <button class=\"colab-df-quickchart\" onclick=\"quickchart('df-df078c7c-ebe2-46bd-a2f4-cae80ac686c6')\"\n",
              "              title=\"Suggest charts.\"\n",
              "              style=\"display:none;\">\n",
              "\n",
              "<svg xmlns=\"http://www.w3.org/2000/svg\" height=\"24px\"viewBox=\"0 0 24 24\"\n",
              "     width=\"24px\">\n",
              "    <g>\n",
              "        <path d=\"M19 3H5c-1.1 0-2 .9-2 2v14c0 1.1.9 2 2 2h14c1.1 0 2-.9 2-2V5c0-1.1-.9-2-2-2zM9 17H7v-7h2v7zm4 0h-2V7h2v10zm4 0h-2v-4h2v4z\"/>\n",
              "    </g>\n",
              "</svg>\n",
              "      </button>\n",
              "    </div>\n",
              "\n",
              "<style>\n",
              "  .colab-df-quickchart {\n",
              "    background-color: #E8F0FE;\n",
              "    border: none;\n",
              "    border-radius: 50%;\n",
              "    cursor: pointer;\n",
              "    display: none;\n",
              "    fill: #1967D2;\n",
              "    height: 32px;\n",
              "    padding: 0 0 0 0;\n",
              "    width: 32px;\n",
              "  }\n",
              "\n",
              "  .colab-df-quickchart:hover {\n",
              "    background-color: #E2EBFA;\n",
              "    box-shadow: 0px 1px 2px rgba(60, 64, 67, 0.3), 0px 1px 3px 1px rgba(60, 64, 67, 0.15);\n",
              "    fill: #174EA6;\n",
              "  }\n",
              "\n",
              "  [theme=dark] .colab-df-quickchart {\n",
              "    background-color: #3B4455;\n",
              "    fill: #D2E3FC;\n",
              "  }\n",
              "\n",
              "  [theme=dark] .colab-df-quickchart:hover {\n",
              "    background-color: #434B5C;\n",
              "    box-shadow: 0px 1px 3px 1px rgba(0, 0, 0, 0.15);\n",
              "    filter: drop-shadow(0px 1px 2px rgba(0, 0, 0, 0.3));\n",
              "    fill: #FFFFFF;\n",
              "  }\n",
              "</style>\n",
              "\n",
              "    <script>\n",
              "      async function quickchart(key) {\n",
              "        const containerElement = document.querySelector('#' + key);\n",
              "        const charts = await google.colab.kernel.invokeFunction(\n",
              "            'suggestCharts', [key], {});\n",
              "      }\n",
              "    </script>\n",
              "\n",
              "      <script>\n",
              "\n",
              "function displayQuickchartButton(domScope) {\n",
              "  let quickchartButtonEl =\n",
              "    domScope.querySelector('#df-df078c7c-ebe2-46bd-a2f4-cae80ac686c6 button.colab-df-quickchart');\n",
              "  quickchartButtonEl.style.display =\n",
              "    google.colab.kernel.accessAllowed ? 'block' : 'none';\n",
              "}\n",
              "\n",
              "        displayQuickchartButton(document);\n",
              "      </script>\n",
              "      <style>\n",
              "    .colab-df-container {\n",
              "      display:flex;\n",
              "      flex-wrap:wrap;\n",
              "      gap: 12px;\n",
              "    }\n",
              "\n",
              "    .colab-df-convert {\n",
              "      background-color: #E8F0FE;\n",
              "      border: none;\n",
              "      border-radius: 50%;\n",
              "      cursor: pointer;\n",
              "      display: none;\n",
              "      fill: #1967D2;\n",
              "      height: 32px;\n",
              "      padding: 0 0 0 0;\n",
              "      width: 32px;\n",
              "    }\n",
              "\n",
              "    .colab-df-convert:hover {\n",
              "      background-color: #E2EBFA;\n",
              "      box-shadow: 0px 1px 2px rgba(60, 64, 67, 0.3), 0px 1px 3px 1px rgba(60, 64, 67, 0.15);\n",
              "      fill: #174EA6;\n",
              "    }\n",
              "\n",
              "    [theme=dark] .colab-df-convert {\n",
              "      background-color: #3B4455;\n",
              "      fill: #D2E3FC;\n",
              "    }\n",
              "\n",
              "    [theme=dark] .colab-df-convert:hover {\n",
              "      background-color: #434B5C;\n",
              "      box-shadow: 0px 1px 3px 1px rgba(0, 0, 0, 0.15);\n",
              "      filter: drop-shadow(0px 1px 2px rgba(0, 0, 0, 0.3));\n",
              "      fill: #FFFFFF;\n",
              "    }\n",
              "  </style>\n",
              "\n",
              "      <script>\n",
              "        const buttonEl =\n",
              "          document.querySelector('#df-444d80d2-e693-4aee-a702-12874781d3b8 button.colab-df-convert');\n",
              "        buttonEl.style.display =\n",
              "          google.colab.kernel.accessAllowed ? 'block' : 'none';\n",
              "\n",
              "        async function convertToInteractive(key) {\n",
              "          const element = document.querySelector('#df-444d80d2-e693-4aee-a702-12874781d3b8');\n",
              "          const dataTable =\n",
              "            await google.colab.kernel.invokeFunction('convertToInteractive',\n",
              "                                                     [key], {});\n",
              "          if (!dataTable) return;\n",
              "\n",
              "          const docLinkHtml = 'Like what you see? Visit the ' +\n",
              "            '<a target=\"_blank\" href=https://colab.research.google.com/notebooks/data_table.ipynb>data table notebook</a>'\n",
              "            + ' to learn more about interactive tables.';\n",
              "          element.innerHTML = '';\n",
              "          dataTable['output_type'] = 'display_data';\n",
              "          await google.colab.output.renderOutput(dataTable, element);\n",
              "          const docLink = document.createElement('div');\n",
              "          docLink.innerHTML = docLinkHtml;\n",
              "          element.appendChild(docLink);\n",
              "        }\n",
              "      </script>\n",
              "    </div>\n",
              "  </div>\n"
            ]
          },
          "metadata": {},
          "execution_count": 115
        }
      ]
    },
    {
      "cell_type": "markdown",
      "source": [
        "##3.3 Boxplot(filter out outlier)"
      ],
      "metadata": {
        "id": "w51iG_m0IYzO"
      }
    },
    {
      "cell_type": "code",
      "source": [
        "df[['RepRound','num_Breast','num_Cervical']]"
      ],
      "metadata": {
        "id": "YLLdx7keF8jl",
        "colab": {
          "base_uri": "https://localhost:8080/",
          "height": 419
        },
        "outputId": "cd780e3b-6eee-492f-da3b-a9b5f7699a75"
      },
      "execution_count": 116,
      "outputs": [
        {
          "output_type": "execute_result",
          "data": {
            "text/plain": [
              "     RepRound  num_Breast  num_Cervical\n",
              "0           1          36            27\n",
              "1           1          18            18\n",
              "2           1          36            16\n",
              "3           1          17            14\n",
              "4           1          64            27\n",
              "..        ...         ...           ...\n",
              "296         4          13            16\n",
              "297         4          19            19\n",
              "298         4          16            16\n",
              "299         4          26            26\n",
              "300         4          23            20\n",
              "\n",
              "[301 rows x 3 columns]"
            ],
            "text/html": [
              "\n",
              "\n",
              "  <div id=\"df-e8cccef0-339c-426b-8558-2ebeb779ea7f\">\n",
              "    <div class=\"colab-df-container\">\n",
              "      <div>\n",
              "<style scoped>\n",
              "    .dataframe tbody tr th:only-of-type {\n",
              "        vertical-align: middle;\n",
              "    }\n",
              "\n",
              "    .dataframe tbody tr th {\n",
              "        vertical-align: top;\n",
              "    }\n",
              "\n",
              "    .dataframe thead th {\n",
              "        text-align: right;\n",
              "    }\n",
              "</style>\n",
              "<table border=\"1\" class=\"dataframe\">\n",
              "  <thead>\n",
              "    <tr style=\"text-align: right;\">\n",
              "      <th></th>\n",
              "      <th>RepRound</th>\n",
              "      <th>num_Breast</th>\n",
              "      <th>num_Cervical</th>\n",
              "    </tr>\n",
              "  </thead>\n",
              "  <tbody>\n",
              "    <tr>\n",
              "      <th>0</th>\n",
              "      <td>1</td>\n",
              "      <td>36</td>\n",
              "      <td>27</td>\n",
              "    </tr>\n",
              "    <tr>\n",
              "      <th>1</th>\n",
              "      <td>1</td>\n",
              "      <td>18</td>\n",
              "      <td>18</td>\n",
              "    </tr>\n",
              "    <tr>\n",
              "      <th>2</th>\n",
              "      <td>1</td>\n",
              "      <td>36</td>\n",
              "      <td>16</td>\n",
              "    </tr>\n",
              "    <tr>\n",
              "      <th>3</th>\n",
              "      <td>1</td>\n",
              "      <td>17</td>\n",
              "      <td>14</td>\n",
              "    </tr>\n",
              "    <tr>\n",
              "      <th>4</th>\n",
              "      <td>1</td>\n",
              "      <td>64</td>\n",
              "      <td>27</td>\n",
              "    </tr>\n",
              "    <tr>\n",
              "      <th>...</th>\n",
              "      <td>...</td>\n",
              "      <td>...</td>\n",
              "      <td>...</td>\n",
              "    </tr>\n",
              "    <tr>\n",
              "      <th>296</th>\n",
              "      <td>4</td>\n",
              "      <td>13</td>\n",
              "      <td>16</td>\n",
              "    </tr>\n",
              "    <tr>\n",
              "      <th>297</th>\n",
              "      <td>4</td>\n",
              "      <td>19</td>\n",
              "      <td>19</td>\n",
              "    </tr>\n",
              "    <tr>\n",
              "      <th>298</th>\n",
              "      <td>4</td>\n",
              "      <td>16</td>\n",
              "      <td>16</td>\n",
              "    </tr>\n",
              "    <tr>\n",
              "      <th>299</th>\n",
              "      <td>4</td>\n",
              "      <td>26</td>\n",
              "      <td>26</td>\n",
              "    </tr>\n",
              "    <tr>\n",
              "      <th>300</th>\n",
              "      <td>4</td>\n",
              "      <td>23</td>\n",
              "      <td>20</td>\n",
              "    </tr>\n",
              "  </tbody>\n",
              "</table>\n",
              "<p>301 rows × 3 columns</p>\n",
              "</div>\n",
              "      <button class=\"colab-df-convert\" onclick=\"convertToInteractive('df-e8cccef0-339c-426b-8558-2ebeb779ea7f')\"\n",
              "              title=\"Convert this dataframe to an interactive table.\"\n",
              "              style=\"display:none;\">\n",
              "\n",
              "  <svg xmlns=\"http://www.w3.org/2000/svg\" height=\"24px\"viewBox=\"0 0 24 24\"\n",
              "       width=\"24px\">\n",
              "    <path d=\"M0 0h24v24H0V0z\" fill=\"none\"/>\n",
              "    <path d=\"M18.56 5.44l.94 2.06.94-2.06 2.06-.94-2.06-.94-.94-2.06-.94 2.06-2.06.94zm-11 1L8.5 8.5l.94-2.06 2.06-.94-2.06-.94L8.5 2.5l-.94 2.06-2.06.94zm10 10l.94 2.06.94-2.06 2.06-.94-2.06-.94-.94-2.06-.94 2.06-2.06.94z\"/><path d=\"M17.41 7.96l-1.37-1.37c-.4-.4-.92-.59-1.43-.59-.52 0-1.04.2-1.43.59L10.3 9.45l-7.72 7.72c-.78.78-.78 2.05 0 2.83L4 21.41c.39.39.9.59 1.41.59.51 0 1.02-.2 1.41-.59l7.78-7.78 2.81-2.81c.8-.78.8-2.07 0-2.86zM5.41 20L4 18.59l7.72-7.72 1.47 1.35L5.41 20z\"/>\n",
              "  </svg>\n",
              "      </button>\n",
              "\n",
              "\n",
              "\n",
              "    <div id=\"df-c51279b5-ceff-4ae1-8960-bfc6cbafbadf\">\n",
              "      <button class=\"colab-df-quickchart\" onclick=\"quickchart('df-c51279b5-ceff-4ae1-8960-bfc6cbafbadf')\"\n",
              "              title=\"Suggest charts.\"\n",
              "              style=\"display:none;\">\n",
              "\n",
              "<svg xmlns=\"http://www.w3.org/2000/svg\" height=\"24px\"viewBox=\"0 0 24 24\"\n",
              "     width=\"24px\">\n",
              "    <g>\n",
              "        <path d=\"M19 3H5c-1.1 0-2 .9-2 2v14c0 1.1.9 2 2 2h14c1.1 0 2-.9 2-2V5c0-1.1-.9-2-2-2zM9 17H7v-7h2v7zm4 0h-2V7h2v10zm4 0h-2v-4h2v4z\"/>\n",
              "    </g>\n",
              "</svg>\n",
              "      </button>\n",
              "    </div>\n",
              "\n",
              "<style>\n",
              "  .colab-df-quickchart {\n",
              "    background-color: #E8F0FE;\n",
              "    border: none;\n",
              "    border-radius: 50%;\n",
              "    cursor: pointer;\n",
              "    display: none;\n",
              "    fill: #1967D2;\n",
              "    height: 32px;\n",
              "    padding: 0 0 0 0;\n",
              "    width: 32px;\n",
              "  }\n",
              "\n",
              "  .colab-df-quickchart:hover {\n",
              "    background-color: #E2EBFA;\n",
              "    box-shadow: 0px 1px 2px rgba(60, 64, 67, 0.3), 0px 1px 3px 1px rgba(60, 64, 67, 0.15);\n",
              "    fill: #174EA6;\n",
              "  }\n",
              "\n",
              "  [theme=dark] .colab-df-quickchart {\n",
              "    background-color: #3B4455;\n",
              "    fill: #D2E3FC;\n",
              "  }\n",
              "\n",
              "  [theme=dark] .colab-df-quickchart:hover {\n",
              "    background-color: #434B5C;\n",
              "    box-shadow: 0px 1px 3px 1px rgba(0, 0, 0, 0.15);\n",
              "    filter: drop-shadow(0px 1px 2px rgba(0, 0, 0, 0.3));\n",
              "    fill: #FFFFFF;\n",
              "  }\n",
              "</style>\n",
              "\n",
              "    <script>\n",
              "      async function quickchart(key) {\n",
              "        const containerElement = document.querySelector('#' + key);\n",
              "        const charts = await google.colab.kernel.invokeFunction(\n",
              "            'suggestCharts', [key], {});\n",
              "      }\n",
              "    </script>\n",
              "\n",
              "      <script>\n",
              "\n",
              "function displayQuickchartButton(domScope) {\n",
              "  let quickchartButtonEl =\n",
              "    domScope.querySelector('#df-c51279b5-ceff-4ae1-8960-bfc6cbafbadf button.colab-df-quickchart');\n",
              "  quickchartButtonEl.style.display =\n",
              "    google.colab.kernel.accessAllowed ? 'block' : 'none';\n",
              "}\n",
              "\n",
              "        displayQuickchartButton(document);\n",
              "      </script>\n",
              "      <style>\n",
              "    .colab-df-container {\n",
              "      display:flex;\n",
              "      flex-wrap:wrap;\n",
              "      gap: 12px;\n",
              "    }\n",
              "\n",
              "    .colab-df-convert {\n",
              "      background-color: #E8F0FE;\n",
              "      border: none;\n",
              "      border-radius: 50%;\n",
              "      cursor: pointer;\n",
              "      display: none;\n",
              "      fill: #1967D2;\n",
              "      height: 32px;\n",
              "      padding: 0 0 0 0;\n",
              "      width: 32px;\n",
              "    }\n",
              "\n",
              "    .colab-df-convert:hover {\n",
              "      background-color: #E2EBFA;\n",
              "      box-shadow: 0px 1px 2px rgba(60, 64, 67, 0.3), 0px 1px 3px 1px rgba(60, 64, 67, 0.15);\n",
              "      fill: #174EA6;\n",
              "    }\n",
              "\n",
              "    [theme=dark] .colab-df-convert {\n",
              "      background-color: #3B4455;\n",
              "      fill: #D2E3FC;\n",
              "    }\n",
              "\n",
              "    [theme=dark] .colab-df-convert:hover {\n",
              "      background-color: #434B5C;\n",
              "      box-shadow: 0px 1px 3px 1px rgba(0, 0, 0, 0.15);\n",
              "      filter: drop-shadow(0px 1px 2px rgba(0, 0, 0, 0.3));\n",
              "      fill: #FFFFFF;\n",
              "    }\n",
              "  </style>\n",
              "\n",
              "      <script>\n",
              "        const buttonEl =\n",
              "          document.querySelector('#df-e8cccef0-339c-426b-8558-2ebeb779ea7f button.colab-df-convert');\n",
              "        buttonEl.style.display =\n",
              "          google.colab.kernel.accessAllowed ? 'block' : 'none';\n",
              "\n",
              "        async function convertToInteractive(key) {\n",
              "          const element = document.querySelector('#df-e8cccef0-339c-426b-8558-2ebeb779ea7f');\n",
              "          const dataTable =\n",
              "            await google.colab.kernel.invokeFunction('convertToInteractive',\n",
              "                                                     [key], {});\n",
              "          if (!dataTable) return;\n",
              "\n",
              "          const docLinkHtml = 'Like what you see? Visit the ' +\n",
              "            '<a target=\"_blank\" href=https://colab.research.google.com/notebooks/data_table.ipynb>data table notebook</a>'\n",
              "            + ' to learn more about interactive tables.';\n",
              "          element.innerHTML = '';\n",
              "          dataTable['output_type'] = 'display_data';\n",
              "          await google.colab.output.renderOutput(dataTable, element);\n",
              "          const docLink = document.createElement('div');\n",
              "          docLink.innerHTML = docLinkHtml;\n",
              "          element.appendChild(docLink);\n",
              "        }\n",
              "      </script>\n",
              "    </div>\n",
              "  </div>\n"
            ]
          },
          "metadata": {},
          "execution_count": 116
        }
      ]
    },
    {
      "cell_type": "markdown",
      "source": [
        "###Outlier by 'num_Breast'"
      ],
      "metadata": {
        "id": "fTHLV9h3Cyy6"
      }
    },
    {
      "cell_type": "code",
      "source": [
        "boxplot_df = plt.boxplot(df['num_Breast'])"
      ],
      "metadata": {
        "colab": {
          "base_uri": "https://localhost:8080/",
          "height": 430
        },
        "id": "-Io1z3X9VQlu",
        "outputId": "0aa4773c-f7fc-4118-cd0f-4f861895f6fe"
      },
      "execution_count": 117,
      "outputs": [
        {
          "output_type": "display_data",
          "data": {
            "text/plain": [
              "<Figure size 640x480 with 1 Axes>"
            ],
            "image/png": "[encoded data removed]"
          },
          "metadata": {}
        }
      ]
    },
    {
      "cell_type": "code",
      "source": [
        "boxplot_df"
      ],
      "metadata": {
        "colab": {
          "base_uri": "https://localhost:8080/"
        },
        "id": "34f-p3GZnxoo",
        "outputId": "eee8915f-3be1-499f-c833-2185664ae43c"
      },
      "execution_count": 118,
      "outputs": [
        {
          "output_type": "execute_result",
          "data": {
            "text/plain": [
              "{'whiskers': [<matplotlib.lines.Line2D at 0x7cf6955b13f0>,\n",
              "  <matplotlib.lines.Line2D at 0x7cf6955b2d10>],\n",
              " 'caps': [<matplotlib.lines.Line2D at 0x7cf6955b2980>,\n",
              "  <matplotlib.lines.Line2D at 0x7cf6955b0e80>],\n",
              " 'boxes': [<matplotlib.lines.Line2D at 0x7cf69562dea0>],\n",
              " 'medians': [<matplotlib.lines.Line2D at 0x7cf6955b0100>],\n",
              " 'fliers': [<matplotlib.lines.Line2D at 0x7cf6955b1cc0>],\n",
              " 'means': []}"
            ]
          },
          "metadata": {},
          "execution_count": 118
        }
      ]
    },
    {
      "cell_type": "code",
      "source": [
        "boxplot_df['whiskers'][0].get_ydata().min()"
      ],
      "metadata": {
        "colab": {
          "base_uri": "https://localhost:8080/"
        },
        "id": "-MS5WKa1n5zb",
        "outputId": "00d9819f-a261-4b89-9f38-3650035f4ed9"
      },
      "execution_count": 119,
      "outputs": [
        {
          "output_type": "execute_result",
          "data": {
            "text/plain": [
              "0.0"
            ]
          },
          "metadata": {},
          "execution_count": 119
        }
      ]
    },
    {
      "cell_type": "code",
      "source": [
        "boxplot_df['whiskers'][1].get_ydata().max()"
      ],
      "metadata": {
        "colab": {
          "base_uri": "https://localhost:8080/"
        },
        "id": "4H6-Aa_eovS2",
        "outputId": "68e31ca5-e54f-45a9-b964-8302ffcee30f"
      },
      "execution_count": 120,
      "outputs": [
        {
          "output_type": "execute_result",
          "data": {
            "text/plain": [
              "58.0"
            ]
          },
          "metadata": {},
          "execution_count": 120
        }
      ]
    },
    {
      "cell_type": "code",
      "source": [
        "df_new = df[(df['num_Breast'] <= boxplot_df['whiskers'][1].get_ydata().max()) &\n",
        "            (df['num_Breast'] >= boxplot_df['whiskers'][0].get_ydata().min()) ]"
      ],
      "metadata": {
        "id": "3cxyK_eZ6oDo"
      },
      "execution_count": 121,
      "outputs": []
    },
    {
      "cell_type": "code",
      "source": [
        "df_new"
      ],
      "metadata": {
        "colab": {
          "base_uri": "https://localhost:8080/",
          "height": 993
        },
        "id": "CSF7pof28I7F",
        "outputId": "6b64dc92-3f5d-4387-c38f-16adbede8c4b"
      },
      "execution_count": 122,
      "outputs": [
        {
          "output_type": "execute_result",
          "data": {
            "text/plain": [
              "     _id  RepYear  RepRound                 Date  \\\n",
              "0      1     2022         1  2022-10-03T00:00:00   \n",
              "1      2     2022         1  2022-10-05T00:00:00   \n",
              "2      3     2022         1  2022-10-05T00:00:00   \n",
              "3      4     2022         1  2022-10-06T00:00:00   \n",
              "5      6     2022         1  2022-10-09T00:00:00   \n",
              "..   ...      ...       ...                  ...   \n",
              "296  297     2023         4  2023-07-14T00:00:00   \n",
              "297  298     2023         4  2023-07-15T00:00:00   \n",
              "298  299     2023         4  2023-07-17T00:00:00   \n",
              "299  300     2023         4  2023-07-19T00:00:00   \n",
              "300  301     2023         4  2023-07-24T00:00:00   \n",
              "\n",
              "                                   HCName                       PlaceName  \\\n",
              "0       ศูนย์บริการสาธารณสุข 22 วัดปากบ่อ                บริษัทสยามไดกิ้น   \n",
              "1      ศูนย์บริการสาธารณสุข 2 วัดมักกะสัน              สำนักงานเขตราชเทวี   \n",
              "2       ศูนย์บริการสาธารณสุข 22 วัดปากบ่อ                  สุเหร่าทางควาย   \n",
              "3      ศูนย์บริการสาธารณสุข 2 วัดมักกะสัน              สำนักงานเขตราชเทวี   \n",
              "5    ศูนย์บริการสาธารณสุข 42 ถนอม ทองสิมา              โรงเรียนทวีธาภิเษก   \n",
              "..                                    ...                             ...   \n",
              "296       ศูนย์บริการสาธารณสุข 41 คลองเตย                    สวนเบญจกิตติ   \n",
              "297       ศูนย์บริการสาธารณสุข 41 คลองเตย                    สวนเบญจกิตติ   \n",
              "298  ศูนย์บริการสาธารณสุข 29 ช่วง นุชเนตร                          วัดไทร   \n",
              "299     ศูนย์บริการสาธารณสุข 65 รักษาศุข                          มบ.ดีเค   \n",
              "300  ศูนย์บริการสาธารณสุข 42 ถนอม ทองสิมา  การเคหะชุมชนธนบุรี 3ช. พระราม2   \n",
              "\n",
              "           DName  num_Breast  num_Cervical  CarNo  \n",
              "0         ประเวศ          36            27      2  \n",
              "1        ราชเทวี          18            18      3  \n",
              "2         ประเวศ          36            16      1  \n",
              "3        ราชเทวี          17            14      3  \n",
              "5    บางขุนเทียน          19            12      1  \n",
              "..           ...         ...           ...    ...  \n",
              "296      คลองเตย          13            16      4  \n",
              "297      คลองเตย          19            19      4  \n",
              "298       จอมทอง          16            16      4  \n",
              "299       บางบอน          26            26      4  \n",
              "300  บางขุนเทียน          23            20      4  \n",
              "\n",
              "[285 rows x 10 columns]"
            ],
            "text/html": [
              "\n",
              "\n",
              "  <div id=\"df-f2ebc0be-ebf0-45bc-a761-870277514d3c\">\n",
              "    <div class=\"colab-df-container\">\n",
              "      <div>\n",
              "<style scoped>\n",
              "    .dataframe tbody tr th:only-of-type {\n",
              "        vertical-align: middle;\n",
              "    }\n",
              "\n",
              "    .dataframe tbody tr th {\n",
              "        vertical-align: top;\n",
              "    }\n",
              "\n",
              "    .dataframe thead th {\n",
              "        text-align: right;\n",
              "    }\n",
              "</style>\n",
              "<table border=\"1\" class=\"dataframe\">\n",
              "  <thead>\n",
              "    <tr style=\"text-align: right;\">\n",
              "      <th></th>\n",
              "      <th>_id</th>\n",
              "      <th>RepYear</th>\n",
              "      <th>RepRound</th>\n",
              "      <th>Date</th>\n",
              "      <th>HCName</th>\n",
              "      <th>PlaceName</th>\n",
              "      <th>DName</th>\n",
              "      <th>num_Breast</th>\n",
              "      <th>num_Cervical</th>\n",
              "      <th>CarNo</th>\n",
              "    </tr>\n",
              "  </thead>\n",
              "  <tbody>\n",
              "    <tr>\n",
              "      <th>0</th>\n",
              "      <td>1</td>\n",
              "      <td>2022</td>\n",
              "      <td>1</td>\n",
              "      <td>2022-10-03T00:00:00</td>\n",
              "      <td>ศูนย์บริการสาธารณสุข 22 วัดปากบ่อ</td>\n",
              "      <td>บริษัทสยามไดกิ้น</td>\n",
              "      <td>ประเวศ</td>\n",
              "      <td>36</td>\n",
              "      <td>27</td>\n",
              "      <td>2</td>\n",
              "    </tr>\n",
              "    <tr>\n",
              "      <th>1</th>\n",
              "      <td>2</td>\n",
              "      <td>2022</td>\n",
              "      <td>1</td>\n",
              "      <td>2022-10-05T00:00:00</td>\n",
              "      <td>ศูนย์บริการสาธารณสุข 2 วัดมักกะสัน</td>\n",
              "      <td>สำนักงานเขตราชเทวี</td>\n",
              "      <td>ราชเทวี</td>\n",
              "      <td>18</td>\n",
              "      <td>18</td>\n",
              "      <td>3</td>\n",
              "    </tr>\n",
              "    <tr>\n",
              "      <th>2</th>\n",
              "      <td>3</td>\n",
              "      <td>2022</td>\n",
              "      <td>1</td>\n",
              "      <td>2022-10-05T00:00:00</td>\n",
              "      <td>ศูนย์บริการสาธารณสุข 22 วัดปากบ่อ</td>\n",
              "      <td>สุเหร่าทางควาย</td>\n",
              "      <td>ประเวศ</td>\n",
              "      <td>36</td>\n",
              "      <td>16</td>\n",
              "      <td>1</td>\n",
              "    </tr>\n",
              "    <tr>\n",
              "      <th>3</th>\n",
              "      <td>4</td>\n",
              "      <td>2022</td>\n",
              "      <td>1</td>\n",
              "      <td>2022-10-06T00:00:00</td>\n",
              "      <td>ศูนย์บริการสาธารณสุข 2 วัดมักกะสัน</td>\n",
              "      <td>สำนักงานเขตราชเทวี</td>\n",
              "      <td>ราชเทวี</td>\n",
              "      <td>17</td>\n",
              "      <td>14</td>\n",
              "      <td>3</td>\n",
              "    </tr>\n",
              "    <tr>\n",
              "      <th>5</th>\n",
              "      <td>6</td>\n",
              "      <td>2022</td>\n",
              "      <td>1</td>\n",
              "      <td>2022-10-09T00:00:00</td>\n",
              "      <td>ศูนย์บริการสาธารณสุข 42 ถนอม ทองสิมา</td>\n",
              "      <td>โรงเรียนทวีธาภิเษก</td>\n",
              "      <td>บางขุนเทียน</td>\n",
              "      <td>19</td>\n",
              "      <td>12</td>\n",
              "      <td>1</td>\n",
              "    </tr>\n",
              "    <tr>\n",
              "      <th>...</th>\n",
              "      <td>...</td>\n",
              "      <td>...</td>\n",
              "      <td>...</td>\n",
              "      <td>...</td>\n",
              "      <td>...</td>\n",
              "      <td>...</td>\n",
              "      <td>...</td>\n",
              "      <td>...</td>\n",
              "      <td>...</td>\n",
              "      <td>...</td>\n",
              "    </tr>\n",
              "    <tr>\n",
              "      <th>296</th>\n",
              "      <td>297</td>\n",
              "      <td>2023</td>\n",
              "      <td>4</td>\n",
              "      <td>2023-07-14T00:00:00</td>\n",
              "      <td>ศูนย์บริการสาธารณสุข 41 คลองเตย</td>\n",
              "      <td>สวนเบญจกิตติ</td>\n",
              "      <td>คลองเตย</td>\n",
              "      <td>13</td>\n",
              "      <td>16</td>\n",
              "      <td>4</td>\n",
              "    </tr>\n",
              "    <tr>\n",
              "      <th>297</th>\n",
              "      <td>298</td>\n",
              "      <td>2023</td>\n",
              "      <td>4</td>\n",
              "      <td>2023-07-15T00:00:00</td>\n",
              "      <td>ศูนย์บริการสาธารณสุข 41 คลองเตย</td>\n",
              "      <td>สวนเบญจกิตติ</td>\n",
              "      <td>คลองเตย</td>\n",
              "      <td>19</td>\n",
              "      <td>19</td>\n",
              "      <td>4</td>\n",
              "    </tr>\n",
              "    <tr>\n",
              "      <th>298</th>\n",
              "      <td>299</td>\n",
              "      <td>2023</td>\n",
              "      <td>4</td>\n",
              "      <td>2023-07-17T00:00:00</td>\n",
              "      <td>ศูนย์บริการสาธารณสุข 29 ช่วง นุชเนตร</td>\n",
              "      <td>วัดไทร</td>\n",
              "      <td>จอมทอง</td>\n",
              "      <td>16</td>\n",
              "      <td>16</td>\n",
              "      <td>4</td>\n",
              "    </tr>\n",
              "    <tr>\n",
              "      <th>299</th>\n",
              "      <td>300</td>\n",
              "      <td>2023</td>\n",
              "      <td>4</td>\n",
              "      <td>2023-07-19T00:00:00</td>\n",
              "      <td>ศูนย์บริการสาธารณสุข 65 รักษาศุข</td>\n",
              "      <td>มบ.ดีเค</td>\n",
              "      <td>บางบอน</td>\n",
              "      <td>26</td>\n",
              "      <td>26</td>\n",
              "      <td>4</td>\n",
              "    </tr>\n",
              "    <tr>\n",
              "      <th>300</th>\n",
              "      <td>301</td>\n",
              "      <td>2023</td>\n",
              "      <td>4</td>\n",
              "      <td>2023-07-24T00:00:00</td>\n",
              "      <td>ศูนย์บริการสาธารณสุข 42 ถนอม ทองสิมา</td>\n",
              "      <td>การเคหะชุมชนธนบุรี 3ช. พระราม2</td>\n",
              "      <td>บางขุนเทียน</td>\n",
              "      <td>23</td>\n",
              "      <td>20</td>\n",
              "      <td>4</td>\n",
              "    </tr>\n",
              "  </tbody>\n",
              "</table>\n",
              "<p>285 rows × 10 columns</p>\n",
              "</div>\n",
              "      <button class=\"colab-df-convert\" onclick=\"convertToInteractive('df-f2ebc0be-ebf0-45bc-a761-870277514d3c')\"\n",
              "              title=\"Convert this dataframe to an interactive table.\"\n",
              "              style=\"display:none;\">\n",
              "\n",
              "  <svg xmlns=\"http://www.w3.org/2000/svg\" height=\"24px\"viewBox=\"0 0 24 24\"\n",
              "       width=\"24px\">\n",
              "    <path d=\"M0 0h24v24H0V0z\" fill=\"none\"/>\n",
              "    <path d=\"M18.56 5.44l.94 2.06.94-2.06 2.06-.94-2.06-.94-.94-2.06-.94 2.06-2.06.94zm-11 1L8.5 8.5l.94-2.06 2.06-.94-2.06-.94L8.5 2.5l-.94 2.06-2.06.94zm10 10l.94 2.06.94-2.06 2.06-.94-2.06-.94-.94-2.06-.94 2.06-2.06.94z\"/><path d=\"M17.41 7.96l-1.37-1.37c-.4-.4-.92-.59-1.43-.59-.52 0-1.04.2-1.43.59L10.3 9.45l-7.72 7.72c-.78.78-.78 2.05 0 2.83L4 21.41c.39.39.9.59 1.41.59.51 0 1.02-.2 1.41-.59l7.78-7.78 2.81-2.81c.8-.78.8-2.07 0-2.86zM5.41 20L4 18.59l7.72-7.72 1.47 1.35L5.41 20z\"/>\n",
              "  </svg>\n",
              "      </button>\n",
              "\n",
              "\n",
              "\n",
              "    <div id=\"df-66d3475b-961a-4c52-8320-5619e448ec62\">\n",
              "      <button class=\"colab-df-quickchart\" onclick=\"quickchart('df-66d3475b-961a-4c52-8320-5619e448ec62')\"\n",
              "              title=\"Suggest charts.\"\n",
              "              style=\"display:none;\">\n",
              "\n",
              "<svg xmlns=\"http://www.w3.org/2000/svg\" height=\"24px\"viewBox=\"0 0 24 24\"\n",
              "     width=\"24px\">\n",
              "    <g>\n",
              "        <path d=\"M19 3H5c-1.1 0-2 .9-2 2v14c0 1.1.9 2 2 2h14c1.1 0 2-.9 2-2V5c0-1.1-.9-2-2-2zM9 17H7v-7h2v7zm4 0h-2V7h2v10zm4 0h-2v-4h2v4z\"/>\n",
              "    </g>\n",
              "</svg>\n",
              "      </button>\n",
              "    </div>\n",
              "\n",
              "<style>\n",
              "  .colab-df-quickchart {\n",
              "    background-color: #E8F0FE;\n",
              "    border: none;\n",
              "    border-radius: 50%;\n",
              "    cursor: pointer;\n",
              "    display: none;\n",
              "    fill: #1967D2;\n",
              "    height: 32px;\n",
              "    padding: 0 0 0 0;\n",
              "    width: 32px;\n",
              "  }\n",
              "\n",
              "  .colab-df-quickchart:hover {\n",
              "    background-color: #E2EBFA;\n",
              "    box-shadow: 0px 1px 2px rgba(60, 64, 67, 0.3), 0px 1px 3px 1px rgba(60, 64, 67, 0.15);\n",
              "    fill: #174EA6;\n",
              "  }\n",
              "\n",
              "  [theme=dark] .colab-df-quickchart {\n",
              "    background-color: #3B4455;\n",
              "    fill: #D2E3FC;\n",
              "  }\n",
              "\n",
              "  [theme=dark] .colab-df-quickchart:hover {\n",
              "    background-color: #434B5C;\n",
              "    box-shadow: 0px 1px 3px 1px rgba(0, 0, 0, 0.15);\n",
              "    filter: drop-shadow(0px 1px 2px rgba(0, 0, 0, 0.3));\n",
              "    fill: #FFFFFF;\n",
              "  }\n",
              "</style>\n",
              "\n",
              "    <script>\n",
              "      async function quickchart(key) {\n",
              "        const containerElement = document.querySelector('#' + key);\n",
              "        const charts = await google.colab.kernel.invokeFunction(\n",
              "            'suggestCharts', [key], {});\n",
              "      }\n",
              "    </script>\n",
              "\n",
              "      <script>\n",
              "\n",
              "function displayQuickchartButton(domScope) {\n",
              "  let quickchartButtonEl =\n",
              "    domScope.querySelector('#df-66d3475b-961a-4c52-8320-5619e448ec62 button.colab-df-quickchart');\n",
              "  quickchartButtonEl.style.display =\n",
              "    google.colab.kernel.accessAllowed ? 'block' : 'none';\n",
              "}\n",
              "\n",
              "        displayQuickchartButton(document);\n",
              "      </script>\n",
              "      <style>\n",
              "    .colab-df-container {\n",
              "      display:flex;\n",
              "      flex-wrap:wrap;\n",
              "      gap: 12px;\n",
              "    }\n",
              "\n",
              "    .colab-df-convert {\n",
              "      background-color: #E8F0FE;\n",
              "      border: none;\n",
              "      border-radius: 50%;\n",
              "      cursor: pointer;\n",
              "      display: none;\n",
              "      fill: #1967D2;\n",
              "      height: 32px;\n",
              "      padding: 0 0 0 0;\n",
              "      width: 32px;\n",
              "    }\n",
              "\n",
              "    .colab-df-convert:hover {\n",
              "      background-color: #E2EBFA;\n",
              "      box-shadow: 0px 1px 2px rgba(60, 64, 67, 0.3), 0px 1px 3px 1px rgba(60, 64, 67, 0.15);\n",
              "      fill: #174EA6;\n",
              "    }\n",
              "\n",
              "    [theme=dark] .colab-df-convert {\n",
              "      background-color: #3B4455;\n",
              "      fill: #D2E3FC;\n",
              "    }\n",
              "\n",
              "    [theme=dark] .colab-df-convert:hover {\n",
              "      background-color: #434B5C;\n",
              "      box-shadow: 0px 1px 3px 1px rgba(0, 0, 0, 0.15);\n",
              "      filter: drop-shadow(0px 1px 2px rgba(0, 0, 0, 0.3));\n",
              "      fill: #FFFFFF;\n",
              "    }\n",
              "  </style>\n",
              "\n",
              "      <script>\n",
              "        const buttonEl =\n",
              "          document.querySelector('#df-f2ebc0be-ebf0-45bc-a761-870277514d3c button.colab-df-convert');\n",
              "        buttonEl.style.display =\n",
              "          google.colab.kernel.accessAllowed ? 'block' : 'none';\n",
              "\n",
              "        async function convertToInteractive(key) {\n",
              "          const element = document.querySelector('#df-f2ebc0be-ebf0-45bc-a761-870277514d3c');\n",
              "          const dataTable =\n",
              "            await google.colab.kernel.invokeFunction('convertToInteractive',\n",
              "                                                     [key], {});\n",
              "          if (!dataTable) return;\n",
              "\n",
              "          const docLinkHtml = 'Like what you see? Visit the ' +\n",
              "            '<a target=\"_blank\" href=https://colab.research.google.com/notebooks/data_table.ipynb>data table notebook</a>'\n",
              "            + ' to learn more about interactive tables.';\n",
              "          element.innerHTML = '';\n",
              "          dataTable['output_type'] = 'display_data';\n",
              "          await google.colab.output.renderOutput(dataTable, element);\n",
              "          const docLink = document.createElement('div');\n",
              "          docLink.innerHTML = docLinkHtml;\n",
              "          element.appendChild(docLink);\n",
              "        }\n",
              "      </script>\n",
              "    </div>\n",
              "  </div>\n"
            ]
          },
          "metadata": {},
          "execution_count": 122
        }
      ]
    },
    {
      "cell_type": "markdown",
      "source": [
        "###Outlier by 'num_Cervical'"
      ],
      "metadata": {
        "id": "wVGwhp02DD4z"
      }
    },
    {
      "cell_type": "code",
      "source": [
        "boxplot_df_new = plt.boxplot(df_new['num_Cervical'])"
      ],
      "metadata": {
        "colab": {
          "base_uri": "https://localhost:8080/",
          "height": 434
        },
        "id": "kEnpvN7I8X0M",
        "outputId": "a19f18c2-b659-4934-db3d-cdec544ea411"
      },
      "execution_count": 123,
      "outputs": [
        {
          "output_type": "display_data",
          "data": {
            "text/plain": [
              "<Figure size 640x480 with 1 Axes>"
            ],
            "image/png": "[encoded data removed]"
          },
          "metadata": {}
        }
      ]
    },
    {
      "cell_type": "code",
      "source": [
        "boxplot_df_new['whiskers'][0].get_ydata().min()"
      ],
      "metadata": {
        "colab": {
          "base_uri": "https://localhost:8080/"
        },
        "id": "WJf_ZJ4-9pVa",
        "outputId": "579d5a46-94df-4aed-d203-9f4c54d120d0"
      },
      "execution_count": 124,
      "outputs": [
        {
          "output_type": "execute_result",
          "data": {
            "text/plain": [
              "0.0"
            ]
          },
          "metadata": {},
          "execution_count": 124
        }
      ]
    },
    {
      "cell_type": "code",
      "source": [
        "boxplot_df_new['whiskers'][1].get_ydata().max()"
      ],
      "metadata": {
        "colab": {
          "base_uri": "https://localhost:8080/"
        },
        "id": "blZIp33m9vQj",
        "outputId": "ed641ff0-3b1b-48cf-e0a4-fc5e75969264"
      },
      "execution_count": 125,
      "outputs": [
        {
          "output_type": "execute_result",
          "data": {
            "text/plain": [
              "54.0"
            ]
          },
          "metadata": {},
          "execution_count": 125
        }
      ]
    },
    {
      "cell_type": "code",
      "source": [
        "df_new2 = df_new[(df_new['num_Cervical'] <= boxplot_df_new['whiskers'][1].get_ydata().max()) &\n",
        "                 (df_new['num_Cervical'] >= boxplot_df_new['whiskers'][0].get_ydata().min()) ]"
      ],
      "metadata": {
        "id": "E2KqXJBU9zHu"
      },
      "execution_count": 126,
      "outputs": []
    },
    {
      "cell_type": "code",
      "source": [
        "df_new2"
      ],
      "metadata": {
        "colab": {
          "base_uri": "https://localhost:8080/",
          "height": 993
        },
        "id": "xb3TG4_IASs9",
        "outputId": "3f026fd4-5bbe-4b5a-ef6f-4e31c2bd6775"
      },
      "execution_count": 127,
      "outputs": [
        {
          "output_type": "execute_result",
          "data": {
            "text/plain": [
              "     _id  RepYear  RepRound                 Date  \\\n",
              "0      1     2022         1  2022-10-03T00:00:00   \n",
              "1      2     2022         1  2022-10-05T00:00:00   \n",
              "2      3     2022         1  2022-10-05T00:00:00   \n",
              "3      4     2022         1  2022-10-06T00:00:00   \n",
              "5      6     2022         1  2022-10-09T00:00:00   \n",
              "..   ...      ...       ...                  ...   \n",
              "296  297     2023         4  2023-07-14T00:00:00   \n",
              "297  298     2023         4  2023-07-15T00:00:00   \n",
              "298  299     2023         4  2023-07-17T00:00:00   \n",
              "299  300     2023         4  2023-07-19T00:00:00   \n",
              "300  301     2023         4  2023-07-24T00:00:00   \n",
              "\n",
              "                                   HCName                       PlaceName  \\\n",
              "0       ศูนย์บริการสาธารณสุข 22 วัดปากบ่อ                บริษัทสยามไดกิ้น   \n",
              "1      ศูนย์บริการสาธารณสุข 2 วัดมักกะสัน              สำนักงานเขตราชเทวี   \n",
              "2       ศูนย์บริการสาธารณสุข 22 วัดปากบ่อ                  สุเหร่าทางควาย   \n",
              "3      ศูนย์บริการสาธารณสุข 2 วัดมักกะสัน              สำนักงานเขตราชเทวี   \n",
              "5    ศูนย์บริการสาธารณสุข 42 ถนอม ทองสิมา              โรงเรียนทวีธาภิเษก   \n",
              "..                                    ...                             ...   \n",
              "296       ศูนย์บริการสาธารณสุข 41 คลองเตย                    สวนเบญจกิตติ   \n",
              "297       ศูนย์บริการสาธารณสุข 41 คลองเตย                    สวนเบญจกิตติ   \n",
              "298  ศูนย์บริการสาธารณสุข 29 ช่วง นุชเนตร                          วัดไทร   \n",
              "299     ศูนย์บริการสาธารณสุข 65 รักษาศุข                          มบ.ดีเค   \n",
              "300  ศูนย์บริการสาธารณสุข 42 ถนอม ทองสิมา  การเคหะชุมชนธนบุรี 3ช. พระราม2   \n",
              "\n",
              "           DName  num_Breast  num_Cervical  CarNo  \n",
              "0         ประเวศ          36            27      2  \n",
              "1        ราชเทวี          18            18      3  \n",
              "2         ประเวศ          36            16      1  \n",
              "3        ราชเทวี          17            14      3  \n",
              "5    บางขุนเทียน          19            12      1  \n",
              "..           ...         ...           ...    ...  \n",
              "296      คลองเตย          13            16      4  \n",
              "297      คลองเตย          19            19      4  \n",
              "298       จอมทอง          16            16      4  \n",
              "299       บางบอน          26            26      4  \n",
              "300  บางขุนเทียน          23            20      4  \n",
              "\n",
              "[278 rows x 10 columns]"
            ],
            "text/html": [
              "\n",
              "\n",
              "  <div id=\"df-d0fae75e-2816-48e5-a2f8-4db0c00f1e70\">\n",
              "    <div class=\"colab-df-container\">\n",
              "      <div>\n",
              "<style scoped>\n",
              "    .dataframe tbody tr th:only-of-type {\n",
              "        vertical-align: middle;\n",
              "    }\n",
              "\n",
              "    .dataframe tbody tr th {\n",
              "        vertical-align: top;\n",
              "    }\n",
              "\n",
              "    .dataframe thead th {\n",
              "        text-align: right;\n",
              "    }\n",
              "</style>\n",
              "<table border=\"1\" class=\"dataframe\">\n",
              "  <thead>\n",
              "    <tr style=\"text-align: right;\">\n",
              "      <th></th>\n",
              "      <th>_id</th>\n",
              "      <th>RepYear</th>\n",
              "      <th>RepRound</th>\n",
              "      <th>Date</th>\n",
              "      <th>HCName</th>\n",
              "      <th>PlaceName</th>\n",
              "      <th>DName</th>\n",
              "      <th>num_Breast</th>\n",
              "      <th>num_Cervical</th>\n",
              "      <th>CarNo</th>\n",
              "    </tr>\n",
              "  </thead>\n",
              "  <tbody>\n",
              "    <tr>\n",
              "      <th>0</th>\n",
              "      <td>1</td>\n",
              "      <td>2022</td>\n",
              "      <td>1</td>\n",
              "      <td>2022-10-03T00:00:00</td>\n",
              "      <td>ศูนย์บริการสาธารณสุข 22 วัดปากบ่อ</td>\n",
              "      <td>บริษัทสยามไดกิ้น</td>\n",
              "      <td>ประเวศ</td>\n",
              "      <td>36</td>\n",
              "      <td>27</td>\n",
              "      <td>2</td>\n",
              "    </tr>\n",
              "    <tr>\n",
              "      <th>1</th>\n",
              "      <td>2</td>\n",
              "      <td>2022</td>\n",
              "      <td>1</td>\n",
              "      <td>2022-10-05T00:00:00</td>\n",
              "      <td>ศูนย์บริการสาธารณสุข 2 วัดมักกะสัน</td>\n",
              "      <td>สำนักงานเขตราชเทวี</td>\n",
              "      <td>ราชเทวี</td>\n",
              "      <td>18</td>\n",
              "      <td>18</td>\n",
              "      <td>3</td>\n",
              "    </tr>\n",
              "    <tr>\n",
              "      <th>2</th>\n",
              "      <td>3</td>\n",
              "      <td>2022</td>\n",
              "      <td>1</td>\n",
              "      <td>2022-10-05T00:00:00</td>\n",
              "      <td>ศูนย์บริการสาธารณสุข 22 วัดปากบ่อ</td>\n",
              "      <td>สุเหร่าทางควาย</td>\n",
              "      <td>ประเวศ</td>\n",
              "      <td>36</td>\n",
              "      <td>16</td>\n",
              "      <td>1</td>\n",
              "    </tr>\n",
              "    <tr>\n",
              "      <th>3</th>\n",
              "      <td>4</td>\n",
              "      <td>2022</td>\n",
              "      <td>1</td>\n",
              "      <td>2022-10-06T00:00:00</td>\n",
              "      <td>ศูนย์บริการสาธารณสุข 2 วัดมักกะสัน</td>\n",
              "      <td>สำนักงานเขตราชเทวี</td>\n",
              "      <td>ราชเทวี</td>\n",
              "      <td>17</td>\n",
              "      <td>14</td>\n",
              "      <td>3</td>\n",
              "    </tr>\n",
              "    <tr>\n",
              "      <th>5</th>\n",
              "      <td>6</td>\n",
              "      <td>2022</td>\n",
              "      <td>1</td>\n",
              "      <td>2022-10-09T00:00:00</td>\n",
              "      <td>ศูนย์บริการสาธารณสุข 42 ถนอม ทองสิมา</td>\n",
              "      <td>โรงเรียนทวีธาภิเษก</td>\n",
              "      <td>บางขุนเทียน</td>\n",
              "      <td>19</td>\n",
              "      <td>12</td>\n",
              "      <td>1</td>\n",
              "    </tr>\n",
              "    <tr>\n",
              "      <th>...</th>\n",
              "      <td>...</td>\n",
              "      <td>...</td>\n",
              "      <td>...</td>\n",
              "      <td>...</td>\n",
              "      <td>...</td>\n",
              "      <td>...</td>\n",
              "      <td>...</td>\n",
              "      <td>...</td>\n",
              "      <td>...</td>\n",
              "      <td>...</td>\n",
              "    </tr>\n",
              "    <tr>\n",
              "      <th>296</th>\n",
              "      <td>297</td>\n",
              "      <td>2023</td>\n",
              "      <td>4</td>\n",
              "      <td>2023-07-14T00:00:00</td>\n",
              "      <td>ศูนย์บริการสาธารณสุข 41 คลองเตย</td>\n",
              "      <td>สวนเบญจกิตติ</td>\n",
              "      <td>คลองเตย</td>\n",
              "      <td>13</td>\n",
              "      <td>16</td>\n",
              "      <td>4</td>\n",
              "    </tr>\n",
              "    <tr>\n",
              "      <th>297</th>\n",
              "      <td>298</td>\n",
              "      <td>2023</td>\n",
              "      <td>4</td>\n",
              "      <td>2023-07-15T00:00:00</td>\n",
              "      <td>ศูนย์บริการสาธารณสุข 41 คลองเตย</td>\n",
              "      <td>สวนเบญจกิตติ</td>\n",
              "      <td>คลองเตย</td>\n",
              "      <td>19</td>\n",
              "      <td>19</td>\n",
              "      <td>4</td>\n",
              "    </tr>\n",
              "    <tr>\n",
              "      <th>298</th>\n",
              "      <td>299</td>\n",
              "      <td>2023</td>\n",
              "      <td>4</td>\n",
              "      <td>2023-07-17T00:00:00</td>\n",
              "      <td>ศูนย์บริการสาธารณสุข 29 ช่วง นุชเนตร</td>\n",
              "      <td>วัดไทร</td>\n",
              "      <td>จอมทอง</td>\n",
              "      <td>16</td>\n",
              "      <td>16</td>\n",
              "      <td>4</td>\n",
              "    </tr>\n",
              "    <tr>\n",
              "      <th>299</th>\n",
              "      <td>300</td>\n",
              "      <td>2023</td>\n",
              "      <td>4</td>\n",
              "      <td>2023-07-19T00:00:00</td>\n",
              "      <td>ศูนย์บริการสาธารณสุข 65 รักษาศุข</td>\n",
              "      <td>มบ.ดีเค</td>\n",
              "      <td>บางบอน</td>\n",
              "      <td>26</td>\n",
              "      <td>26</td>\n",
              "      <td>4</td>\n",
              "    </tr>\n",
              "    <tr>\n",
              "      <th>300</th>\n",
              "      <td>301</td>\n",
              "      <td>2023</td>\n",
              "      <td>4</td>\n",
              "      <td>2023-07-24T00:00:00</td>\n",
              "      <td>ศูนย์บริการสาธารณสุข 42 ถนอม ทองสิมา</td>\n",
              "      <td>การเคหะชุมชนธนบุรี 3ช. พระราม2</td>\n",
              "      <td>บางขุนเทียน</td>\n",
              "      <td>23</td>\n",
              "      <td>20</td>\n",
              "      <td>4</td>\n",
              "    </tr>\n",
              "  </tbody>\n",
              "</table>\n",
              "<p>278 rows × 10 columns</p>\n",
              "</div>\n",
              "      <button class=\"colab-df-convert\" onclick=\"convertToInteractive('df-d0fae75e-2816-48e5-a2f8-4db0c00f1e70')\"\n",
              "              title=\"Convert this dataframe to an interactive table.\"\n",
              "              style=\"display:none;\">\n",
              "\n",
              "  <svg xmlns=\"http://www.w3.org/2000/svg\" height=\"24px\"viewBox=\"0 0 24 24\"\n",
              "       width=\"24px\">\n",
              "    <path d=\"M0 0h24v24H0V0z\" fill=\"none\"/>\n",
              "    <path d=\"M18.56 5.44l.94 2.06.94-2.06 2.06-.94-2.06-.94-.94-2.06-.94 2.06-2.06.94zm-11 1L8.5 8.5l.94-2.06 2.06-.94-2.06-.94L8.5 2.5l-.94 2.06-2.06.94zm10 10l.94 2.06.94-2.06 2.06-.94-2.06-.94-.94-2.06-.94 2.06-2.06.94z\"/><path d=\"M17.41 7.96l-1.37-1.37c-.4-.4-.92-.59-1.43-.59-.52 0-1.04.2-1.43.59L10.3 9.45l-7.72 7.72c-.78.78-.78 2.05 0 2.83L4 21.41c.39.39.9.59 1.41.59.51 0 1.02-.2 1.41-.59l7.78-7.78 2.81-2.81c.8-.78.8-2.07 0-2.86zM5.41 20L4 18.59l7.72-7.72 1.47 1.35L5.41 20z\"/>\n",
              "  </svg>\n",
              "      </button>\n",
              "\n",
              "\n",
              "\n",
              "    <div id=\"df-04dd2ab6-8de7-4714-a613-3c4cfec8b12d\">\n",
              "      <button class=\"colab-df-quickchart\" onclick=\"quickchart('df-04dd2ab6-8de7-4714-a613-3c4cfec8b12d')\"\n",
              "              title=\"Suggest charts.\"\n",
              "              style=\"display:none;\">\n",
              "\n",
              "<svg xmlns=\"http://www.w3.org/2000/svg\" height=\"24px\"viewBox=\"0 0 24 24\"\n",
              "     width=\"24px\">\n",
              "    <g>\n",
              "        <path d=\"M19 3H5c-1.1 0-2 .9-2 2v14c0 1.1.9 2 2 2h14c1.1 0 2-.9 2-2V5c0-1.1-.9-2-2-2zM9 17H7v-7h2v7zm4 0h-2V7h2v10zm4 0h-2v-4h2v4z\"/>\n",
              "    </g>\n",
              "</svg>\n",
              "      </button>\n",
              "    </div>\n",
              "\n",
              "<style>\n",
              "  .colab-df-quickchart {\n",
              "    background-color: #E8F0FE;\n",
              "    border: none;\n",
              "    border-radius: 50%;\n",
              "    cursor: pointer;\n",
              "    display: none;\n",
              "    fill: #1967D2;\n",
              "    height: 32px;\n",
              "    padding: 0 0 0 0;\n",
              "    width: 32px;\n",
              "  }\n",
              "\n",
              "  .colab-df-quickchart:hover {\n",
              "    background-color: #E2EBFA;\n",
              "    box-shadow: 0px 1px 2px rgba(60, 64, 67, 0.3), 0px 1px 3px 1px rgba(60, 64, 67, 0.15);\n",
              "    fill: #174EA6;\n",
              "  }\n",
              "\n",
              "  [theme=dark] .colab-df-quickchart {\n",
              "    background-color: #3B4455;\n",
              "    fill: #D2E3FC;\n",
              "  }\n",
              "\n",
              "  [theme=dark] .colab-df-quickchart:hover {\n",
              "    background-color: #434B5C;\n",
              "    box-shadow: 0px 1px 3px 1px rgba(0, 0, 0, 0.15);\n",
              "    filter: drop-shadow(0px 1px 2px rgba(0, 0, 0, 0.3));\n",
              "    fill: #FFFFFF;\n",
              "  }\n",
              "</style>\n",
              "\n",
              "    <script>\n",
              "      async function quickchart(key) {\n",
              "        const containerElement = document.querySelector('#' + key);\n",
              "        const charts = await google.colab.kernel.invokeFunction(\n",
              "            'suggestCharts', [key], {});\n",
              "      }\n",
              "    </script>\n",
              "\n",
              "      <script>\n",
              "\n",
              "function displayQuickchartButton(domScope) {\n",
              "  let quickchartButtonEl =\n",
              "    domScope.querySelector('#df-04dd2ab6-8de7-4714-a613-3c4cfec8b12d button.colab-df-quickchart');\n",
              "  quickchartButtonEl.style.display =\n",
              "    google.colab.kernel.accessAllowed ? 'block' : 'none';\n",
              "}\n",
              "\n",
              "        displayQuickchartButton(document);\n",
              "      </script>\n",
              "      <style>\n",
              "    .colab-df-container {\n",
              "      display:flex;\n",
              "      flex-wrap:wrap;\n",
              "      gap: 12px;\n",
              "    }\n",
              "\n",
              "    .colab-df-convert {\n",
              "      background-color: #E8F0FE;\n",
              "      border: none;\n",
              "      border-radius: 50%;\n",
              "      cursor: pointer;\n",
              "      display: none;\n",
              "      fill: #1967D2;\n",
              "      height: 32px;\n",
              "      padding: 0 0 0 0;\n",
              "      width: 32px;\n",
              "    }\n",
              "\n",
              "    .colab-df-convert:hover {\n",
              "      background-color: #E2EBFA;\n",
              "      box-shadow: 0px 1px 2px rgba(60, 64, 67, 0.3), 0px 1px 3px 1px rgba(60, 64, 67, 0.15);\n",
              "      fill: #174EA6;\n",
              "    }\n",
              "\n",
              "    [theme=dark] .colab-df-convert {\n",
              "      background-color: #3B4455;\n",
              "      fill: #D2E3FC;\n",
              "    }\n",
              "\n",
              "    [theme=dark] .colab-df-convert:hover {\n",
              "      background-color: #434B5C;\n",
              "      box-shadow: 0px 1px 3px 1px rgba(0, 0, 0, 0.15);\n",
              "      filter: drop-shadow(0px 1px 2px rgba(0, 0, 0, 0.3));\n",
              "      fill: #FFFFFF;\n",
              "    }\n",
              "  </style>\n",
              "\n",
              "      <script>\n",
              "        const buttonEl =\n",
              "          document.querySelector('#df-d0fae75e-2816-48e5-a2f8-4db0c00f1e70 button.colab-df-convert');\n",
              "        buttonEl.style.display =\n",
              "          google.colab.kernel.accessAllowed ? 'block' : 'none';\n",
              "\n",
              "        async function convertToInteractive(key) {\n",
              "          const element = document.querySelector('#df-d0fae75e-2816-48e5-a2f8-4db0c00f1e70');\n",
              "          const dataTable =\n",
              "            await google.colab.kernel.invokeFunction('convertToInteractive',\n",
              "                                                     [key], {});\n",
              "          if (!dataTable) return;\n",
              "\n",
              "          const docLinkHtml = 'Like what you see? Visit the ' +\n",
              "            '<a target=\"_blank\" href=https://colab.research.google.com/notebooks/data_table.ipynb>data table notebook</a>'\n",
              "            + ' to learn more about interactive tables.';\n",
              "          element.innerHTML = '';\n",
              "          dataTable['output_type'] = 'display_data';\n",
              "          await google.colab.output.renderOutput(dataTable, element);\n",
              "          const docLink = document.createElement('div');\n",
              "          docLink.innerHTML = docLinkHtml;\n",
              "          element.appendChild(docLink);\n",
              "        }\n",
              "      </script>\n",
              "    </div>\n",
              "  </div>\n"
            ]
          },
          "metadata": {},
          "execution_count": 127
        }
      ]
    },
    {
      "cell_type": "markdown",
      "source": [
        "##3.4 plot the dataset with plot, stacked barchart, grouped barchart"
      ],
      "metadata": {
        "id": "j8oELISzCoCJ"
      }
    },
    {
      "cell_type": "markdown",
      "source": [
        "###Plot dataset quarter 1"
      ],
      "metadata": {
        "id": "8CqGzuexxCLC"
      }
    },
    {
      "cell_type": "markdown",
      "source": [
        "we select quarter is 1"
      ],
      "metadata": {
        "id": "D7h471F2pGHl"
      }
    },
    {
      "cell_type": "code",
      "source": [
        "df11 = df_new2[df_new2['RepRound'] == 1]"
      ],
      "metadata": {
        "id": "0dWYQNbrf_IU"
      },
      "execution_count": 128,
      "outputs": []
    },
    {
      "cell_type": "code",
      "source": [
        "plt.plot(range(len(df11)),df11['num_Breast'],'o-b',label = 'Breast')\n",
        "plt.plot(range(len(df11)),df11['num_Cervical'],'o-r',label = 'Cervical')\n",
        "plt.title ('Quarter 1 Num_Breast vs Num_Cervical')\n",
        "plt.xlabel('number of recordings')\n",
        "plt.ylabel('number of people')\n",
        "plt.legend()"
      ],
      "metadata": {
        "colab": {
          "base_uri": "https://localhost:8080/",
          "height": 489
        },
        "id": "Ni8f4HpNA-RY",
        "outputId": "118542a5-17f1-4d0f-b965-353743d96770"
      },
      "execution_count": 129,
      "outputs": [
        {
          "output_type": "execute_result",
          "data": {
            "text/plain": [
              "<matplotlib.legend.Legend at 0x7cf6943dfb80>"
            ]
          },
          "metadata": {},
          "execution_count": 129
        },
        {
          "output_type": "display_data",
          "data": {
            "text/plain": [
              "<Figure size 640x480 with 1 Axes>"
            ],
            "image/png": "[encoded data removed]"
          },
          "metadata": {}
        }
      ]
    },
    {
      "cell_type": "markdown",
      "source": [
        "###Stacked Barchart"
      ],
      "metadata": {
        "id": "f_UiXQkhxRx5"
      }
    },
    {
      "cell_type": "code",
      "source": [
        "plt.bar(range(len(df11)),df11['num_Breast'],color = 'b',label = 'Breast')\n",
        "plt.bar(range(len(df11)),df11['num_Cervical'],bottom = df11['num_Breast'], color = 'r',label = 'Cervical')\n",
        "plt.title ('Quarter 1 Num_Breast vs Num_Cervical')\n",
        "plt.xlabel('number of recordings')\n",
        "plt.ylabel('number of people')\n",
        "plt.legend()"
      ],
      "metadata": {
        "id": "iciu-Ib1o53k",
        "outputId": "248353eb-e2ba-48be-f3f0-18c62c5887c8",
        "colab": {
          "base_uri": "https://localhost:8080/",
          "height": 489
        }
      },
      "execution_count": 130,
      "outputs": [
        {
          "output_type": "execute_result",
          "data": {
            "text/plain": [
              "<matplotlib.legend.Legend at 0x7cf695483970>"
            ]
          },
          "metadata": {},
          "execution_count": 130
        },
        {
          "output_type": "display_data",
          "data": {
            "text/plain": [
              "<Figure size 640x480 with 1 Axes>"
            ],
            "image/png": "[encoded data removed]"
          },
          "metadata": {}
        }
      ]
    },
    {
      "cell_type": "markdown",
      "source": [
        "###Grouped Barchart"
      ],
      "metadata": {
        "id": "QucjM8EC1v0C"
      }
    },
    {
      "cell_type": "code",
      "source": [
        "width = 0.4\n",
        "plt.bar(range(len(df11)),df11['num_Breast'],width,color = 'b',label = 'Breast')\n",
        "plt.bar(np.array(range(len(df11)))- width,df11['num_Cervical'],width,color = 'r',label = 'Cervical')\n",
        "plt.title ('Quarter 1 Num_Breast vs Num_Cervical')\n",
        "plt.xlabel('number of recordings')\n",
        "plt.ylabel('number of people')\n",
        "plt.legend()"
      ],
      "metadata": {
        "id": "FyEhGSxwysV2",
        "outputId": "41de53da-6546-4a49-a401-331a6353f5ff",
        "colab": {
          "base_uri": "https://localhost:8080/",
          "height": 489
        }
      },
      "execution_count": 131,
      "outputs": [
        {
          "output_type": "execute_result",
          "data": {
            "text/plain": [
              "<matplotlib.legend.Legend at 0x7cf6959abee0>"
            ]
          },
          "metadata": {},
          "execution_count": 131
        },
        {
          "output_type": "display_data",
          "data": {
            "text/plain": [
              "<Figure size 640x480 with 1 Axes>"
            ],
            "image/png": "[encoded data removed]"
          },
          "metadata": {}
        }
      ]
    }
  ]
}
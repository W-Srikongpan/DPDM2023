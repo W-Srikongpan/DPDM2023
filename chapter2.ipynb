{
  "nbformat": 4,
  "nbformat_minor": 0,
  "metadata": {
    "colab": {
      "provenance": [],
      "authorship_tag": "ABX9TyMgz4KJr2N/NDndu/HGWSeI",
      "include_colab_link": true
    },
    "kernelspec": {
      "name": "python3",
      "display_name": "Python 3"
    },
    "language_info": {
      "name": "python"
    }
  },
  "cells": [
    {
      "cell_type": "markdown",
      "metadata": {
        "id": "view-in-github",
        "colab_type": "text"
      },
      "source": [
        "<a href=\"https://colab.research.google.com/github/W-Srikongpan/DPDM2023/blob/main/chapter2.ipynb\" target=\"_parent\"><img src=\"https://colab.research.google.com/assets/colab-badge.svg\" alt=\"Open In Colab\"/></a>"
      ]
    },
    {
      "cell_type": "markdown",
      "source": [
        "Chapter 2"
      ],
      "metadata": {
        "id": "IpJosn4M1DT1"
      }
    },
    {
      "cell_type": "markdown",
      "source": [
        "18 july 2023"
      ],
      "metadata": {
        "id": "giIytRwoNk-w"
      }
    },
    {
      "cell_type": "markdown",
      "source": [
        "padas is a python package for manage table data. pandas data structure for table is DataFrame (df)"
      ],
      "metadata": {
        "id": "hAwZitLI2rOw"
      }
    },
    {
      "cell_type": "code",
      "execution_count": 44,
      "metadata": {
        "id": "fIfmFErtqOiZ"
      },
      "outputs": [],
      "source": [
        "import pandas #we use import to pandas define a package that we are using\n",
        "import pandas as pd #import package and name it as ..."
      ]
    },
    {
      "cell_type": "markdown",
      "source": [
        "csv => comma separated values\n",
        "- use comma (,) to separate valuse\n",
        "- use new line (enter,\\n) to separate data point\n",
        "\n"
      ],
      "metadata": {
        "id": "Wh4zi7wD3j41"
      }
    },
    {
      "cell_type": "code",
      "source": [
        "data_df = pd.read_csv('/content/Data (1).csv')\n",
        "data_df"
      ],
      "metadata": {
        "colab": {
          "base_uri": "https://localhost:8080/",
          "height": 142
        },
        "id": "7c0JScSE8WL4",
        "outputId": "128d5ca2-efb2-4212-a990-73efde347d99"
      },
      "execution_count": 45,
      "outputs": [
        {
          "output_type": "execute_result",
          "data": {
            "text/plain": [
              "   Car_ID         Model   Year   Value   Pers_ID\n",
              "0     101       Bentley   1973  100000         0\n",
              "1     102   Rolls Royce   1965  330000         0\n",
              "2     103       Peugeot   1993     500         3"
            ],
            "text/html": [
              "\n",
              "\n",
              "  <div id=\"df-99a32c24-eaa5-4771-b506-17217525aa60\">\n",
              "    <div class=\"colab-df-container\">\n",
              "      <div>\n",
              "<style scoped>\n",
              "    .dataframe tbody tr th:only-of-type {\n",
              "        vertical-align: middle;\n",
              "    }\n",
              "\n",
              "    .dataframe tbody tr th {\n",
              "        vertical-align: top;\n",
              "    }\n",
              "\n",
              "    .dataframe thead th {\n",
              "        text-align: right;\n",
              "    }\n",
              "</style>\n",
              "<table border=\"1\" class=\"dataframe\">\n",
              "  <thead>\n",
              "    <tr style=\"text-align: right;\">\n",
              "      <th></th>\n",
              "      <th>Car_ID</th>\n",
              "      <th>Model</th>\n",
              "      <th>Year</th>\n",
              "      <th>Value</th>\n",
              "      <th>Pers_ID</th>\n",
              "    </tr>\n",
              "  </thead>\n",
              "  <tbody>\n",
              "    <tr>\n",
              "      <th>0</th>\n",
              "      <td>101</td>\n",
              "      <td>Bentley</td>\n",
              "      <td>1973</td>\n",
              "      <td>100000</td>\n",
              "      <td>0</td>\n",
              "    </tr>\n",
              "    <tr>\n",
              "      <th>1</th>\n",
              "      <td>102</td>\n",
              "      <td>Rolls Royce</td>\n",
              "      <td>1965</td>\n",
              "      <td>330000</td>\n",
              "      <td>0</td>\n",
              "    </tr>\n",
              "    <tr>\n",
              "      <th>2</th>\n",
              "      <td>103</td>\n",
              "      <td>Peugeot</td>\n",
              "      <td>1993</td>\n",
              "      <td>500</td>\n",
              "      <td>3</td>\n",
              "    </tr>\n",
              "  </tbody>\n",
              "</table>\n",
              "</div>\n",
              "      <button class=\"colab-df-convert\" onclick=\"convertToInteractive('df-99a32c24-eaa5-4771-b506-17217525aa60')\"\n",
              "              title=\"Convert this dataframe to an interactive table.\"\n",
              "              style=\"display:none;\">\n",
              "\n",
              "  <svg xmlns=\"http://www.w3.org/2000/svg\" height=\"24px\"viewBox=\"0 0 24 24\"\n",
              "       width=\"24px\">\n",
              "    <path d=\"M0 0h24v24H0V0z\" fill=\"none\"/>\n",
              "    <path d=\"M18.56 5.44l.94 2.06.94-2.06 2.06-.94-2.06-.94-.94-2.06-.94 2.06-2.06.94zm-11 1L8.5 8.5l.94-2.06 2.06-.94-2.06-.94L8.5 2.5l-.94 2.06-2.06.94zm10 10l.94 2.06.94-2.06 2.06-.94-2.06-.94-.94-2.06-.94 2.06-2.06.94z\"/><path d=\"M17.41 7.96l-1.37-1.37c-.4-.4-.92-.59-1.43-.59-.52 0-1.04.2-1.43.59L10.3 9.45l-7.72 7.72c-.78.78-.78 2.05 0 2.83L4 21.41c.39.39.9.59 1.41.59.51 0 1.02-.2 1.41-.59l7.78-7.78 2.81-2.81c.8-.78.8-2.07 0-2.86zM5.41 20L4 18.59l7.72-7.72 1.47 1.35L5.41 20z\"/>\n",
              "  </svg>\n",
              "      </button>\n",
              "\n",
              "\n",
              "\n",
              "    <div id=\"df-bd969153-ed4c-49a1-ace5-bf989b4dabdb\">\n",
              "      <button class=\"colab-df-quickchart\" onclick=\"quickchart('df-bd969153-ed4c-49a1-ace5-bf989b4dabdb')\"\n",
              "              title=\"Suggest charts.\"\n",
              "              style=\"display:none;\">\n",
              "\n",
              "<svg xmlns=\"http://www.w3.org/2000/svg\" height=\"24px\"viewBox=\"0 0 24 24\"\n",
              "     width=\"24px\">\n",
              "    <g>\n",
              "        <path d=\"M19 3H5c-1.1 0-2 .9-2 2v14c0 1.1.9 2 2 2h14c1.1 0 2-.9 2-2V5c0-1.1-.9-2-2-2zM9 17H7v-7h2v7zm4 0h-2V7h2v10zm4 0h-2v-4h2v4z\"/>\n",
              "    </g>\n",
              "</svg>\n",
              "      </button>\n",
              "    </div>\n",
              "\n",
              "<style>\n",
              "  .colab-df-quickchart {\n",
              "    background-color: #E8F0FE;\n",
              "    border: none;\n",
              "    border-radius: 50%;\n",
              "    cursor: pointer;\n",
              "    display: none;\n",
              "    fill: #1967D2;\n",
              "    height: 32px;\n",
              "    padding: 0 0 0 0;\n",
              "    width: 32px;\n",
              "  }\n",
              "\n",
              "  .colab-df-quickchart:hover {\n",
              "    background-color: #E2EBFA;\n",
              "    box-shadow: 0px 1px 2px rgba(60, 64, 67, 0.3), 0px 1px 3px 1px rgba(60, 64, 67, 0.15);\n",
              "    fill: #174EA6;\n",
              "  }\n",
              "\n",
              "  [theme=dark] .colab-df-quickchart {\n",
              "    background-color: #3B4455;\n",
              "    fill: #D2E3FC;\n",
              "  }\n",
              "\n",
              "  [theme=dark] .colab-df-quickchart:hover {\n",
              "    background-color: #434B5C;\n",
              "    box-shadow: 0px 1px 3px 1px rgba(0, 0, 0, 0.15);\n",
              "    filter: drop-shadow(0px 1px 2px rgba(0, 0, 0, 0.3));\n",
              "    fill: #FFFFFF;\n",
              "  }\n",
              "</style>\n",
              "\n",
              "    <script>\n",
              "      async function quickchart(key) {\n",
              "        const containerElement = document.querySelector('#' + key);\n",
              "        const charts = await google.colab.kernel.invokeFunction(\n",
              "            'suggestCharts', [key], {});\n",
              "      }\n",
              "    </script>\n",
              "\n",
              "      <script>\n",
              "\n",
              "function displayQuickchartButton(domScope) {\n",
              "  let quickchartButtonEl =\n",
              "    domScope.querySelector('#df-bd969153-ed4c-49a1-ace5-bf989b4dabdb button.colab-df-quickchart');\n",
              "  quickchartButtonEl.style.display =\n",
              "    google.colab.kernel.accessAllowed ? 'block' : 'none';\n",
              "}\n",
              "\n",
              "        displayQuickchartButton(document);\n",
              "      </script>\n",
              "      <style>\n",
              "    .colab-df-container {\n",
              "      display:flex;\n",
              "      flex-wrap:wrap;\n",
              "      gap: 12px;\n",
              "    }\n",
              "\n",
              "    .colab-df-convert {\n",
              "      background-color: #E8F0FE;\n",
              "      border: none;\n",
              "      border-radius: 50%;\n",
              "      cursor: pointer;\n",
              "      display: none;\n",
              "      fill: #1967D2;\n",
              "      height: 32px;\n",
              "      padding: 0 0 0 0;\n",
              "      width: 32px;\n",
              "    }\n",
              "\n",
              "    .colab-df-convert:hover {\n",
              "      background-color: #E2EBFA;\n",
              "      box-shadow: 0px 1px 2px rgba(60, 64, 67, 0.3), 0px 1px 3px 1px rgba(60, 64, 67, 0.15);\n",
              "      fill: #174EA6;\n",
              "    }\n",
              "\n",
              "    [theme=dark] .colab-df-convert {\n",
              "      background-color: #3B4455;\n",
              "      fill: #D2E3FC;\n",
              "    }\n",
              "\n",
              "    [theme=dark] .colab-df-convert:hover {\n",
              "      background-color: #434B5C;\n",
              "      box-shadow: 0px 1px 3px 1px rgba(0, 0, 0, 0.15);\n",
              "      filter: drop-shadow(0px 1px 2px rgba(0, 0, 0, 0.3));\n",
              "      fill: #FFFFFF;\n",
              "    }\n",
              "  </style>\n",
              "\n",
              "      <script>\n",
              "        const buttonEl =\n",
              "          document.querySelector('#df-99a32c24-eaa5-4771-b506-17217525aa60 button.colab-df-convert');\n",
              "        buttonEl.style.display =\n",
              "          google.colab.kernel.accessAllowed ? 'block' : 'none';\n",
              "\n",
              "        async function convertToInteractive(key) {\n",
              "          const element = document.querySelector('#df-99a32c24-eaa5-4771-b506-17217525aa60');\n",
              "          const dataTable =\n",
              "            await google.colab.kernel.invokeFunction('convertToInteractive',\n",
              "                                                     [key], {});\n",
              "          if (!dataTable) return;\n",
              "\n",
              "          const docLinkHtml = 'Like what you see? Visit the ' +\n",
              "            '<a target=\"_blank\" href=https://colab.research.google.com/notebooks/data_table.ipynb>data table notebook</a>'\n",
              "            + ' to learn more about interactive tables.';\n",
              "          element.innerHTML = '';\n",
              "          dataTable['output_type'] = 'display_data';\n",
              "          await google.colab.output.renderOutput(dataTable, element);\n",
              "          const docLink = document.createElement('div');\n",
              "          docLink.innerHTML = docLinkHtml;\n",
              "          element.appendChild(docLink);\n",
              "        }\n",
              "      </script>\n",
              "    </div>\n",
              "  </div>\n"
            ]
          },
          "metadata": {},
          "execution_count": 45
        }
      ]
    },
    {
      "cell_type": "markdown",
      "source": [
        "##data structure"
      ],
      "metadata": {
        "id": "8soQKd5u9WXb"
      }
    },
    {
      "cell_type": "markdown",
      "source": [
        "###list\n",
        "- list is a container to keep everything\n",
        "- it give atte"
      ],
      "metadata": {
        "id": "Y5jo4yRx9lxx"
      }
    },
    {
      "cell_type": "code",
      "source": [
        "list_a = [1,2,3,0.9,'aaz', data_df]\n",
        "list_a"
      ],
      "metadata": {
        "colab": {
          "base_uri": "https://localhost:8080/"
        },
        "id": "dP5ZJXg-9bl4",
        "outputId": "3f05ddd8-bf19-41c8-bcdf-bbfc8a3d42db"
      },
      "execution_count": null,
      "outputs": [
        {
          "output_type": "execute_result",
          "data": {
            "text/plain": [
              "[1,\n",
              " 2,\n",
              " 3,\n",
              " 0.9,\n",
              " 'aaz',\n",
              "    Car_ID         Model   Year   Value   Pers_ID\n",
              " 0     101       Bentley   1973  100000         0\n",
              " 1     102   Rolls Royce   1965  330000         0\n",
              " 2     103       Peugeot   1993     500         3]"
            ]
          },
          "metadata": {},
          "execution_count": 10
        }
      ]
    },
    {
      "cell_type": "markdown",
      "source": [
        "**Indexing** => to choose the value that you want to get. index start from ()"
      ],
      "metadata": {
        "id": "V3TI-o53nHpJ"
      }
    },
    {
      "cell_type": "code",
      "source": [
        "list_a[0]"
      ],
      "metadata": {
        "colab": {
          "base_uri": "https://localhost:8080/"
        },
        "id": "MM1ZjG51nXCi",
        "outputId": "4ec975f0-8373-464d-93b9-e3538c238ca0"
      },
      "execution_count": null,
      "outputs": [
        {
          "output_type": "execute_result",
          "data": {
            "text/plain": [
              "1"
            ]
          },
          "metadata": {},
          "execution_count": 42
        }
      ]
    },
    {
      "cell_type": "code",
      "source": [
        "list_a[5]"
      ],
      "metadata": {
        "colab": {
          "base_uri": "https://localhost:8080/",
          "height": 142
        },
        "id": "wYdK0KsVn-6J",
        "outputId": "0b7a9203-fc31-4d96-f01f-0cfee17c4604"
      },
      "execution_count": null,
      "outputs": [
        {
          "output_type": "execute_result",
          "data": {
            "text/plain": [
              "   Car_ID         Model   Year   Value   Pers_ID\n",
              "0     101       Bentley   1973  100000         0\n",
              "1     102   Rolls Royce   1965  330000         0\n",
              "2     103       Peugeot   1993     500         3"
            ],
            "text/html": [
              "\n",
              "\n",
              "  <div id=\"df-7c426b68-c849-4ba2-a2bc-930b0a9c2aaf\">\n",
              "    <div class=\"colab-df-container\">\n",
              "      <div>\n",
              "<style scoped>\n",
              "    .dataframe tbody tr th:only-of-type {\n",
              "        vertical-align: middle;\n",
              "    }\n",
              "\n",
              "    .dataframe tbody tr th {\n",
              "        vertical-align: top;\n",
              "    }\n",
              "\n",
              "    .dataframe thead th {\n",
              "        text-align: right;\n",
              "    }\n",
              "</style>\n",
              "<table border=\"1\" class=\"dataframe\">\n",
              "  <thead>\n",
              "    <tr style=\"text-align: right;\">\n",
              "      <th></th>\n",
              "      <th>Car_ID</th>\n",
              "      <th>Model</th>\n",
              "      <th>Year</th>\n",
              "      <th>Value</th>\n",
              "      <th>Pers_ID</th>\n",
              "    </tr>\n",
              "  </thead>\n",
              "  <tbody>\n",
              "    <tr>\n",
              "      <th>0</th>\n",
              "      <td>101</td>\n",
              "      <td>Bentley</td>\n",
              "      <td>1973</td>\n",
              "      <td>100000</td>\n",
              "      <td>0</td>\n",
              "    </tr>\n",
              "    <tr>\n",
              "      <th>1</th>\n",
              "      <td>102</td>\n",
              "      <td>Rolls Royce</td>\n",
              "      <td>1965</td>\n",
              "      <td>330000</td>\n",
              "      <td>0</td>\n",
              "    </tr>\n",
              "    <tr>\n",
              "      <th>2</th>\n",
              "      <td>103</td>\n",
              "      <td>Peugeot</td>\n",
              "      <td>1993</td>\n",
              "      <td>500</td>\n",
              "      <td>3</td>\n",
              "    </tr>\n",
              "  </tbody>\n",
              "</table>\n",
              "</div>\n",
              "      <button class=\"colab-df-convert\" onclick=\"convertToInteractive('df-7c426b68-c849-4ba2-a2bc-930b0a9c2aaf')\"\n",
              "              title=\"Convert this dataframe to an interactive table.\"\n",
              "              style=\"display:none;\">\n",
              "\n",
              "  <svg xmlns=\"http://www.w3.org/2000/svg\" height=\"24px\"viewBox=\"0 0 24 24\"\n",
              "       width=\"24px\">\n",
              "    <path d=\"M0 0h24v24H0V0z\" fill=\"none\"/>\n",
              "    <path d=\"M18.56 5.44l.94 2.06.94-2.06 2.06-.94-2.06-.94-.94-2.06-.94 2.06-2.06.94zm-11 1L8.5 8.5l.94-2.06 2.06-.94-2.06-.94L8.5 2.5l-.94 2.06-2.06.94zm10 10l.94 2.06.94-2.06 2.06-.94-2.06-.94-.94-2.06-.94 2.06-2.06.94z\"/><path d=\"M17.41 7.96l-1.37-1.37c-.4-.4-.92-.59-1.43-.59-.52 0-1.04.2-1.43.59L10.3 9.45l-7.72 7.72c-.78.78-.78 2.05 0 2.83L4 21.41c.39.39.9.59 1.41.59.51 0 1.02-.2 1.41-.59l7.78-7.78 2.81-2.81c.8-.78.8-2.07 0-2.86zM5.41 20L4 18.59l7.72-7.72 1.47 1.35L5.41 20z\"/>\n",
              "  </svg>\n",
              "      </button>\n",
              "\n",
              "\n",
              "\n",
              "    <div id=\"df-fdf7a69c-443a-4df4-adc8-bbdfeec8a1ab\">\n",
              "      <button class=\"colab-df-quickchart\" onclick=\"quickchart('df-fdf7a69c-443a-4df4-adc8-bbdfeec8a1ab')\"\n",
              "              title=\"Suggest charts.\"\n",
              "              style=\"display:none;\">\n",
              "\n",
              "<svg xmlns=\"http://www.w3.org/2000/svg\" height=\"24px\"viewBox=\"0 0 24 24\"\n",
              "     width=\"24px\">\n",
              "    <g>\n",
              "        <path d=\"M19 3H5c-1.1 0-2 .9-2 2v14c0 1.1.9 2 2 2h14c1.1 0 2-.9 2-2V5c0-1.1-.9-2-2-2zM9 17H7v-7h2v7zm4 0h-2V7h2v10zm4 0h-2v-4h2v4z\"/>\n",
              "    </g>\n",
              "</svg>\n",
              "      </button>\n",
              "    </div>\n",
              "\n",
              "<style>\n",
              "  .colab-df-quickchart {\n",
              "    background-color: #E8F0FE;\n",
              "    border: none;\n",
              "    border-radius: 50%;\n",
              "    cursor: pointer;\n",
              "    display: none;\n",
              "    fill: #1967D2;\n",
              "    height: 32px;\n",
              "    padding: 0 0 0 0;\n",
              "    width: 32px;\n",
              "  }\n",
              "\n",
              "  .colab-df-quickchart:hover {\n",
              "    background-color: #E2EBFA;\n",
              "    box-shadow: 0px 1px 2px rgba(60, 64, 67, 0.3), 0px 1px 3px 1px rgba(60, 64, 67, 0.15);\n",
              "    fill: #174EA6;\n",
              "  }\n",
              "\n",
              "  [theme=dark] .colab-df-quickchart {\n",
              "    background-color: #3B4455;\n",
              "    fill: #D2E3FC;\n",
              "  }\n",
              "\n",
              "  [theme=dark] .colab-df-quickchart:hover {\n",
              "    background-color: #434B5C;\n",
              "    box-shadow: 0px 1px 3px 1px rgba(0, 0, 0, 0.15);\n",
              "    filter: drop-shadow(0px 1px 2px rgba(0, 0, 0, 0.3));\n",
              "    fill: #FFFFFF;\n",
              "  }\n",
              "</style>\n",
              "\n",
              "    <script>\n",
              "      async function quickchart(key) {\n",
              "        const containerElement = document.querySelector('#' + key);\n",
              "        const charts = await google.colab.kernel.invokeFunction(\n",
              "            'suggestCharts', [key], {});\n",
              "      }\n",
              "    </script>\n",
              "\n",
              "      <script>\n",
              "\n",
              "function displayQuickchartButton(domScope) {\n",
              "  let quickchartButtonEl =\n",
              "    domScope.querySelector('#df-fdf7a69c-443a-4df4-adc8-bbdfeec8a1ab button.colab-df-quickchart');\n",
              "  quickchartButtonEl.style.display =\n",
              "    google.colab.kernel.accessAllowed ? 'block' : 'none';\n",
              "}\n",
              "\n",
              "        displayQuickchartButton(document);\n",
              "      </script>\n",
              "      <style>\n",
              "    .colab-df-container {\n",
              "      display:flex;\n",
              "      flex-wrap:wrap;\n",
              "      gap: 12px;\n",
              "    }\n",
              "\n",
              "    .colab-df-convert {\n",
              "      background-color: #E8F0FE;\n",
              "      border: none;\n",
              "      border-radius: 50%;\n",
              "      cursor: pointer;\n",
              "      display: none;\n",
              "      fill: #1967D2;\n",
              "      height: 32px;\n",
              "      padding: 0 0 0 0;\n",
              "      width: 32px;\n",
              "    }\n",
              "\n",
              "    .colab-df-convert:hover {\n",
              "      background-color: #E2EBFA;\n",
              "      box-shadow: 0px 1px 2px rgba(60, 64, 67, 0.3), 0px 1px 3px 1px rgba(60, 64, 67, 0.15);\n",
              "      fill: #174EA6;\n",
              "    }\n",
              "\n",
              "    [theme=dark] .colab-df-convert {\n",
              "      background-color: #3B4455;\n",
              "      fill: #D2E3FC;\n",
              "    }\n",
              "\n",
              "    [theme=dark] .colab-df-convert:hover {\n",
              "      background-color: #434B5C;\n",
              "      box-shadow: 0px 1px 3px 1px rgba(0, 0, 0, 0.15);\n",
              "      filter: drop-shadow(0px 1px 2px rgba(0, 0, 0, 0.3));\n",
              "      fill: #FFFFFF;\n",
              "    }\n",
              "  </style>\n",
              "\n",
              "      <script>\n",
              "        const buttonEl =\n",
              "          document.querySelector('#df-7c426b68-c849-4ba2-a2bc-930b0a9c2aaf button.colab-df-convert');\n",
              "        buttonEl.style.display =\n",
              "          google.colab.kernel.accessAllowed ? 'block' : 'none';\n",
              "\n",
              "        async function convertToInteractive(key) {\n",
              "          const element = document.querySelector('#df-7c426b68-c849-4ba2-a2bc-930b0a9c2aaf');\n",
              "          const dataTable =\n",
              "            await google.colab.kernel.invokeFunction('convertToInteractive',\n",
              "                                                     [key], {});\n",
              "          if (!dataTable) return;\n",
              "\n",
              "          const docLinkHtml = 'Like what you see? Visit the ' +\n",
              "            '<a target=\"_blank\" href=https://colab.research.google.com/notebooks/data_table.ipynb>data table notebook</a>'\n",
              "            + ' to learn more about interactive tables.';\n",
              "          element.innerHTML = '';\n",
              "          dataTable['output_type'] = 'display_data';\n",
              "          await google.colab.output.renderOutput(dataTable, element);\n",
              "          const docLink = document.createElement('div');\n",
              "          docLink.innerHTML = docLinkHtml;\n",
              "          element.appendChild(docLink);\n",
              "        }\n",
              "      </script>\n",
              "    </div>\n",
              "  </div>\n"
            ]
          },
          "metadata": {},
          "execution_count": 43
        }
      ]
    },
    {
      "cell_type": "markdown",
      "source": [
        "**Negative** index => get data from the last one"
      ],
      "metadata": {
        "id": "S2ukAFgO-apY"
      }
    },
    {
      "cell_type": "code",
      "source": [
        "list_b = ['pizza', list_a,9]\n",
        "list_b"
      ],
      "metadata": {
        "id": "uiiRbI6C9la6",
        "colab": {
          "base_uri": "https://localhost:8080/"
        },
        "outputId": "12fc491a-1641-4a8b-f1fa-408a9dcb7bf7"
      },
      "execution_count": null,
      "outputs": [
        {
          "output_type": "execute_result",
          "data": {
            "text/plain": [
              "['pizza',\n",
              " [1,\n",
              "  2,\n",
              "  3,\n",
              "  0.9,\n",
              "  'aaz',\n",
              "     Car_ID         Model   Year   Value   Pers_ID\n",
              "  0     101       Bentley   1973  100000         0\n",
              "  1     102   Rolls Royce   1965  330000         0\n",
              "  2     103       Peugeot   1993     500         3],\n",
              " 9]"
            ]
          },
          "metadata": {},
          "execution_count": 11
        }
      ]
    },
    {
      "cell_type": "code",
      "source": [
        "# list_b[1][3]\n",
        "list_b[1][3]"
      ],
      "metadata": {
        "colab": {
          "base_uri": "https://localhost:8080/"
        },
        "id": "3ZD6RjbY_HDH",
        "outputId": "ecffe29e-1e38-46fb-ee28-d035418a2833"
      },
      "execution_count": null,
      "outputs": [
        {
          "output_type": "execute_result",
          "data": {
            "text/plain": [
              "0.9"
            ]
          },
          "metadata": {},
          "execution_count": 12
        }
      ]
    },
    {
      "cell_type": "code",
      "source": [],
      "metadata": {
        "id": "XHvE1djD_ZYh"
      },
      "execution_count": null,
      "outputs": []
    },
    {
      "cell_type": "markdown",
      "source": [
        "## String is a list of charactors"
      ],
      "metadata": {
        "id": "2ngV0d_TAD-6"
      }
    },
    {
      "cell_type": "code",
      "source": [
        "x = 'shabu'\n",
        "x[-2]"
      ],
      "metadata": {
        "colab": {
          "base_uri": "https://localhost:8080/",
          "height": 106
        },
        "id": "SAa5VrjqAMiI",
        "outputId": "2f76c6e9-d0c1-48f4-980c-20aedc996128"
      },
      "execution_count": null,
      "outputs": [
        {
          "output_type": "execute_result",
          "data": {
            "text/plain": [
              "'b'"
            ],
            "application/vnd.google.colaboratory.intrinsic+json": {
              "type": "string"
            }
          },
          "metadata": {},
          "execution_count": 13
        }
      ]
    },
    {
      "cell_type": "code",
      "source": [
        "print(list_a)\n",
        "print(list_b)"
      ],
      "metadata": {
        "colab": {
          "base_uri": "https://localhost:8080/"
        },
        "id": "DW2ZxC2-AQQr",
        "outputId": "98e3a384-59b9-4cb9-dbc6-8422c6f78078"
      },
      "execution_count": null,
      "outputs": [
        {
          "output_type": "stream",
          "name": "stdout",
          "text": [
            "[1, 2, 3, 0.9, 'aaz',    Car_ID         Model   Year   Value   Pers_ID\n",
            "0     101       Bentley   1973  100000         0\n",
            "1     102   Rolls Royce   1965  330000         0\n",
            "2     103       Peugeot   1993     500         3]\n",
            "['pizza', [1, 2, 3, 0.9, 'aaz',    Car_ID         Model   Year   Value   Pers_ID\n",
            "0     101       Bentley   1973  100000         0\n",
            "1     102   Rolls Royce   1965  330000         0\n",
            "2     103       Peugeot   1993     500         3], 9]\n"
          ]
        }
      ]
    },
    {
      "cell_type": "code",
      "source": [
        "list_a + list_b"
      ],
      "metadata": {
        "colab": {
          "base_uri": "https://localhost:8080/"
        },
        "id": "AJpzfEKpAeMK",
        "outputId": "6beb5b90-8e66-4620-ffd1-44909328115d"
      },
      "execution_count": null,
      "outputs": [
        {
          "output_type": "execute_result",
          "data": {
            "text/plain": [
              "[1,\n",
              " 2,\n",
              " 3,\n",
              " 0.9,\n",
              " 'aaz',\n",
              "    Car_ID         Model   Year   Value   Pers_ID\n",
              " 0     101       Bentley   1973  100000         0\n",
              " 1     102   Rolls Royce   1965  330000         0\n",
              " 2     103       Peugeot   1993     500         3,\n",
              " 'pizza',\n",
              " [1,\n",
              "  2,\n",
              "  3,\n",
              "  0.9,\n",
              "  'aaz',\n",
              "     Car_ID         Model   Year   Value   Pers_ID\n",
              "  0     101       Bentley   1973  100000         0\n",
              "  1     102   Rolls Royce   1965  330000         0\n",
              "  2     103       Peugeot   1993     500         3],\n",
              " 9]"
            ]
          },
          "metadata": {},
          "execution_count": 15
        }
      ]
    },
    {
      "cell_type": "markdown",
      "source": [
        "## creating a list\n",
        "1. create and empty list\n",
        "2. add member to the list\n",
        "3. then you can indexing the list"
      ],
      "metadata": {
        "id": "Wa29ptNYAp5I"
      }
    },
    {
      "cell_type": "markdown",
      "source": [
        "1. Create and empty list"
      ],
      "metadata": {
        "id": "6F-XQRbqBFG6"
      }
    },
    {
      "cell_type": "code",
      "source": [
        "list_aa = []\n",
        "list_aa"
      ],
      "metadata": {
        "colab": {
          "base_uri": "https://localhost:8080/"
        },
        "id": "jJhis01VBBh5",
        "outputId": "4e79bef4-76fb-4147-c461-f9048f28ba0c"
      },
      "execution_count": null,
      "outputs": [
        {
          "output_type": "execute_result",
          "data": {
            "text/plain": [
              "[]"
            ]
          },
          "metadata": {},
          "execution_count": 16
        }
      ]
    },
    {
      "cell_type": "code",
      "source": [
        "list_bb = list()\n",
        "print(list_bb)"
      ],
      "metadata": {
        "colab": {
          "base_uri": "https://localhost:8080/"
        },
        "id": "lnkGOMKBBEAa",
        "outputId": "1d5fdc11-41e8-4c5f-86f9-0862a7967ca7"
      },
      "execution_count": null,
      "outputs": [
        {
          "output_type": "stream",
          "name": "stdout",
          "text": [
            "[]\n"
          ]
        }
      ]
    },
    {
      "cell_type": "markdown",
      "source": [
        "2. add member to the list (.append())"
      ],
      "metadata": {
        "id": "zXu3TP5TBRa5"
      }
    },
    {
      "cell_type": "code",
      "source": [
        "list_aa.append('chicken')\n",
        "list_aa.append('water')\n",
        "list_aa.append('vegetable')\n",
        "list_aa"
      ],
      "metadata": {
        "colab": {
          "base_uri": "https://localhost:8080/"
        },
        "id": "pOo0f7DLBTt4",
        "outputId": "24a106b5-40c7-4516-deae-83b34310e18d"
      },
      "execution_count": null,
      "outputs": [
        {
          "output_type": "execute_result",
          "data": {
            "text/plain": [
              "['chicken', 'water', 'vegetable']"
            ]
          },
          "metadata": {},
          "execution_count": 18
        }
      ]
    },
    {
      "cell_type": "code",
      "source": [
        "list_aa.append('rice')\n",
        "list_aa"
      ],
      "metadata": {
        "colab": {
          "base_uri": "https://localhost:8080/"
        },
        "id": "wfnELtcYBV2F",
        "outputId": "08ba7ead-5a09-4fa8-c8f1-05e933bddef7"
      },
      "execution_count": null,
      "outputs": [
        {
          "output_type": "execute_result",
          "data": {
            "text/plain": [
              "['chicken', 'water', 'vegetable', 'rice']"
            ]
          },
          "metadata": {},
          "execution_count": 19
        }
      ]
    },
    {
      "cell_type": "code",
      "source": [
        "list_aa[-1] ##indexing"
      ],
      "metadata": {
        "colab": {
          "base_uri": "https://localhost:8080/",
          "height": 157
        },
        "id": "iQ33APU2B0ZG",
        "outputId": "580eb0a7-8883-4d2a-c63b-82e223a9bb50"
      },
      "execution_count": null,
      "outputs": [
        {
          "output_type": "execute_result",
          "data": {
            "text/plain": [
              "'rice'"
            ],
            "application/vnd.google.colaboratory.intrinsic+json": {
              "type": "string"
            }
          },
          "metadata": {},
          "execution_count": 20
        }
      ]
    },
    {
      "cell_type": "code",
      "source": [
        "list_aa[2]"
      ],
      "metadata": {
        "colab": {
          "base_uri": "https://localhost:8080/",
          "height": 242
        },
        "id": "VlXreD86B7pP",
        "outputId": "ddaf47b4-ceb1-4192-f3ea-bdd71d2902c6"
      },
      "execution_count": null,
      "outputs": [
        {
          "output_type": "execute_result",
          "data": {
            "text/plain": [
              "'vegetable'"
            ],
            "application/vnd.google.colaboratory.intrinsic+json": {
              "type": "string"
            }
          },
          "metadata": {},
          "execution_count": 21
        }
      ]
    },
    {
      "cell_type": "code",
      "source": [
        "list_aa.append('plate')\n",
        "list_aa[-2]"
      ],
      "metadata": {
        "colab": {
          "base_uri": "https://localhost:8080/",
          "height": 157
        },
        "id": "QKFLG-6xCCRb",
        "outputId": "c6fb1b28-50b4-4a4e-da70-4bbbf5678983"
      },
      "execution_count": null,
      "outputs": [
        {
          "output_type": "execute_result",
          "data": {
            "text/plain": [
              "'rice'"
            ],
            "application/vnd.google.colaboratory.intrinsic+json": {
              "type": "string"
            }
          },
          "metadata": {},
          "execution_count": 22
        }
      ]
    },
    {
      "cell_type": "markdown",
      "source": [
        "###list slicing"
      ],
      "metadata": {
        "id": "e_jQD4FnCKWu"
      }
    },
    {
      "cell_type": "markdown",
      "source": [
        "we cut part of the list using : (colon)\n",
        "\n",
        "list name [start : end : step]"
      ],
      "metadata": {
        "id": "zyliFPChE5QM"
      }
    },
    {
      "cell_type": "code",
      "source": [
        "list_aa.append('spoon')\n",
        "list_aa.append('fork')\n",
        "list_aa.append('knife')"
      ],
      "metadata": {
        "id": "HpAMMbbTE3gR"
      },
      "execution_count": null,
      "outputs": []
    },
    {
      "cell_type": "code",
      "source": [
        "list_aa.append('apple')"
      ],
      "metadata": {
        "id": "RXsYv-ELFDBM"
      },
      "execution_count": null,
      "outputs": []
    },
    {
      "cell_type": "code",
      "source": [
        "list_aa"
      ],
      "metadata": {
        "colab": {
          "base_uri": "https://localhost:8080/"
        },
        "id": "cqTJUsVdHQ9_",
        "outputId": "5a5fb50e-f482-4769-9a9b-9c5f46757594"
      },
      "execution_count": null,
      "outputs": [
        {
          "output_type": "execute_result",
          "data": {
            "text/plain": [
              "['chicken',\n",
              " 'water',\n",
              " 'vegetable',\n",
              " 'rice',\n",
              " 'plate',\n",
              " 'spoon',\n",
              " 'fork',\n",
              " 'knife',\n",
              " 'apple']"
            ]
          },
          "metadata": {},
          "execution_count": 25
        }
      ]
    },
    {
      "cell_type": "code",
      "source": [
        "list_aa[2:7:1]"
      ],
      "metadata": {
        "colab": {
          "base_uri": "https://localhost:8080/"
        },
        "id": "GDI0F6M4HU7M",
        "outputId": "55a4a809-bbad-4f5a-a3ee-cabfb39715ef"
      },
      "execution_count": null,
      "outputs": [
        {
          "output_type": "execute_result",
          "data": {
            "text/plain": [
              "['vegetable', 'rice', 'plate', 'spoon', 'fork']"
            ]
          },
          "metadata": {},
          "execution_count": 26
        }
      ]
    },
    {
      "cell_type": "code",
      "source": [
        "list_aa[2:7] #same list_aa[2:7:1]"
      ],
      "metadata": {
        "colab": {
          "base_uri": "https://localhost:8080/"
        },
        "id": "inn7ONKzHoNA",
        "outputId": "009399b7-a69a-4f57-b071-de7413b34014"
      },
      "execution_count": null,
      "outputs": [
        {
          "output_type": "execute_result",
          "data": {
            "text/plain": [
              "['vegetable', 'rice', 'plate', 'spoon', 'fork']"
            ]
          },
          "metadata": {},
          "execution_count": 27
        }
      ]
    },
    {
      "cell_type": "code",
      "source": [
        "list_aa[2:] #start 2 to the end"
      ],
      "metadata": {
        "colab": {
          "base_uri": "https://localhost:8080/"
        },
        "id": "4x9wZ3tXH4ak",
        "outputId": "8cce9213-e188-413c-b51f-e262c6f0aec6"
      },
      "execution_count": null,
      "outputs": [
        {
          "output_type": "execute_result",
          "data": {
            "text/plain": [
              "['vegetable', 'rice', 'plate', 'spoon', 'fork', 'knife', 'apple']"
            ]
          },
          "metadata": {},
          "execution_count": 28
        }
      ]
    },
    {
      "cell_type": "code",
      "source": [
        "list_aa[:5] #start to 5"
      ],
      "metadata": {
        "colab": {
          "base_uri": "https://localhost:8080/"
        },
        "id": "hDharnH7H_RN",
        "outputId": "cff45e16-6246-4e7d-e987-a41210adf242"
      },
      "execution_count": null,
      "outputs": [
        {
          "output_type": "execute_result",
          "data": {
            "text/plain": [
              "['chicken', 'water', 'vegetable', 'rice', 'plate']"
            ]
          },
          "metadata": {},
          "execution_count": 29
        }
      ]
    },
    {
      "cell_type": "code",
      "source": [
        "list_aa[:5:2] #start to 5 but jump 2 step"
      ],
      "metadata": {
        "colab": {
          "base_uri": "https://localhost:8080/"
        },
        "id": "rAg1x3A-IKtA",
        "outputId": "33fcfb51-888b-40fe-97e6-748e6900c15a"
      },
      "execution_count": null,
      "outputs": [
        {
          "output_type": "execute_result",
          "data": {
            "text/plain": [
              "['chicken', 'vegetable', 'plate']"
            ]
          },
          "metadata": {},
          "execution_count": 30
        }
      ]
    },
    {
      "cell_type": "code",
      "source": [
        "list_aa[::-1]"
      ],
      "metadata": {
        "colab": {
          "base_uri": "https://localhost:8080/"
        },
        "id": "LNmAkhPBIYft",
        "outputId": "c14f5cf9-c2c3-4b9d-8ee6-40914e9ab364"
      },
      "execution_count": null,
      "outputs": [
        {
          "output_type": "execute_result",
          "data": {
            "text/plain": [
              "['apple',\n",
              " 'knife',\n",
              " 'fork',\n",
              " 'spoon',\n",
              " 'plate',\n",
              " 'rice',\n",
              " 'vegetable',\n",
              " 'water',\n",
              " 'chicken']"
            ]
          },
          "metadata": {},
          "execution_count": 31
        }
      ]
    },
    {
      "cell_type": "markdown",
      "source": [
        "##Quiz 1\n",
        "cut the following part list_aa\n",
        "\n",
        "1. 'iken'\n",
        "2. 'get'\n",
        "3. 'tab'"
      ],
      "metadata": {
        "id": "j79NJV0pJAoQ"
      }
    },
    {
      "cell_type": "code",
      "source": [
        "list_aa[0][2:]"
      ],
      "metadata": {
        "colab": {
          "base_uri": "https://localhost:8080/",
          "height": 35
        },
        "id": "Pyp3N-YfmNMu",
        "outputId": "8afc628b-6cb6-483c-ce0a-689edb7c1130"
      },
      "execution_count": null,
      "outputs": [
        {
          "output_type": "execute_result",
          "data": {
            "text/plain": [
              "'tab'"
            ],
            "application/vnd.google.colaboratory.intrinsic+json": {
              "type": "string"
            }
          },
          "metadata": {},
          "execution_count": 39
        }
      ]
    },
    {
      "cell_type": "code",
      "source": [
        "list_aa[2][2:5]"
      ],
      "metadata": {
        "colab": {
          "base_uri": "https://localhost:8080/",
          "height": 35
        },
        "id": "MTee91-UmtvF",
        "outputId": "13a95779-333c-4507-8eb8-820c0d6f1df6"
      },
      "execution_count": null,
      "outputs": [
        {
          "output_type": "execute_result",
          "data": {
            "text/plain": [
              "'get'"
            ],
            "application/vnd.google.colaboratory.intrinsic+json": {
              "type": "string"
            }
          },
          "metadata": {},
          "execution_count": 40
        }
      ]
    },
    {
      "cell_type": "code",
      "source": [
        "list_aa[2][4:7]"
      ],
      "metadata": {
        "colab": {
          "base_uri": "https://localhost:8080/",
          "height": 35
        },
        "id": "jDdKFtArmvOY",
        "outputId": "ffd82bf7-34b8-49cb-a7e6-3a2eaab855dc"
      },
      "execution_count": null,
      "outputs": [
        {
          "output_type": "execute_result",
          "data": {
            "text/plain": [
              "'tab'"
            ],
            "application/vnd.google.colaboratory.intrinsic+json": {
              "type": "string"
            }
          },
          "metadata": {},
          "execution_count": 41
        }
      ]
    },
    {
      "cell_type": "markdown",
      "source": [
        "##Looping"
      ],
      "metadata": {
        "id": "yHRy-zGHKuxP"
      }
    },
    {
      "cell_type": "markdown",
      "source": [
        "to make the code to repetitive work\n",
        "\n",
        "[indent]\n",
        "    \n",
        "``` python\n",
        "\n",
        "    for each_member_of_the_list in the_list_we_want_to_loop :\n",
        "        do something\n",
        "        do another thing\n",
        "\n",
        "this is outside the loop"
      ],
      "metadata": {
        "id": "rLSoUvpwJeku"
      }
    },
    {
      "cell_type": "code",
      "source": [
        "for each in list_aa :\n",
        "    print(each)"
      ],
      "metadata": {
        "colab": {
          "base_uri": "https://localhost:8080/"
        },
        "id": "9RTBJjjuKE2d",
        "outputId": "c19c49d4-75d4-43ca-9579-703df84f564a"
      },
      "execution_count": null,
      "outputs": [
        {
          "output_type": "stream",
          "name": "stdout",
          "text": [
            "chicken\n",
            "water\n",
            "vegetable\n",
            "rice\n",
            "plate\n",
            "spoon\n",
            "fork\n",
            "knife\n",
            "apple\n"
          ]
        }
      ]
    },
    {
      "cell_type": "code",
      "source": [
        "for i in [1,2,3] :\n",
        "    print(i,end='')\n",
        "    print('xx')"
      ],
      "metadata": {
        "colab": {
          "base_uri": "https://localhost:8080/"
        },
        "id": "HW7Y3yQzKjuq",
        "outputId": "8ccab3a1-a9cf-4a4f-d3b2-8dd9137b252c"
      },
      "execution_count": null,
      "outputs": [
        {
          "output_type": "stream",
          "name": "stdout",
          "text": [
            "1xx\n",
            "2xx\n",
            "3xx\n"
          ]
        }
      ]
    },
    {
      "cell_type": "code",
      "source": [
        "for i in list_aa:\n",
        "    print(f'now i is {i}')\n",
        "    print(f'I like to eat {i} \\n/////////////')"
      ],
      "metadata": {
        "colab": {
          "base_uri": "https://localhost:8080/"
        },
        "id": "9e-1kjBZK9H8",
        "outputId": "dc4d9e66-b789-45c9-9a1f-5bd06563b67f"
      },
      "execution_count": null,
      "outputs": [
        {
          "output_type": "stream",
          "name": "stdout",
          "text": [
            "now i is chicken\n",
            "I like to eat chicken \n",
            "/////////////\n",
            "now i is water\n",
            "I like to eat water \n",
            "/////////////\n",
            "now i is vegetable\n",
            "I like to eat vegetable \n",
            "/////////////\n",
            "now i is rice\n",
            "I like to eat rice \n",
            "/////////////\n",
            "now i is plate\n",
            "I like to eat plate \n",
            "/////////////\n",
            "now i is spoon\n",
            "I like to eat spoon \n",
            "/////////////\n",
            "now i is fork\n",
            "I like to eat fork \n",
            "/////////////\n",
            "now i is knife\n",
            "I like to eat knife \n",
            "/////////////\n",
            "now i is apple\n",
            "I like to eat apple \n",
            "/////////////\n"
          ]
        }
      ]
    },
    {
      "cell_type": "code",
      "source": [
        "list(range(10)) #runing 10 number start 0 to 9"
      ],
      "metadata": {
        "colab": {
          "base_uri": "https://localhost:8080/"
        },
        "id": "1bj9hGLKLXUe",
        "outputId": "c986c4cc-a1b3-4ca0-e079-082f5ea762f1"
      },
      "execution_count": null,
      "outputs": [
        {
          "output_type": "execute_result",
          "data": {
            "text/plain": [
              "[0, 1, 2, 3, 4, 5, 6, 7, 8, 9]"
            ]
          },
          "metadata": {},
          "execution_count": 35
        }
      ]
    },
    {
      "cell_type": "code",
      "source": [
        "list(range(10,20,2)) #runing from 10 to 20 but jump 2 step"
      ],
      "metadata": {
        "colab": {
          "base_uri": "https://localhost:8080/"
        },
        "id": "s_KZkYYaM6py",
        "outputId": "29c306db-ea14-402b-9a4a-93d0f84e1348"
      },
      "execution_count": null,
      "outputs": [
        {
          "output_type": "execute_result",
          "data": {
            "text/plain": [
              "[10, 12, 14, 16, 18]"
            ]
          },
          "metadata": {},
          "execution_count": 36
        }
      ]
    },
    {
      "cell_type": "code",
      "source": [
        "for i in range(100):\n",
        "    print(f'Ha{i}',end='')"
      ],
      "metadata": {
        "colab": {
          "base_uri": "https://localhost:8080/"
        },
        "id": "FLce4skgMbUw",
        "outputId": "ad55d91e-7510-445e-c8bf-4ffda4651d92"
      },
      "execution_count": null,
      "outputs": [
        {
          "output_type": "stream",
          "name": "stdout",
          "text": [
            "Ha0Ha1Ha2Ha3Ha4Ha5Ha6Ha7Ha8Ha9Ha10Ha11Ha12Ha13Ha14Ha15Ha16Ha17Ha18Ha19Ha20Ha21Ha22Ha23Ha24Ha25Ha26Ha27Ha28Ha29Ha30Ha31Ha32Ha33Ha34Ha35Ha36Ha37Ha38Ha39Ha40Ha41Ha42Ha43Ha44Ha45Ha46Ha47Ha48Ha49Ha50Ha51Ha52Ha53Ha54Ha55Ha56Ha57Ha58Ha59Ha60Ha61Ha62Ha63Ha64Ha65Ha66Ha67Ha68Ha69Ha70Ha71Ha72Ha73Ha74Ha75Ha76Ha77Ha78Ha79Ha80Ha81Ha82Ha83Ha84Ha85Ha86Ha87Ha88Ha89Ha90Ha91Ha92Ha93Ha94Ha95Ha96Ha97Ha98Ha99"
          ]
        }
      ]
    },
    {
      "cell_type": "markdown",
      "source": [
        "##Nested loop"
      ],
      "metadata": {
        "id": "AkxcFFBbNbzV"
      }
    },
    {
      "cell_type": "markdown",
      "source": [
        "loop in loop"
      ],
      "metadata": {
        "id": "nPKyNrchsMUU"
      }
    },
    {
      "cell_type": "code",
      "source": [
        "for i in range(3):\n",
        "    print(f'i = {i}')\n",
        "    for j in range(2):\n",
        "      print(f'i = {i}, j = {j}, i+j = {i+j}')"
      ],
      "metadata": {
        "colab": {
          "base_uri": "https://localhost:8080/"
        },
        "id": "B0XyVjmGsLaP",
        "outputId": "b47f31c6-0a69-4c19-897d-5f0a886bad66"
      },
      "execution_count": 46,
      "outputs": [
        {
          "output_type": "stream",
          "name": "stdout",
          "text": [
            "i = 0\n",
            "i = 0, j = 0, i+j = 0\n",
            "i = 0, j = 1, i+j = 1\n",
            "i = 1\n",
            "i = 1, j = 0, i+j = 1\n",
            "i = 1, j = 1, i+j = 2\n",
            "i = 2\n",
            "i = 2, j = 0, i+j = 2\n",
            "i = 2, j = 1, i+j = 3\n"
          ]
        }
      ]
    },
    {
      "cell_type": "code",
      "source": [
        "for i in range(3):\n",
        "    print(f'i = {i} (outer loop)')\n",
        "    for j in range(2):\n",
        "      print(f'i = {i}, j = {j}, i+j = {i+j} (inner loop)')"
      ],
      "metadata": {
        "colab": {
          "base_uri": "https://localhost:8080/"
        },
        "id": "JPvV_ueMsfS4",
        "outputId": "869294fd-7d7b-429d-cd09-9a875e26fa67"
      },
      "execution_count": 47,
      "outputs": [
        {
          "output_type": "stream",
          "name": "stdout",
          "text": [
            "i = 0 (outer loop)\n",
            "i = 0, j = 0, i+j = 0 (inner loop)\n",
            "i = 0, j = 1, i+j = 1 (inner loop)\n",
            "i = 1 (outer loop)\n",
            "i = 1, j = 0, i+j = 1 (inner loop)\n",
            "i = 1, j = 1, i+j = 2 (inner loop)\n",
            "i = 2 (outer loop)\n",
            "i = 2, j = 0, i+j = 2 (inner loop)\n",
            "i = 2, j = 1, i+j = 3 (inner loop)\n"
          ]
        }
      ]
    },
    {
      "cell_type": "markdown",
      "source": [
        "**Example 1**\n",
        "\n",
        "create a list [[1],[1,1], [1,1,1],...,[1,1,1,1,1,1,1,1,1,1] with for loop"
      ],
      "metadata": {
        "id": "QCdzin3OtRdy"
      }
    },
    {
      "cell_type": "code",
      "source": [
        "list_A = []\n",
        "for i in range(10): #make i => number list 10 times\n",
        "  AA = []\n",
        "  for j in range(i+1):\n",
        "      A=1\n",
        "      AA.append(A)\n",
        "  list_A.append(AA)"
      ],
      "metadata": {
        "id": "wVBN9L-Etai8"
      },
      "execution_count": 48,
      "outputs": []
    },
    {
      "cell_type": "code",
      "source": [
        "list_A"
      ],
      "metadata": {
        "colab": {
          "base_uri": "https://localhost:8080/"
        },
        "id": "TuwelCfSuhDE",
        "outputId": "fe82385f-0c28-4828-d5d2-08c470f2ed0a"
      },
      "execution_count": 49,
      "outputs": [
        {
          "output_type": "execute_result",
          "data": {
            "text/plain": [
              "[[1],\n",
              " [1, 1],\n",
              " [1, 1, 1],\n",
              " [1, 1, 1, 1],\n",
              " [1, 1, 1, 1, 1],\n",
              " [1, 1, 1, 1, 1, 1],\n",
              " [1, 1, 1, 1, 1, 1, 1],\n",
              " [1, 1, 1, 1, 1, 1, 1, 1],\n",
              " [1, 1, 1, 1, 1, 1, 1, 1, 1],\n",
              " [1, 1, 1, 1, 1, 1, 1, 1, 1, 1]]"
            ]
          },
          "metadata": {},
          "execution_count": 49
        }
      ]
    },
    {
      "cell_type": "markdown",
      "source": [
        "Answer"
      ],
      "metadata": {
        "id": "PEy53Paguy76"
      }
    },
    {
      "cell_type": "code",
      "source": [
        "list_ans = []\n",
        "print(f'list_ans = {list_ans}')\n",
        "for i in range(1, 11):\n",
        "    temp = []\n",
        "    #print(f'temp = {temp}')\n",
        "    for j in range(i):\n",
        "        temp.append(1)    #append 1 in temp\n",
        "    print(f'i = {i} j= {j} : temp = {temp}')\n",
        "    list_ans.append(temp)\n",
        "    print(f'list_ans = {list_ans} \\n ------------')\n",
        "\n",
        "print(list_ans)"
      ],
      "metadata": {
        "colab": {
          "base_uri": "https://localhost:8080/"
        },
        "id": "aLkGXrtPujVf",
        "outputId": "5833d1d0-acd8-4b5d-d718-5be395e9fdf7"
      },
      "execution_count": 52,
      "outputs": [
        {
          "output_type": "stream",
          "name": "stdout",
          "text": [
            "list_ans = []\n",
            "i = 1 j= 0 : temp = [1]\n",
            "list_ans = [[1]] \n",
            " ------------\n",
            "i = 2 j= 1 : temp = [1, 1]\n",
            "list_ans = [[1], [1, 1]] \n",
            " ------------\n",
            "i = 3 j= 2 : temp = [1, 1, 1]\n",
            "list_ans = [[1], [1, 1], [1, 1, 1]] \n",
            " ------------\n",
            "i = 4 j= 3 : temp = [1, 1, 1, 1]\n",
            "list_ans = [[1], [1, 1], [1, 1, 1], [1, 1, 1, 1]] \n",
            " ------------\n",
            "i = 5 j= 4 : temp = [1, 1, 1, 1, 1]\n",
            "list_ans = [[1], [1, 1], [1, 1, 1], [1, 1, 1, 1], [1, 1, 1, 1, 1]] \n",
            " ------------\n",
            "i = 6 j= 5 : temp = [1, 1, 1, 1, 1, 1]\n",
            "list_ans = [[1], [1, 1], [1, 1, 1], [1, 1, 1, 1], [1, 1, 1, 1, 1], [1, 1, 1, 1, 1, 1]] \n",
            " ------------\n",
            "i = 7 j= 6 : temp = [1, 1, 1, 1, 1, 1, 1]\n",
            "list_ans = [[1], [1, 1], [1, 1, 1], [1, 1, 1, 1], [1, 1, 1, 1, 1], [1, 1, 1, 1, 1, 1], [1, 1, 1, 1, 1, 1, 1]] \n",
            " ------------\n",
            "i = 8 j= 7 : temp = [1, 1, 1, 1, 1, 1, 1, 1]\n",
            "list_ans = [[1], [1, 1], [1, 1, 1], [1, 1, 1, 1], [1, 1, 1, 1, 1], [1, 1, 1, 1, 1, 1], [1, 1, 1, 1, 1, 1, 1], [1, 1, 1, 1, 1, 1, 1, 1]] \n",
            " ------------\n",
            "i = 9 j= 8 : temp = [1, 1, 1, 1, 1, 1, 1, 1, 1]\n",
            "list_ans = [[1], [1, 1], [1, 1, 1], [1, 1, 1, 1], [1, 1, 1, 1, 1], [1, 1, 1, 1, 1, 1], [1, 1, 1, 1, 1, 1, 1], [1, 1, 1, 1, 1, 1, 1, 1], [1, 1, 1, 1, 1, 1, 1, 1, 1]] \n",
            " ------------\n",
            "i = 10 j= 9 : temp = [1, 1, 1, 1, 1, 1, 1, 1, 1, 1]\n",
            "list_ans = [[1], [1, 1], [1, 1, 1], [1, 1, 1, 1], [1, 1, 1, 1, 1], [1, 1, 1, 1, 1, 1], [1, 1, 1, 1, 1, 1, 1], [1, 1, 1, 1, 1, 1, 1, 1], [1, 1, 1, 1, 1, 1, 1, 1, 1], [1, 1, 1, 1, 1, 1, 1, 1, 1, 1]] \n",
            " ------------\n",
            "[[1], [1, 1], [1, 1, 1], [1, 1, 1, 1], [1, 1, 1, 1, 1], [1, 1, 1, 1, 1, 1], [1, 1, 1, 1, 1, 1, 1], [1, 1, 1, 1, 1, 1, 1, 1], [1, 1, 1, 1, 1, 1, 1, 1, 1], [1, 1, 1, 1, 1, 1, 1, 1, 1, 1]]\n"
          ]
        }
      ]
    },
    {
      "cell_type": "code",
      "source": [],
      "metadata": {
        "id": "p3HrCtCNvR9p"
      },
      "execution_count": null,
      "outputs": []
    },
    {
      "cell_type": "markdown",
      "source": [
        "##Quize 2\n",
        "\n",
        "create a list [[a],[a,b], [a,b,c],...,[a,b,c,d,e,f,g,h,i,j] with for loop"
      ],
      "metadata": {
        "id": "5Ob-I4IewLi1"
      }
    },
    {
      "cell_type": "code",
      "source": [
        "q2 = [ ]\n",
        "str_q = ['a','b','c','d','e','f','g','h','i','j']\n",
        "for i in range (1,11) :\n",
        "   q2.append(str_q[:i])\n",
        "q2"
      ],
      "metadata": {
        "colab": {
          "base_uri": "https://localhost:8080/"
        },
        "id": "w3N8SQRBw11s",
        "outputId": "911d1c26-e59b-4f13-81c8-46cd793f76e3"
      },
      "execution_count": 85,
      "outputs": [
        {
          "output_type": "execute_result",
          "data": {
            "text/plain": [
              "[['a'],\n",
              " ['a', 'b'],\n",
              " ['a', 'b', 'c'],\n",
              " ['a', 'b', 'c', 'd'],\n",
              " ['a', 'b', 'c', 'd', 'e'],\n",
              " ['a', 'b', 'c', 'd', 'e', 'f'],\n",
              " ['a', 'b', 'c', 'd', 'e', 'f', 'g'],\n",
              " ['a', 'b', 'c', 'd', 'e', 'f', 'g', 'h'],\n",
              " ['a', 'b', 'c', 'd', 'e', 'f', 'g', 'h', 'i'],\n",
              " ['a', 'b', 'c', 'd', 'e', 'f', 'g', 'h', 'i', 'j']]"
            ]
          },
          "metadata": {},
          "execution_count": 85
        }
      ]
    },
    {
      "cell_type": "code",
      "source": [
        "q2_1 = [ ]\n",
        "str_q = ['a','b','c','d','e','f','g','h','i','j']\n",
        "for i in range (1,11) :\n",
        "    qq = []\n",
        "    for j in range (i+1) :\n",
        "        q2_1.append(str_q[:j])\n"
      ],
      "metadata": {
        "id": "PMaEOfUqyQtk"
      },
      "execution_count": 90,
      "outputs": []
    },
    {
      "cell_type": "markdown",
      "source": [
        "##Conditional Statement (if statement)\n",
        "\n",
        "if condition (with these symbols: ==, !=, <, >, <, >=, in, is_null(), and, or, &, |) :\n",
        "\n",
        "Do this when the condition is True #1\n",
        "\n",
        "Do this when the condition is True #2"
      ],
      "metadata": {
        "id": "lU11dcrO4FN9"
      }
    },
    {
      "cell_type": "code",
      "source": [
        "if 1 < 5 :\n",
        "    print('yes')"
      ],
      "metadata": {
        "id": "ELZ1PlB835NG",
        "outputId": "14b2df65-df29-4180-fd80-c5e0a04c8660",
        "colab": {
          "base_uri": "https://localhost:8080/"
        }
      },
      "execution_count": 92,
      "outputs": [
        {
          "output_type": "stream",
          "name": "stdout",
          "text": [
            "yes\n"
          ]
        }
      ]
    },
    {
      "cell_type": "markdown",
      "source": [
        "**Conditional Statement (if statement)**\n",
        "\n",
        "if condition1 (with these symbols: ==, !=, <, >, <=, >=, in, is_null(), and, or, &, |)\n",
        "\n",
        "Do this when the condition is True #1\n",
        "\n",
        "Do this when the condition is True #2\n",
        "\n",
        "elif condition2:\n",
        "\n",
        "Do this when condition 1 is False and codition 2 is True #1\n",
        "\n",
        "Do this when condition 1 is False and codition 2 is True #2\n",
        "\n",
        "elif condition3:\n",
        "\n",
        "Do this when condition 1 and 2 is False and codition 3 is True #1\n",
        "\n",
        "else: # if all above conditions are False\n",
        "Do this when all conditions are False"
      ],
      "metadata": {
        "id": "UbYLcTiY4P09"
      }
    },
    {
      "cell_type": "code",
      "source": [
        "x = 12\n",
        "\n",
        "if x<5:\n",
        "   print('yes')\n",
        "else:\n",
        "   print('no')"
      ],
      "metadata": {
        "id": "LmUiv6wS4CU5",
        "outputId": "2cb43dda-d450-42cb-b6ff-87265eef7726",
        "colab": {
          "base_uri": "https://localhost:8080/"
        }
      },
      "execution_count": 93,
      "outputs": [
        {
          "output_type": "stream",
          "name": "stdout",
          "text": [
            "no\n"
          ]
        }
      ]
    },
    {
      "cell_type": "markdown",
      "source": [
        "***Example***\n",
        "\n",
        "find the smallest number in list_ex without using min() fucntion (you can use only for and if)\n"
      ],
      "metadata": {
        "id": "wNWgpj1R5EYP"
      }
    },
    {
      "cell_type": "code",
      "source": [
        "list_ex = [1,5,9,-19,-2,0]\n",
        "minimum = list_ex[0]\n",
        "for number in list_ex:\n",
        "    if minimum > number:\n",
        "       minimum = number\n",
        "print(minimum)"
      ],
      "metadata": {
        "id": "FFtilT3l4--t",
        "outputId": "88f5dfc7-6bde-4528-8376-3d5e7b87b72c",
        "colab": {
          "base_uri": "https://localhost:8080/"
        }
      },
      "execution_count": 95,
      "outputs": [
        {
          "output_type": "stream",
          "name": "stdout",
          "text": [
            "-19\n"
          ]
        }
      ]
    },
    {
      "cell_type": "markdown",
      "source": [
        "Answer"
      ],
      "metadata": {
        "id": "jz1Y_IUt58VA"
      }
    },
    {
      "cell_type": "code",
      "source": [
        "min = 100000000\n",
        "print(list_ex)\n",
        "for i in list_ex:\n",
        "    print(f'now i = {i}, min = {min}')\n",
        "    print('start condition')\n",
        "    if i < min:\n",
        "        print(f'i < min, update min -> {i}')\n",
        "        min = i\n",
        "    else:\n",
        "        print('i >= min, not update')\n",
        "    print('end condition, go to next i \\n -------------')\n",
        "\n",
        "print(min)\n"
      ],
      "metadata": {
        "id": "DjZlPk1s5nDq",
        "outputId": "2c81a14a-22e9-474d-b321-fe640ee43528",
        "colab": {
          "base_uri": "https://localhost:8080/"
        }
      },
      "execution_count": 98,
      "outputs": [
        {
          "output_type": "stream",
          "name": "stdout",
          "text": [
            "[1, 5, 9, -19, -2, 0]\n",
            "now i = 1, min = 100000000\n",
            "start condition\n",
            "i < min, update min -> 1\n",
            "end condition, go to next i \n",
            " -------------\n",
            "now i = 5, min = 1\n",
            "start condition\n",
            "i >= min, not update\n",
            "end condition, go to next i \n",
            " -------------\n",
            "now i = 9, min = 1\n",
            "start condition\n",
            "i >= min, not update\n",
            "end condition, go to next i \n",
            " -------------\n",
            "now i = -19, min = 1\n",
            "start condition\n",
            "i < min, update min -> -19\n",
            "end condition, go to next i \n",
            " -------------\n",
            "now i = -2, min = -19\n",
            "start condition\n",
            "i >= min, not update\n",
            "end condition, go to next i \n",
            " -------------\n",
            "now i = 0, min = -19\n",
            "start condition\n",
            "i >= min, not update\n",
            "end condition, go to next i \n",
            " -------------\n",
            "-19\n"
          ]
        }
      ]
    },
    {
      "cell_type": "markdown",
      "source": [
        "##Quize 3\n",
        "\n",
        "list_ex = [1,5,9,-19,-2,0]\n",
        "\n",
        "find the maximum number in ```list_ex``` without using max() fucntion (you can use only for and if)"
      ],
      "metadata": {
        "id": "gb70hYCI7DBM"
      }
    },
    {
      "cell_type": "code",
      "source": [
        "maximum = list_ex[0]\n",
        "for number in list_ex:\n",
        "    if maximum < number:\n",
        "       maximum = number\n",
        "print(maximum)"
      ],
      "metadata": {
        "id": "EQjvadF26At5",
        "outputId": "ce075ee4-2815-42f8-bd59-066c64c866bb",
        "colab": {
          "base_uri": "https://localhost:8080/"
        }
      },
      "execution_count": 100,
      "outputs": [
        {
          "output_type": "stream",
          "name": "stdout",
          "text": [
            "9\n"
          ]
        }
      ]
    },
    {
      "cell_type": "markdown",
      "source": [
        "##HW 1\n",
        "\n",
        " sort the number in ```list_ex``` without using sorting function (you can use only for and if)\n",
        "\n",
        "submit before 8 Aug"
      ],
      "metadata": {
        "id": "-FTGpabH77o3"
      }
    },
    {
      "cell_type": "code",
      "source": [],
      "metadata": {
        "id": "WdyHx04W9MX_"
      },
      "execution_count": null,
      "outputs": []
    },
    {
      "cell_type": "markdown",
      "source": [
        "***Python infinity***\n",
        "\n",
        "Representing infinity as an Integer in python"
      ],
      "metadata": {
        "id": "qC-bltMT8yyl"
      }
    },
    {
      "cell_type": "markdown",
      "source": [
        "1. Using float(‘inf’) and float(‘-inf’):"
      ],
      "metadata": {
        "id": "jnSKy2Hd83fW"
      }
    },
    {
      "cell_type": "code",
      "source": [
        "float('inf')"
      ],
      "metadata": {
        "id": "fNVXRHE08rrc",
        "outputId": "c56ec0fe-443f-4ac9-ccd1-be67c330562a",
        "colab": {
          "base_uri": "https://localhost:8080/"
        }
      },
      "execution_count": 101,
      "outputs": [
        {
          "output_type": "execute_result",
          "data": {
            "text/plain": [
              "inf"
            ]
          },
          "metadata": {},
          "execution_count": 101
        }
      ]
    },
    {
      "cell_type": "code",
      "source": [
        "float('-inf')"
      ],
      "metadata": {
        "id": "HVDJmaOp87wz",
        "outputId": "98cb845d-be28-46b5-8bb1-6e170511ba4a",
        "colab": {
          "base_uri": "https://localhost:8080/"
        }
      },
      "execution_count": 102,
      "outputs": [
        {
          "output_type": "execute_result",
          "data": {
            "text/plain": [
              "-inf"
            ]
          },
          "metadata": {},
          "execution_count": 102
        }
      ]
    },
    {
      "cell_type": "markdown",
      "source": [
        "2. using Python’s math module:"
      ],
      "metadata": {
        "id": "HhACg5tp8-Ab"
      }
    },
    {
      "cell_type": "code",
      "source": [
        "import math"
      ],
      "metadata": {
        "id": "Hv-tS3Wz89JA"
      },
      "execution_count": 103,
      "outputs": []
    },
    {
      "cell_type": "code",
      "source": [
        "math.inf"
      ],
      "metadata": {
        "id": "qU9aqC5X9Cn5",
        "outputId": "4e2fe7ec-c407-439e-856c-7613aad1dad3",
        "colab": {
          "base_uri": "https://localhost:8080/"
        }
      },
      "execution_count": 104,
      "outputs": [
        {
          "output_type": "execute_result",
          "data": {
            "text/plain": [
              "inf"
            ]
          },
          "metadata": {},
          "execution_count": 104
        }
      ]
    },
    {
      "cell_type": "code",
      "source": [
        "-math.inf"
      ],
      "metadata": {
        "id": "JlhArEWK9EXL",
        "outputId": "736dff6f-26d6-4160-cd58-474ae7bd2efe",
        "colab": {
          "base_uri": "https://localhost:8080/"
        }
      },
      "execution_count": 105,
      "outputs": [
        {
          "output_type": "execute_result",
          "data": {
            "text/plain": [
              "-inf"
            ]
          },
          "metadata": {},
          "execution_count": 105
        }
      ]
    },
    {
      "cell_type": "markdown",
      "source": [
        "##Function\n",
        "\n",
        "``` python\n",
        "def function_name (input1,input2,...):\n",
        "    process #1\n",
        "    process #2\n",
        "    return(output)\n",
        "```"
      ],
      "metadata": {
        "id": "K0WZfioQ9Sq9"
      }
    },
    {
      "cell_type": "markdown",
      "source": [
        "***Four importanat part of a function***\n",
        "\n",
        "- fuction name (needed)\n",
        "- input\n",
        "- process (needed)\n",
        "- output\n"
      ],
      "metadata": {
        "id": "Bsekn_KB-bre"
      }
    },
    {
      "cell_type": "markdown",
      "source": [
        "**Example**"
      ],
      "metadata": {
        "id": "DbO3qDXO-53o"
      }
    },
    {
      "cell_type": "code",
      "source": [
        "def find_min(list_ex):\n",
        "    min = 100000000\n",
        "    for x in list_ex:\n",
        "        if x < min:\n",
        "            min = x\n",
        "\n",
        "    return min"
      ],
      "metadata": {
        "id": "Y_DEYVlg9SVA"
      },
      "execution_count": 107,
      "outputs": []
    },
    {
      "cell_type": "code",
      "source": [
        "list_A = [1,5,9,-19,-2,0]\n",
        "XXX = find_min(list_A)\n",
        "print(XXX)\n"
      ],
      "metadata": {
        "id": "uO39xwRK9FMA",
        "outputId": "0d38ac41-f415-4541-c715-b7aea5c91c0f",
        "colab": {
          "base_uri": "https://localhost:8080/"
        }
      },
      "execution_count": 108,
      "outputs": [
        {
          "output_type": "stream",
          "name": "stdout",
          "text": [
            "-19\n"
          ]
        }
      ]
    },
    {
      "cell_type": "code",
      "source": [
        "find_min([-9,99,0,-34])"
      ],
      "metadata": {
        "id": "hrsnGbk4_oTW",
        "outputId": "838ddc2e-a6a8-448e-8b0a-4f7a8ed9b077",
        "colab": {
          "base_uri": "https://localhost:8080/"
        }
      },
      "execution_count": 109,
      "outputs": [
        {
          "output_type": "execute_result",
          "data": {
            "text/plain": [
              "-34"
            ]
          },
          "metadata": {},
          "execution_count": 109
        }
      ]
    },
    {
      "cell_type": "markdown",
      "source": [
        "**Example 2**\n",
        "\n",
        "Function without Output\n",
        "\n",
        "- cannot st a value to output"
      ],
      "metadata": {
        "id": "m8DM8slW_wA4"
      }
    },
    {
      "cell_type": "code",
      "source": [
        "def find_min2(list_ex): ##no return\n",
        "    min = 100000000\n",
        "    for x in list_ex:\n",
        "        if x < min:\n",
        "            min = x\n",
        "    print(min)"
      ],
      "metadata": {
        "id": "UKyjwIne_uBg"
      },
      "execution_count": 110,
      "outputs": []
    },
    {
      "cell_type": "code",
      "source": [
        "find_min2(list_A)"
      ],
      "metadata": {
        "id": "ilTgQt7OAN8b",
        "outputId": "c6ba865a-28d0-43a5-8a90-59e5ec5d9ed6",
        "colab": {
          "base_uri": "https://localhost:8080/"
        }
      },
      "execution_count": 111,
      "outputs": [
        {
          "output_type": "stream",
          "name": "stdout",
          "text": [
            "-19\n"
          ]
        }
      ]
    },
    {
      "cell_type": "code",
      "source": [
        "YYY  = find_min2(list_A)"
      ],
      "metadata": {
        "id": "QCmc5SDKATqs",
        "outputId": "aa748b0e-02d3-4f4d-83b9-02ade3a82be4",
        "colab": {
          "base_uri": "https://localhost:8080/"
        }
      },
      "execution_count": 112,
      "outputs": [
        {
          "output_type": "stream",
          "name": "stdout",
          "text": [
            "-19\n"
          ]
        }
      ]
    },
    {
      "cell_type": "code",
      "source": [
        "YYY"
      ],
      "metadata": {
        "id": "7Hun2iooAW8R"
      },
      "execution_count": 113,
      "outputs": []
    },
    {
      "cell_type": "markdown",
      "source": [
        "***Example 3***\n",
        "\n",
        "Function without Input"
      ],
      "metadata": {
        "id": "ZYV0Um8KAfhI"
      }
    },
    {
      "cell_type": "code",
      "source": [
        "def Pi_val():\n",
        "    return 3.1416\n"
      ],
      "metadata": {
        "id": "ozTWvXc3AaLy"
      },
      "execution_count": 114,
      "outputs": []
    },
    {
      "cell_type": "code",
      "source": [
        "r = 10\n",
        "print(f'พื้นที่วงกลมที่มีเส้นผ่านศูนย์กลางเท่ากับ {r} คือ {Pi_val()*r*r}')"
      ],
      "metadata": {
        "id": "VXis_gdtAnTW",
        "outputId": "ccf6686c-990f-4fb4-cff2-d048f226c4e5",
        "colab": {
          "base_uri": "https://localhost:8080/"
        }
      },
      "execution_count": 116,
      "outputs": [
        {
          "output_type": "stream",
          "name": "stdout",
          "text": [
            "พื้นที่วงกลมที่มีเส้นผ่านศูนย์กลางเท่ากับ 10 คือ 314.16\n"
          ]
        }
      ]
    },
    {
      "cell_type": "markdown",
      "source": [
        "***Example 4***\n",
        "\n",
        "Function that has only Process"
      ],
      "metadata": {
        "id": "z_MCRfqXA5Cd"
      }
    },
    {
      "cell_type": "code",
      "source": [
        "def draw_rectangle():\n",
        "    print('======')\n",
        "    print('|    |')\n",
        "    print('======')"
      ],
      "metadata": {
        "id": "7wBeKmboAydV"
      },
      "execution_count": 117,
      "outputs": []
    },
    {
      "cell_type": "code",
      "source": [
        "draw_rectangle()"
      ],
      "metadata": {
        "id": "KIxWFTNfBHnJ",
        "outputId": "e528fe68-80fe-4aa9-8952-a0ed9ca15abf",
        "colab": {
          "base_uri": "https://localhost:8080/"
        }
      },
      "execution_count": 118,
      "outputs": [
        {
          "output_type": "stream",
          "name": "stdout",
          "text": [
            "======\n",
            "|    |\n",
            "======\n"
          ]
        }
      ]
    },
    {
      "cell_type": "code",
      "source": [
        "def draw_hello():\n",
        "    print('============')\n",
        "    print('|  Hello  |')\n",
        "    print('============')"
      ],
      "metadata": {
        "id": "tqFrOgXYBLYE"
      },
      "execution_count": 119,
      "outputs": []
    },
    {
      "cell_type": "code",
      "source": [
        "draw_hello()"
      ],
      "metadata": {
        "id": "sRBV6L7UBM2X",
        "outputId": "567a30cd-9ba2-48e9-abf4-e73d64361ad8",
        "colab": {
          "base_uri": "https://localhost:8080/"
        }
      },
      "execution_count": 120,
      "outputs": [
        {
          "output_type": "stream",
          "name": "stdout",
          "text": [
            "============\n",
            "|  Hello  |\n",
            "============\n"
          ]
        }
      ]
    },
    {
      "cell_type": "markdown",
      "source": [
        "Function without a Process means error"
      ],
      "metadata": {
        "id": "y9Iw-8pOBaik"
      }
    },
    {
      "cell_type": "code",
      "source": [
        "def draw_rectangle():"
      ],
      "metadata": {
        "id": "bpf_zkOsBQiM",
        "outputId": "10356f5c-60bd-482a-bc42-4cd47585ee4d",
        "colab": {
          "base_uri": "https://localhost:8080/",
          "height": 130
        }
      },
      "execution_count": 121,
      "outputs": [
        {
          "output_type": "error",
          "ename": "SyntaxError",
          "evalue": "ignored",
          "traceback": [
            "\u001b[0;36m  File \u001b[0;32m\"<ipython-input-121-96ff03789653>\"\u001b[0;36m, line \u001b[0;32m1\u001b[0m\n\u001b[0;31m    def draw_rectangle():\u001b[0m\n\u001b[0m                         ^\u001b[0m\n\u001b[0;31mSyntaxError\u001b[0m\u001b[0;31m:\u001b[0m incomplete input\n"
          ]
        }
      ]
    },
    {
      "cell_type": "markdown",
      "source": [
        "##type of input(paremeter or argument)\n",
        "\n",
        "- non-default argument : you need to give an input this argument\n",
        "\n",
        "- default argument : you can ignore it because it has a defaule value\n"
      ],
      "metadata": {
        "id": "6OGNHO2cBv4Y"
      }
    },
    {
      "cell_type": "code",
      "source": [
        "def draw_rectangle(dbbound=True): ## this is an example of a default argument :\n",
        "    if dbbound:\n",
        "        print('========')\n",
        "        print('||    ||')\n",
        "        print('========')\n",
        "    else:\n",
        "        print('________')\n",
        "        print('|      |')\n",
        "        print('--------')"
      ],
      "metadata": {
        "id": "eRhAxbLVBOaX"
      },
      "execution_count": 122,
      "outputs": []
    },
    {
      "cell_type": "code",
      "source": [
        "draw_rectangle()"
      ],
      "metadata": {
        "id": "SM3cv7jTC8PS",
        "outputId": "cfeec7f1-ba8e-46a9-fb1b-c0a19b722161",
        "colab": {
          "base_uri": "https://localhost:8080/"
        }
      },
      "execution_count": 124,
      "outputs": [
        {
          "output_type": "stream",
          "name": "stdout",
          "text": [
            "========\n",
            "||    ||\n",
            "========\n"
          ]
        }
      ]
    },
    {
      "cell_type": "code",
      "source": [
        "draw_rectangle(True)"
      ],
      "metadata": {
        "id": "Tz3CGOwbC93P",
        "outputId": "c1b14a5f-ada0-45dd-da42-a6ad7f55ec4d",
        "colab": {
          "base_uri": "https://localhost:8080/"
        }
      },
      "execution_count": 125,
      "outputs": [
        {
          "output_type": "stream",
          "name": "stdout",
          "text": [
            "========\n",
            "||    ||\n",
            "========\n"
          ]
        }
      ]
    },
    {
      "cell_type": "code",
      "source": [
        "draw_rectangle(False)"
      ],
      "metadata": {
        "id": "mh6Xbc2qDCcL",
        "outputId": "82754219-4c43-436b-9cfd-575b3beee105",
        "colab": {
          "base_uri": "https://localhost:8080/"
        }
      },
      "execution_count": 126,
      "outputs": [
        {
          "output_type": "stream",
          "name": "stdout",
          "text": [
            "________\n",
            "|      |\n",
            "--------\n"
          ]
        }
      ]
    },
    {
      "cell_type": "markdown",
      "source": [
        "when we call a function that require non-default argument without input,it will return error"
      ],
      "metadata": {
        "id": "MXodUu2-DFZh"
      }
    },
    {
      "cell_type": "code",
      "source": [
        "find_min2()"
      ],
      "metadata": {
        "id": "nzWqw-qFDC1a",
        "outputId": "c01136d5-4b5d-4cc1-dd68-7fc733f0c59d",
        "colab": {
          "base_uri": "https://localhost:8080/",
          "height": 164
        }
      },
      "execution_count": 127,
      "outputs": [
        {
          "output_type": "error",
          "ename": "TypeError",
          "evalue": "ignored",
          "traceback": [
            "\u001b[0;31m---------------------------------------------------------------------------\u001b[0m",
            "\u001b[0;31mTypeError\u001b[0m                                 Traceback (most recent call last)",
            "\u001b[0;32m<ipython-input-127-99c508e7a45c>\u001b[0m in \u001b[0;36m<cell line: 1>\u001b[0;34m()\u001b[0m\n\u001b[0;32m----> 1\u001b[0;31m \u001b[0mfind_min2\u001b[0m\u001b[0;34m(\u001b[0m\u001b[0;34m)\u001b[0m\u001b[0;34m\u001b[0m\u001b[0;34m\u001b[0m\u001b[0m\n\u001b[0m",
            "\u001b[0;31mTypeError\u001b[0m: find_min2() missing 1 required positional argument: 'list_ex'"
          ]
        }
      ]
    },
    {
      "cell_type": "markdown",
      "source": [
        "when you define a function, you have to put non-default argument first\n"
      ],
      "metadata": {
        "id": "RgjVYv4PDk9X"
      }
    },
    {
      "cell_type": "code",
      "source": [
        "def draw_rectangle(size,dbbound=True): ## size is input non-default argument\n",
        "    if dbbound:\n",
        "        up = '='\n",
        "        space = ' '\n",
        "        print(f'{(size+4)*up}')\n",
        "        print(f'||{size*space}||')\n",
        "        print(f'{(size+4)*up}')\n",
        "    else:\n",
        "        up = '-'\n",
        "        space = ' '\n",
        "        print(f'{(size+4)*up}')\n",
        "        print(f'|{size*space}|')\n",
        "        print(f'{(size+4)*up}')"
      ],
      "metadata": {
        "id": "-l4VpR8PDeJE"
      },
      "execution_count": 128,
      "outputs": []
    },
    {
      "cell_type": "code",
      "source": [
        "draw_rectangle() #error"
      ],
      "metadata": {
        "id": "L0xlBDQAD7Er",
        "outputId": "800951f3-2171-4f54-9b1f-65fabeb44667",
        "colab": {
          "base_uri": "https://localhost:8080/",
          "height": 164
        }
      },
      "execution_count": 129,
      "outputs": [
        {
          "output_type": "error",
          "ename": "TypeError",
          "evalue": "ignored",
          "traceback": [
            "\u001b[0;31m---------------------------------------------------------------------------\u001b[0m",
            "\u001b[0;31mTypeError\u001b[0m                                 Traceback (most recent call last)",
            "\u001b[0;32m<ipython-input-129-17d372c23afd>\u001b[0m in \u001b[0;36m<cell line: 1>\u001b[0;34m()\u001b[0m\n\u001b[0;32m----> 1\u001b[0;31m \u001b[0mdraw_rectangle\u001b[0m\u001b[0;34m(\u001b[0m\u001b[0;34m)\u001b[0m \u001b[0;31m#error\u001b[0m\u001b[0;34m\u001b[0m\u001b[0;34m\u001b[0m\u001b[0m\n\u001b[0m",
            "\u001b[0;31mTypeError\u001b[0m: draw_rectangle() missing 1 required positional argument: 'size'"
          ]
        }
      ]
    },
    {
      "cell_type": "code",
      "source": [
        "draw_rectangle(20,False)"
      ],
      "metadata": {
        "id": "YyUlxkMNEMGL",
        "outputId": "5223f416-4a7d-41b4-ea67-d98bd8e45c52",
        "colab": {
          "base_uri": "https://localhost:8080/"
        }
      },
      "execution_count": 131,
      "outputs": [
        {
          "output_type": "stream",
          "name": "stdout",
          "text": [
            "------------------------\n",
            "|                    |\n",
            "------------------------\n"
          ]
        }
      ]
    },
    {
      "cell_type": "markdown",
      "source": [
        "you dont have to follow the order of the arguments if you speactify what argument are what"
      ],
      "metadata": {
        "id": "z9vFpqNVEjJq"
      }
    },
    {
      "cell_type": "code",
      "source": [
        "draw_rectangle(dbbound=False,size=7)"
      ],
      "metadata": {
        "id": "GcyqCDpOESmV",
        "outputId": "cdd60090-2c59-4030-aa4a-a86db4f6273a",
        "colab": {
          "base_uri": "https://localhost:8080/"
        }
      },
      "execution_count": 132,
      "outputs": [
        {
          "output_type": "stream",
          "name": "stdout",
          "text": [
            "-----------\n",
            "|       |\n",
            "-----------\n"
          ]
        }
      ]
    },
    {
      "cell_type": "code",
      "source": [
        "draw_rectangle(size=7)"
      ],
      "metadata": {
        "id": "kn6L-TeIEzEB",
        "outputId": "72def7f8-693a-40ff-e217-7509982e70ac",
        "colab": {
          "base_uri": "https://localhost:8080/"
        }
      },
      "execution_count": 133,
      "outputs": [
        {
          "output_type": "stream",
          "name": "stdout",
          "text": [
            "===========\n",
            "||       ||\n",
            "===========\n"
          ]
        }
      ]
    },
    {
      "cell_type": "markdown",
      "source": [
        "***Example***\n",
        "\n",
        "create a fuction that :\n",
        "\n",
        "- draw a recta"
      ],
      "metadata": {
        "id": "YqAo-s5EFH0l"
      }
    },
    {
      "cell_type": "code",
      "source": [],
      "metadata": {
        "id": "7d1MqQuRE0ez"
      },
      "execution_count": null,
      "outputs": []
    },
    {
      "cell_type": "markdown",
      "source": [
        "##HW 2\n",
        "create a fuction that\n",
        "\n",
        "1. sort a list\n",
        "2. can specify to the fuction that sort it ascendeing or descending with the ascending as default\n",
        "3. have 2 argument2 one default and non-default"
      ],
      "metadata": {
        "id": "Homc6pUlGAod"
      }
    },
    {
      "cell_type": "code",
      "source": [],
      "metadata": {
        "id": "zzexWpEnGkFy"
      },
      "execution_count": null,
      "outputs": []
    }
  ]
}
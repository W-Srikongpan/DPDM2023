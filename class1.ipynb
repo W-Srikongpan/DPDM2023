{
  "nbformat": 4,
  "nbformat_minor": 0,
  "metadata": {
    "colab": {
      "provenance": [],
      "toc_visible": true,
      "authorship_tag": "ABX9TyO2A2xkfRT4r5qJFo2LH827",
      "include_colab_link": true
    },
    "kernelspec": {
      "name": "python3",
      "display_name": "Python 3"
    },
    "language_info": {
      "name": "python"
    }
  },
  "cells": [
    {
      "cell_type": "markdown",
      "metadata": {
        "id": "view-in-github",
        "colab_type": "text"
      },
      "source": [
        "<a href=\"https://colab.research.google.com/github/W-Srikongpan/DPDM2023/blob/main/class1.ipynb\" target=\"_parent\"><img src=\"https://colab.research.google.com/assets/colab-badge.svg\" alt=\"Open In Colab\"/></a>"
      ]
    },
    {
      "cell_type": "markdown",
      "source": [
        "# String mainpulation and Print statement\n"
      ],
      "metadata": {
        "id": "HhehwMqw4xZf"
      }
    },
    {
      "cell_type": "code",
      "execution_count": null,
      "metadata": {
        "colab": {
          "base_uri": "https://localhost:8080/"
        },
        "id": "Yu0s6MJl4wh0",
        "outputId": "e3cb0a17-0a6a-4ec7-cf8f-29ab9b2897d8"
      },
      "outputs": [
        {
          "output_type": "stream",
          "name": "stdout",
          "text": [
            "a /\n",
            "b /\n",
            "c /\n"
          ]
        }
      ],
      "source": [
        "for i in ['a','b','c']:\n",
        "  print(i,end = ' ')\n",
        "  print('/')\n",
        "  for j in range(10):\n",
        "    ccc = 10"
      ]
    },
    {
      "cell_type": "markdown",
      "source": [
        "# String (Text)"
      ],
      "metadata": {
        "id": "-QDKWkgZ7UoD"
      }
    },
    {
      "cell_type": "code",
      "source": [
        "text1 = \"stat\" #use \" \" to make text"
      ],
      "metadata": {
        "id": "n9DPO5TH41FU"
      },
      "execution_count": null,
      "outputs": []
    },
    {
      "cell_type": "code",
      "source": [
        "text2 = 'KKU' #use ' ' to make text"
      ],
      "metadata": {
        "id": "vsv2IQ7A7oDY"
      },
      "execution_count": null,
      "outputs": []
    },
    {
      "cell_type": "code",
      "source": [
        "print(text1) #print text"
      ],
      "metadata": {
        "colab": {
          "base_uri": "https://localhost:8080/"
        },
        "id": "w1i_OILP7rxd",
        "outputId": "f84556aa-1dc6-4c05-cc01-256afe579d0c"
      },
      "execution_count": null,
      "outputs": [
        {
          "output_type": "stream",
          "name": "stdout",
          "text": [
            "stat\n"
          ]
        }
      ]
    },
    {
      "cell_type": "code",
      "source": [
        "print(text1 + text2) #sum text1 and text2"
      ],
      "metadata": {
        "colab": {
          "base_uri": "https://localhost:8080/"
        },
        "id": "qEJZVuxJ8ZX6",
        "outputId": "cc49e1e8-84e6-4e7b-b23b-8d7aa228d5e8"
      },
      "execution_count": null,
      "outputs": [
        {
          "output_type": "stream",
          "name": "stdout",
          "text": [
            "statKKU\n"
          ]
        }
      ]
    },
    {
      "cell_type": "code",
      "source": [
        "print(text1 + 5) #if sum text and number. So it error because it dont know 5 is int or str"
      ],
      "metadata": {
        "colab": {
          "base_uri": "https://localhost:8080/",
          "height": 164
        },
        "id": "GS0LS1cZ-dgD",
        "outputId": "2cfad71e-03bb-4565-dee4-c2439b6311d8"
      },
      "execution_count": null,
      "outputs": [
        {
          "output_type": "error",
          "ename": "TypeError",
          "evalue": "ignored",
          "traceback": [
            "\u001b[0;31m---------------------------------------------------------------------------\u001b[0m",
            "\u001b[0;31mTypeError\u001b[0m                                 Traceback (most recent call last)",
            "\u001b[0;32m<ipython-input-13-acb1ce46ec87>\u001b[0m in \u001b[0;36m<cell line: 1>\u001b[0;34m()\u001b[0m\n\u001b[0;32m----> 1\u001b[0;31m \u001b[0mprint\u001b[0m\u001b[0;34m(\u001b[0m\u001b[0mtext1\u001b[0m \u001b[0;34m+\u001b[0m \u001b[0;36m5\u001b[0m\u001b[0;34m)\u001b[0m \u001b[0;31m#if sum text and number. So it error because it dont know 5 is int or str\u001b[0m\u001b[0;34m\u001b[0m\u001b[0;34m\u001b[0m\u001b[0m\n\u001b[0m",
            "\u001b[0;31mTypeError\u001b[0m: can only concatenate str (not \"int\") to str"
          ]
        }
      ]
    },
    {
      "cell_type": "code",
      "source": [
        "print(5 + text1) #if sum number and text. So it error because it cant to sum int and str"
      ],
      "metadata": {
        "id": "N8aP-vgh-iIF"
      },
      "execution_count": null,
      "outputs": []
    },
    {
      "cell_type": "markdown",
      "source": [
        "# Variable"
      ],
      "metadata": {
        "id": "0vNES8zH9-we"
      }
    },
    {
      "cell_type": "code",
      "source": [
        "a = 5 #int\n",
        "print(a)"
      ],
      "metadata": {
        "colab": {
          "base_uri": "https://localhost:8080/"
        },
        "id": "VGxmeEVD8jv3",
        "outputId": "e4875cce-c7e9-4eec-9c6c-8d95145bc25f"
      },
      "execution_count": null,
      "outputs": [
        {
          "output_type": "stream",
          "name": "stdout",
          "text": [
            "5\n"
          ]
        }
      ]
    },
    {
      "cell_type": "code",
      "source": [
        "b = 5.7 #float\n",
        "print(b)"
      ],
      "metadata": {
        "colab": {
          "base_uri": "https://localhost:8080/"
        },
        "id": "xrQ3uER5-JV8",
        "outputId": "1f7ee327-fb69-41ca-c4c2-d4ad6f57135b"
      },
      "execution_count": null,
      "outputs": [
        {
          "output_type": "stream",
          "name": "stdout",
          "text": [
            "5.7\n"
          ]
        }
      ]
    },
    {
      "cell_type": "code",
      "source": [
        "c = a - b #let a = 5 and b = 5.7, So we can calculate c from a - b\n",
        "print(c)"
      ],
      "metadata": {
        "colab": {
          "base_uri": "https://localhost:8080/"
        },
        "id": "2ma8jWX--OwJ",
        "outputId": "f0f80f65-f755-470e-d5e1-cc29d7e2a2a3"
      },
      "execution_count": null,
      "outputs": [
        {
          "output_type": "stream",
          "name": "stdout",
          "text": [
            "-0.7000000000000002\n"
          ]
        }
      ]
    },
    {
      "cell_type": "markdown",
      "source": [
        "## variable naming rules\n",
        "\n",
        "1. try to use meaningful word\n",
        "2. do it in English\n",
        "3. you can use number in variable name but the name cannot start with number\n",
        "4. there should be no space in the name\n",
        "5. variable name is case-sensitive (Abc is not equal ABC)\n"
      ],
      "metadata": {
        "id": "NDOcM0TN-vvB"
      }
    },
    {
      "cell_type": "markdown",
      "source": [
        "# Advanced printing"
      ],
      "metadata": {
        "id": "m7SGCU37_-1G"
      }
    },
    {
      "cell_type": "code",
      "source": [
        "print(f'six plus five = {6+5}') #we can print text with number by {}"
      ],
      "metadata": {
        "colab": {
          "base_uri": "https://localhost:8080/"
        },
        "id": "oTnCekEc_sKC",
        "outputId": "7a38d202-e25a-4be0-ecf2-5af021fc5f4a"
      },
      "execution_count": null,
      "outputs": [
        {
          "output_type": "stream",
          "name": "stdout",
          "text": [
            "six plus five = 11\n"
          ]
        }
      ]
    },
    {
      "cell_type": "code",
      "source": [
        "print(f'six plus five = {6+5:.2f} %') #write \" :.2f \" is mean 2 decimal places"
      ],
      "metadata": {
        "colab": {
          "base_uri": "https://localhost:8080/"
        },
        "id": "6fi9ilRzAZMN",
        "outputId": "1d08600b-0314-4fb2-894c-e579b15b3a42"
      },
      "execution_count": null,
      "outputs": [
        {
          "output_type": "stream",
          "name": "stdout",
          "text": [
            "six plus five = 11.00 %\n"
          ]
        }
      ]
    },
    {
      "cell_type": "code",
      "source": [
        "print(f'six plus five = {6+5:03d}') # write \" :03d \" is mean 3 digits"
      ],
      "metadata": {
        "colab": {
          "base_uri": "https://localhost:8080/"
        },
        "id": "wkkWMQH_BE5w",
        "outputId": "e5ddfe2d-6c47-4f0a-fa43-f33fffae7810"
      },
      "execution_count": null,
      "outputs": [
        {
          "output_type": "stream",
          "name": "stdout",
          "text": [
            "six plus five = 011\n"
          ]
        }
      ]
    },
    {
      "cell_type": "code",
      "source": [
        "st1 = f'six plus five = {6+5:03d}'"
      ],
      "metadata": {
        "id": "A03cqHHTCDQK"
      },
      "execution_count": null,
      "outputs": []
    },
    {
      "cell_type": "code",
      "source": [
        "st1 #it mean print st1"
      ],
      "metadata": {
        "colab": {
          "base_uri": "https://localhost:8080/",
          "height": 35
        },
        "id": "w-e4YHMLCVWd",
        "outputId": "4e8a0d45-2c4a-4759-dc74-97aff9915b35"
      },
      "execution_count": null,
      "outputs": [
        {
          "output_type": "execute_result",
          "data": {
            "text/plain": [
              "'six plus five = 011'"
            ],
            "application/vnd.google.colaboratory.intrinsic+json": {
              "type": "string"
            }
          },
          "metadata": {},
          "execution_count": 22
        }
      ]
    },
    {
      "cell_type": "markdown",
      "source": [
        "#Print"
      ],
      "metadata": {
        "id": "meBS7med6ysL"
      }
    },
    {
      "cell_type": "code",
      "source": [
        "print('stat')"
      ],
      "metadata": {
        "colab": {
          "base_uri": "https://localhost:8080/"
        },
        "id": "UyczHvr66wjI",
        "outputId": "351ac4c3-d08a-43c2-f382-79a963bf062c"
      },
      "execution_count": 1,
      "outputs": [
        {
          "output_type": "stream",
          "name": "stdout",
          "text": [
            "stat\n"
          ]
        }
      ]
    },
    {
      "cell_type": "code",
      "source": [
        "print('stat','KKU')"
      ],
      "metadata": {
        "colab": {
          "base_uri": "https://localhost:8080/"
        },
        "id": "2tb5nQyl9edK",
        "outputId": "b21c58c0-c305-4d12-d26d-8ab24d32e6be"
      },
      "execution_count": 2,
      "outputs": [
        {
          "output_type": "stream",
          "name": "stdout",
          "text": [
            "stat KKU\n"
          ]
        }
      ]
    },
    {
      "cell_type": "markdown",
      "source": [
        "## Seperator\n"
      ],
      "metadata": {
        "id": "5kp4X1Fo-izB"
      }
    },
    {
      "cell_type": "code",
      "source": [
        "print('stat','KKU', sep='/')"
      ],
      "metadata": {
        "colab": {
          "base_uri": "https://localhost:8080/"
        },
        "id": "XjgEj7Li9o_1",
        "outputId": "f2391126-9fca-40c0-f88e-e1ae129ae8c8"
      },
      "execution_count": 3,
      "outputs": [
        {
          "output_type": "stream",
          "name": "stdout",
          "text": [
            "stat/KKU\n"
          ]
        }
      ]
    },
    {
      "cell_type": "markdown",
      "source": [
        "##End\n"
      ],
      "metadata": {
        "id": "K0T_k5q_-nAt"
      }
    },
    {
      "cell_type": "code",
      "source": [
        "print('stat')\n",
        "print('KKU')"
      ],
      "metadata": {
        "colab": {
          "base_uri": "https://localhost:8080/"
        },
        "id": "og0qKxZY-gFR",
        "outputId": "9cea591f-c437-4555-c040-ed0a7a0e74a6"
      },
      "execution_count": 4,
      "outputs": [
        {
          "output_type": "stream",
          "name": "stdout",
          "text": [
            "stat\n",
            "KKU\n"
          ]
        }
      ]
    },
    {
      "cell_type": "code",
      "source": [
        "print('stat',end = '+-+')\n",
        "print('KKU')"
      ],
      "metadata": {
        "colab": {
          "base_uri": "https://localhost:8080/"
        },
        "id": "IPk6ajyH-5gY",
        "outputId": "14520406-9a51-4851-860a-38005c22de58"
      },
      "execution_count": 5,
      "outputs": [
        {
          "output_type": "stream",
          "name": "stdout",
          "text": [
            "stat+-+KKU\n"
          ]
        }
      ]
    },
    {
      "cell_type": "code",
      "source": [],
      "metadata": {
        "id": "dop2J3SX-_A_"
      },
      "execution_count": null,
      "outputs": []
    },
    {
      "cell_type": "markdown",
      "source": [
        "#Variable types\n"
      ],
      "metadata": {
        "id": "IWAzpKvq_YY7"
      }
    },
    {
      "cell_type": "markdown",
      "source": [
        "##char(acter)"
      ],
      "metadata": {
        "id": "SjdrBrkt_jGU"
      }
    },
    {
      "cell_type": "code",
      "source": [
        "a = 'c'"
      ],
      "metadata": {
        "id": "X06-olRO_dRY"
      },
      "execution_count": 6,
      "outputs": []
    },
    {
      "cell_type": "code",
      "source": [
        "b = 'haracter'"
      ],
      "metadata": {
        "id": "9uggAq7Y_oUQ"
      },
      "execution_count": 7,
      "outputs": []
    },
    {
      "cell_type": "markdown",
      "source": [
        "###string + string mean concatenation"
      ],
      "metadata": {
        "id": "6nwfq72mAUZH"
      }
    },
    {
      "cell_type": "code",
      "source": [
        "print(f'a={a} b={b}, then {a}+{b} = {a+b}') #string + string mean concatenation"
      ],
      "metadata": {
        "colab": {
          "base_uri": "https://localhost:8080/"
        },
        "id": "OoKiI-hY_tiJ",
        "outputId": "9af4e590-e336-4e17-b4ad-7ff9b6ceb209"
      },
      "execution_count": 8,
      "outputs": [
        {
          "output_type": "stream",
          "name": "stdout",
          "text": [
            "a=c b=haracter, then c+haracter = character\n"
          ]
        }
      ]
    },
    {
      "cell_type": "markdown",
      "source": [
        "### ```integer * char```\n",
        "-> mean multiple copies of the char"
      ],
      "metadata": {
        "id": "zfiFatG2A6rq"
      }
    },
    {
      "cell_type": "code",
      "source": [
        "print(5*'T')"
      ],
      "metadata": {
        "colab": {
          "base_uri": "https://localhost:8080/"
        },
        "id": "5KoJA_PO_-pU",
        "outputId": "85c321e9-6117-4f34-dc95-2dc05627727b"
      },
      "execution_count": 9,
      "outputs": [
        {
          "output_type": "stream",
          "name": "stdout",
          "text": [
            "TTTTT\n"
          ]
        }
      ]
    },
    {
      "cell_type": "markdown",
      "source": [
        "##Int(eger)"
      ],
      "metadata": {
        "id": "cI-wMGMoF6iW"
      }
    },
    {
      "cell_type": "code",
      "source": [
        "int_a = 7\n",
        "int_b = 2\n",
        "print(type(int_a),type(int_b))"
      ],
      "metadata": {
        "id": "2o-mYF0rGJqS",
        "outputId": "27c381c9-94fe-4691-c117-cb4b84067e48",
        "colab": {
          "base_uri": "https://localhost:8080/"
        }
      },
      "execution_count": 29,
      "outputs": [
        {
          "output_type": "stream",
          "name": "stdout",
          "text": [
            "<class 'int'> <class 'int'>\n"
          ]
        }
      ]
    },
    {
      "cell_type": "code",
      "source": [
        "int_c = int_a + int_b #assign the value as the output of operation\n",
        "print(int_c)"
      ],
      "metadata": {
        "id": "5q6rGFU0Gb6F",
        "outputId": "aa6b5c26-ce45-4a3e-d9d9-001a238ac34f",
        "colab": {
          "base_uri": "https://localhost:8080/"
        }
      },
      "execution_count": 31,
      "outputs": [
        {
          "output_type": "stream",
          "name": "stdout",
          "text": [
            "9\n"
          ]
        }
      ]
    },
    {
      "cell_type": "markdown",
      "source": [
        "##float"
      ],
      "metadata": {
        "id": "AY2k_BT2G1dC"
      }
    },
    {
      "cell_type": "code",
      "source": [
        "fl_a = 7.\n",
        "fl_b = 2.571\n",
        "print(type(fl_a))"
      ],
      "metadata": {
        "id": "E2Owo6NOG8Gz",
        "outputId": "46ecf841-6292-4f93-d2dd-8acbf66e741b",
        "colab": {
          "base_uri": "https://localhost:8080/"
        }
      },
      "execution_count": 33,
      "outputs": [
        {
          "output_type": "stream",
          "name": "stdout",
          "text": [
            "<class 'float'>\n"
          ]
        }
      ]
    },
    {
      "cell_type": "markdown",
      "source": [
        "##Boolean\n",
        "True or False"
      ],
      "metadata": {
        "id": "1oHZ94yOHZyc"
      }
    },
    {
      "cell_type": "code",
      "source": [
        "b_T = True\n",
        "b_F = False"
      ],
      "metadata": {
        "id": "BbjjLK1sHjY_"
      },
      "execution_count": 38,
      "outputs": []
    },
    {
      "cell_type": "markdown",
      "source": [
        "```==```equal,```!=```not equal,```>``` greater than,```<=``` less than or equal,```|``` or,```&```and"
      ],
      "metadata": {
        "id": "N_HL30UwIX19"
      }
    },
    {
      "cell_type": "code",
      "source": [
        "b_T | b_F"
      ],
      "metadata": {
        "id": "k-JoesV0IK3j",
        "outputId": "76901c6b-7c69-4b79-8b09-44880e165943",
        "colab": {
          "base_uri": "https://localhost:8080/"
        }
      },
      "execution_count": 39,
      "outputs": [
        {
          "output_type": "execute_result",
          "data": {
            "text/plain": [
              "True"
            ]
          },
          "metadata": {},
          "execution_count": 39
        }
      ]
    },
    {
      "cell_type": "markdown",
      "source": [
        "### we can check the datatype with type()"
      ],
      "metadata": {
        "id": "PHJSpDZLIdD2"
      }
    },
    {
      "cell_type": "code",
      "source": [
        "x = 1+2j\n",
        "A = 'c'\n",
        "print(f'variable x value is {x} and datatype is {type(x)}')\n",
        "print(f'variable A value {A} and datatype is {type(A)}')\n"
      ],
      "metadata": {
        "id": "6TearPWSImMA",
        "outputId": "7c8a5d91-32a2-44bf-8b5d-83dfa21e9b6c",
        "colab": {
          "base_uri": "https://localhost:8080/"
        }
      },
      "execution_count": 44,
      "outputs": [
        {
          "output_type": "stream",
          "name": "stdout",
          "text": [
            "variable x value is (1+2j) and datatype is <class 'complex'>\n",
            "variable A value c and datatype is <class 'str'>\n"
          ]
        }
      ]
    },
    {
      "cell_type": "markdown",
      "source": [
        "##Variable Casting"
      ],
      "metadata": {
        "id": "3rNe2NIeJrdk"
      }
    },
    {
      "cell_type": "code",
      "source": [
        "print(f'int_a = {int_a} fl_a = {fl_a}')"
      ],
      "metadata": {
        "id": "xrvxUDJiJzMS",
        "outputId": "aa77171e-4703-445f-eb1a-a63a563fedda",
        "colab": {
          "base_uri": "https://localhost:8080/"
        }
      },
      "execution_count": 45,
      "outputs": [
        {
          "output_type": "stream",
          "name": "stdout",
          "text": [
            "int_a = 7 fl_a = 7.0\n"
          ]
        }
      ]
    },
    {
      "cell_type": "code",
      "source": [
        "str_a = '6'\n",
        "str_b = '-2'\n",
        "str_a2int = int(str_a) #tranform sting into int\n",
        "print(f'variable str_a2int value is {str_a2int} and datatype is {type(str_a2int)}')"
      ],
      "metadata": {
        "id": "Ia8BMqNuKFQb",
        "outputId": "e8ad85c5-8c1c-4f93-d0cc-806f235b7d9f",
        "colab": {
          "base_uri": "https://localhost:8080/"
        }
      },
      "execution_count": 49,
      "outputs": [
        {
          "output_type": "stream",
          "name": "stdout",
          "text": [
            "variable str_a2int value is 6 and datatype is <class 'int'>\n"
          ]
        }
      ]
    },
    {
      "cell_type": "code",
      "source": [
        "str_a2int + int_a"
      ],
      "metadata": {
        "id": "4zS226x5KuaZ",
        "outputId": "67fdd638-fdbc-455c-9cbb-7de3c7e5f904",
        "colab": {
          "base_uri": "https://localhost:8080/"
        }
      },
      "execution_count": 52,
      "outputs": [
        {
          "output_type": "execute_result",
          "data": {
            "text/plain": [
              "13"
            ]
          },
          "metadata": {},
          "execution_count": 52
        }
      ]
    },
    {
      "cell_type": "code",
      "source": [
        "str_a + int_a #cant string + int"
      ],
      "metadata": {
        "id": "PiBE5gclK8UD",
        "outputId": "bcd634f8-354a-46f9-f357-f5d69477d302",
        "colab": {
          "base_uri": "https://localhost:8080/",
          "height": 164
        }
      },
      "execution_count": 51,
      "outputs": [
        {
          "output_type": "error",
          "ename": "TypeError",
          "evalue": "ignored",
          "traceback": [
            "\u001b[0;31m---------------------------------------------------------------------------\u001b[0m",
            "\u001b[0;31mTypeError\u001b[0m                                 Traceback (most recent call last)",
            "\u001b[0;32m<ipython-input-51-10524667cde1>\u001b[0m in \u001b[0;36m<cell line: 1>\u001b[0;34m()\u001b[0m\n\u001b[0;32m----> 1\u001b[0;31m \u001b[0mstr_a\u001b[0m \u001b[0;34m+\u001b[0m \u001b[0mint_a\u001b[0m \u001b[0;31m#cant string + int\u001b[0m\u001b[0;34m\u001b[0m\u001b[0;34m\u001b[0m\u001b[0m\n\u001b[0m",
            "\u001b[0;31mTypeError\u001b[0m: can only concatenate str (not \"int\") to str"
          ]
        }
      ]
    },
    {
      "cell_type": "code",
      "source": [
        "str(fl_b) #tranform float to string"
      ],
      "metadata": {
        "id": "HI9L7CxuLOSq",
        "outputId": "94d3c608-2200-4fc0-fee4-fa1fb71e1fb7",
        "colab": {
          "base_uri": "https://localhost:8080/",
          "height": 35
        }
      },
      "execution_count": 53,
      "outputs": [
        {
          "output_type": "execute_result",
          "data": {
            "text/plain": [
              "'2.571'"
            ],
            "application/vnd.google.colaboratory.intrinsic+json": {
              "type": "string"
            }
          },
          "metadata": {},
          "execution_count": 53
        }
      ]
    },
    {
      "cell_type": "code",
      "source": [
        "int(fl_b) #tranform float to int (it will cut he floating point)"
      ],
      "metadata": {
        "id": "4PSOO7JPLWvZ",
        "outputId": "33cc1120-3d4b-484c-d8de-ff7f531c08b8",
        "colab": {
          "base_uri": "https://localhost:8080/"
        }
      },
      "execution_count": 54,
      "outputs": [
        {
          "output_type": "execute_result",
          "data": {
            "text/plain": [
              "2"
            ]
          },
          "metadata": {},
          "execution_count": 54
        }
      ]
    },
    {
      "cell_type": "markdown",
      "source": [
        "##Replace"
      ],
      "metadata": {
        "id": "RFmn4N4OMAUP"
      }
    },
    {
      "cell_type": "code",
      "source": [
        "st_test1 = 'Department of Statistics,'"
      ],
      "metadata": {
        "id": "0fAtKnxGL_vh"
      },
      "execution_count": 55,
      "outputs": []
    },
    {
      "cell_type": "code",
      "source": [
        "st_test1.replace('e',' ') #repalce e with space"
      ],
      "metadata": {
        "id": "_NnX4uSqMcef",
        "outputId": "5131ae7c-3858-4aa3-89d1-f44b0b6768c3",
        "colab": {
          "base_uri": "https://localhost:8080/",
          "height": 35
        }
      },
      "execution_count": 57,
      "outputs": [
        {
          "output_type": "execute_result",
          "data": {
            "text/plain": [
              "'D partm nt of Statistics,'"
            ],
            "application/vnd.google.colaboratory.intrinsic+json": {
              "type": "string"
            }
          },
          "metadata": {},
          "execution_count": 57
        }
      ]
    },
    {
      "cell_type": "code",
      "source": [
        "st_test2 = st_test1.replace('e',' ')\n",
        "print(st_test2)\n",
        "st_test1.replace('e','') #delete e"
      ],
      "metadata": {
        "id": "OPBRRYwZMwhb",
        "outputId": "64a10e51-fe16-47ce-c649-29847e1115ad",
        "colab": {
          "base_uri": "https://localhost:8080/",
          "height": 52
        }
      },
      "execution_count": 60,
      "outputs": [
        {
          "output_type": "stream",
          "name": "stdout",
          "text": [
            "D partm nt of Statistics,\n"
          ]
        },
        {
          "output_type": "execute_result",
          "data": {
            "text/plain": [
              "'Dpartmnt of Statistics,'"
            ],
            "application/vnd.google.colaboratory.intrinsic+json": {
              "type": "string"
            }
          },
          "metadata": {},
          "execution_count": 60
        }
      ]
    },
    {
      "cell_type": "code",
      "source": [
        "st_test1.replace('ti','TI') #modify ti to Ti"
      ],
      "metadata": {
        "id": "tlsC4bV8MwV9",
        "outputId": "760913de-903b-483d-a7ed-f409504571f0",
        "colab": {
          "base_uri": "https://localhost:8080/",
          "height": 35
        }
      },
      "execution_count": 63,
      "outputs": [
        {
          "output_type": "execute_result",
          "data": {
            "text/plain": [
              "'Department of StaTIsTIcs,'"
            ],
            "application/vnd.google.colaboratory.intrinsic+json": {
              "type": "string"
            }
          },
          "metadata": {},
          "execution_count": 63
        }
      ]
    },
    {
      "cell_type": "markdown",
      "source": [
        "##split()"
      ],
      "metadata": {
        "id": "8xFStN7AOWrn"
      }
    },
    {
      "cell_type": "code",
      "source": [
        "'a b c d e f g'.split() #cut string at spaces"
      ],
      "metadata": {
        "id": "G4f0uPD4OWbq",
        "outputId": "33de4162-7e86-4cb0-cf8d-a402169706f6",
        "colab": {
          "base_uri": "https://localhost:8080/"
        }
      },
      "execution_count": 64,
      "outputs": [
        {
          "output_type": "execute_result",
          "data": {
            "text/plain": [
              "['a', 'b', 'c', 'd', 'e', 'f', 'g']"
            ]
          },
          "metadata": {},
          "execution_count": 64
        }
      ]
    },
    {
      "cell_type": "code",
      "source": [
        "'abc de fg'.split()"
      ],
      "metadata": {
        "id": "pAn36gXdO6V9",
        "outputId": "9f19f5bc-ee7f-4ed5-a884-682c40289e69",
        "colab": {
          "base_uri": "https://localhost:8080/"
        }
      },
      "execution_count": 65,
      "outputs": [
        {
          "output_type": "execute_result",
          "data": {
            "text/plain": [
              "['abc', 'de', 'fg']"
            ]
          },
          "metadata": {},
          "execution_count": 65
        }
      ]
    },
    {
      "cell_type": "code",
      "source": [
        "'a,b/c,d e,f/ g'.split('/') #split with /"
      ],
      "metadata": {
        "id": "yBN2S2XWPCO3",
        "outputId": "3f2a2db9-a4e2-4fe2-985f-ecbd4c820202",
        "colab": {
          "base_uri": "https://localhost:8080/"
        }
      },
      "execution_count": 66,
      "outputs": [
        {
          "output_type": "execute_result",
          "data": {
            "text/plain": [
              "['a,b', 'c,d e,f', ' g']"
            ]
          },
          "metadata": {},
          "execution_count": 66
        }
      ]
    },
    {
      "cell_type": "markdown",
      "source": [
        "#Quiz1\n",
        "print Ha for 100 times with one print fuction."
      ],
      "metadata": {
        "id": "GqJV36XDBbsw"
      }
    },
    {
      "cell_type": "code",
      "source": [
        "print(100*'Ha')"
      ],
      "metadata": {
        "colab": {
          "base_uri": "https://localhost:8080/"
        },
        "id": "fjUyc5o_BbP0",
        "outputId": "0b389cb9-b25b-40e6-cbcd-2a84d5a0cac9"
      },
      "execution_count": 27,
      "outputs": [
        {
          "output_type": "stream",
          "name": "stdout",
          "text": [
            "HaHaHaHaHaHaHaHaHaHaHaHaHaHaHaHaHaHaHaHaHaHaHaHaHaHaHaHaHaHaHaHaHaHaHaHaHaHaHaHaHaHaHaHaHaHaHaHaHaHaHaHaHaHaHaHaHaHaHaHaHaHaHaHaHaHaHaHaHaHaHaHaHaHaHaHaHaHaHaHaHaHaHaHaHaHaHaHaHaHaHaHaHaHaHaHaHaHaHaHa\n"
          ]
        }
      ]
    }
  ]
}
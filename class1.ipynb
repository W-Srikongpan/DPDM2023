{
  "nbformat": 4,
  "nbformat_minor": 0,
  "metadata": {
    "colab": {
      "provenance": [],
      "toc_visible": true,
      "authorship_tag": "ABX9TyOtdrdGNnoHKw829H1Kahzq",
      "include_colab_link": true
    },
    "kernelspec": {
      "name": "python3",
      "display_name": "Python 3"
    },
    "language_info": {
      "name": "python"
    }
  },
  "cells": [
    {
      "cell_type": "markdown",
      "metadata": {
        "id": "view-in-github",
        "colab_type": "text"
      },
      "source": [
        "<a href=\"https://colab.research.google.com/github/W-Srikongpan/DPDM2023/blob/main/class1.ipynb\" target=\"_parent\"><img src=\"https://colab.research.google.com/assets/colab-badge.svg\" alt=\"Open In Colab\"/></a>"
      ]
    },
    {
      "cell_type": "markdown",
      "source": [
        "# String mainpulation and Print statement\n"
      ],
      "metadata": {
        "id": "HhehwMqw4xZf"
      }
    },
    {
      "cell_type": "code",
      "execution_count": null,
      "metadata": {
        "colab": {
          "base_uri": "https://localhost:8080/"
        },
        "id": "Yu0s6MJl4wh0",
        "outputId": "e3cb0a17-0a6a-4ec7-cf8f-29ab9b2897d8"
      },
      "outputs": [
        {
          "output_type": "stream",
          "name": "stdout",
          "text": [
            "a /\n",
            "b /\n",
            "c /\n"
          ]
        }
      ],
      "source": [
        "for i in ['a','b','c']:\n",
        "  print(i,end = ' ')\n",
        "  print('/')\n",
        "  for j in range(10):\n",
        "    ccc = 10"
      ]
    },
    {
      "cell_type": "markdown",
      "source": [
        "# String (Text)"
      ],
      "metadata": {
        "id": "-QDKWkgZ7UoD"
      }
    },
    {
      "cell_type": "code",
      "source": [
        "text1 = \"stat\" #use \" \" to make text"
      ],
      "metadata": {
        "id": "n9DPO5TH41FU"
      },
      "execution_count": null,
      "outputs": []
    },
    {
      "cell_type": "code",
      "source": [
        "text2 = 'KKU' #use ' ' to make text"
      ],
      "metadata": {
        "id": "vsv2IQ7A7oDY"
      },
      "execution_count": null,
      "outputs": []
    },
    {
      "cell_type": "code",
      "source": [
        "print(text1) #print text"
      ],
      "metadata": {
        "colab": {
          "base_uri": "https://localhost:8080/"
        },
        "id": "w1i_OILP7rxd",
        "outputId": "f84556aa-1dc6-4c05-cc01-256afe579d0c"
      },
      "execution_count": null,
      "outputs": [
        {
          "output_type": "stream",
          "name": "stdout",
          "text": [
            "stat\n"
          ]
        }
      ]
    },
    {
      "cell_type": "code",
      "source": [
        "print(text1 + text2) #sum text1 and text2"
      ],
      "metadata": {
        "colab": {
          "base_uri": "https://localhost:8080/"
        },
        "id": "qEJZVuxJ8ZX6",
        "outputId": "cc49e1e8-84e6-4e7b-b23b-8d7aa228d5e8"
      },
      "execution_count": null,
      "outputs": [
        {
          "output_type": "stream",
          "name": "stdout",
          "text": [
            "statKKU\n"
          ]
        }
      ]
    },
    {
      "cell_type": "code",
      "source": [
        "print(text1 + 5) #if sum text and number. So it error because it dont know 5 is int or str"
      ],
      "metadata": {
        "colab": {
          "base_uri": "https://localhost:8080/",
          "height": 164
        },
        "id": "GS0LS1cZ-dgD",
        "outputId": "2cfad71e-03bb-4565-dee4-c2439b6311d8"
      },
      "execution_count": null,
      "outputs": [
        {
          "output_type": "error",
          "ename": "TypeError",
          "evalue": "ignored",
          "traceback": [
            "\u001b[0;31m---------------------------------------------------------------------------\u001b[0m",
            "\u001b[0;31mTypeError\u001b[0m                                 Traceback (most recent call last)",
            "\u001b[0;32m<ipython-input-13-acb1ce46ec87>\u001b[0m in \u001b[0;36m<cell line: 1>\u001b[0;34m()\u001b[0m\n\u001b[0;32m----> 1\u001b[0;31m \u001b[0mprint\u001b[0m\u001b[0;34m(\u001b[0m\u001b[0mtext1\u001b[0m \u001b[0;34m+\u001b[0m \u001b[0;36m5\u001b[0m\u001b[0;34m)\u001b[0m \u001b[0;31m#if sum text and number. So it error because it dont know 5 is int or str\u001b[0m\u001b[0;34m\u001b[0m\u001b[0;34m\u001b[0m\u001b[0m\n\u001b[0m",
            "\u001b[0;31mTypeError\u001b[0m: can only concatenate str (not \"int\") to str"
          ]
        }
      ]
    },
    {
      "cell_type": "code",
      "source": [
        "print(5 + text1) #if sum number and text. So it error because it cant to sum int and str"
      ],
      "metadata": {
        "id": "N8aP-vgh-iIF"
      },
      "execution_count": null,
      "outputs": []
    },
    {
      "cell_type": "markdown",
      "source": [
        "# Variable"
      ],
      "metadata": {
        "id": "0vNES8zH9-we"
      }
    },
    {
      "cell_type": "code",
      "source": [
        "a = 5 #int\n",
        "print(a)"
      ],
      "metadata": {
        "colab": {
          "base_uri": "https://localhost:8080/"
        },
        "id": "VGxmeEVD8jv3",
        "outputId": "e4875cce-c7e9-4eec-9c6c-8d95145bc25f"
      },
      "execution_count": null,
      "outputs": [
        {
          "output_type": "stream",
          "name": "stdout",
          "text": [
            "5\n"
          ]
        }
      ]
    },
    {
      "cell_type": "code",
      "source": [
        "b = 5.7 #float\n",
        "print(b)"
      ],
      "metadata": {
        "colab": {
          "base_uri": "https://localhost:8080/"
        },
        "id": "xrQ3uER5-JV8",
        "outputId": "1f7ee327-fb69-41ca-c4c2-d4ad6f57135b"
      },
      "execution_count": null,
      "outputs": [
        {
          "output_type": "stream",
          "name": "stdout",
          "text": [
            "5.7\n"
          ]
        }
      ]
    },
    {
      "cell_type": "code",
      "source": [
        "c = a - b #let a = 5 and b = 5.7, So we can calculate c from a - b\n",
        "print(c)"
      ],
      "metadata": {
        "colab": {
          "base_uri": "https://localhost:8080/"
        },
        "id": "2ma8jWX--OwJ",
        "outputId": "f0f80f65-f755-470e-d5e1-cc29d7e2a2a3"
      },
      "execution_count": null,
      "outputs": [
        {
          "output_type": "stream",
          "name": "stdout",
          "text": [
            "-0.7000000000000002\n"
          ]
        }
      ]
    },
    {
      "cell_type": "markdown",
      "source": [
        "## variable naming rules\n",
        "\n",
        "1. try to use meaningful word\n",
        "2. do it in English\n",
        "3. you can use number in variable name but the name cannot start with number\n",
        "4. there should be no space in the name\n",
        "5. variable name is case-sensitive (Abc is not equal ABC)\n"
      ],
      "metadata": {
        "id": "NDOcM0TN-vvB"
      }
    },
    {
      "cell_type": "markdown",
      "source": [
        "# Advanced printing"
      ],
      "metadata": {
        "id": "m7SGCU37_-1G"
      }
    },
    {
      "cell_type": "code",
      "source": [
        "print(f'six plus five = {6+5}') #we can print text with number by {}"
      ],
      "metadata": {
        "colab": {
          "base_uri": "https://localhost:8080/"
        },
        "id": "oTnCekEc_sKC",
        "outputId": "7a38d202-e25a-4be0-ecf2-5af021fc5f4a"
      },
      "execution_count": null,
      "outputs": [
        {
          "output_type": "stream",
          "name": "stdout",
          "text": [
            "six plus five = 11\n"
          ]
        }
      ]
    },
    {
      "cell_type": "code",
      "source": [
        "print(f'six plus five = {6+5:.2f} %') #write \" :.2f \" is mean 2 decimal places"
      ],
      "metadata": {
        "colab": {
          "base_uri": "https://localhost:8080/"
        },
        "id": "6fi9ilRzAZMN",
        "outputId": "1d08600b-0314-4fb2-894c-e579b15b3a42"
      },
      "execution_count": null,
      "outputs": [
        {
          "output_type": "stream",
          "name": "stdout",
          "text": [
            "six plus five = 11.00 %\n"
          ]
        }
      ]
    },
    {
      "cell_type": "code",
      "source": [
        "print(f'six plus five = {6+5:03d}') # write \" :03d \" is mean 3 digits"
      ],
      "metadata": {
        "colab": {
          "base_uri": "https://localhost:8080/"
        },
        "id": "wkkWMQH_BE5w",
        "outputId": "e5ddfe2d-6c47-4f0a-fa43-f33fffae7810"
      },
      "execution_count": null,
      "outputs": [
        {
          "output_type": "stream",
          "name": "stdout",
          "text": [
            "six plus five = 011\n"
          ]
        }
      ]
    },
    {
      "cell_type": "code",
      "source": [
        "st1 = f'six plus five = {6+5:03d}'"
      ],
      "metadata": {
        "id": "A03cqHHTCDQK"
      },
      "execution_count": null,
      "outputs": []
    },
    {
      "cell_type": "code",
      "source": [
        "st1 #it mean print st1"
      ],
      "metadata": {
        "colab": {
          "base_uri": "https://localhost:8080/",
          "height": 35
        },
        "id": "w-e4YHMLCVWd",
        "outputId": "4e8a0d45-2c4a-4759-dc74-97aff9915b35"
      },
      "execution_count": null,
      "outputs": [
        {
          "output_type": "execute_result",
          "data": {
            "text/plain": [
              "'six plus five = 011'"
            ],
            "application/vnd.google.colaboratory.intrinsic+json": {
              "type": "string"
            }
          },
          "metadata": {},
          "execution_count": 22
        }
      ]
    },
    {
      "cell_type": "markdown",
      "source": [
        "#Print"
      ],
      "metadata": {
        "id": "meBS7med6ysL"
      }
    },
    {
      "cell_type": "code",
      "source": [
        "print('stat')"
      ],
      "metadata": {
        "id": "UyczHvr66wjI",
        "outputId": "351ac4c3-d08a-43c2-f382-79a963bf062c",
        "colab": {
          "base_uri": "https://localhost:8080/"
        }
      },
      "execution_count": 1,
      "outputs": [
        {
          "output_type": "stream",
          "name": "stdout",
          "text": [
            "stat\n"
          ]
        }
      ]
    },
    {
      "cell_type": "code",
      "source": [
        "print('stat','KKU')"
      ],
      "metadata": {
        "id": "2tb5nQyl9edK",
        "outputId": "b21c58c0-c305-4d12-d26d-8ab24d32e6be",
        "colab": {
          "base_uri": "https://localhost:8080/"
        }
      },
      "execution_count": 2,
      "outputs": [
        {
          "output_type": "stream",
          "name": "stdout",
          "text": [
            "stat KKU\n"
          ]
        }
      ]
    },
    {
      "cell_type": "markdown",
      "source": [
        "## Seperator\n"
      ],
      "metadata": {
        "id": "5kp4X1Fo-izB"
      }
    },
    {
      "cell_type": "code",
      "source": [
        "print('stat','KKU', sep='/')"
      ],
      "metadata": {
        "id": "XjgEj7Li9o_1",
        "outputId": "f2391126-9fca-40c0-f88e-e1ae129ae8c8",
        "colab": {
          "base_uri": "https://localhost:8080/"
        }
      },
      "execution_count": 3,
      "outputs": [
        {
          "output_type": "stream",
          "name": "stdout",
          "text": [
            "stat/KKU\n"
          ]
        }
      ]
    },
    {
      "cell_type": "markdown",
      "source": [
        "##End\n"
      ],
      "metadata": {
        "id": "K0T_k5q_-nAt"
      }
    },
    {
      "cell_type": "code",
      "source": [
        "print('stat')\n",
        "print('KKU')"
      ],
      "metadata": {
        "id": "og0qKxZY-gFR",
        "outputId": "9cea591f-c437-4555-c040-ed0a7a0e74a6",
        "colab": {
          "base_uri": "https://localhost:8080/"
        }
      },
      "execution_count": 4,
      "outputs": [
        {
          "output_type": "stream",
          "name": "stdout",
          "text": [
            "stat\n",
            "KKU\n"
          ]
        }
      ]
    },
    {
      "cell_type": "code",
      "source": [
        "print('stat',end = '+-+')\n",
        "print('KKU')"
      ],
      "metadata": {
        "id": "IPk6ajyH-5gY",
        "outputId": "14520406-9a51-4851-860a-38005c22de58",
        "colab": {
          "base_uri": "https://localhost:8080/"
        }
      },
      "execution_count": 5,
      "outputs": [
        {
          "output_type": "stream",
          "name": "stdout",
          "text": [
            "stat+-+KKU\n"
          ]
        }
      ]
    },
    {
      "cell_type": "code",
      "source": [],
      "metadata": {
        "id": "dop2J3SX-_A_"
      },
      "execution_count": null,
      "outputs": []
    },
    {
      "cell_type": "markdown",
      "source": [
        "#Variable types\n"
      ],
      "metadata": {
        "id": "IWAzpKvq_YY7"
      }
    },
    {
      "cell_type": "markdown",
      "source": [
        "##char(acter)"
      ],
      "metadata": {
        "id": "SjdrBrkt_jGU"
      }
    },
    {
      "cell_type": "code",
      "source": [
        "a = 'c'"
      ],
      "metadata": {
        "id": "X06-olRO_dRY"
      },
      "execution_count": 6,
      "outputs": []
    },
    {
      "cell_type": "code",
      "source": [
        "b = 'haracter'"
      ],
      "metadata": {
        "id": "9uggAq7Y_oUQ"
      },
      "execution_count": 7,
      "outputs": []
    },
    {
      "cell_type": "markdown",
      "source": [
        "###string + string mean concatenation"
      ],
      "metadata": {
        "id": "6nwfq72mAUZH"
      }
    },
    {
      "cell_type": "code",
      "source": [
        "print(f'a={a} b={b}, then {a}+{b} = {a+b}') #string + string mean concatenation"
      ],
      "metadata": {
        "id": "OoKiI-hY_tiJ",
        "outputId": "9af4e590-e336-4e17-b4ad-7ff9b6ceb209",
        "colab": {
          "base_uri": "https://localhost:8080/"
        }
      },
      "execution_count": 8,
      "outputs": [
        {
          "output_type": "stream",
          "name": "stdout",
          "text": [
            "a=c b=haracter, then c+haracter = character\n"
          ]
        }
      ]
    },
    {
      "cell_type": "markdown",
      "source": [
        "### ```integer * char```\n",
        "-> mean multiple copies of the char"
      ],
      "metadata": {
        "id": "zfiFatG2A6rq"
      }
    },
    {
      "cell_type": "code",
      "source": [
        "print(5*'T')"
      ],
      "metadata": {
        "id": "5KoJA_PO_-pU",
        "outputId": "85c321e9-6117-4f34-dc95-2dc05627727b",
        "colab": {
          "base_uri": "https://localhost:8080/"
        }
      },
      "execution_count": 9,
      "outputs": [
        {
          "output_type": "stream",
          "name": "stdout",
          "text": [
            "TTTTT\n"
          ]
        }
      ]
    },
    {
      "cell_type": "markdown",
      "source": [
        "#Quiz1\n",
        "print Ha for 100 times with one print fuction."
      ],
      "metadata": {
        "id": "GqJV36XDBbsw"
      }
    },
    {
      "cell_type": "code",
      "source": [
        "print(100*'Ha')"
      ],
      "metadata": {
        "id": "fjUyc5o_BbP0",
        "outputId": "0b389cb9-b25b-40e6-cbcd-2a84d5a0cac9",
        "colab": {
          "base_uri": "https://localhost:8080/"
        }
      },
      "execution_count": 27,
      "outputs": [
        {
          "output_type": "stream",
          "name": "stdout",
          "text": [
            "HaHaHaHaHaHaHaHaHaHaHaHaHaHaHaHaHaHaHaHaHaHaHaHaHaHaHaHaHaHaHaHaHaHaHaHaHaHaHaHaHaHaHaHaHaHaHaHaHaHaHaHaHaHaHaHaHaHaHaHaHaHaHaHaHaHaHaHaHaHaHaHaHaHaHaHaHaHaHaHaHaHaHaHaHaHaHaHaHaHaHaHaHaHaHaHaHaHaHaHa\n"
          ]
        }
      ]
    },
    {
      "cell_type": "code",
      "source": [],
      "metadata": {
        "id": "NQUiSLKfBN2U"
      },
      "execution_count": null,
      "outputs": []
    }
  ]
}